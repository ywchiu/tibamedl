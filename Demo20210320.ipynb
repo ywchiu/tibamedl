{
  "nbformat": 4,
  "nbformat_minor": 0,
  "metadata": {
    "colab": {
      "name": "Demo20210320.ipynb",
      "provenance": []
    },
    "kernelspec": {
      "name": "python3",
      "display_name": "Python 3"
    },
    "language_info": {
      "name": "python"
    }
  },
  "cells": [
    {
      "cell_type": "markdown",
      "metadata": {
        "id": "2QD0QWiSRuu2"
      },
      "source": [
        "\n",
        "## 作業 (Python 基礎)\n",
        "\n",
        "1 請使用 pip 將 jieba 安裝在自己的電腦上\n",
        "\n",
        "2 閱讀jieba 相關的文件，了解jieba 的用法\n",
        "\n",
        "3 請將蔡英文演說文 (https://raw.githubusercontent.com/ywchiu/tibamedl/master/Data/speech_tsai.txt) 下載存入到自己電腦\n",
        "\n",
        "4 請使用python 的檔案操作方法讀取新聞\n",
        "\n",
        "5 請使用 jieba 將演說文切詞\n",
        "\n",
        "6 請統計該演說文最常出現的十大字詞"
      ]
    },
    {
      "cell_type": "code",
      "metadata": {
        "colab": {
          "base_uri": "https://localhost:8080/"
        },
        "id": "0lLdD777Pkti",
        "outputId": "50403d5f-90ab-4bd2-d1b3-f68b4f15f5b5"
      },
      "source": [
        "!pip install jieba"
      ],
      "execution_count": 1,
      "outputs": [
        {
          "output_type": "stream",
          "text": [
            "Requirement already satisfied: jieba in /usr/local/lib/python3.7/dist-packages (0.42.1)\n"
          ],
          "name": "stdout"
        }
      ]
    },
    {
      "cell_type": "code",
      "metadata": {
        "colab": {
          "base_uri": "https://localhost:8080/"
        },
        "id": "jDmKg00RSj3A",
        "outputId": "2120abd2-06e4-4fcc-cda0-323762945605"
      },
      "source": [
        "! wget https://raw.githubusercontent.com/ywchiu/tibamedl/master/Data/speech_tsai.txt"
      ],
      "execution_count": 2,
      "outputs": [
        {
          "output_type": "stream",
          "text": [
            "--2021-03-20 01:44:41--  https://raw.githubusercontent.com/ywchiu/tibamedl/master/Data/speech_tsai.txt\n",
            "Resolving raw.githubusercontent.com (raw.githubusercontent.com)... 185.199.108.133, 185.199.109.133, 185.199.110.133, ...\n",
            "Connecting to raw.githubusercontent.com (raw.githubusercontent.com)|185.199.108.133|:443... connected.\n",
            "HTTP request sent, awaiting response... 200 OK\n",
            "Length: 6579 (6.4K) [text/plain]\n",
            "Saving to: ‘speech_tsai.txt’\n",
            "\n",
            "speech_tsai.txt     100%[===================>]   6.42K  --.-KB/s    in 0s      \n",
            "\n",
            "2021-03-20 01:44:41 (74.0 MB/s) - ‘speech_tsai.txt’ saved [6579/6579]\n",
            "\n"
          ],
          "name": "stdout"
        }
      ]
    },
    {
      "cell_type": "code",
      "metadata": {
        "id": "-pOfGzCnTk7t"
      },
      "source": [
        "with open('speech_tsai.txt', 'r') as f:\n",
        "  speech = f.read()"
      ],
      "execution_count": 3,
      "outputs": []
    },
    {
      "cell_type": "code",
      "metadata": {
        "id": "rBdwQTLNT4KJ"
      },
      "source": [
        "import jieba\n",
        "words = jieba.lcut(speech)"
      ],
      "execution_count": 6,
      "outputs": []
    },
    {
      "cell_type": "markdown",
      "metadata": {
        "id": "k3o-s3lAU3f9"
      },
      "source": [
        "### Method 1"
      ]
    },
    {
      "cell_type": "code",
      "metadata": {
        "id": "2up5Y0gqT5cG"
      },
      "source": [
        "dic = {}\n",
        "for word in words:\n",
        "  if word not in dic:\n",
        "    dic[word] = 1\n",
        "  else:\n",
        "    dic[word] = dic[word] + 1"
      ],
      "execution_count": 7,
      "outputs": []
    },
    {
      "cell_type": "markdown",
      "metadata": {
        "id": "tFAdk2XLVLOx"
      },
      "source": [
        "### Method 2"
      ]
    },
    {
      "cell_type": "code",
      "metadata": {
        "id": "SatBOkxNVGuH"
      },
      "source": [
        "dic = {}\n",
        "for word in words:\n",
        "  if len(word) >=2:\n",
        "    dic[word] = dic.get(word,0) + 1"
      ],
      "execution_count": 17,
      "outputs": []
    },
    {
      "cell_type": "markdown",
      "metadata": {
        "id": "f_hKDnotVoTq"
      },
      "source": [
        "### Method 3\n",
        "- https://docs.python.org/3/library/collections.html"
      ]
    },
    {
      "cell_type": "code",
      "metadata": {
        "colab": {
          "base_uri": "https://localhost:8080/"
        },
        "id": "pWZQG4SLVjEx",
        "outputId": "5fc94806-e576-45f7-92bc-ff7c502d0b7c"
      },
      "source": [
        "from collections import Counter\n",
        "li = [1,1,2,2,1,3,4,2,1,1,5]\n",
        "c = Counter(li)\n",
        "c"
      ],
      "execution_count": 9,
      "outputs": [
        {
          "output_type": "execute_result",
          "data": {
            "text/plain": [
              "Counter({1: 5, 2: 3, 3: 1, 4: 1, 5: 1})"
            ]
          },
          "metadata": {
            "tags": []
          },
          "execution_count": 9
        }
      ]
    },
    {
      "cell_type": "code",
      "metadata": {
        "id": "RG1AAfR7WMno"
      },
      "source": [
        "from collections import Counter\n",
        "\n",
        "ary = []\n",
        "for word in words:\n",
        "  if len(word) >=2:\n",
        "    ary.append(word)\n",
        "\n",
        "c = Counter(ary)\n",
        "#c"
      ],
      "execution_count": 21,
      "outputs": []
    },
    {
      "cell_type": "code",
      "metadata": {
        "id": "DP9gX9kOYIdF"
      },
      "source": [
        "# Pythonic\n",
        "c = Counter([word for word in words if len(word) >=2])"
      ],
      "execution_count": 23,
      "outputs": []
    },
    {
      "cell_type": "code",
      "metadata": {
        "colab": {
          "base_uri": "https://localhost:8080/"
        },
        "id": "UcYwkvNSWW2o",
        "outputId": "3fb392d4-92ea-463a-cd54-91e4f2c41a16"
      },
      "source": [
        "dic.items()"
      ],
      "execution_count": 12,
      "outputs": [
        {
          "output_type": "execute_result",
          "data": {
            "text/plain": [
              "dict_items([('大會', 1), ('主席', 1), ('蘇嘉', 1), ('全院', 1), ('長', 1), ('、', 27), ('現場', 1), ('各位', 2), ('貴賓', 1), ('電視機', 1), ('前和網', 1), ('路上', 1), ('的', 84), ('全體', 1), ('國人', 3), ('同胞', 2), ('，', 140), ('大家', 4), ('早安', 1), ('好', 2), ('。', 67), ('\\n', 65), ('今天', 1), ('是', 10), ('中華民國', 7), ('一百零八', 1), ('年', 1), ('國慶日', 3), ('謝謝', 2), ('來', 2), ('自', 2), ('世界各地', 1), ('朋友', 1), ('跟', 2), ('我們', 43), ('共度', 1), ('這個', 1), ('值得', 1), ('紀念', 1), ('日子', 1), ('去年', 1), ('也', 14), ('在', 11), ('我', 2), ('和', 5), ('說', 1), ('台灣', 19), ('正處', 2), ('變局', 1), ('當中', 1), ('世界', 5), ('貿易', 1), ('局勢', 1), ('變動', 2), ('國際', 5), ('政治', 1), ('情勢', 1), ('變化', 2), ('都', 4), ('讓', 11), ('未來', 6), ('充滿', 4), ('挑戰', 12), ('必須', 5), ('「', 8), ('求穩', 1), ('應變', 1), ('進步', 3), ('」', 8), ('厚植', 1), ('實力', 3), ('壯大台灣', 3), ('轉眼', 1), ('又過', 1), ('了', 8), ('一年', 1), ('依然', 2), ('快速', 1), ('甚至', 1), ('更加', 1), ('劇烈', 1), ('美中', 1), ('貿易戰', 1), ('持續', 5), ('進行', 1), ('；', 2), ('距離', 1), ('不遠', 1), ('香港', 1), ('因為', 5), ('一國', 4), ('兩制', 4), ('失敗', 1), ('於', 2), ('失序', 1), ('邊緣', 1), ('儘', 2), ('管', 2), ('如此', 1), ('中國', 3), ('以', 1), ('方案', 1), ('不斷', 1), ('威脅', 1), ('並採取', 1), ('各種', 1), ('文攻武', 2), ('嚇', 2), ('強烈', 1), ('區域', 2), ('穩定', 3), ('及', 1), ('和平', 3), ('當', 1), ('自由民主', 6), ('受到', 2), ('當中華民國', 1), ('生存', 3), ('發展', 1), ('脅迫', 1), ('就', 4), ('站', 4), ('出來', 2), ('捍衛', 1), ('拒絕', 1), ('兩千', 1), ('三百', 1), ('萬台灣', 1), ('人民', 9), ('不分', 1), ('黨', 2), ('派', 2), ('不', 2), ('分立', 1), ('場', 1), ('彼此', 3), ('間', 1), ('最大', 3), ('共識', 2), ('已經', 2), ('屹立', 1), ('超過', 1), ('七十年', 2), ('一旦', 1), ('接受', 2), ('沒', 2), ('有', 6), ('空間', 1), ('身為', 1), ('總統', 1), ('守護國', 1), ('家主', 2), ('權', 2), ('不是', 5), ('挑釁', 2), ('而是', 1), ('最', 2), ('基本', 1), ('責任', 1), ('共同', 4), ('經歷過', 3), ('種種', 1), ('嚴峻', 1), ('每', 2), ('一次', 7), ('不但', 1), ('沒有擊', 1), ('倒', 1), ('反而', 1), ('更', 4), ('強壯', 1), ('堅定', 2), ('一起', 3), ('走過', 4), ('八二三', 1), ('砲', 1), ('戰', 1), ('度過', 1), ('九六年', 1), ('台海', 2), ('危機', 3), ('又', 5), ('從來', 1), ('屈服', 1), ('捍衛住', 2), ('腳下', 1), ('這塊', 4), ('土地', 5), ('國家', 4), ('主權', 1), ('退出', 1), ('聯合國', 1), ('恐慌', 1), ('承受', 1), ('過', 1), ('斷', 1), ('交壓力', 1), ('但', 5), ('想要', 1), ('走向世界', 2), ('決心', 1), ('不曾', 1), ('任何', 1), ('改變', 2), ('一九七零年', 1), ('代', 1), ('石油', 1), ('一九九七年', 1), ('亞洲', 3), ('金融', 2), ('風暴', 2), ('千禧年', 1), ('網路', 1), ('泡沫', 1), ('還有', 3), ('十年', 1), ('前', 1), ('海嘯', 1), ('經濟', 8), ('總是', 1), ('一卡', 1), ('皮箱', 1), ('走遍', 1), ('天下', 1), ('台商', 1), ('加上', 1), ('勤奮', 1), ('創意', 2), ('把', 1), ('化做', 1), ('轉機', 1), ('往前走', 1), ('八七', 1), ('水災', 1), ('九二', 1), ('一', 1), ('地震', 1), ('SARS', 1), ('八八', 1), ('風災', 1), ('天災', 2), ('病變', 1), ('磨', 2), ('難', 2), ('沒有', 2), ('擊敗過', 1), ('奮鬥', 1), ('意志', 1), ('家園', 1), ('毀壞', 1), ('重建', 1), ('受傷', 1), ('復', 1), ('原', 1), ('擦乾', 1), ('眼淚', 1), ('重新', 1), ('起', 1), ('明天', 1), ('希望', 1), ('一天', 4), ('這些', 2), ('記憶', 1), ('彰顯', 1), ('韌性', 4), ('這樣', 2), ('成為', 4), ('四小龍', 2), ('一員', 1), ('民主化', 2), ('艱鉅', 1), ('歷程', 1), ('上', 8), ('重要', 2), ('民主', 4), ('典範', 1), ('這', 3), ('一段路', 1), ('無論', 1), ('哪個', 1), ('只要', 1), ('生活', 1), ('不能', 1), ('分割', 1), ('誰', 2), ('專利', 1), ('能夠', 2), ('獨佔', 1), ('六個', 1), ('字', 1), ('既', 1), ('藍色', 1), ('綠色', 1), ('就是', 1), ('整個', 1), ('社會', 2), ('展望', 1), ('前方', 1), ('很多', 1), ('等', 1), ('著', 1), ('一一', 1), ('克服', 3), ('看見', 2), ('崛起', 1), ('擴張', 1), ('以威權', 1), ('體制', 1), ('結合', 1), ('民族', 1), ('主義和經濟', 1), ('力量', 3), ('價值', 3), ('世界秩序', 1), ('因此', 1), ('處', 1), ('印太地區', 1), ('戰略', 1), ('前緣', 1), ('守護', 1), ('第一道', 1), ('防線', 1), ('利用', 1), ('銳實力', 1), ('步步', 1), ('進逼', 1), ('很', 3), ('清楚', 2), ('作為', 1), ('成員', 1), ('要', 4), ('善', 1), ('盡國際責任', 1), ('不冒進', 1), ('結', 1), ('合理', 1), ('念', 1), ('相近', 2), ('確保', 1), ('現狀', 1), ('不會', 1), ('被', 2), ('片面', 1), ('做到', 1), ('團結', 4), ('台', 1), ('灣', 1), ('社', 1), ('會', 5), ('曾', 1), ('經', 1), ('因', 1), ('為', 3), ('族群', 1), ('世代', 1), ('信仰', 1), ('黨派', 1), ('差異', 1), ('而', 2), ('出現', 1), ('爭執', 1), ('透過', 1), ('對', 4), ('話', 1), ('一定', 1), ('可以', 5), ('找到', 1), ('公約數', 1), ('經驗', 1), ('證明', 1), ('衝突', 1), ('對話', 1), ('引導', 1), ('國家往', 1), ('正確', 1), ('方向', 3), ('前進', 1), ('堅守', 2), ('曾經', 1), ('艱辛', 1), ('道路', 1), ('偶有', 1), ('紛擾', 1), ('只有', 1), ('制度', 1), ('保障', 1), ('得來', 1), ('不易', 1), ('自由', 1), ('才能', 1), ('下一代', 1), ('保有', 1), ('決定', 1), ('權利', 1), ('三年', 4), ('多來', 4), ('努力', 5), ('調整', 1), ('結構', 1), ('引導產業', 1), ('升級', 2), ('轉型', 1), ('推動', 3), ('多元', 1), ('布局', 1), ('迎來', 1), ('投資大', 1), ('爆發', 1), ('全球', 1), ('中', 1), ('穩', 1), ('腳步', 1), ('就要', 1), ('繼續', 3), ('走', 2), ('維護', 1), ('公平', 1), ('加薪', 1), ('減稅', 1), ('全面', 1), ('照顧', 2), ('全民', 1), ('分享', 1), ('成長', 3), ('果實', 1), ('推動長', 1), ('照', 1), ('2.0', 1), ('幼托', 1), ('補助', 1), ('擴大', 1), ('減輕民眾', 1), ('負擔', 1), ('使', 1), ('人人', 1), ('享有', 1), ('優質', 1), ('政府', 1), ('國防', 1), ('自主', 1), ('採購', 1), ('先進', 1), ('武器', 1), ('提升', 1), ('國軍士氣', 1), ('強化', 2), ('充足', 1), ('戰力', 1), ('國造', 2), ('高教', 1), ('機', 1), ('原型', 1), ('機剛', 1), ('剛出', 1), ('廠', 1), ('艦艇', 1), ('將陸續', 1), ('加入', 1), ('建', 1), ('軍', 1), ('行列', 1), ('捍衛國土', 1), ('國軍責', 1), ('無', 1), ('旁貸', 1), ('積極', 2), ('參與', 1), ('負責任', 1), ('肯', 1), ('貢獻', 1), ('維護區域', 1), ('不可或缺', 1), ('良善', 1), ('理念', 1), ('攜手', 1), ('爭取', 1), ('多', 1), ('實質', 1), ('合作', 1), ('機會', 1), ('路線', 1), ('目標', 1), ('明確', 1), ('第一', 1), ('旗幟', 2), ('下', 2), ('捍衛國', 1), ('第二', 1), ('民富', 1), ('而國強', 1), ('第三', 1), ('舞台', 2), ('抬頭', 1), ('挺胸', 1), ('勇敢', 1), ('自信', 1), ('一季', 1), ('率', 1), ('重返', 1), ('之首', 1), ('論壇', 1), ('評比', 1), ('四大', 1), ('超級', 1), ('創新國', 1), ('之一', 1), ('高科技', 1), ('創新產業', 1), ('前端', 1), ('體育', 1), ('選手', 1), ('技能', 1), ('國手', 1), ('無數', 1), ('設計師', 1), ('藝術家', 1), ('發光', 1), ('發熱', 1), ('帶給', 1), ('榮耀', 1), ('驕傲', 1), ('製', 1), ('福', 1), ('衛', 1), ('五', 1), ('號', 1), ('以及', 1), ('福衛七號', 1), ('接連', 1), ('升空', 1), ('展現', 1), ('太空', 2), ('科技', 1), ('連人類', 1), ('歷史', 2), ('第一次', 1), ('觀測', 1), ('到', 1), ('黑洞', 2), ('影像', 1), ('科學', 1), ('團隊', 1), ('參', 1), ('與', 1), ('當我們', 1), ('五千', 1), ('五百', 1), ('萬', 1), ('光年', 1), ('外', 1), ('那麼', 1), ('眼前', 1), ('什麼', 1), ('勇氣面', 1), ('？', 1), ('轉化', 1), ('而成', 1), ('再生', 1), ('契機', 1), ('一個', 1), ('人', 1), ('變得', 1), ('更好', 1), ('所有', 1), ('樂觀面', 1), ('天佑', 1), ('加油', 2)])"
            ]
          },
          "metadata": {
            "tags": []
          },
          "execution_count": 12
        }
      ]
    },
    {
      "cell_type": "code",
      "metadata": {
        "colab": {
          "base_uri": "https://localhost:8080/"
        },
        "id": "8UL-ouCxXCDJ",
        "outputId": "d4c3e606-1c86-4537-e5c3-4c7ac9cc4215"
      },
      "source": [
        "def getSecond(e):\n",
        "  return e[1]\n",
        "getSecond(('大會', 1))"
      ],
      "execution_count": 13,
      "outputs": [
        {
          "output_type": "execute_result",
          "data": {
            "text/plain": [
              "1"
            ]
          },
          "metadata": {
            "tags": []
          },
          "execution_count": 13
        }
      ]
    },
    {
      "cell_type": "code",
      "metadata": {
        "id": "SjYZwHlKWpUC"
      },
      "source": [
        "swd = sorted(dic.items(), key = lambda e: e[1], reverse=True)"
      ],
      "execution_count": 18,
      "outputs": []
    },
    {
      "cell_type": "code",
      "metadata": {
        "colab": {
          "base_uri": "https://localhost:8080/"
        },
        "id": "lC_ECVvRXP87",
        "outputId": "9899f2b3-00bf-4ec6-9d28-52a09efb5553"
      },
      "source": [
        "for rec in swd[0:10]:\n",
        "  print(rec)"
      ],
      "execution_count": 19,
      "outputs": [
        {
          "output_type": "stream",
          "text": [
            "('我們', 43)\n",
            "('台灣', 19)\n",
            "('挑戰', 12)\n",
            "('人民', 9)\n",
            "('經濟', 8)\n",
            "('中華民國', 7)\n",
            "('一次', 7)\n",
            "('未來', 6)\n",
            "('自由民主', 6)\n",
            "('世界', 5)\n"
          ],
          "name": "stdout"
        }
      ]
    },
    {
      "cell_type": "code",
      "metadata": {
        "colab": {
          "base_uri": "https://localhost:8080/"
        },
        "id": "ROsXBTGeXXWZ",
        "outputId": "2288601c-fe5f-4722-a7d8-d0e8dfe3f0fb"
      },
      "source": [
        "c.most_common(10)"
      ],
      "execution_count": 24,
      "outputs": [
        {
          "output_type": "execute_result",
          "data": {
            "text/plain": [
              "[('我們', 43),\n",
              " ('台灣', 19),\n",
              " ('挑戰', 12),\n",
              " ('人民', 9),\n",
              " ('經濟', 8),\n",
              " ('中華民國', 7),\n",
              " ('一次', 7),\n",
              " ('未來', 6),\n",
              " ('自由民主', 6),\n",
              " ('世界', 5)]"
            ]
          },
          "metadata": {
            "tags": []
          },
          "execution_count": 24
        }
      ]
    },
    {
      "cell_type": "code",
      "metadata": {
        "colab": {
          "base_uri": "https://localhost:8080/"
        },
        "id": "-h8S2_J4XujX",
        "outputId": "04f9e756-0338-40be-d86b-be3d55d7f415"
      },
      "source": [
        "from collections import Counter\n",
        "Counter(jieba.lcut(open('speech_tsai.txt').read())).most_common(10)\n"
      ],
      "execution_count": 25,
      "outputs": [
        {
          "output_type": "execute_result",
          "data": {
            "text/plain": [
              "[('，', 140),\n",
              " ('的', 84),\n",
              " ('。', 67),\n",
              " ('\\n', 65),\n",
              " ('我們', 43),\n",
              " ('、', 27),\n",
              " ('台灣', 19),\n",
              " ('也', 14),\n",
              " ('挑戰', 12),\n",
              " ('在', 11)]"
            ]
          },
          "metadata": {
            "tags": []
          },
          "execution_count": 25
        }
      ]
    },
    {
      "cell_type": "markdown",
      "metadata": {
        "id": "8I3oUAIrpusm"
      },
      "source": [
        "## Decision Tree"
      ]
    },
    {
      "cell_type": "code",
      "metadata": {
        "id": "VpB1ih4iY0vX"
      },
      "source": [
        "from sklearn.datasets import load_iris\n",
        "iris = load_iris()"
      ],
      "execution_count": 26,
      "outputs": []
    },
    {
      "cell_type": "code",
      "metadata": {
        "colab": {
          "base_uri": "https://localhost:8080/"
        },
        "id": "bGJoxxoGp2Cm",
        "outputId": "00e2a52b-18fe-4cf7-a99d-a9046d19cee8"
      },
      "source": [
        "print(iris.DESCR)"
      ],
      "execution_count": 27,
      "outputs": [
        {
          "output_type": "stream",
          "text": [
            ".. _iris_dataset:\n",
            "\n",
            "Iris plants dataset\n",
            "--------------------\n",
            "\n",
            "**Data Set Characteristics:**\n",
            "\n",
            "    :Number of Instances: 150 (50 in each of three classes)\n",
            "    :Number of Attributes: 4 numeric, predictive attributes and the class\n",
            "    :Attribute Information:\n",
            "        - sepal length in cm\n",
            "        - sepal width in cm\n",
            "        - petal length in cm\n",
            "        - petal width in cm\n",
            "        - class:\n",
            "                - Iris-Setosa\n",
            "                - Iris-Versicolour\n",
            "                - Iris-Virginica\n",
            "                \n",
            "    :Summary Statistics:\n",
            "\n",
            "    ============== ==== ==== ======= ===== ====================\n",
            "                    Min  Max   Mean    SD   Class Correlation\n",
            "    ============== ==== ==== ======= ===== ====================\n",
            "    sepal length:   4.3  7.9   5.84   0.83    0.7826\n",
            "    sepal width:    2.0  4.4   3.05   0.43   -0.4194\n",
            "    petal length:   1.0  6.9   3.76   1.76    0.9490  (high!)\n",
            "    petal width:    0.1  2.5   1.20   0.76    0.9565  (high!)\n",
            "    ============== ==== ==== ======= ===== ====================\n",
            "\n",
            "    :Missing Attribute Values: None\n",
            "    :Class Distribution: 33.3% for each of 3 classes.\n",
            "    :Creator: R.A. Fisher\n",
            "    :Donor: Michael Marshall (MARSHALL%PLU@io.arc.nasa.gov)\n",
            "    :Date: July, 1988\n",
            "\n",
            "The famous Iris database, first used by Sir R.A. Fisher. The dataset is taken\n",
            "from Fisher's paper. Note that it's the same as in R, but not as in the UCI\n",
            "Machine Learning Repository, which has two wrong data points.\n",
            "\n",
            "This is perhaps the best known database to be found in the\n",
            "pattern recognition literature.  Fisher's paper is a classic in the field and\n",
            "is referenced frequently to this day.  (See Duda & Hart, for example.)  The\n",
            "data set contains 3 classes of 50 instances each, where each class refers to a\n",
            "type of iris plant.  One class is linearly separable from the other 2; the\n",
            "latter are NOT linearly separable from each other.\n",
            "\n",
            ".. topic:: References\n",
            "\n",
            "   - Fisher, R.A. \"The use of multiple measurements in taxonomic problems\"\n",
            "     Annual Eugenics, 7, Part II, 179-188 (1936); also in \"Contributions to\n",
            "     Mathematical Statistics\" (John Wiley, NY, 1950).\n",
            "   - Duda, R.O., & Hart, P.E. (1973) Pattern Classification and Scene Analysis.\n",
            "     (Q327.D83) John Wiley & Sons.  ISBN 0-471-22361-1.  See page 218.\n",
            "   - Dasarathy, B.V. (1980) \"Nosing Around the Neighborhood: A New System\n",
            "     Structure and Classification Rule for Recognition in Partially Exposed\n",
            "     Environments\".  IEEE Transactions on Pattern Analysis and Machine\n",
            "     Intelligence, Vol. PAMI-2, No. 1, 67-71.\n",
            "   - Gates, G.W. (1972) \"The Reduced Nearest Neighbor Rule\".  IEEE Transactions\n",
            "     on Information Theory, May 1972, 431-433.\n",
            "   - See also: 1988 MLC Proceedings, 54-64.  Cheeseman et al\"s AUTOCLASS II\n",
            "     conceptual clustering system finds 3 classes in the data.\n",
            "   - Many, many more ...\n"
          ],
          "name": "stdout"
        }
      ]
    },
    {
      "cell_type": "code",
      "metadata": {
        "colab": {
          "base_uri": "https://localhost:8080/"
        },
        "id": "llT3nLBAp5CF",
        "outputId": "ff7eecce-6d06-46ad-dabe-408a1351bae5"
      },
      "source": [
        "# X\n",
        "iris.data[0:3 , :]"
      ],
      "execution_count": 30,
      "outputs": [
        {
          "output_type": "execute_result",
          "data": {
            "text/plain": [
              "array([[5.1, 3.5, 1.4, 0.2],\n",
              "       [4.9, 3. , 1.4, 0.2],\n",
              "       [4.7, 3.2, 1.3, 0.2]])"
            ]
          },
          "metadata": {
            "tags": []
          },
          "execution_count": 30
        }
      ]
    },
    {
      "cell_type": "code",
      "metadata": {
        "colab": {
          "base_uri": "https://localhost:8080/"
        },
        "id": "ss9lhQ09qClU",
        "outputId": "a68f25a9-245e-4ceb-9022-051634323086"
      },
      "source": [
        "# y\n",
        "iris.target"
      ],
      "execution_count": 31,
      "outputs": [
        {
          "output_type": "execute_result",
          "data": {
            "text/plain": [
              "array([0, 0, 0, 0, 0, 0, 0, 0, 0, 0, 0, 0, 0, 0, 0, 0, 0, 0, 0, 0, 0, 0,\n",
              "       0, 0, 0, 0, 0, 0, 0, 0, 0, 0, 0, 0, 0, 0, 0, 0, 0, 0, 0, 0, 0, 0,\n",
              "       0, 0, 0, 0, 0, 0, 1, 1, 1, 1, 1, 1, 1, 1, 1, 1, 1, 1, 1, 1, 1, 1,\n",
              "       1, 1, 1, 1, 1, 1, 1, 1, 1, 1, 1, 1, 1, 1, 1, 1, 1, 1, 1, 1, 1, 1,\n",
              "       1, 1, 1, 1, 1, 1, 1, 1, 1, 1, 1, 1, 2, 2, 2, 2, 2, 2, 2, 2, 2, 2,\n",
              "       2, 2, 2, 2, 2, 2, 2, 2, 2, 2, 2, 2, 2, 2, 2, 2, 2, 2, 2, 2, 2, 2,\n",
              "       2, 2, 2, 2, 2, 2, 2, 2, 2, 2, 2, 2, 2, 2, 2, 2, 2, 2])"
            ]
          },
          "metadata": {
            "tags": []
          },
          "execution_count": 31
        }
      ]
    },
    {
      "cell_type": "code",
      "metadata": {
        "colab": {
          "base_uri": "https://localhost:8080/"
        },
        "id": "k38WUhQfqbtD",
        "outputId": "175ff7e0-9df4-499c-f24c-8f561c94f100"
      },
      "source": [
        "iris.target_names"
      ],
      "execution_count": 33,
      "outputs": [
        {
          "output_type": "execute_result",
          "data": {
            "text/plain": [
              "array(['setosa', 'versicolor', 'virginica'], dtype='<U10')"
            ]
          },
          "metadata": {
            "tags": []
          },
          "execution_count": 33
        }
      ]
    },
    {
      "cell_type": "code",
      "metadata": {
        "colab": {
          "base_uri": "https://localhost:8080/"
        },
        "id": "tgopIXeoqgET",
        "outputId": "ba771469-0a1d-4f2a-e7c6-de8d9ace2e40"
      },
      "source": [
        "from sklearn.tree import DecisionTreeClassifier\n",
        "clf = DecisionTreeClassifier()\n",
        "clf.fit(iris.data,iris.target)"
      ],
      "execution_count": 35,
      "outputs": [
        {
          "output_type": "execute_result",
          "data": {
            "text/plain": [
              "DecisionTreeClassifier(ccp_alpha=0.0, class_weight=None, criterion='gini',\n",
              "                       max_depth=None, max_features=None, max_leaf_nodes=None,\n",
              "                       min_impurity_decrease=0.0, min_impurity_split=None,\n",
              "                       min_samples_leaf=1, min_samples_split=2,\n",
              "                       min_weight_fraction_leaf=0.0, presort='deprecated',\n",
              "                       random_state=None, splitter='best')"
            ]
          },
          "metadata": {
            "tags": []
          },
          "execution_count": 35
        }
      ]
    },
    {
      "cell_type": "code",
      "metadata": {
        "id": "kPpnrNaoqs-0"
      },
      "source": [
        "pred_y = clf.predict(iris.data)"
      ],
      "execution_count": 38,
      "outputs": []
    },
    {
      "cell_type": "code",
      "metadata": {
        "colab": {
          "base_uri": "https://localhost:8080/"
        },
        "id": "S3NdX3IYuody",
        "outputId": "37136ece-20b1-460b-e163-63961469c5ec"
      },
      "source": [
        "(iris.target == pred_y).sum()"
      ],
      "execution_count": 40,
      "outputs": [
        {
          "output_type": "execute_result",
          "data": {
            "text/plain": [
              "150"
            ]
          },
          "metadata": {
            "tags": []
          },
          "execution_count": 40
        }
      ]
    },
    {
      "cell_type": "code",
      "metadata": {
        "colab": {
          "base_uri": "https://localhost:8080/"
        },
        "id": "fjUbQH46ur7v",
        "outputId": "f9ad5a93-c78e-49be-b69f-656e81d6007a"
      },
      "source": [
        "len(pred_y)"
      ],
      "execution_count": 41,
      "outputs": [
        {
          "output_type": "execute_result",
          "data": {
            "text/plain": [
              "150"
            ]
          },
          "metadata": {
            "tags": []
          },
          "execution_count": 41
        }
      ]
    },
    {
      "cell_type": "code",
      "metadata": {
        "colab": {
          "base_uri": "https://localhost:8080/"
        },
        "id": "zTFrSMiTu7uT",
        "outputId": "6ff1bec5-7e3b-4a50-b58e-c2cf89fd4d6b"
      },
      "source": [
        "(iris.target == pred_y).sum() / len(pred_y)"
      ],
      "execution_count": 42,
      "outputs": [
        {
          "output_type": "execute_result",
          "data": {
            "text/plain": [
              "1.0"
            ]
          },
          "metadata": {
            "tags": []
          },
          "execution_count": 42
        }
      ]
    },
    {
      "cell_type": "code",
      "metadata": {
        "id": "H-Wl4i7-u9qf"
      },
      "source": [
        "from sklearn import tree\n",
        "tree.export_graphviz(clf, 'tree.txt')"
      ],
      "execution_count": 45,
      "outputs": []
    },
    {
      "cell_type": "markdown",
      "metadata": {
        "id": "skhtadLBvWo5"
      },
      "source": [
        "- https://dreampuf.github.io/GraphvizOnline"
      ]
    },
    {
      "cell_type": "code",
      "metadata": {
        "colab": {
          "base_uri": "https://localhost:8080/",
          "height": 282
        },
        "id": "MSk_1W7AvHDP",
        "outputId": "d395cbce-57f8-41df-df78-5d532bbb8dd1"
      },
      "source": [
        "from matplotlib import pyplot as plt \n",
        "plt.scatter(iris.data[:,2],iris.data[:,3], c=iris.target)"
      ],
      "execution_count": 46,
      "outputs": [
        {
          "output_type": "execute_result",
          "data": {
            "text/plain": [
              "<matplotlib.collections.PathCollection at 0x7f80625b0f50>"
            ]
          },
          "metadata": {
            "tags": []
          },
          "execution_count": 46
        },
        {
          "output_type": "display_data",
          "data": {
            "image/png": "[encoded data removed]",
            "text/plain": [
              "<Figure size 432x288 with 1 Axes>"
            ]
          },
          "metadata": {
            "tags": [],
            "needs_background": "light"
          }
        }
      ]
    },
    {
      "cell_type": "code",
      "metadata": {
        "colab": {
          "base_uri": "https://localhost:8080/"
        },
        "id": "ki5MyA3GwJcA",
        "outputId": "5752df3d-14d1-44d7-895c-2f50cb599f07"
      },
      "source": [
        "from sklearn.tree import DecisionTreeClassifier\n",
        "clf = DecisionTreeClassifier(max_depth = 2)\n",
        "clf.fit(iris.data,iris.target)"
      ],
      "execution_count": 47,
      "outputs": [
        {
          "output_type": "execute_result",
          "data": {
            "text/plain": [
              "DecisionTreeClassifier(ccp_alpha=0.0, class_weight=None, criterion='gini',\n",
              "                       max_depth=2, max_features=None, max_leaf_nodes=None,\n",
              "                       min_impurity_decrease=0.0, min_impurity_split=None,\n",
              "                       min_samples_leaf=1, min_samples_split=2,\n",
              "                       min_weight_fraction_leaf=0.0, presort='deprecated',\n",
              "                       random_state=None, splitter='best')"
            ]
          },
          "metadata": {
            "tags": []
          },
          "execution_count": 47
        }
      ]
    },
    {
      "cell_type": "code",
      "metadata": {
        "id": "c7E8WghjxURt"
      },
      "source": [
        "pred_y = clf.predict(iris.data)"
      ],
      "execution_count": 48,
      "outputs": []
    },
    {
      "cell_type": "code",
      "metadata": {
        "colab": {
          "base_uri": "https://localhost:8080/"
        },
        "id": "6hvVCb7nxXgd",
        "outputId": "4529755e-7041-472c-d456-fb093c719516"
      },
      "source": [
        "(iris.target == pred_y).sum()"
      ],
      "execution_count": 49,
      "outputs": [
        {
          "output_type": "execute_result",
          "data": {
            "text/plain": [
              "144"
            ]
          },
          "metadata": {
            "tags": []
          },
          "execution_count": 49
        }
      ]
    },
    {
      "cell_type": "code",
      "metadata": {
        "colab": {
          "base_uri": "https://localhost:8080/"
        },
        "id": "cbhDLSvIxZqd",
        "outputId": "ea6d7f84-9026-41d1-890f-a89c36b1f3de"
      },
      "source": [
        "(iris.target == pred_y).sum() / len(pred_y)"
      ],
      "execution_count": 50,
      "outputs": [
        {
          "output_type": "execute_result",
          "data": {
            "text/plain": [
              "0.96"
            ]
          },
          "metadata": {
            "tags": []
          },
          "execution_count": 50
        }
      ]
    },
    {
      "cell_type": "code",
      "metadata": {
        "id": "_iu-j8Vfxd5e"
      },
      "source": [
        "from sklearn import tree\n",
        "tree.export_graphviz(clf, 'tree2.txt')"
      ],
      "execution_count": 51,
      "outputs": []
    },
    {
      "cell_type": "code",
      "metadata": {
        "id": "V0dF-94txlKu"
      },
      "source": [
        "X = iris.data[:,[2,3]]"
      ],
      "execution_count": 52,
      "outputs": []
    },
    {
      "cell_type": "code",
      "metadata": {
        "colab": {
          "base_uri": "https://localhost:8080/"
        },
        "id": "qRNoZIkrybVd",
        "outputId": "324e9899-cb0e-4411-fd4b-6a54d8b6f7e6"
      },
      "source": [
        "X.shape"
      ],
      "execution_count": 53,
      "outputs": [
        {
          "output_type": "execute_result",
          "data": {
            "text/plain": [
              "(150, 2)"
            ]
          },
          "metadata": {
            "tags": []
          },
          "execution_count": 53
        }
      ]
    },
    {
      "cell_type": "code",
      "metadata": {
        "id": "RdIoXU7Myb-M"
      },
      "source": [
        "y = iris.target"
      ],
      "execution_count": 54,
      "outputs": []
    },
    {
      "cell_type": "code",
      "metadata": {
        "colab": {
          "base_uri": "https://localhost:8080/"
        },
        "id": "X6TlHIm4yi-8",
        "outputId": "13673e3c-c13b-4e81-b95d-e7ed12a8fb5b"
      },
      "source": [
        "y.shape"
      ],
      "execution_count": 55,
      "outputs": [
        {
          "output_type": "execute_result",
          "data": {
            "text/plain": [
              "(150,)"
            ]
          },
          "metadata": {
            "tags": []
          },
          "execution_count": 55
        }
      ]
    },
    {
      "cell_type": "code",
      "metadata": {
        "colab": {
          "base_uri": "https://localhost:8080/"
        },
        "id": "mhINwzDIyjv8",
        "outputId": "ced7135b-2204-44d4-d62b-dc8c8c4ab41a"
      },
      "source": [
        "from sklearn.tree import DecisionTreeClassifier\n",
        "clf = DecisionTreeClassifier(max_depth = 2)\n",
        "clf.fit(X,y)"
      ],
      "execution_count": 61,
      "outputs": [
        {
          "output_type": "execute_result",
          "data": {
            "text/plain": [
              "DecisionTreeClassifier(ccp_alpha=0.0, class_weight=None, criterion='gini',\n",
              "                       max_depth=2, max_features=None, max_leaf_nodes=None,\n",
              "                       min_impurity_decrease=0.0, min_impurity_split=None,\n",
              "                       min_samples_leaf=1, min_samples_split=2,\n",
              "                       min_weight_fraction_leaf=0.0, presort='deprecated',\n",
              "                       random_state=None, splitter='best')"
            ]
          },
          "metadata": {
            "tags": []
          },
          "execution_count": 61
        }
      ]
    },
    {
      "cell_type": "code",
      "metadata": {
        "colab": {
          "base_uri": "https://localhost:8080/"
        },
        "id": "1WY0ZmSJy7NM",
        "outputId": "da369eda-2f81-48fd-d7a6-1eb7c4b85666"
      },
      "source": [
        "import numpy as np\n",
        "data = np.array([[2,3]])\n",
        "clf.predict(data)"
      ],
      "execution_count": 62,
      "outputs": [
        {
          "output_type": "execute_result",
          "data": {
            "text/plain": [
              "array([0])"
            ]
          },
          "metadata": {
            "tags": []
          },
          "execution_count": 62
        }
      ]
    },
    {
      "cell_type": "code",
      "metadata": {
        "colab": {
          "base_uri": "https://localhost:8080/"
        },
        "id": "VJJfB-9jzERr",
        "outputId": "58fdf3ff-d3f7-4e37-b623-d0d0005238b1"
      },
      "source": [
        "data = np.array([[1.5,0.5]])\n",
        "clf.predict(data)"
      ],
      "execution_count": 63,
      "outputs": [
        {
          "output_type": "execute_result",
          "data": {
            "text/plain": [
              "array([0])"
            ]
          },
          "metadata": {
            "tags": []
          },
          "execution_count": 63
        }
      ]
    },
    {
      "cell_type": "code",
      "metadata": {
        "id": "Ff5YpqeuzeZ7"
      },
      "source": [
        "tree.export_graphviz(clf, 'tree3.txt')"
      ],
      "execution_count": 64,
      "outputs": []
    },
    {
      "cell_type": "code",
      "metadata": {
        "id": "LOb-GtLtzxO7"
      },
      "source": [
        "x_min, x_max = X[:, 0].min() - 1, X[:, 0].max() + 1\n",
        "y_min, y_max = X[:, 1].min() - 1, X[:, 1].max() + 1\n",
        "\n",
        "# 根據 x,y 最小最大值, 產生棋盤狀分割\n",
        "xx, yy = np.meshgrid(np.arange(x_min, x_max, 0.1),\n",
        "                     np.arange(y_min, y_max, 0.1))"
      ],
      "execution_count": 66,
      "outputs": []
    },
    {
      "cell_type": "code",
      "metadata": {
        "colab": {
          "base_uri": "https://localhost:8080/"
        },
        "id": "eQ53IkvR0vJf",
        "outputId": "a5abe65e-2372-4d0b-ace0-5bc6550762ea"
      },
      "source": [
        "xx"
      ],
      "execution_count": 67,
      "outputs": [
        {
          "output_type": "execute_result",
          "data": {
            "text/plain": [
              "array([[0. , 0.1, 0.2, ..., 7.6, 7.7, 7.8],\n",
              "       [0. , 0.1, 0.2, ..., 7.6, 7.7, 7.8],\n",
              "       [0. , 0.1, 0.2, ..., 7.6, 7.7, 7.8],\n",
              "       ...,\n",
              "       [0. , 0.1, 0.2, ..., 7.6, 7.7, 7.8],\n",
              "       [0. , 0.1, 0.2, ..., 7.6, 7.7, 7.8],\n",
              "       [0. , 0.1, 0.2, ..., 7.6, 7.7, 7.8]])"
            ]
          },
          "metadata": {
            "tags": []
          },
          "execution_count": 67
        }
      ]
    },
    {
      "cell_type": "code",
      "metadata": {
        "colab": {
          "base_uri": "https://localhost:8080/"
        },
        "id": "KZOeDQOp0zvJ",
        "outputId": "f54e9444-ccca-428e-dfbc-448efa6c0349"
      },
      "source": [
        "xx.shape"
      ],
      "execution_count": 68,
      "outputs": [
        {
          "output_type": "execute_result",
          "data": {
            "text/plain": [
              "(44, 79)"
            ]
          },
          "metadata": {
            "tags": []
          },
          "execution_count": 68
        }
      ]
    },
    {
      "cell_type": "code",
      "metadata": {
        "colab": {
          "base_uri": "https://localhost:8080/"
        },
        "id": "W8CFCqQ203GN",
        "outputId": "1a83a762-ff5c-474e-c4e5-be9381628591"
      },
      "source": [
        "yy"
      ],
      "execution_count": 69,
      "outputs": [
        {
          "output_type": "execute_result",
          "data": {
            "text/plain": [
              "array([[-0.9, -0.9, -0.9, ..., -0.9, -0.9, -0.9],\n",
              "       [-0.8, -0.8, -0.8, ..., -0.8, -0.8, -0.8],\n",
              "       [-0.7, -0.7, -0.7, ..., -0.7, -0.7, -0.7],\n",
              "       ...,\n",
              "       [ 3.2,  3.2,  3.2, ...,  3.2,  3.2,  3.2],\n",
              "       [ 3.3,  3.3,  3.3, ...,  3.3,  3.3,  3.3],\n",
              "       [ 3.4,  3.4,  3.4, ...,  3.4,  3.4,  3.4]])"
            ]
          },
          "metadata": {
            "tags": []
          },
          "execution_count": 69
        }
      ]
    },
    {
      "cell_type": "code",
      "metadata": {
        "colab": {
          "base_uri": "https://localhost:8080/"
        },
        "id": "DZ90aivY05vN",
        "outputId": "3c6e3349-ba26-4dc6-aa87-b2b6fb254c46"
      },
      "source": [
        "yy.shape"
      ],
      "execution_count": 70,
      "outputs": [
        {
          "output_type": "execute_result",
          "data": {
            "text/plain": [
              "(44, 79)"
            ]
          },
          "metadata": {
            "tags": []
          },
          "execution_count": 70
        }
      ]
    },
    {
      "cell_type": "code",
      "metadata": {
        "colab": {
          "base_uri": "https://localhost:8080/"
        },
        "id": "uYp4_AKg0gix",
        "outputId": "9e432d88-502c-44de-c25f-f4c9307bbd02"
      },
      "source": [
        "#plt.plot()\n",
        "\n",
        "Z = clf.predict(np.c_[xx.ravel(), yy.ravel()])\n",
        "Z\n"
      ],
      "execution_count": 72,
      "outputs": [
        {
          "output_type": "execute_result",
          "data": {
            "text/plain": [
              "array([0, 0, 0, ..., 2, 2, 2])"
            ]
          },
          "metadata": {
            "tags": []
          },
          "execution_count": 72
        }
      ]
    },
    {
      "cell_type": "code",
      "metadata": {
        "colab": {
          "base_uri": "https://localhost:8080/"
        },
        "id": "PHdIM7-j1H42",
        "outputId": "e6f9a635-bdcd-476d-9761-6f6cc3d621bc"
      },
      "source": [
        "Z = Z.reshape(xx.shape)\n",
        "Z"
      ],
      "execution_count": 73,
      "outputs": [
        {
          "output_type": "execute_result",
          "data": {
            "text/plain": [
              "array([[0, 0, 0, ..., 1, 1, 1],\n",
              "       [0, 0, 0, ..., 1, 1, 1],\n",
              "       [0, 0, 0, ..., 1, 1, 1],\n",
              "       ...,\n",
              "       [0, 0, 0, ..., 2, 2, 2],\n",
              "       [0, 0, 0, ..., 2, 2, 2],\n",
              "       [0, 0, 0, ..., 2, 2, 2]])"
            ]
          },
          "metadata": {
            "tags": []
          },
          "execution_count": 73
        }
      ]
    },
    {
      "cell_type": "code",
      "metadata": {
        "colab": {
          "base_uri": "https://localhost:8080/",
          "height": 282
        },
        "id": "KFqezeH11TQc",
        "outputId": "3dd0fd88-aa12-4c6f-b179-a065fb86e3aa"
      },
      "source": [
        "plt.scatter(X[:, 0], X[:, 1], c=y, alpha=1, cmap = plt.cm.RdYlBu)"
      ],
      "execution_count": 74,
      "outputs": [
        {
          "output_type": "execute_result",
          "data": {
            "text/plain": [
              "<matplotlib.collections.PathCollection at 0x7f8061ee9410>"
            ]
          },
          "metadata": {
            "tags": []
          },
          "execution_count": 74
        },
        {
          "output_type": "display_data",
          "data": {
            "image/png": "[encoded data removed]",
            "text/plain": [
              "<Figure size 432x288 with 1 Axes>"
            ]
          },
          "metadata": {
            "tags": [],
            "needs_background": "light"
          }
        }
      ]
    },
    {
      "cell_type": "code",
      "metadata": {
        "colab": {
          "base_uri": "https://localhost:8080/",
          "height": 295
        },
        "id": "FWbj132p0_Ba",
        "outputId": "ab8bba49-e570-4cf6-8ae2-54220af654fa"
      },
      "source": [
        "plt.plot()\n",
        "plt.contourf(xx, yy, Z, alpha=0.4, cmap = plt.cm.rainbow)\n",
        "plt.scatter(X[:, 0], X[:, 1], c=y, alpha=1, cmap = plt.cm.RdYlBu)\n",
        "plt.title('Decision Tree')\n",
        "plt.xlabel('Petal.Length')\n",
        "plt.ylabel('Petal.Width')\n",
        "plt.show()"
      ],
      "execution_count": 75,
      "outputs": [
        {
          "output_type": "display_data",
          "data": {
            "image/png": "[encoded data removed]",
            "text/plain": [
              "<Figure size 432x288 with 1 Axes>"
            ]
          },
          "metadata": {
            "tags": [],
            "needs_background": "light"
          }
        }
      ]
    },
    {
      "cell_type": "markdown",
      "metadata": {
        "id": "OTHliwtv34tX"
      },
      "source": [
        "## Logistic Regression"
      ]
    },
    {
      "cell_type": "code",
      "metadata": {
        "id": "bLY_h3uk1bHa"
      },
      "source": [
        "import pandas\n",
        "salary = pandas.read_csv('https://raw.githubusercontent.com/ywchiu/tibamepy/master/data/salary.csv', index_col = 0)"
      ],
      "execution_count": 78,
      "outputs": []
    },
    {
      "cell_type": "code",
      "metadata": {
        "colab": {
          "base_uri": "https://localhost:8080/",
          "height": 282
        },
        "id": "josuXNdg4Bwa",
        "outputId": "076c376f-8b31-4934-8c5f-fec1f69d7bfe"
      },
      "source": [
        "from matplotlib import pyplot as plt\n",
        "plt.scatter(salary.iloc[:,0], salary.iloc[:,1])"
      ],
      "execution_count": 83,
      "outputs": [
        {
          "output_type": "execute_result",
          "data": {
            "text/plain": [
              "<matplotlib.collections.PathCollection at 0x7f8061bfe150>"
            ]
          },
          "metadata": {
            "tags": []
          },
          "execution_count": 83
        },
        {
          "output_type": "display_data",
          "data": {
            "image/png": "[encoded data removed]",
            "text/plain": [
              "<Figure size 432x288 with 1 Axes>"
            ]
          },
          "metadata": {
            "tags": [],
            "needs_background": "light"
          }
        }
      ]
    },
    {
      "cell_type": "code",
      "metadata": {
        "colab": {
          "base_uri": "https://localhost:8080/"
        },
        "id": "5uCPWrGq4Eor",
        "outputId": "080632cb-1eae-44fa-c97d-9af3b97ffe52"
      },
      "source": [
        "from sklearn.linear_model import LinearRegression\n",
        "clf = LinearRegression()\n",
        "clf.fit(salary[['year']], salary['salary'])"
      ],
      "execution_count": 87,
      "outputs": [
        {
          "output_type": "execute_result",
          "data": {
            "text/plain": [
              "LinearRegression(copy_X=True, fit_intercept=True, n_jobs=None, normalize=False)"
            ]
          },
          "metadata": {
            "tags": []
          },
          "execution_count": 87
        }
      ]
    },
    {
      "cell_type": "code",
      "metadata": {
        "colab": {
          "base_uri": "https://localhost:8080/"
        },
        "id": "8jSu4oca4gYr",
        "outputId": "94c83866-10b9-48c1-eb41-4bdb22f66942"
      },
      "source": [
        "clf.intercept_"
      ],
      "execution_count": 88,
      "outputs": [
        {
          "output_type": "execute_result",
          "data": {
            "text/plain": [
              "5049.0098998138365"
            ]
          },
          "metadata": {
            "tags": []
          },
          "execution_count": 88
        }
      ]
    },
    {
      "cell_type": "code",
      "metadata": {
        "colab": {
          "base_uri": "https://localhost:8080/"
        },
        "id": "OxoJ9UYa4tKK",
        "outputId": "047a23c7-4661-4cbb-814d-61f0228d7695"
      },
      "source": [
        "clf.coef_"
      ],
      "execution_count": 89,
      "outputs": [
        {
          "output_type": "execute_result",
          "data": {
            "text/plain": [
              "array([712.59413615])"
            ]
          },
          "metadata": {
            "tags": []
          },
          "execution_count": 89
        }
      ]
    },
    {
      "cell_type": "code",
      "metadata": {
        "id": "AOkdClfd43bf"
      },
      "source": [
        "pred_y = clf.predict(salary[['year']])"
      ],
      "execution_count": 92,
      "outputs": []
    },
    {
      "cell_type": "code",
      "metadata": {
        "colab": {
          "base_uri": "https://localhost:8080/",
          "height": 282
        },
        "id": "gOH9_JMR4xb7",
        "outputId": "3a4751be-64ba-4d94-d5e3-5b9a2019f7f1"
      },
      "source": [
        "from matplotlib import pyplot as plt\n",
        "plt.scatter(salary.iloc[:,0], salary.iloc[:,1])\n",
        "plt.plot(salary.iloc[:,0],pred_y,c = 'red')"
      ],
      "execution_count": 94,
      "outputs": [
        {
          "output_type": "execute_result",
          "data": {
            "text/plain": [
              "[<matplotlib.lines.Line2D at 0x7f8060f67b50>]"
            ]
          },
          "metadata": {
            "tags": []
          },
          "execution_count": 94
        },
        {
          "output_type": "display_data",
          "data": {
            "image/png": "[encoded data removed]",
            "text/plain": [
              "<Figure size 432x288 with 1 Axes>"
            ]
          },
          "metadata": {
            "tags": [],
            "needs_background": "light"
          }
        }
      ]
    },
    {
      "cell_type": "code",
      "metadata": {
        "id": "k8-PpK0B5Cl2"
      },
      "source": [
        ""
      ],
      "execution_count": null,
      "outputs": []
    }
  ]
}