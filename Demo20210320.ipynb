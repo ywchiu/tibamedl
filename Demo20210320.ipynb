{
  "nbformat": 4,
  "nbformat_minor": 0,
  "metadata": {
    "colab": {
      "name": "Demo20210320.ipynb",
      "provenance": [],
      "collapsed_sections": []
    },
    "kernelspec": {
      "name": "python3",
      "display_name": "Python 3"
    },
    "language_info": {
      "name": "python"
    }
  },
  "cells": [
    {
      "cell_type": "markdown",
      "metadata": {
        "id": "2QD0QWiSRuu2"
      },
      "source": [
        "\n",
        "## 作業 (Python 基礎)\n",
        "\n",
        "1 請使用 pip 將 jieba 安裝在自己的電腦上\n",
        "\n",
        "2 閱讀jieba 相關的文件，了解jieba 的用法\n",
        "\n",
        "3 請將蔡英文演說文 (https://raw.githubusercontent.com/ywchiu/tibamedl/master/Data/speech_tsai.txt) 下載存入到自己電腦\n",
        "\n",
        "4 請使用python 的檔案操作方法讀取新聞\n",
        "\n",
        "5 請使用 jieba 將演說文切詞\n",
        "\n",
        "6 請統計該演說文最常出現的十大字詞"
      ]
    },
    {
      "cell_type": "code",
      "metadata": {
        "colab": {
          "base_uri": "https://localhost:8080/"
        },
        "id": "0lLdD777Pkti",
        "outputId": "50403d5f-90ab-4bd2-d1b3-f68b4f15f5b5"
      },
      "source": [
        "!pip install jieba"
      ],
      "execution_count": 1,
      "outputs": [
        {
          "output_type": "stream",
          "text": [
            "Requirement already satisfied: jieba in /usr/local/lib/python3.7/dist-packages (0.42.1)\n"
          ],
          "name": "stdout"
        }
      ]
    },
    {
      "cell_type": "code",
      "metadata": {
        "colab": {
          "base_uri": "https://localhost:8080/"
        },
        "id": "jDmKg00RSj3A",
        "outputId": "2120abd2-06e4-4fcc-cda0-323762945605"
      },
      "source": [
        "! wget https://raw.githubusercontent.com/ywchiu/tibamedl/master/Data/speech_tsai.txt"
      ],
      "execution_count": 2,
      "outputs": [
        {
          "output_type": "stream",
          "text": [
            "--2021-03-20 01:44:41--  https://raw.githubusercontent.com/ywchiu/tibamedl/master/Data/speech_tsai.txt\n",
            "Resolving raw.githubusercontent.com (raw.githubusercontent.com)... 185.199.108.133, 185.199.109.133, 185.199.110.133, ...\n",
            "Connecting to raw.githubusercontent.com (raw.githubusercontent.com)|185.199.108.133|:443... connected.\n",
            "HTTP request sent, awaiting response... 200 OK\n",
            "Length: 6579 (6.4K) [text/plain]\n",
            "Saving to: ‘speech_tsai.txt’\n",
            "\n",
            "speech_tsai.txt     100%[===================>]   6.42K  --.-KB/s    in 0s      \n",
            "\n",
            "2021-03-20 01:44:41 (74.0 MB/s) - ‘speech_tsai.txt’ saved [6579/6579]\n",
            "\n"
          ],
          "name": "stdout"
        }
      ]
    },
    {
      "cell_type": "code",
      "metadata": {
        "id": "-pOfGzCnTk7t"
      },
      "source": [
        "with open('speech_tsai.txt', 'r') as f:\n",
        "  speech = f.read()"
      ],
      "execution_count": 3,
      "outputs": []
    },
    {
      "cell_type": "code",
      "metadata": {
        "id": "rBdwQTLNT4KJ"
      },
      "source": [
        "import jieba\n",
        "words = jieba.lcut(speech)"
      ],
      "execution_count": 6,
      "outputs": []
    },
    {
      "cell_type": "markdown",
      "metadata": {
        "id": "k3o-s3lAU3f9"
      },
      "source": [
        "### Method 1"
      ]
    },
    {
      "cell_type": "code",
      "metadata": {
        "id": "2up5Y0gqT5cG"
      },
      "source": [
        "dic = {}\n",
        "for word in words:\n",
        "  if word not in dic:\n",
        "    dic[word] = 1\n",
        "  else:\n",
        "    dic[word] = dic[word] + 1"
      ],
      "execution_count": 7,
      "outputs": []
    },
    {
      "cell_type": "markdown",
      "metadata": {
        "id": "tFAdk2XLVLOx"
      },
      "source": [
        "### Method 2"
      ]
    },
    {
      "cell_type": "code",
      "metadata": {
        "id": "SatBOkxNVGuH"
      },
      "source": [
        "dic = {}\n",
        "for word in words:\n",
        "  if len(word) >=2:\n",
        "    dic[word] = dic.get(word,0) + 1"
      ],
      "execution_count": 17,
      "outputs": []
    },
    {
      "cell_type": "markdown",
      "metadata": {
        "id": "f_hKDnotVoTq"
      },
      "source": [
        "### Method 3\n",
        "- https://docs.python.org/3/library/collections.html"
      ]
    },
    {
      "cell_type": "code",
      "metadata": {
        "colab": {
          "base_uri": "https://localhost:8080/"
        },
        "id": "pWZQG4SLVjEx",
        "outputId": "5fc94806-e576-45f7-92bc-ff7c502d0b7c"
      },
      "source": [
        "from collections import Counter\n",
        "li = [1,1,2,2,1,3,4,2,1,1,5]\n",
        "c = Counter(li)\n",
        "c"
      ],
      "execution_count": 9,
      "outputs": [
        {
          "output_type": "execute_result",
          "data": {
            "text/plain": [
              "Counter({1: 5, 2: 3, 3: 1, 4: 1, 5: 1})"
            ]
          },
          "metadata": {
            "tags": []
          },
          "execution_count": 9
        }
      ]
    },
    {
      "cell_type": "code",
      "metadata": {
        "id": "RG1AAfR7WMno"
      },
      "source": [
        "from collections import Counter\n",
        "\n",
        "ary = []\n",
        "for word in words:\n",
        "  if len(word) >=2:\n",
        "    ary.append(word)\n",
        "\n",
        "c = Counter(ary)\n",
        "#c"
      ],
      "execution_count": 21,
      "outputs": []
    },
    {
      "cell_type": "code",
      "metadata": {
        "id": "DP9gX9kOYIdF"
      },
      "source": [
        "# Pythonic\n",
        "c = Counter([word for word in words if len(word) >=2])"
      ],
      "execution_count": 23,
      "outputs": []
    },
    {
      "cell_type": "code",
      "metadata": {
        "colab": {
          "base_uri": "https://localhost:8080/"
        },
        "id": "UcYwkvNSWW2o",
        "outputId": "3fb392d4-92ea-463a-cd54-91e4f2c41a16"
      },
      "source": [
        "dic.items()"
      ],
      "execution_count": 12,
      "outputs": [
        {
          "output_type": "execute_result",
          "data": {
            "text/plain": [
              "dict_items([('大會', 1), ('主席', 1), ('蘇嘉', 1), ('全院', 1), ('長', 1), ('、', 27), ('現場', 1), ('各位', 2), ('貴賓', 1), ('電視機', 1), ('前和網', 1), ('路上', 1), ('的', 84), ('全體', 1), ('國人', 3), ('同胞', 2), ('，', 140), ('大家', 4), ('早安', 1), ('好', 2), ('。', 67), ('\\n', 65), ('今天', 1), ('是', 10), ('中華民國', 7), ('一百零八', 1), ('年', 1), ('國慶日', 3), ('謝謝', 2), ('來', 2), ('自', 2), ('世界各地', 1), ('朋友', 1), ('跟', 2), ('我們', 43), ('共度', 1), ('這個', 1), ('值得', 1), ('紀念', 1), ('日子', 1), ('去年', 1), ('也', 14), ('在', 11), ('我', 2), ('和', 5), ('說', 1), ('台灣', 19), ('正處', 2), ('變局', 1), ('當中', 1), ('世界', 5), ('貿易', 1), ('局勢', 1), ('變動', 2), ('國際', 5), ('政治', 1), ('情勢', 1), ('變化', 2), ('都', 4), ('讓', 11), ('未來', 6), ('充滿', 4), ('挑戰', 12), ('必須', 5), ('「', 8), ('求穩', 1), ('應變', 1), ('進步', 3), ('」', 8), ('厚植', 1), ('實力', 3), ('壯大台灣', 3), ('轉眼', 1), ('又過', 1), ('了', 8), ('一年', 1), ('依然', 2), ('快速', 1), ('甚至', 1), ('更加', 1), ('劇烈', 1), ('美中', 1), ('貿易戰', 1), ('持續', 5), ('進行', 1), ('；', 2), ('距離', 1), ('不遠', 1), ('香港', 1), ('因為', 5), ('一國', 4), ('兩制', 4), ('失敗', 1), ('於', 2), ('失序', 1), ('邊緣', 1), ('儘', 2), ('管', 2), ('如此', 1), ('中國', 3), ('以', 1), ('方案', 1), ('不斷', 1), ('威脅', 1), ('並採取', 1), ('各種', 1), ('文攻武', 2), ('嚇', 2), ('強烈', 1), ('區域', 2), ('穩定', 3), ('及', 1), ('和平', 3), ('當', 1), ('自由民主', 6), ('受到', 2), ('當中華民國', 1), ('生存', 3), ('發展', 1), ('脅迫', 1), ('就', 4), ('站', 4), ('出來', 2), ('捍衛', 1), ('拒絕', 1), ('兩千', 1), ('三百', 1), ('萬台灣', 1), ('人民', 9), ('不分', 1), ('黨', 2), ('派', 2), ('不', 2), ('分立', 1), ('場', 1), ('彼此', 3), ('間', 1), ('最大', 3), ('共識', 2), ('已經', 2), ('屹立', 1), ('超過', 1), ('七十年', 2), ('一旦', 1), ('接受', 2), ('沒', 2), ('有', 6), ('空間', 1), ('身為', 1), ('總統', 1), ('守護國', 1), ('家主', 2), ('權', 2), ('不是', 5), ('挑釁', 2), ('而是', 1), ('最', 2), ('基本', 1), ('責任', 1), ('共同', 4), ('經歷過', 3), ('種種', 1), ('嚴峻', 1), ('每', 2), ('一次', 7), ('不但', 1), ('沒有擊', 1), ('倒', 1), ('反而', 1), ('更', 4), ('強壯', 1), ('堅定', 2), ('一起', 3), ('走過', 4), ('八二三', 1), ('砲', 1), ('戰', 1), ('度過', 1), ('九六年', 1), ('台海', 2), ('危機', 3), ('又', 5), ('從來', 1), ('屈服', 1), ('捍衛住', 2), ('腳下', 1), ('這塊', 4), ('土地', 5), ('國家', 4), ('主權', 1), ('退出', 1), ('聯合國', 1), ('恐慌', 1), ('承受', 1), ('過', 1), ('斷', 1), ('交壓力', 1), ('但', 5), ('想要', 1), ('走向世界', 2), ('決心', 1), ('不曾', 1), ('任何', 1), ('改變', 2), ('一九七零年', 1), ('代', 1), ('石油', 1), ('一九九七年', 1), ('亞洲', 3), ('金融', 2), ('風暴', 2), ('千禧年', 1), ('網路', 1), ('泡沫', 1), ('還有', 3), ('十年', 1), ('前', 1), ('海嘯', 1), ('經濟', 8), ('總是', 1), ('一卡', 1), ('皮箱', 1), ('走遍', 1), ('天下', 1), ('台商', 1), ('加上', 1), ('勤奮', 1), ('創意', 2), ('把', 1), ('化做', 1), ('轉機', 1), ('往前走', 1), ('八七', 1), ('水災', 1), ('九二', 1), ('一', 1), ('地震', 1), ('SARS', 1), ('八八', 1), ('風災', 1), ('天災', 2), ('病變', 1), ('磨', 2), ('難', 2), ('沒有', 2), ('擊敗過', 1), ('奮鬥', 1), ('意志', 1), ('家園', 1), ('毀壞', 1), ('重建', 1), ('受傷', 1), ('復', 1), ('原', 1), ('擦乾', 1), ('眼淚', 1), ('重新', 1), ('起', 1), ('明天', 1), ('希望', 1), ('一天', 4), ('這些', 2), ('記憶', 1), ('彰顯', 1), ('韌性', 4), ('這樣', 2), ('成為', 4), ('四小龍', 2), ('一員', 1), ('民主化', 2), ('艱鉅', 1), ('歷程', 1), ('上', 8), ('重要', 2), ('民主', 4), ('典範', 1), ('這', 3), ('一段路', 1), ('無論', 1), ('哪個', 1), ('只要', 1), ('生活', 1), ('不能', 1), ('分割', 1), ('誰', 2), ('專利', 1), ('能夠', 2), ('獨佔', 1), ('六個', 1), ('字', 1), ('既', 1), ('藍色', 1), ('綠色', 1), ('就是', 1), ('整個', 1), ('社會', 2), ('展望', 1), ('前方', 1), ('很多', 1), ('等', 1), ('著', 1), ('一一', 1), ('克服', 3), ('看見', 2), ('崛起', 1), ('擴張', 1), ('以威權', 1), ('體制', 1), ('結合', 1), ('民族', 1), ('主義和經濟', 1), ('力量', 3), ('價值', 3), ('世界秩序', 1), ('因此', 1), ('處', 1), ('印太地區', 1), ('戰略', 1), ('前緣', 1), ('守護', 1), ('第一道', 1), ('防線', 1), ('利用', 1), ('銳實力', 1), ('步步', 1), ('進逼', 1), ('很', 3), ('清楚', 2), ('作為', 1), ('成員', 1), ('要', 4), ('善', 1), ('盡國際責任', 1), ('不冒進', 1), ('結', 1), ('合理', 1), ('念', 1), ('相近', 2), ('確保', 1), ('現狀', 1), ('不會', 1), ('被', 2), ('片面', 1), ('做到', 1), ('團結', 4), ('台', 1), ('灣', 1), ('社', 1), ('會', 5), ('曾', 1), ('經', 1), ('因', 1), ('為', 3), ('族群', 1), ('世代', 1), ('信仰', 1), ('黨派', 1), ('差異', 1), ('而', 2), ('出現', 1), ('爭執', 1), ('透過', 1), ('對', 4), ('話', 1), ('一定', 1), ('可以', 5), ('找到', 1), ('公約數', 1), ('經驗', 1), ('證明', 1), ('衝突', 1), ('對話', 1), ('引導', 1), ('國家往', 1), ('正確', 1), ('方向', 3), ('前進', 1), ('堅守', 2), ('曾經', 1), ('艱辛', 1), ('道路', 1), ('偶有', 1), ('紛擾', 1), ('只有', 1), ('制度', 1), ('保障', 1), ('得來', 1), ('不易', 1), ('自由', 1), ('才能', 1), ('下一代', 1), ('保有', 1), ('決定', 1), ('權利', 1), ('三年', 4), ('多來', 4), ('努力', 5), ('調整', 1), ('結構', 1), ('引導產業', 1), ('升級', 2), ('轉型', 1), ('推動', 3), ('多元', 1), ('布局', 1), ('迎來', 1), ('投資大', 1), ('爆發', 1), ('全球', 1), ('中', 1), ('穩', 1), ('腳步', 1), ('就要', 1), ('繼續', 3), ('走', 2), ('維護', 1), ('公平', 1), ('加薪', 1), ('減稅', 1), ('全面', 1), ('照顧', 2), ('全民', 1), ('分享', 1), ('成長', 3), ('果實', 1), ('推動長', 1), ('照', 1), ('2.0', 1), ('幼托', 1), ('補助', 1), ('擴大', 1), ('減輕民眾', 1), ('負擔', 1), ('使', 1), ('人人', 1), ('享有', 1), ('優質', 1), ('政府', 1), ('國防', 1), ('自主', 1), ('採購', 1), ('先進', 1), ('武器', 1), ('提升', 1), ('國軍士氣', 1), ('強化', 2), ('充足', 1), ('戰力', 1), ('國造', 2), ('高教', 1), ('機', 1), ('原型', 1), ('機剛', 1), ('剛出', 1), ('廠', 1), ('艦艇', 1), ('將陸續', 1), ('加入', 1), ('建', 1), ('軍', 1), ('行列', 1), ('捍衛國土', 1), ('國軍責', 1), ('無', 1), ('旁貸', 1), ('積極', 2), ('參與', 1), ('負責任', 1), ('肯', 1), ('貢獻', 1), ('維護區域', 1), ('不可或缺', 1), ('良善', 1), ('理念', 1), ('攜手', 1), ('爭取', 1), ('多', 1), ('實質', 1), ('合作', 1), ('機會', 1), ('路線', 1), ('目標', 1), ('明確', 1), ('第一', 1), ('旗幟', 2), ('下', 2), ('捍衛國', 1), ('第二', 1), ('民富', 1), ('而國強', 1), ('第三', 1), ('舞台', 2), ('抬頭', 1), ('挺胸', 1), ('勇敢', 1), ('自信', 1), ('一季', 1), ('率', 1), ('重返', 1), ('之首', 1), ('論壇', 1), ('評比', 1), ('四大', 1), ('超級', 1), ('創新國', 1), ('之一', 1), ('高科技', 1), ('創新產業', 1), ('前端', 1), ('體育', 1), ('選手', 1), ('技能', 1), ('國手', 1), ('無數', 1), ('設計師', 1), ('藝術家', 1), ('發光', 1), ('發熱', 1), ('帶給', 1), ('榮耀', 1), ('驕傲', 1), ('製', 1), ('福', 1), ('衛', 1), ('五', 1), ('號', 1), ('以及', 1), ('福衛七號', 1), ('接連', 1), ('升空', 1), ('展現', 1), ('太空', 2), ('科技', 1), ('連人類', 1), ('歷史', 2), ('第一次', 1), ('觀測', 1), ('到', 1), ('黑洞', 2), ('影像', 1), ('科學', 1), ('團隊', 1), ('參', 1), ('與', 1), ('當我們', 1), ('五千', 1), ('五百', 1), ('萬', 1), ('光年', 1), ('外', 1), ('那麼', 1), ('眼前', 1), ('什麼', 1), ('勇氣面', 1), ('？', 1), ('轉化', 1), ('而成', 1), ('再生', 1), ('契機', 1), ('一個', 1), ('人', 1), ('變得', 1), ('更好', 1), ('所有', 1), ('樂觀面', 1), ('天佑', 1), ('加油', 2)])"
            ]
          },
          "metadata": {
            "tags": []
          },
          "execution_count": 12
        }
      ]
    },
    {
      "cell_type": "code",
      "metadata": {
        "colab": {
          "base_uri": "https://localhost:8080/"
        },
        "id": "8UL-ouCxXCDJ",
        "outputId": "d4c3e606-1c86-4537-e5c3-4c7ac9cc4215"
      },
      "source": [
        "def getSecond(e):\n",
        "  return e[1]\n",
        "getSecond(('大會', 1))"
      ],
      "execution_count": 13,
      "outputs": [
        {
          "output_type": "execute_result",
          "data": {
            "text/plain": [
              "1"
            ]
          },
          "metadata": {
            "tags": []
          },
          "execution_count": 13
        }
      ]
    },
    {
      "cell_type": "code",
      "metadata": {
        "id": "SjYZwHlKWpUC"
      },
      "source": [
        "swd = sorted(dic.items(), key = lambda e: e[1], reverse=True)"
      ],
      "execution_count": 18,
      "outputs": []
    },
    {
      "cell_type": "code",
      "metadata": {
        "colab": {
          "base_uri": "https://localhost:8080/"
        },
        "id": "lC_ECVvRXP87",
        "outputId": "9899f2b3-00bf-4ec6-9d28-52a09efb5553"
      },
      "source": [
        "for rec in swd[0:10]:\n",
        "  print(rec)"
      ],
      "execution_count": 19,
      "outputs": [
        {
          "output_type": "stream",
          "text": [
            "('我們', 43)\n",
            "('台灣', 19)\n",
            "('挑戰', 12)\n",
            "('人民', 9)\n",
            "('經濟', 8)\n",
            "('中華民國', 7)\n",
            "('一次', 7)\n",
            "('未來', 6)\n",
            "('自由民主', 6)\n",
            "('世界', 5)\n"
          ],
          "name": "stdout"
        }
      ]
    },
    {
      "cell_type": "code",
      "metadata": {
        "colab": {
          "base_uri": "https://localhost:8080/"
        },
        "id": "ROsXBTGeXXWZ",
        "outputId": "2288601c-fe5f-4722-a7d8-d0e8dfe3f0fb"
      },
      "source": [
        "c.most_common(10)"
      ],
      "execution_count": 24,
      "outputs": [
        {
          "output_type": "execute_result",
          "data": {
            "text/plain": [
              "[('我們', 43),\n",
              " ('台灣', 19),\n",
              " ('挑戰', 12),\n",
              " ('人民', 9),\n",
              " ('經濟', 8),\n",
              " ('中華民國', 7),\n",
              " ('一次', 7),\n",
              " ('未來', 6),\n",
              " ('自由民主', 6),\n",
              " ('世界', 5)]"
            ]
          },
          "metadata": {
            "tags": []
          },
          "execution_count": 24
        }
      ]
    },
    {
      "cell_type": "code",
      "metadata": {
        "colab": {
          "base_uri": "https://localhost:8080/"
        },
        "id": "-h8S2_J4XujX",
        "outputId": "04f9e756-0338-40be-d86b-be3d55d7f415"
      },
      "source": [
        "from collections import Counter\n",
        "Counter(jieba.lcut(open('speech_tsai.txt').read())).most_common(10)\n"
      ],
      "execution_count": 25,
      "outputs": [
        {
          "output_type": "execute_result",
          "data": {
            "text/plain": [
              "[('，', 140),\n",
              " ('的', 84),\n",
              " ('。', 67),\n",
              " ('\\n', 65),\n",
              " ('我們', 43),\n",
              " ('、', 27),\n",
              " ('台灣', 19),\n",
              " ('也', 14),\n",
              " ('挑戰', 12),\n",
              " ('在', 11)]"
            ]
          },
          "metadata": {
            "tags": []
          },
          "execution_count": 25
        }
      ]
    },
    {
      "cell_type": "markdown",
      "metadata": {
        "id": "8I3oUAIrpusm"
      },
      "source": [
        "## Decision Tree"
      ]
    },
    {
      "cell_type": "code",
      "metadata": {
        "id": "VpB1ih4iY0vX"
      },
      "source": [
        "from sklearn.datasets import load_iris\n",
        "iris = load_iris()"
      ],
      "execution_count": 26,
      "outputs": []
    },
    {
      "cell_type": "code",
      "metadata": {
        "colab": {
          "base_uri": "https://localhost:8080/"
        },
        "id": "bGJoxxoGp2Cm",
        "outputId": "00e2a52b-18fe-4cf7-a99d-a9046d19cee8"
      },
      "source": [
        "print(iris.DESCR)"
      ],
      "execution_count": 27,
      "outputs": [
        {
          "output_type": "stream",
          "text": [
            ".. _iris_dataset:\n",
            "\n",
            "Iris plants dataset\n",
            "--------------------\n",
            "\n",
            "**Data Set Characteristics:**\n",
            "\n",
            "    :Number of Instances: 150 (50 in each of three classes)\n",
            "    :Number of Attributes: 4 numeric, predictive attributes and the class\n",
            "    :Attribute Information:\n",
            "        - sepal length in cm\n",
            "        - sepal width in cm\n",
            "        - petal length in cm\n",
            "        - petal width in cm\n",
            "        - class:\n",
            "                - Iris-Setosa\n",
            "                - Iris-Versicolour\n",
            "                - Iris-Virginica\n",
            "                \n",
            "    :Summary Statistics:\n",
            "\n",
            "    ============== ==== ==== ======= ===== ====================\n",
            "                    Min  Max   Mean    SD   Class Correlation\n",
            "    ============== ==== ==== ======= ===== ====================\n",
            "    sepal length:   4.3  7.9   5.84   0.83    0.7826\n",
            "    sepal width:    2.0  4.4   3.05   0.43   -0.4194\n",
            "    petal length:   1.0  6.9   3.76   1.76    0.9490  (high!)\n",
            "    petal width:    0.1  2.5   1.20   0.76    0.9565  (high!)\n",
            "    ============== ==== ==== ======= ===== ====================\n",
            "\n",
            "    :Missing Attribute Values: None\n",
            "    :Class Distribution: 33.3% for each of 3 classes.\n",
            "    :Creator: R.A. Fisher\n",
            "    :Donor: Michael Marshall (MARSHALL%PLU@io.arc.nasa.gov)\n",
            "    :Date: July, 1988\n",
            "\n",
            "The famous Iris database, first used by Sir R.A. Fisher. The dataset is taken\n",
            "from Fisher's paper. Note that it's the same as in R, but not as in the UCI\n",
            "Machine Learning Repository, which has two wrong data points.\n",
            "\n",
            "This is perhaps the best known database to be found in the\n",
            "pattern recognition literature.  Fisher's paper is a classic in the field and\n",
            "is referenced frequently to this day.  (See Duda & Hart, for example.)  The\n",
            "data set contains 3 classes of 50 instances each, where each class refers to a\n",
            "type of iris plant.  One class is linearly separable from the other 2; the\n",
            "latter are NOT linearly separable from each other.\n",
            "\n",
            ".. topic:: References\n",
            "\n",
            "   - Fisher, R.A. \"The use of multiple measurements in taxonomic problems\"\n",
            "     Annual Eugenics, 7, Part II, 179-188 (1936); also in \"Contributions to\n",
            "     Mathematical Statistics\" (John Wiley, NY, 1950).\n",
            "   - Duda, R.O., & Hart, P.E. (1973) Pattern Classification and Scene Analysis.\n",
            "     (Q327.D83) John Wiley & Sons.  ISBN 0-471-22361-1.  See page 218.\n",
            "   - Dasarathy, B.V. (1980) \"Nosing Around the Neighborhood: A New System\n",
            "     Structure and Classification Rule for Recognition in Partially Exposed\n",
            "     Environments\".  IEEE Transactions on Pattern Analysis and Machine\n",
            "     Intelligence, Vol. PAMI-2, No. 1, 67-71.\n",
            "   - Gates, G.W. (1972) \"The Reduced Nearest Neighbor Rule\".  IEEE Transactions\n",
            "     on Information Theory, May 1972, 431-433.\n",
            "   - See also: 1988 MLC Proceedings, 54-64.  Cheeseman et al\"s AUTOCLASS II\n",
            "     conceptual clustering system finds 3 classes in the data.\n",
            "   - Many, many more ...\n"
          ],
          "name": "stdout"
        }
      ]
    },
    {
      "cell_type": "code",
      "metadata": {
        "colab": {
          "base_uri": "https://localhost:8080/"
        },
        "id": "llT3nLBAp5CF",
        "outputId": "ff7eecce-6d06-46ad-dabe-408a1351bae5"
      },
      "source": [
        "# X\n",
        "iris.data[0:3 , :]"
      ],
      "execution_count": 30,
      "outputs": [
        {
          "output_type": "execute_result",
          "data": {
            "text/plain": [
              "array([[5.1, 3.5, 1.4, 0.2],\n",
              "       [4.9, 3. , 1.4, 0.2],\n",
              "       [4.7, 3.2, 1.3, 0.2]])"
            ]
          },
          "metadata": {
            "tags": []
          },
          "execution_count": 30
        }
      ]
    },
    {
      "cell_type": "code",
      "metadata": {
        "colab": {
          "base_uri": "https://localhost:8080/"
        },
        "id": "ss9lhQ09qClU",
        "outputId": "a68f25a9-245e-4ceb-9022-051634323086"
      },
      "source": [
        "# y\n",
        "iris.target"
      ],
      "execution_count": 31,
      "outputs": [
        {
          "output_type": "execute_result",
          "data": {
            "text/plain": [
              "array([0, 0, 0, 0, 0, 0, 0, 0, 0, 0, 0, 0, 0, 0, 0, 0, 0, 0, 0, 0, 0, 0,\n",
              "       0, 0, 0, 0, 0, 0, 0, 0, 0, 0, 0, 0, 0, 0, 0, 0, 0, 0, 0, 0, 0, 0,\n",
              "       0, 0, 0, 0, 0, 0, 1, 1, 1, 1, 1, 1, 1, 1, 1, 1, 1, 1, 1, 1, 1, 1,\n",
              "       1, 1, 1, 1, 1, 1, 1, 1, 1, 1, 1, 1, 1, 1, 1, 1, 1, 1, 1, 1, 1, 1,\n",
              "       1, 1, 1, 1, 1, 1, 1, 1, 1, 1, 1, 1, 2, 2, 2, 2, 2, 2, 2, 2, 2, 2,\n",
              "       2, 2, 2, 2, 2, 2, 2, 2, 2, 2, 2, 2, 2, 2, 2, 2, 2, 2, 2, 2, 2, 2,\n",
              "       2, 2, 2, 2, 2, 2, 2, 2, 2, 2, 2, 2, 2, 2, 2, 2, 2, 2])"
            ]
          },
          "metadata": {
            "tags": []
          },
          "execution_count": 31
        }
      ]
    },
    {
      "cell_type": "code",
      "metadata": {
        "colab": {
          "base_uri": "https://localhost:8080/"
        },
        "id": "k38WUhQfqbtD",
        "outputId": "175ff7e0-9df4-499c-f24c-8f561c94f100"
      },
      "source": [
        "iris.target_names"
      ],
      "execution_count": 33,
      "outputs": [
        {
          "output_type": "execute_result",
          "data": {
            "text/plain": [
              "array(['setosa', 'versicolor', 'virginica'], dtype='<U10')"
            ]
          },
          "metadata": {
            "tags": []
          },
          "execution_count": 33
        }
      ]
    },
    {
      "cell_type": "code",
      "metadata": {
        "colab": {
          "base_uri": "https://localhost:8080/"
        },
        "id": "tgopIXeoqgET",
        "outputId": "ba771469-0a1d-4f2a-e7c6-de8d9ace2e40"
      },
      "source": [
        "from sklearn.tree import DecisionTreeClassifier\n",
        "clf = DecisionTreeClassifier()\n",
        "clf.fit(iris.data,iris.target)"
      ],
      "execution_count": 35,
      "outputs": [
        {
          "output_type": "execute_result",
          "data": {
            "text/plain": [
              "DecisionTreeClassifier(ccp_alpha=0.0, class_weight=None, criterion='gini',\n",
              "                       max_depth=None, max_features=None, max_leaf_nodes=None,\n",
              "                       min_impurity_decrease=0.0, min_impurity_split=None,\n",
              "                       min_samples_leaf=1, min_samples_split=2,\n",
              "                       min_weight_fraction_leaf=0.0, presort='deprecated',\n",
              "                       random_state=None, splitter='best')"
            ]
          },
          "metadata": {
            "tags": []
          },
          "execution_count": 35
        }
      ]
    },
    {
      "cell_type": "code",
      "metadata": {
        "id": "kPpnrNaoqs-0"
      },
      "source": [
        "pred_y = clf.predict(iris.data)"
      ],
      "execution_count": 38,
      "outputs": []
    },
    {
      "cell_type": "code",
      "metadata": {
        "colab": {
          "base_uri": "https://localhost:8080/"
        },
        "id": "S3NdX3IYuody",
        "outputId": "37136ece-20b1-460b-e163-63961469c5ec"
      },
      "source": [
        "(iris.target == pred_y).sum()"
      ],
      "execution_count": 40,
      "outputs": [
        {
          "output_type": "execute_result",
          "data": {
            "text/plain": [
              "150"
            ]
          },
          "metadata": {
            "tags": []
          },
          "execution_count": 40
        }
      ]
    },
    {
      "cell_type": "code",
      "metadata": {
        "colab": {
          "base_uri": "https://localhost:8080/"
        },
        "id": "fjUbQH46ur7v",
        "outputId": "f9ad5a93-c78e-49be-b69f-656e81d6007a"
      },
      "source": [
        "len(pred_y)"
      ],
      "execution_count": 41,
      "outputs": [
        {
          "output_type": "execute_result",
          "data": {
            "text/plain": [
              "150"
            ]
          },
          "metadata": {
            "tags": []
          },
          "execution_count": 41
        }
      ]
    },
    {
      "cell_type": "code",
      "metadata": {
        "colab": {
          "base_uri": "https://localhost:8080/"
        },
        "id": "zTFrSMiTu7uT",
        "outputId": "6ff1bec5-7e3b-4a50-b58e-c2cf89fd4d6b"
      },
      "source": [
        "(iris.target == pred_y).sum() / len(pred_y)"
      ],
      "execution_count": 42,
      "outputs": [
        {
          "output_type": "execute_result",
          "data": {
            "text/plain": [
              "1.0"
            ]
          },
          "metadata": {
            "tags": []
          },
          "execution_count": 42
        }
      ]
    },
    {
      "cell_type": "code",
      "metadata": {
        "id": "H-Wl4i7-u9qf"
      },
      "source": [
        "from sklearn import tree\n",
        "tree.export_graphviz(clf, 'tree.txt')"
      ],
      "execution_count": 45,
      "outputs": []
    },
    {
      "cell_type": "markdown",
      "metadata": {
        "id": "skhtadLBvWo5"
      },
      "source": [
        "- https://dreampuf.github.io/GraphvizOnline"
      ]
    },
    {
      "cell_type": "code",
      "metadata": {
        "colab": {
          "base_uri": "https://localhost:8080/",
          "height": 282
        },
        "id": "MSk_1W7AvHDP",
        "outputId": "d395cbce-57f8-41df-df78-5d532bbb8dd1"
      },
      "source": [
        "from matplotlib import pyplot as plt \n",
        "plt.scatter(iris.data[:,2],iris.data[:,3], c=iris.target)"
      ],
      "execution_count": 46,
      "outputs": [
        {
          "output_type": "execute_result",
          "data": {
            "text/plain": [
              "<matplotlib.collections.PathCollection at 0x7f80625b0f50>"
            ]
          },
          "metadata": {
            "tags": []
          },
          "execution_count": 46
        },
        {
          "output_type": "display_data",
          "data": {
            "image/png": "[encoded data removed]",
            "text/plain": [
              "<Figure size 432x288 with 1 Axes>"
            ]
          },
          "metadata": {
            "tags": [],
            "needs_background": "light"
          }
        }
      ]
    },
    {
      "cell_type": "code",
      "metadata": {
        "colab": {
          "base_uri": "https://localhost:8080/"
        },
        "id": "ki5MyA3GwJcA",
        "outputId": "5752df3d-14d1-44d7-895c-2f50cb599f07"
      },
      "source": [
        "from sklearn.tree import DecisionTreeClassifier\n",
        "clf = DecisionTreeClassifier(max_depth = 2)\n",
        "clf.fit(iris.data,iris.target)"
      ],
      "execution_count": 47,
      "outputs": [
        {
          "output_type": "execute_result",
          "data": {
            "text/plain": [
              "DecisionTreeClassifier(ccp_alpha=0.0, class_weight=None, criterion='gini',\n",
              "                       max_depth=2, max_features=None, max_leaf_nodes=None,\n",
              "                       min_impurity_decrease=0.0, min_impurity_split=None,\n",
              "                       min_samples_leaf=1, min_samples_split=2,\n",
              "                       min_weight_fraction_leaf=0.0, presort='deprecated',\n",
              "                       random_state=None, splitter='best')"
            ]
          },
          "metadata": {
            "tags": []
          },
          "execution_count": 47
        }
      ]
    },
    {
      "cell_type": "code",
      "metadata": {
        "id": "c7E8WghjxURt"
      },
      "source": [
        "pred_y = clf.predict(iris.data)"
      ],
      "execution_count": 48,
      "outputs": []
    },
    {
      "cell_type": "code",
      "metadata": {
        "colab": {
          "base_uri": "https://localhost:8080/"
        },
        "id": "6hvVCb7nxXgd",
        "outputId": "4529755e-7041-472c-d456-fb093c719516"
      },
      "source": [
        "(iris.target == pred_y).sum()"
      ],
      "execution_count": 49,
      "outputs": [
        {
          "output_type": "execute_result",
          "data": {
            "text/plain": [
              "144"
            ]
          },
          "metadata": {
            "tags": []
          },
          "execution_count": 49
        }
      ]
    },
    {
      "cell_type": "code",
      "metadata": {
        "colab": {
          "base_uri": "https://localhost:8080/"
        },
        "id": "cbhDLSvIxZqd",
        "outputId": "ea6d7f84-9026-41d1-890f-a89c36b1f3de"
      },
      "source": [
        "(iris.target == pred_y).sum() / len(pred_y)"
      ],
      "execution_count": 50,
      "outputs": [
        {
          "output_type": "execute_result",
          "data": {
            "text/plain": [
              "0.96"
            ]
          },
          "metadata": {
            "tags": []
          },
          "execution_count": 50
        }
      ]
    },
    {
      "cell_type": "code",
      "metadata": {
        "id": "_iu-j8Vfxd5e"
      },
      "source": [
        "from sklearn import tree\n",
        "tree.export_graphviz(clf, 'tree2.txt')"
      ],
      "execution_count": 51,
      "outputs": []
    },
    {
      "cell_type": "code",
      "metadata": {
        "id": "V0dF-94txlKu"
      },
      "source": [
        "X = iris.data[:,[2,3]]"
      ],
      "execution_count": 52,
      "outputs": []
    },
    {
      "cell_type": "code",
      "metadata": {
        "colab": {
          "base_uri": "https://localhost:8080/"
        },
        "id": "qRNoZIkrybVd",
        "outputId": "324e9899-cb0e-4411-fd4b-6a54d8b6f7e6"
      },
      "source": [
        "X.shape"
      ],
      "execution_count": 53,
      "outputs": [
        {
          "output_type": "execute_result",
          "data": {
            "text/plain": [
              "(150, 2)"
            ]
          },
          "metadata": {
            "tags": []
          },
          "execution_count": 53
        }
      ]
    },
    {
      "cell_type": "code",
      "metadata": {
        "id": "RdIoXU7Myb-M"
      },
      "source": [
        "y = iris.target"
      ],
      "execution_count": 54,
      "outputs": []
    },
    {
      "cell_type": "code",
      "metadata": {
        "colab": {
          "base_uri": "https://localhost:8080/"
        },
        "id": "X6TlHIm4yi-8",
        "outputId": "13673e3c-c13b-4e81-b95d-e7ed12a8fb5b"
      },
      "source": [
        "y.shape"
      ],
      "execution_count": 55,
      "outputs": [
        {
          "output_type": "execute_result",
          "data": {
            "text/plain": [
              "(150,)"
            ]
          },
          "metadata": {
            "tags": []
          },
          "execution_count": 55
        }
      ]
    },
    {
      "cell_type": "code",
      "metadata": {
        "colab": {
          "base_uri": "https://localhost:8080/"
        },
        "id": "mhINwzDIyjv8",
        "outputId": "ced7135b-2204-44d4-d62b-dc8c8c4ab41a"
      },
      "source": [
        "from sklearn.tree import DecisionTreeClassifier\n",
        "clf = DecisionTreeClassifier(max_depth = 2)\n",
        "clf.fit(X,y)"
      ],
      "execution_count": 61,
      "outputs": [
        {
          "output_type": "execute_result",
          "data": {
            "text/plain": [
              "DecisionTreeClassifier(ccp_alpha=0.0, class_weight=None, criterion='gini',\n",
              "                       max_depth=2, max_features=None, max_leaf_nodes=None,\n",
              "                       min_impurity_decrease=0.0, min_impurity_split=None,\n",
              "                       min_samples_leaf=1, min_samples_split=2,\n",
              "                       min_weight_fraction_leaf=0.0, presort='deprecated',\n",
              "                       random_state=None, splitter='best')"
            ]
          },
          "metadata": {
            "tags": []
          },
          "execution_count": 61
        }
      ]
    },
    {
      "cell_type": "code",
      "metadata": {
        "colab": {
          "base_uri": "https://localhost:8080/"
        },
        "id": "1WY0ZmSJy7NM",
        "outputId": "da369eda-2f81-48fd-d7a6-1eb7c4b85666"
      },
      "source": [
        "import numpy as np\n",
        "data = np.array([[2,3]])\n",
        "clf.predict(data)"
      ],
      "execution_count": 62,
      "outputs": [
        {
          "output_type": "execute_result",
          "data": {
            "text/plain": [
              "array([0])"
            ]
          },
          "metadata": {
            "tags": []
          },
          "execution_count": 62
        }
      ]
    },
    {
      "cell_type": "code",
      "metadata": {
        "colab": {
          "base_uri": "https://localhost:8080/"
        },
        "id": "VJJfB-9jzERr",
        "outputId": "58fdf3ff-d3f7-4e37-b623-d0d0005238b1"
      },
      "source": [
        "data = np.array([[1.5,0.5]])\n",
        "clf.predict(data)"
      ],
      "execution_count": 63,
      "outputs": [
        {
          "output_type": "execute_result",
          "data": {
            "text/plain": [
              "array([0])"
            ]
          },
          "metadata": {
            "tags": []
          },
          "execution_count": 63
        }
      ]
    },
    {
      "cell_type": "code",
      "metadata": {
        "id": "Ff5YpqeuzeZ7"
      },
      "source": [
        "tree.export_graphviz(clf, 'tree3.txt')"
      ],
      "execution_count": 64,
      "outputs": []
    },
    {
      "cell_type": "code",
      "metadata": {
        "id": "LOb-GtLtzxO7"
      },
      "source": [
        "x_min, x_max = X[:, 0].min() - 1, X[:, 0].max() + 1\n",
        "y_min, y_max = X[:, 1].min() - 1, X[:, 1].max() + 1\n",
        "\n",
        "# 根據 x,y 最小最大值, 產生棋盤狀分割\n",
        "xx, yy = np.meshgrid(np.arange(x_min, x_max, 0.1),\n",
        "                     np.arange(y_min, y_max, 0.1))"
      ],
      "execution_count": 66,
      "outputs": []
    },
    {
      "cell_type": "code",
      "metadata": {
        "colab": {
          "base_uri": "https://localhost:8080/"
        },
        "id": "eQ53IkvR0vJf",
        "outputId": "a5abe65e-2372-4d0b-ace0-5bc6550762ea"
      },
      "source": [
        "xx"
      ],
      "execution_count": 67,
      "outputs": [
        {
          "output_type": "execute_result",
          "data": {
            "text/plain": [
              "array([[0. , 0.1, 0.2, ..., 7.6, 7.7, 7.8],\n",
              "       [0. , 0.1, 0.2, ..., 7.6, 7.7, 7.8],\n",
              "       [0. , 0.1, 0.2, ..., 7.6, 7.7, 7.8],\n",
              "       ...,\n",
              "       [0. , 0.1, 0.2, ..., 7.6, 7.7, 7.8],\n",
              "       [0. , 0.1, 0.2, ..., 7.6, 7.7, 7.8],\n",
              "       [0. , 0.1, 0.2, ..., 7.6, 7.7, 7.8]])"
            ]
          },
          "metadata": {
            "tags": []
          },
          "execution_count": 67
        }
      ]
    },
    {
      "cell_type": "code",
      "metadata": {
        "colab": {
          "base_uri": "https://localhost:8080/"
        },
        "id": "KZOeDQOp0zvJ",
        "outputId": "f54e9444-ccca-428e-dfbc-448efa6c0349"
      },
      "source": [
        "xx.shape"
      ],
      "execution_count": 68,
      "outputs": [
        {
          "output_type": "execute_result",
          "data": {
            "text/plain": [
              "(44, 79)"
            ]
          },
          "metadata": {
            "tags": []
          },
          "execution_count": 68
        }
      ]
    },
    {
      "cell_type": "code",
      "metadata": {
        "colab": {
          "base_uri": "https://localhost:8080/"
        },
        "id": "W8CFCqQ203GN",
        "outputId": "1a83a762-ff5c-474e-c4e5-be9381628591"
      },
      "source": [
        "yy"
      ],
      "execution_count": 69,
      "outputs": [
        {
          "output_type": "execute_result",
          "data": {
            "text/plain": [
              "array([[-0.9, -0.9, -0.9, ..., -0.9, -0.9, -0.9],\n",
              "       [-0.8, -0.8, -0.8, ..., -0.8, -0.8, -0.8],\n",
              "       [-0.7, -0.7, -0.7, ..., -0.7, -0.7, -0.7],\n",
              "       ...,\n",
              "       [ 3.2,  3.2,  3.2, ...,  3.2,  3.2,  3.2],\n",
              "       [ 3.3,  3.3,  3.3, ...,  3.3,  3.3,  3.3],\n",
              "       [ 3.4,  3.4,  3.4, ...,  3.4,  3.4,  3.4]])"
            ]
          },
          "metadata": {
            "tags": []
          },
          "execution_count": 69
        }
      ]
    },
    {
      "cell_type": "code",
      "metadata": {
        "colab": {
          "base_uri": "https://localhost:8080/"
        },
        "id": "DZ90aivY05vN",
        "outputId": "3c6e3349-ba26-4dc6-aa87-b2b6fb254c46"
      },
      "source": [
        "yy.shape"
      ],
      "execution_count": 70,
      "outputs": [
        {
          "output_type": "execute_result",
          "data": {
            "text/plain": [
              "(44, 79)"
            ]
          },
          "metadata": {
            "tags": []
          },
          "execution_count": 70
        }
      ]
    },
    {
      "cell_type": "code",
      "metadata": {
        "colab": {
          "base_uri": "https://localhost:8080/"
        },
        "id": "uYp4_AKg0gix",
        "outputId": "9e432d88-502c-44de-c25f-f4c9307bbd02"
      },
      "source": [
        "#plt.plot()\n",
        "\n",
        "Z = clf.predict(np.c_[xx.ravel(), yy.ravel()])\n",
        "Z\n"
      ],
      "execution_count": 72,
      "outputs": [
        {
          "output_type": "execute_result",
          "data": {
            "text/plain": [
              "array([0, 0, 0, ..., 2, 2, 2])"
            ]
          },
          "metadata": {
            "tags": []
          },
          "execution_count": 72
        }
      ]
    },
    {
      "cell_type": "code",
      "metadata": {
        "colab": {
          "base_uri": "https://localhost:8080/"
        },
        "id": "PHdIM7-j1H42",
        "outputId": "e6f9a635-bdcd-476d-9761-6f6cc3d621bc"
      },
      "source": [
        "Z = Z.reshape(xx.shape)\n",
        "Z"
      ],
      "execution_count": 73,
      "outputs": [
        {
          "output_type": "execute_result",
          "data": {
            "text/plain": [
              "array([[0, 0, 0, ..., 1, 1, 1],\n",
              "       [0, 0, 0, ..., 1, 1, 1],\n",
              "       [0, 0, 0, ..., 1, 1, 1],\n",
              "       ...,\n",
              "       [0, 0, 0, ..., 2, 2, 2],\n",
              "       [0, 0, 0, ..., 2, 2, 2],\n",
              "       [0, 0, 0, ..., 2, 2, 2]])"
            ]
          },
          "metadata": {
            "tags": []
          },
          "execution_count": 73
        }
      ]
    },
    {
      "cell_type": "code",
      "metadata": {
        "colab": {
          "base_uri": "https://localhost:8080/",
          "height": 282
        },
        "id": "KFqezeH11TQc",
        "outputId": "3dd0fd88-aa12-4c6f-b179-a065fb86e3aa"
      },
      "source": [
        "plt.scatter(X[:, 0], X[:, 1], c=y, alpha=1, cmap = plt.cm.RdYlBu)"
      ],
      "execution_count": 74,
      "outputs": [
        {
          "output_type": "execute_result",
          "data": {
            "text/plain": [
              "<matplotlib.collections.PathCollection at 0x7f8061ee9410>"
            ]
          },
          "metadata": {
            "tags": []
          },
          "execution_count": 74
        },
        {
          "output_type": "display_data",
          "data": {
            "image/png": "[encoded data removed]",
            "text/plain": [
              "<Figure size 432x288 with 1 Axes>"
            ]
          },
          "metadata": {
            "tags": [],
            "needs_background": "light"
          }
        }
      ]
    },
    {
      "cell_type": "code",
      "metadata": {
        "colab": {
          "base_uri": "https://localhost:8080/",
          "height": 295
        },
        "id": "FWbj132p0_Ba",
        "outputId": "ab8bba49-e570-4cf6-8ae2-54220af654fa"
      },
      "source": [
        "plt.plot()\n",
        "plt.contourf(xx, yy, Z, alpha=0.4, cmap = plt.cm.rainbow)\n",
        "plt.scatter(X[:, 0], X[:, 1], c=y, alpha=1, cmap = plt.cm.RdYlBu)\n",
        "plt.title('Decision Tree')\n",
        "plt.xlabel('Petal.Length')\n",
        "plt.ylabel('Petal.Width')\n",
        "plt.show()"
      ],
      "execution_count": 75,
      "outputs": [
        {
          "output_type": "display_data",
          "data": {
            "image/png": "[encoded data removed]",
            "text/plain": [
              "<Figure size 432x288 with 1 Axes>"
            ]
          },
          "metadata": {
            "tags": [],
            "needs_background": "light"
          }
        }
      ]
    },
    {
      "cell_type": "markdown",
      "metadata": {
        "id": "OTHliwtv34tX"
      },
      "source": [
        "## Logistic Regression"
      ]
    },
    {
      "cell_type": "code",
      "metadata": {
        "id": "bLY_h3uk1bHa"
      },
      "source": [
        "import pandas\n",
        "salary = pandas.read_csv('https://raw.githubusercontent.com/ywchiu/tibamepy/master/data/salary.csv', index_col = 0)"
      ],
      "execution_count": 78,
      "outputs": []
    },
    {
      "cell_type": "code",
      "metadata": {
        "colab": {
          "base_uri": "https://localhost:8080/",
          "height": 282
        },
        "id": "josuXNdg4Bwa",
        "outputId": "076c376f-8b31-4934-8c5f-fec1f69d7bfe"
      },
      "source": [
        "from matplotlib import pyplot as plt\n",
        "plt.scatter(salary.iloc[:,0], salary.iloc[:,1])"
      ],
      "execution_count": 83,
      "outputs": [
        {
          "output_type": "execute_result",
          "data": {
            "text/plain": [
              "<matplotlib.collections.PathCollection at 0x7f8061bfe150>"
            ]
          },
          "metadata": {
            "tags": []
          },
          "execution_count": 83
        },
        {
          "output_type": "display_data",
          "data": {
            "image/png": "[encoded data removed]",
            "text/plain": [
              "<Figure size 432x288 with 1 Axes>"
            ]
          },
          "metadata": {
            "tags": [],
            "needs_background": "light"
          }
        }
      ]
    },
    {
      "cell_type": "code",
      "metadata": {
        "colab": {
          "base_uri": "https://localhost:8080/"
        },
        "id": "5uCPWrGq4Eor",
        "outputId": "080632cb-1eae-44fa-c97d-9af3b97ffe52"
      },
      "source": [
        "from sklearn.linear_model import LinearRegression\n",
        "clf = LinearRegression()\n",
        "clf.fit(salary[['year']], salary['salary'])"
      ],
      "execution_count": 87,
      "outputs": [
        {
          "output_type": "execute_result",
          "data": {
            "text/plain": [
              "LinearRegression(copy_X=True, fit_intercept=True, n_jobs=None, normalize=False)"
            ]
          },
          "metadata": {
            "tags": []
          },
          "execution_count": 87
        }
      ]
    },
    {
      "cell_type": "code",
      "metadata": {
        "colab": {
          "base_uri": "https://localhost:8080/"
        },
        "id": "8jSu4oca4gYr",
        "outputId": "94c83866-10b9-48c1-eb41-4bdb22f66942"
      },
      "source": [
        "clf.intercept_"
      ],
      "execution_count": 88,
      "outputs": [
        {
          "output_type": "execute_result",
          "data": {
            "text/plain": [
              "5049.0098998138365"
            ]
          },
          "metadata": {
            "tags": []
          },
          "execution_count": 88
        }
      ]
    },
    {
      "cell_type": "code",
      "metadata": {
        "colab": {
          "base_uri": "https://localhost:8080/"
        },
        "id": "OxoJ9UYa4tKK",
        "outputId": "047a23c7-4661-4cbb-814d-61f0228d7695"
      },
      "source": [
        "clf.coef_"
      ],
      "execution_count": 89,
      "outputs": [
        {
          "output_type": "execute_result",
          "data": {
            "text/plain": [
              "array([712.59413615])"
            ]
          },
          "metadata": {
            "tags": []
          },
          "execution_count": 89
        }
      ]
    },
    {
      "cell_type": "code",
      "metadata": {
        "id": "AOkdClfd43bf"
      },
      "source": [
        "pred_y = clf.predict(salary[['year']])"
      ],
      "execution_count": 92,
      "outputs": []
    },
    {
      "cell_type": "code",
      "metadata": {
        "colab": {
          "base_uri": "https://localhost:8080/",
          "height": 282
        },
        "id": "gOH9_JMR4xb7",
        "outputId": "3a4751be-64ba-4d94-d5e3-5b9a2019f7f1"
      },
      "source": [
        "from matplotlib import pyplot as plt\n",
        "plt.scatter(salary.iloc[:,0], salary.iloc[:,1])\n",
        "plt.plot(salary.iloc[:,0],pred_y,c = 'red')"
      ],
      "execution_count": 94,
      "outputs": [
        {
          "output_type": "execute_result",
          "data": {
            "text/plain": [
              "[<matplotlib.lines.Line2D at 0x7f8060f67b50>]"
            ]
          },
          "metadata": {
            "tags": []
          },
          "execution_count": 94
        },
        {
          "output_type": "display_data",
          "data": {
            "image/png": "[encoded data removed]",
            "text/plain": [
              "<Figure size 432x288 with 1 Axes>"
            ]
          },
          "metadata": {
            "tags": [],
            "needs_background": "light"
          }
        }
      ]
    },
    {
      "cell_type": "code",
      "metadata": {
        "id": "k8-PpK0B5Cl2"
      },
      "source": [
        "X = iris.data[0:100, :]\n",
        "y = iris.target[0:100]"
      ],
      "execution_count": 99,
      "outputs": []
    },
    {
      "cell_type": "code",
      "metadata": {
        "colab": {
          "base_uri": "https://localhost:8080/"
        },
        "id": "rNyc_fzhIs7u",
        "outputId": "ac6a60e7-4e00-4bbf-b815-d3753abeeb85"
      },
      "source": [
        "from sklearn.linear_model import LinearRegression\n",
        "clf = LinearRegression()\n",
        "clf.fit(X,y)"
      ],
      "execution_count": 100,
      "outputs": [
        {
          "output_type": "execute_result",
          "data": {
            "text/plain": [
              "LinearRegression(copy_X=True, fit_intercept=True, n_jobs=None, normalize=False)"
            ]
          },
          "metadata": {
            "tags": []
          },
          "execution_count": 100
        }
      ]
    },
    {
      "cell_type": "code",
      "metadata": {
        "id": "BFmUkl29I0RN"
      },
      "source": [
        "pred_y = clf.predict(X)"
      ],
      "execution_count": 101,
      "outputs": []
    },
    {
      "cell_type": "code",
      "metadata": {
        "colab": {
          "base_uri": "https://localhost:8080/"
        },
        "id": "Nmw-6rmZJJ-B",
        "outputId": "b520ccd0-36d6-485e-be72-2976acc87436"
      },
      "source": [
        "import math\n",
        "math.exp(1)"
      ],
      "execution_count": 103,
      "outputs": [
        {
          "output_type": "execute_result",
          "data": {
            "text/plain": [
              "2.718281828459045"
            ]
          },
          "metadata": {
            "tags": []
          },
          "execution_count": 103
        }
      ]
    },
    {
      "cell_type": "code",
      "metadata": {
        "id": "4l3g2xdyI3te"
      },
      "source": [
        "pred_y2 = ((np.exp(pred_y) * 1 / (1 + np.exp(pred_y))) > 0.6).astype(int)"
      ],
      "execution_count": 113,
      "outputs": []
    },
    {
      "cell_type": "code",
      "metadata": {
        "colab": {
          "base_uri": "https://localhost:8080/"
        },
        "id": "b4dF9tp9I4Wh",
        "outputId": "5e51f0cd-c841-48ba-ea5d-37c040bf7e42"
      },
      "source": [
        "iris.target[0:100] == pred_y2"
      ],
      "execution_count": 114,
      "outputs": [
        {
          "output_type": "execute_result",
          "data": {
            "text/plain": [
              "array([ True,  True,  True,  True,  True,  True,  True,  True,  True,\n",
              "        True,  True,  True,  True,  True,  True,  True,  True,  True,\n",
              "        True,  True,  True,  True,  True,  True,  True,  True,  True,\n",
              "        True,  True,  True,  True,  True,  True,  True,  True,  True,\n",
              "        True,  True,  True,  True,  True,  True,  True,  True,  True,\n",
              "        True,  True,  True,  True,  True,  True,  True,  True,  True,\n",
              "        True,  True,  True,  True,  True,  True,  True,  True,  True,\n",
              "        True,  True,  True,  True,  True,  True,  True,  True,  True,\n",
              "        True,  True,  True,  True,  True,  True,  True,  True,  True,\n",
              "        True,  True,  True,  True,  True,  True,  True,  True,  True,\n",
              "        True,  True,  True,  True,  True,  True,  True,  True,  True,\n",
              "        True])"
            ]
          },
          "metadata": {
            "tags": []
          },
          "execution_count": 114
        }
      ]
    },
    {
      "cell_type": "code",
      "metadata": {
        "colab": {
          "base_uri": "https://localhost:8080/"
        },
        "id": "JyvWf08bJrQe",
        "outputId": "901004f2-d988-4931-9eb3-562efcb49eab"
      },
      "source": [
        "from sklearn.linear_model import LogisticRegression\n",
        "clf = LogisticRegression(max_iter = 1000)\n",
        "clf.fit(iris.data,iris.target)"
      ],
      "execution_count": 117,
      "outputs": [
        {
          "output_type": "execute_result",
          "data": {
            "text/plain": [
              "LogisticRegression(C=1.0, class_weight=None, dual=False, fit_intercept=True,\n",
              "                   intercept_scaling=1, l1_ratio=None, max_iter=1000,\n",
              "                   multi_class='auto', n_jobs=None, penalty='l2',\n",
              "                   random_state=None, solver='lbfgs', tol=0.0001, verbose=0,\n",
              "                   warm_start=False)"
            ]
          },
          "metadata": {
            "tags": []
          },
          "execution_count": 117
        }
      ]
    },
    {
      "cell_type": "code",
      "metadata": {
        "id": "OEDL2o4CKKil"
      },
      "source": [
        "pred_y = clf.predict(iris.data)"
      ],
      "execution_count": 118,
      "outputs": []
    },
    {
      "cell_type": "code",
      "metadata": {
        "colab": {
          "base_uri": "https://localhost:8080/"
        },
        "id": "3dWz8a9xKlFt",
        "outputId": "88dd177b-2402-4966-b6a8-0fae98197e68"
      },
      "source": [
        "(iris.target == pred_y).sum() / len(pred_y)"
      ],
      "execution_count": 121,
      "outputs": [
        {
          "output_type": "execute_result",
          "data": {
            "text/plain": [
              "0.9733333333333334"
            ]
          },
          "metadata": {
            "tags": []
          },
          "execution_count": 121
        }
      ]
    },
    {
      "cell_type": "code",
      "metadata": {
        "colab": {
          "base_uri": "https://localhost:8080/"
        },
        "id": "PFuKVaC7Kor-",
        "outputId": "a9f0a02c-f60e-4e5a-ca61-7cf52809b005"
      },
      "source": [
        "iris = load_iris()\n",
        "X = iris.data[:, [2, 3]]\n",
        "y = iris.target\n",
        "clf = LogisticRegression()\n",
        "clf.fit(X, y)\n"
      ],
      "execution_count": 122,
      "outputs": [
        {
          "output_type": "execute_result",
          "data": {
            "text/plain": [
              "LogisticRegression(C=1.0, class_weight=None, dual=False, fit_intercept=True,\n",
              "                   intercept_scaling=1, l1_ratio=None, max_iter=100,\n",
              "                   multi_class='auto', n_jobs=None, penalty='l2',\n",
              "                   random_state=None, solver='lbfgs', tol=0.0001, verbose=0,\n",
              "                   warm_start=False)"
            ]
          },
          "metadata": {
            "tags": []
          },
          "execution_count": 122
        }
      ]
    },
    {
      "cell_type": "code",
      "metadata": {
        "colab": {
          "base_uri": "https://localhost:8080/",
          "height": 295
        },
        "id": "9zU_msR9K6dN",
        "outputId": "03bc63e4-c77c-4c46-bce5-a14c1dc3fb68"
      },
      "source": [
        "x_min, x_max = X[:, 0].min() - 1, X[:, 0].max() + 1\n",
        "y_min, y_max = X[:, 1].min() - 1, X[:, 1].max() + 1\n",
        "xx, yy = np.meshgrid(np.arange(x_min, x_max, 0.1),\n",
        "np.arange(y_min, y_max, 0.1))\n",
        "Z = clf.predict(np.c_[xx.ravel(), yy.ravel()])\n",
        "Z = Z.reshape(xx.shape)\n",
        "plt.plot()\n",
        "plt.contourf(xx, yy, Z, alpha=0.4, cmap = plt.cm.RdYlBu)\n",
        "plt.scatter(X[:, 0], X[:, 1], c=y, cmap = plt.cm.brg)\n",
        "plt.title('Logistic Regression')\n",
        "plt.xlabel('Petal.Length')\n",
        "plt.ylabel('Petal.Width')\n",
        "plt.show()\n"
      ],
      "execution_count": 123,
      "outputs": [
        {
          "output_type": "display_data",
          "data": {
            "image/png": "[encoded data removed]",
            "text/plain": [
              "<Figure size 432x288 with 1 Axes>"
            ]
          },
          "metadata": {
            "tags": [],
            "needs_background": "light"
          }
        }
      ]
    },
    {
      "cell_type": "markdown",
      "metadata": {
        "id": "EaLh1_VuMIaB"
      },
      "source": [
        "## pdm"
      ]
    },
    {
      "cell_type": "code",
      "metadata": {
        "id": "x4QFcgLEK8xt"
      },
      "source": [
        "import pandas\n",
        "train_data_url = 'https://raw.githubusercontent.com/ywchiu/HKPC/master/data/pdm_train.csv'\n",
        "df_train = pandas.read_csv(train_data_url)"
      ],
      "execution_count": 124,
      "outputs": []
    },
    {
      "cell_type": "code",
      "metadata": {
        "id": "lvc8DcOhMJi-"
      },
      "source": [
        "features = ['setting1', 'setting2', 'setting3', 's1', 's2', 's3', 's4', 's5', 's6', 's7', \n",
        "            's8', 's9', 's10', 's11', 's12', 's13', 's14', 's15', 's16', 's17', 's18', \n",
        "            's19', 's20', 's21', 'av1', 'av2', 'av3', 'av4', 'av5', 'av6', 'av7', 'av8', \n",
        "            'av9', 'av10', 'av11', 'av12', 'av13', 'av14', 'av15', 'av16', 'av17', 'av18', \n",
        "            'av19', 'av20', 'av21', 'sd1', 'sd2', 'sd3', 'sd4', 'sd5', 'sd6', 'sd7', 'sd8', \n",
        "            'sd9', 'sd10', 'sd11', 'sd12', 'sd13', 'sd14', 'sd15', 'sd16', 'sd17', 'sd18', \n",
        "            'sd19', 'sd20', 'sd21']\n",
        "\n",
        "train_X = df_train[features]\n",
        "train_y = df_train['label_bnc']"
      ],
      "execution_count": 125,
      "outputs": []
    },
    {
      "cell_type": "code",
      "metadata": {
        "colab": {
          "base_uri": "https://localhost:8080/",
          "height": 161
        },
        "id": "nv2WArVzMN2s",
        "outputId": "7cf37d33-ef2c-433d-99d7-4362c13dc291"
      },
      "source": [
        "train_X.head(3)"
      ],
      "execution_count": 126,
      "outputs": [
        {
          "output_type": "execute_result",
          "data": {
            "text/html": [
              "<div>\n",
              "<style scoped>\n",
              "    .dataframe tbody tr th:only-of-type {\n",
              "        vertical-align: middle;\n",
              "    }\n",
              "\n",
              "    .dataframe tbody tr th {\n",
              "        vertical-align: top;\n",
              "    }\n",
              "\n",
              "    .dataframe thead th {\n",
              "        text-align: right;\n",
              "    }\n",
              "</style>\n",
              "<table border=\"1\" class=\"dataframe\">\n",
              "  <thead>\n",
              "    <tr style=\"text-align: right;\">\n",
              "      <th></th>\n",
              "      <th>setting1</th>\n",
              "      <th>setting2</th>\n",
              "      <th>setting3</th>\n",
              "      <th>s1</th>\n",
              "      <th>s2</th>\n",
              "      <th>s3</th>\n",
              "      <th>s4</th>\n",
              "      <th>s5</th>\n",
              "      <th>s6</th>\n",
              "      <th>s7</th>\n",
              "      <th>s8</th>\n",
              "      <th>s9</th>\n",
              "      <th>s10</th>\n",
              "      <th>s11</th>\n",
              "      <th>s12</th>\n",
              "      <th>s13</th>\n",
              "      <th>s14</th>\n",
              "      <th>s15</th>\n",
              "      <th>s16</th>\n",
              "      <th>s17</th>\n",
              "      <th>s18</th>\n",
              "      <th>s19</th>\n",
              "      <th>s20</th>\n",
              "      <th>s21</th>\n",
              "      <th>av1</th>\n",
              "      <th>av2</th>\n",
              "      <th>av3</th>\n",
              "      <th>av4</th>\n",
              "      <th>av5</th>\n",
              "      <th>av6</th>\n",
              "      <th>av7</th>\n",
              "      <th>av8</th>\n",
              "      <th>av9</th>\n",
              "      <th>av10</th>\n",
              "      <th>av11</th>\n",
              "      <th>av12</th>\n",
              "      <th>av13</th>\n",
              "      <th>av14</th>\n",
              "      <th>av15</th>\n",
              "      <th>av16</th>\n",
              "      <th>av17</th>\n",
              "      <th>av18</th>\n",
              "      <th>av19</th>\n",
              "      <th>av20</th>\n",
              "      <th>av21</th>\n",
              "      <th>sd1</th>\n",
              "      <th>sd2</th>\n",
              "      <th>sd3</th>\n",
              "      <th>sd4</th>\n",
              "      <th>sd5</th>\n",
              "      <th>sd6</th>\n",
              "      <th>sd7</th>\n",
              "      <th>sd8</th>\n",
              "      <th>sd9</th>\n",
              "      <th>sd10</th>\n",
              "      <th>sd11</th>\n",
              "      <th>sd12</th>\n",
              "      <th>sd13</th>\n",
              "      <th>sd14</th>\n",
              "      <th>sd15</th>\n",
              "      <th>sd16</th>\n",
              "      <th>sd17</th>\n",
              "      <th>sd18</th>\n",
              "      <th>sd19</th>\n",
              "      <th>sd20</th>\n",
              "      <th>sd21</th>\n",
              "    </tr>\n",
              "  </thead>\n",
              "  <tbody>\n",
              "    <tr>\n",
              "      <th>0</th>\n",
              "      <td>-0.0007</td>\n",
              "      <td>-0.0004</td>\n",
              "      <td>100.0</td>\n",
              "      <td>518.67</td>\n",
              "      <td>641.82</td>\n",
              "      <td>1589.70</td>\n",
              "      <td>1400.60</td>\n",
              "      <td>14.62</td>\n",
              "      <td>21.61</td>\n",
              "      <td>554.36</td>\n",
              "      <td>2388.06</td>\n",
              "      <td>9046.19</td>\n",
              "      <td>1.3</td>\n",
              "      <td>47.47</td>\n",
              "      <td>521.66</td>\n",
              "      <td>2388.02</td>\n",
              "      <td>8138.62</td>\n",
              "      <td>8.4195</td>\n",
              "      <td>0.03</td>\n",
              "      <td>392</td>\n",
              "      <td>2388</td>\n",
              "      <td>100.0</td>\n",
              "      <td>39.06</td>\n",
              "      <td>23.4190</td>\n",
              "      <td>518.67</td>\n",
              "      <td>641.820000</td>\n",
              "      <td>1589.700000</td>\n",
              "      <td>1400.600000</td>\n",
              "      <td>14.62</td>\n",
              "      <td>21.61</td>\n",
              "      <td>554.360000</td>\n",
              "      <td>2388.06</td>\n",
              "      <td>9046.190000</td>\n",
              "      <td>1.3</td>\n",
              "      <td>47.47</td>\n",
              "      <td>521.66</td>\n",
              "      <td>2388.020</td>\n",
              "      <td>8138.620000</td>\n",
              "      <td>8.419500</td>\n",
              "      <td>0.03</td>\n",
              "      <td>392.000000</td>\n",
              "      <td>2388.0</td>\n",
              "      <td>100.0</td>\n",
              "      <td>39.060000</td>\n",
              "      <td>23.4190</td>\n",
              "      <td>0.0</td>\n",
              "      <td>0.000000</td>\n",
              "      <td>0.000000</td>\n",
              "      <td>0.000000</td>\n",
              "      <td>0.0</td>\n",
              "      <td>0.0</td>\n",
              "      <td>0.000000</td>\n",
              "      <td>0.000000</td>\n",
              "      <td>0.000000</td>\n",
              "      <td>0.0</td>\n",
              "      <td>0.000000</td>\n",
              "      <td>0.000000</td>\n",
              "      <td>0.000000</td>\n",
              "      <td>0.000000</td>\n",
              "      <td>0.000000</td>\n",
              "      <td>0.0</td>\n",
              "      <td>0.000000</td>\n",
              "      <td>0.0</td>\n",
              "      <td>0.0</td>\n",
              "      <td>0.000000</td>\n",
              "      <td>0.000000</td>\n",
              "    </tr>\n",
              "    <tr>\n",
              "      <th>1</th>\n",
              "      <td>0.0019</td>\n",
              "      <td>-0.0003</td>\n",
              "      <td>100.0</td>\n",
              "      <td>518.67</td>\n",
              "      <td>642.15</td>\n",
              "      <td>1591.82</td>\n",
              "      <td>1403.14</td>\n",
              "      <td>14.62</td>\n",
              "      <td>21.61</td>\n",
              "      <td>553.75</td>\n",
              "      <td>2388.04</td>\n",
              "      <td>9044.07</td>\n",
              "      <td>1.3</td>\n",
              "      <td>47.49</td>\n",
              "      <td>522.28</td>\n",
              "      <td>2388.07</td>\n",
              "      <td>8131.49</td>\n",
              "      <td>8.4318</td>\n",
              "      <td>0.03</td>\n",
              "      <td>392</td>\n",
              "      <td>2388</td>\n",
              "      <td>100.0</td>\n",
              "      <td>39.00</td>\n",
              "      <td>23.4236</td>\n",
              "      <td>518.67</td>\n",
              "      <td>641.985000</td>\n",
              "      <td>1590.760000</td>\n",
              "      <td>1401.870000</td>\n",
              "      <td>14.62</td>\n",
              "      <td>21.61</td>\n",
              "      <td>554.055000</td>\n",
              "      <td>2388.05</td>\n",
              "      <td>9045.130000</td>\n",
              "      <td>1.3</td>\n",
              "      <td>47.48</td>\n",
              "      <td>521.97</td>\n",
              "      <td>2388.045</td>\n",
              "      <td>8135.055000</td>\n",
              "      <td>8.425650</td>\n",
              "      <td>0.03</td>\n",
              "      <td>392.000000</td>\n",
              "      <td>2388.0</td>\n",
              "      <td>100.0</td>\n",
              "      <td>39.030000</td>\n",
              "      <td>23.4213</td>\n",
              "      <td>0.0</td>\n",
              "      <td>0.233345</td>\n",
              "      <td>1.499066</td>\n",
              "      <td>1.796051</td>\n",
              "      <td>0.0</td>\n",
              "      <td>0.0</td>\n",
              "      <td>0.431335</td>\n",
              "      <td>0.014142</td>\n",
              "      <td>1.499066</td>\n",
              "      <td>0.0</td>\n",
              "      <td>0.014142</td>\n",
              "      <td>0.438406</td>\n",
              "      <td>0.035355</td>\n",
              "      <td>5.041671</td>\n",
              "      <td>0.008697</td>\n",
              "      <td>0.0</td>\n",
              "      <td>0.000000</td>\n",
              "      <td>0.0</td>\n",
              "      <td>0.0</td>\n",
              "      <td>0.042426</td>\n",
              "      <td>0.003253</td>\n",
              "    </tr>\n",
              "    <tr>\n",
              "      <th>2</th>\n",
              "      <td>-0.0043</td>\n",
              "      <td>0.0003</td>\n",
              "      <td>100.0</td>\n",
              "      <td>518.67</td>\n",
              "      <td>642.35</td>\n",
              "      <td>1587.99</td>\n",
              "      <td>1404.20</td>\n",
              "      <td>14.62</td>\n",
              "      <td>21.61</td>\n",
              "      <td>554.26</td>\n",
              "      <td>2388.08</td>\n",
              "      <td>9052.94</td>\n",
              "      <td>1.3</td>\n",
              "      <td>47.27</td>\n",
              "      <td>522.42</td>\n",
              "      <td>2388.03</td>\n",
              "      <td>8133.23</td>\n",
              "      <td>8.4178</td>\n",
              "      <td>0.03</td>\n",
              "      <td>390</td>\n",
              "      <td>2388</td>\n",
              "      <td>100.0</td>\n",
              "      <td>38.95</td>\n",
              "      <td>23.3442</td>\n",
              "      <td>518.67</td>\n",
              "      <td>642.106667</td>\n",
              "      <td>1589.836667</td>\n",
              "      <td>1402.646667</td>\n",
              "      <td>14.62</td>\n",
              "      <td>21.61</td>\n",
              "      <td>554.123333</td>\n",
              "      <td>2388.06</td>\n",
              "      <td>9047.733333</td>\n",
              "      <td>1.3</td>\n",
              "      <td>47.41</td>\n",
              "      <td>522.12</td>\n",
              "      <td>2388.040</td>\n",
              "      <td>8134.446667</td>\n",
              "      <td>8.423033</td>\n",
              "      <td>0.03</td>\n",
              "      <td>391.333333</td>\n",
              "      <td>2388.0</td>\n",
              "      <td>100.0</td>\n",
              "      <td>39.003333</td>\n",
              "      <td>23.3956</td>\n",
              "      <td>0.0</td>\n",
              "      <td>0.267644</td>\n",
              "      <td>1.918654</td>\n",
              "      <td>1.850009</td>\n",
              "      <td>0.0</td>\n",
              "      <td>0.0</td>\n",
              "      <td>0.327159</td>\n",
              "      <td>0.020000</td>\n",
              "      <td>4.632023</td>\n",
              "      <td>0.0</td>\n",
              "      <td>0.121655</td>\n",
              "      <td>0.404475</td>\n",
              "      <td>0.026458</td>\n",
              "      <td>3.717450</td>\n",
              "      <td>0.007640</td>\n",
              "      <td>0.0</td>\n",
              "      <td>1.154701</td>\n",
              "      <td>0.0</td>\n",
              "      <td>0.0</td>\n",
              "      <td>0.055076</td>\n",
              "      <td>0.044573</td>\n",
              "    </tr>\n",
              "  </tbody>\n",
              "</table>\n",
              "</div>"
            ],
            "text/plain": [
              "   setting1  setting2  setting3      s1  ...  sd18  sd19      sd20      sd21\n",
              "0   -0.0007   -0.0004     100.0  518.67  ...   0.0   0.0  0.000000  0.000000\n",
              "1    0.0019   -0.0003     100.0  518.67  ...   0.0   0.0  0.042426  0.003253\n",
              "2   -0.0043    0.0003     100.0  518.67  ...   0.0   0.0  0.055076  0.044573\n",
              "\n",
              "[3 rows x 66 columns]"
            ]
          },
          "metadata": {
            "tags": []
          },
          "execution_count": 126
        }
      ]
    },
    {
      "cell_type": "markdown",
      "metadata": {
        "id": "DsNmjsaJMn6J"
      },
      "source": [
        "1. 結構化資料\n",
        "\n",
        "2. 資料沒有缺失值\n",
        "\n",
        "3. 資料都必須為數值型態"
      ]
    },
    {
      "cell_type": "code",
      "metadata": {
        "colab": {
          "base_uri": "https://localhost:8080/"
        },
        "id": "heI8xOsiMPet",
        "outputId": "dd8ab63c-01fc-439c-9e9d-e6d7e2b998bd"
      },
      "source": [
        "train_y"
      ],
      "execution_count": 127,
      "outputs": [
        {
          "output_type": "execute_result",
          "data": {
            "text/plain": [
              "0        0\n",
              "1        0\n",
              "2        0\n",
              "3        0\n",
              "4        0\n",
              "        ..\n",
              "20626    1\n",
              "20627    1\n",
              "20628    1\n",
              "20629    1\n",
              "20630    1\n",
              "Name: label_bnc, Length: 20631, dtype: int64"
            ]
          },
          "metadata": {
            "tags": []
          },
          "execution_count": 127
        }
      ]
    },
    {
      "cell_type": "code",
      "metadata": {
        "colab": {
          "base_uri": "https://localhost:8080/"
        },
        "id": "1mYpW9BmM0Dt",
        "outputId": "9d3613e0-9ddd-408e-debd-7336dd8bab5e"
      },
      "source": [
        "from sklearn.tree import DecisionTreeClassifier\n",
        "clf = DecisionTreeClassifier(max_depth = 5)\n",
        "clf.fit(train_X, train_y)\n",
        "pred_y = clf.predict(train_X)\n",
        "(pred_y == train_y).sum() / len(train_y)"
      ],
      "execution_count": 129,
      "outputs": [
        {
          "output_type": "execute_result",
          "data": {
            "text/plain": [
              "0.9671853036692356"
            ]
          },
          "metadata": {
            "tags": []
          },
          "execution_count": 129
        }
      ]
    },
    {
      "cell_type": "code",
      "metadata": {
        "colab": {
          "base_uri": "https://localhost:8080/"
        },
        "id": "A3mhOneuNFYN",
        "outputId": "df23caa4-4749-469f-96cb-2020d6f56a9f"
      },
      "source": [
        "from sklearn.linear_model import LogisticRegression\n",
        "clf = LogisticRegression(max_iter = 1000)\n",
        "clf.fit(train_X, train_y)\n",
        "pred_y = clf.predict(train_X)\n",
        "(pred_y == train_y).sum() / len(train_y)"
      ],
      "execution_count": 131,
      "outputs": [
        {
          "output_type": "execute_result",
          "data": {
            "text/plain": [
              "0.9574911540885076"
            ]
          },
          "metadata": {
            "tags": []
          },
          "execution_count": 131
        }
      ]
    },
    {
      "cell_type": "markdown",
      "metadata": {
        "id": "r-8iErXhUVFg"
      },
      "source": [
        "## Numpy"
      ]
    },
    {
      "cell_type": "code",
      "metadata": {
        "id": "HXHoofQINPhd"
      },
      "source": [
        "li = [1,2,3, 'hello', [4,5,6]]\n",
        "li.append(9)"
      ],
      "execution_count": 132,
      "outputs": []
    },
    {
      "cell_type": "code",
      "metadata": {
        "colab": {
          "base_uri": "https://localhost:8080/"
        },
        "id": "f1YjoDS6UcvQ",
        "outputId": "36169740-c023-4f39-a9f4-77b9a1bc40e0"
      },
      "source": [
        "li"
      ],
      "execution_count": 133,
      "outputs": [
        {
          "output_type": "execute_result",
          "data": {
            "text/plain": [
              "[1, 2, 3, 'hello', [4, 5, 6], 9]"
            ]
          },
          "metadata": {
            "tags": []
          },
          "execution_count": 133
        }
      ]
    },
    {
      "cell_type": "code",
      "metadata": {
        "id": "72O2e4kfUdKv"
      },
      "source": [
        "a = [1,3,5,7,9]\n",
        "b = [2,4,6,8,10]"
      ],
      "execution_count": 134,
      "outputs": []
    },
    {
      "cell_type": "code",
      "metadata": {
        "colab": {
          "base_uri": "https://localhost:8080/"
        },
        "id": "tk2qjrqkUnnf",
        "outputId": "0ee199eb-3b79-45ea-ffcd-d53e67693559"
      },
      "source": [
        "for i in range(len(a)):\n",
        "  print(a[i] * b[i])"
      ],
      "execution_count": 137,
      "outputs": [
        {
          "output_type": "stream",
          "text": [
            "2\n",
            "12\n",
            "30\n",
            "56\n",
            "90\n"
          ],
          "name": "stdout"
        }
      ]
    },
    {
      "cell_type": "code",
      "metadata": {
        "colab": {
          "base_uri": "https://localhost:8080/"
        },
        "id": "p9JNoD-TUohP",
        "outputId": "cde4823d-f05b-470f-82b5-e4dd5df63eb9"
      },
      "source": [
        "for rec in zip(a,b):\n",
        "  print(rec)"
      ],
      "execution_count": 138,
      "outputs": [
        {
          "output_type": "stream",
          "text": [
            "(1, 2)\n",
            "(3, 4)\n",
            "(5, 6)\n",
            "(7, 8)\n",
            "(9, 10)\n"
          ],
          "name": "stdout"
        }
      ]
    },
    {
      "cell_type": "code",
      "metadata": {
        "id": "PJrW_6u6U1ze"
      },
      "source": [
        "i,j = (1, 2)"
      ],
      "execution_count": 139,
      "outputs": []
    },
    {
      "cell_type": "code",
      "metadata": {
        "colab": {
          "base_uri": "https://localhost:8080/"
        },
        "id": "hYfYz2dUU8BP",
        "outputId": "6764acda-8a9c-44b6-f8c9-2825e62815d4"
      },
      "source": [
        "for i,j in zip(a,b):\n",
        "  print(i,j)"
      ],
      "execution_count": 140,
      "outputs": [
        {
          "output_type": "stream",
          "text": [
            "1 2\n",
            "3 4\n",
            "5 6\n",
            "7 8\n",
            "9 10\n"
          ],
          "name": "stdout"
        }
      ]
    },
    {
      "cell_type": "code",
      "metadata": {
        "colab": {
          "base_uri": "https://localhost:8080/"
        },
        "id": "fI9R4q1KU-2P",
        "outputId": "c0d820b6-a2bf-40e8-937d-008d11bde55f"
      },
      "source": [
        "for i,j in zip(a,b):\n",
        "  print(i*j)"
      ],
      "execution_count": 141,
      "outputs": [
        {
          "output_type": "stream",
          "text": [
            "2\n",
            "12\n",
            "30\n",
            "56\n",
            "90\n"
          ],
          "name": "stdout"
        }
      ]
    },
    {
      "cell_type": "code",
      "metadata": {
        "colab": {
          "base_uri": "https://localhost:8080/",
          "height": 166
        },
        "id": "jZrMBiGdVD__",
        "outputId": "fddf3b4e-e54c-427d-a125-ff2fbade6c50"
      },
      "source": [
        "a * b"
      ],
      "execution_count": 142,
      "outputs": [
        {
          "output_type": "error",
          "ename": "TypeError",
          "evalue": "ignored",
          "traceback": [
            "\u001b[0;31m---------------------------------------------------------------------------\u001b[0m",
            "\u001b[0;31mTypeError\u001b[0m                                 Traceback (most recent call last)",
            "\u001b[0;32m<ipython-input-142-9bc1a869709f>\u001b[0m in \u001b[0;36m<module>\u001b[0;34m()\u001b[0m\n\u001b[0;32m----> 1\u001b[0;31m \u001b[0ma\u001b[0m \u001b[0;34m*\u001b[0m \u001b[0mb\u001b[0m\u001b[0;34m\u001b[0m\u001b[0;34m\u001b[0m\u001b[0m\n\u001b[0m",
            "\u001b[0;31mTypeError\u001b[0m: can't multiply sequence by non-int of type 'list'"
          ]
        }
      ]
    },
    {
      "cell_type": "code",
      "metadata": {
        "id": "bedPSY9XVJIA"
      },
      "source": [
        "import numpy as np\n",
        "na = np.array(a)"
      ],
      "execution_count": 143,
      "outputs": []
    },
    {
      "cell_type": "code",
      "metadata": {
        "colab": {
          "base_uri": "https://localhost:8080/"
        },
        "id": "c6Xvv9P4VaeA",
        "outputId": "6231c9f8-c903-4d6d-c227-561d1f50baae"
      },
      "source": [
        "na"
      ],
      "execution_count": 144,
      "outputs": [
        {
          "output_type": "execute_result",
          "data": {
            "text/plain": [
              "array([1, 3, 5, 7, 9])"
            ]
          },
          "metadata": {
            "tags": []
          },
          "execution_count": 144
        }
      ]
    },
    {
      "cell_type": "code",
      "metadata": {
        "colab": {
          "base_uri": "https://localhost:8080/"
        },
        "id": "UjyUwwwNVbEv",
        "outputId": "d9346758-f33d-443c-c1f1-4f5c95465501"
      },
      "source": [
        "type(a)"
      ],
      "execution_count": 145,
      "outputs": [
        {
          "output_type": "execute_result",
          "data": {
            "text/plain": [
              "list"
            ]
          },
          "metadata": {
            "tags": []
          },
          "execution_count": 145
        }
      ]
    },
    {
      "cell_type": "code",
      "metadata": {
        "colab": {
          "base_uri": "https://localhost:8080/"
        },
        "id": "zxVyD3rNVdZ_",
        "outputId": "c0fc52ee-7830-4b6e-b6a1-854e6dfd9620"
      },
      "source": [
        "type(na)"
      ],
      "execution_count": 146,
      "outputs": [
        {
          "output_type": "execute_result",
          "data": {
            "text/plain": [
              "numpy.ndarray"
            ]
          },
          "metadata": {
            "tags": []
          },
          "execution_count": 146
        }
      ]
    },
    {
      "cell_type": "code",
      "metadata": {
        "id": "QvdVJp3gVerf"
      },
      "source": [
        "import numpy as np\n",
        "na = np.array(a)\n",
        "nb = np.array(b)"
      ],
      "execution_count": 147,
      "outputs": []
    },
    {
      "cell_type": "code",
      "metadata": {
        "colab": {
          "base_uri": "https://localhost:8080/"
        },
        "id": "9O6rtOZgVjYv",
        "outputId": "1e297463-42b7-45ef-fe3f-fd7a582a4ef9"
      },
      "source": [
        "na * nb"
      ],
      "execution_count": 148,
      "outputs": [
        {
          "output_type": "execute_result",
          "data": {
            "text/plain": [
              "array([ 2, 12, 30, 56, 90])"
            ]
          },
          "metadata": {
            "tags": []
          },
          "execution_count": 148
        }
      ]
    },
    {
      "cell_type": "code",
      "metadata": {
        "id": "VWMs9AfiVkV_"
      },
      "source": [
        "na = np.array([1,3,5,7,9])"
      ],
      "execution_count": 151,
      "outputs": []
    },
    {
      "cell_type": "code",
      "metadata": {
        "colab": {
          "base_uri": "https://localhost:8080/"
        },
        "id": "3VfPjT-uVzZv",
        "outputId": "1a0e0ad6-45d4-4c8c-d149-3281e2f24f39"
      },
      "source": [
        "na[0]"
      ],
      "execution_count": 152,
      "outputs": [
        {
          "output_type": "execute_result",
          "data": {
            "text/plain": [
              "1"
            ]
          },
          "metadata": {
            "tags": []
          },
          "execution_count": 152
        }
      ]
    },
    {
      "cell_type": "code",
      "metadata": {
        "colab": {
          "base_uri": "https://localhost:8080/"
        },
        "id": "7S4kAyCiV0XP",
        "outputId": "6601ff3c-b3b4-4d71-d87b-eac359ddc513"
      },
      "source": [
        "na[-1]"
      ],
      "execution_count": 153,
      "outputs": [
        {
          "output_type": "execute_result",
          "data": {
            "text/plain": [
              "9"
            ]
          },
          "metadata": {
            "tags": []
          },
          "execution_count": 153
        }
      ]
    },
    {
      "cell_type": "code",
      "metadata": {
        "colab": {
          "base_uri": "https://localhost:8080/"
        },
        "id": "GmFm9Eh_V1Rf",
        "outputId": "3b499222-986e-45e2-9ec8-4c7c1e5fe826"
      },
      "source": [
        "na[0:3]"
      ],
      "execution_count": 154,
      "outputs": [
        {
          "output_type": "execute_result",
          "data": {
            "text/plain": [
              "array([1, 3, 5])"
            ]
          },
          "metadata": {
            "tags": []
          },
          "execution_count": 154
        }
      ]
    },
    {
      "cell_type": "code",
      "metadata": {
        "colab": {
          "base_uri": "https://localhost:8080/"
        },
        "id": "9WGVDaieV2T_",
        "outputId": "71b5c6f7-d301-446d-df4b-e05e8e664b06"
      },
      "source": [
        "na > 3"
      ],
      "execution_count": 155,
      "outputs": [
        {
          "output_type": "execute_result",
          "data": {
            "text/plain": [
              "array([False, False,  True,  True,  True])"
            ]
          },
          "metadata": {
            "tags": []
          },
          "execution_count": 155
        }
      ]
    },
    {
      "cell_type": "code",
      "metadata": {
        "colab": {
          "base_uri": "https://localhost:8080/"
        },
        "id": "l6AWfpD0V4lv",
        "outputId": "59a5db7e-3e58-4c41-e64b-a413e4eebd4c"
      },
      "source": [
        "na[na > 3]"
      ],
      "execution_count": 156,
      "outputs": [
        {
          "output_type": "execute_result",
          "data": {
            "text/plain": [
              "array([5, 7, 9])"
            ]
          },
          "metadata": {
            "tags": []
          },
          "execution_count": 156
        }
      ]
    },
    {
      "cell_type": "code",
      "metadata": {
        "id": "gsxRHIlKV9AQ"
      },
      "source": [
        "na = np.array([[1,2,3,4,5],[6,7,8,9,10]])"
      ],
      "execution_count": 159,
      "outputs": []
    },
    {
      "cell_type": "code",
      "metadata": {
        "colab": {
          "base_uri": "https://localhost:8080/"
        },
        "id": "WKbpJzowWKSw",
        "outputId": "c983d5ce-55d4-46d8-ed03-cd13600e25b9"
      },
      "source": [
        "na"
      ],
      "execution_count": 160,
      "outputs": [
        {
          "output_type": "execute_result",
          "data": {
            "text/plain": [
              "array([[ 1,  2,  3,  4,  5],\n",
              "       [ 6,  7,  8,  9, 10]])"
            ]
          },
          "metadata": {
            "tags": []
          },
          "execution_count": 160
        }
      ]
    },
    {
      "cell_type": "code",
      "metadata": {
        "colab": {
          "base_uri": "https://localhost:8080/"
        },
        "id": "6haWgWFWWKtw",
        "outputId": "c7f7526c-453c-444f-be5d-51dd1ccfd465"
      },
      "source": [
        "na[0,:]"
      ],
      "execution_count": 161,
      "outputs": [
        {
          "output_type": "execute_result",
          "data": {
            "text/plain": [
              "array([1, 2, 3, 4, 5])"
            ]
          },
          "metadata": {
            "tags": []
          },
          "execution_count": 161
        }
      ]
    },
    {
      "cell_type": "code",
      "metadata": {
        "colab": {
          "base_uri": "https://localhost:8080/"
        },
        "id": "hHV2BtGbWOuw",
        "outputId": "4b220f14-e87a-441e-f6ce-bc1222b37adb"
      },
      "source": [
        "na[:,0]"
      ],
      "execution_count": 162,
      "outputs": [
        {
          "output_type": "execute_result",
          "data": {
            "text/plain": [
              "array([1, 6])"
            ]
          },
          "metadata": {
            "tags": []
          },
          "execution_count": 162
        }
      ]
    },
    {
      "cell_type": "code",
      "metadata": {
        "colab": {
          "base_uri": "https://localhost:8080/"
        },
        "id": "pxRBQQTaWQg_",
        "outputId": "465ae823-decb-49ce-9790-dd4e6999c2d7"
      },
      "source": [
        "na.T"
      ],
      "execution_count": 163,
      "outputs": [
        {
          "output_type": "execute_result",
          "data": {
            "text/plain": [
              "array([[ 1,  6],\n",
              "       [ 2,  7],\n",
              "       [ 3,  8],\n",
              "       [ 4,  9],\n",
              "       [ 5, 10]])"
            ]
          },
          "metadata": {
            "tags": []
          },
          "execution_count": 163
        }
      ]
    },
    {
      "cell_type": "code",
      "metadata": {
        "colab": {
          "base_uri": "https://localhost:8080/"
        },
        "id": "lkVyQEdSWRhA",
        "outputId": "30bc568c-69db-4259-9a63-3d902a7512bf"
      },
      "source": [
        "X = np.array([20,10,100])\n",
        "W = np.array([100, -10, -0.01])\n",
        "np.dot(X,W)"
      ],
      "execution_count": 164,
      "outputs": [
        {
          "output_type": "execute_result",
          "data": {
            "text/plain": [
              "1899.0"
            ]
          },
          "metadata": {
            "tags": []
          },
          "execution_count": 164
        }
      ]
    },
    {
      "cell_type": "markdown",
      "metadata": {
        "id": "KPe9S7x-XMNQ"
      },
      "source": [
        "## Activation Function"
      ]
    },
    {
      "cell_type": "code",
      "metadata": {
        "id": "nbQVEFFjWnbv"
      },
      "source": [
        "def threshold_function(x):\n",
        "  y = x > 0\n",
        "  return y.astype(int)"
      ],
      "execution_count": 165,
      "outputs": []
    },
    {
      "cell_type": "code",
      "metadata": {
        "colab": {
          "base_uri": "https://localhost:8080/"
        },
        "id": "oKi-eD9pXTPO",
        "outputId": "3942b5dc-b3bb-4ecd-88b5-892448f99840"
      },
      "source": [
        "x = np.array([-2,1,2])\n",
        "x > 0 "
      ],
      "execution_count": 166,
      "outputs": [
        {
          "output_type": "execute_result",
          "data": {
            "text/plain": [
              "array([False,  True,  True])"
            ]
          },
          "metadata": {
            "tags": []
          },
          "execution_count": 166
        }
      ]
    },
    {
      "cell_type": "code",
      "metadata": {
        "colab": {
          "base_uri": "https://localhost:8080/"
        },
        "id": "hMoJt4RKXXhv",
        "outputId": "c0a4e81c-dff9-4b61-c396-9e347baefc0e"
      },
      "source": [
        "(x > 0 ).astype(int)"
      ],
      "execution_count": 167,
      "outputs": [
        {
          "output_type": "execute_result",
          "data": {
            "text/plain": [
              "array([0, 1, 1])"
            ]
          },
          "metadata": {
            "tags": []
          },
          "execution_count": 167
        }
      ]
    },
    {
      "cell_type": "code",
      "metadata": {
        "colab": {
          "base_uri": "https://localhost:8080/"
        },
        "id": "OZViJDxFXen_",
        "outputId": "f5137fb0-80bc-4b82-debd-30dbdfdc29a5"
      },
      "source": [
        "x = np.array([-1,1,2])\n",
        "threshold_function(x)"
      ],
      "execution_count": 168,
      "outputs": [
        {
          "output_type": "execute_result",
          "data": {
            "text/plain": [
              "array([0, 1, 1])"
            ]
          },
          "metadata": {
            "tags": []
          },
          "execution_count": 168
        }
      ]
    },
    {
      "cell_type": "code",
      "metadata": {
        "id": "LHI95NNeXjiP"
      },
      "source": [
        "def sigmoid_function(x):\n",
        "  return 1/ (1 + np.exp(-x))"
      ],
      "execution_count": 169,
      "outputs": []
    },
    {
      "cell_type": "code",
      "metadata": {
        "colab": {
          "base_uri": "https://localhost:8080/",
          "height": 282
        },
        "id": "Mmok_jUbXwcP",
        "outputId": "4c4e1c2b-d32a-4fd6-9926-0c230c6aeb77"
      },
      "source": [
        "x = np.arange(-6,6,0.1)\n",
        "from matplotlib import pyplot as plt\n",
        "plt.plot(x, sigmoid_function(x))"
      ],
      "execution_count": 172,
      "outputs": [
        {
          "output_type": "execute_result",
          "data": {
            "text/plain": [
              "[<matplotlib.lines.Line2D at 0x7f80551aff90>]"
            ]
          },
          "metadata": {
            "tags": []
          },
          "execution_count": 172
        },
        {
          "output_type": "display_data",
          "data": {
            "image/png": "[encoded data removed]",
            "text/plain": [
              "<Figure size 432x288 with 1 Axes>"
            ]
          },
          "metadata": {
            "tags": [],
            "needs_background": "light"
          }
        }
      ]
    },
    {
      "cell_type": "code",
      "metadata": {
        "colab": {
          "base_uri": "https://localhost:8080/"
        },
        "id": "BcIzvWXlX04g",
        "outputId": "7a7c0d9e-a8e0-475c-c1a5-d35dc8452d6c"
      },
      "source": [
        "x = np.array([-1,1,2])\n",
        "sigmoid_function(x)"
      ],
      "execution_count": 173,
      "outputs": [
        {
          "output_type": "execute_result",
          "data": {
            "text/plain": [
              "array([0.26894142, 0.73105858, 0.88079708])"
            ]
          },
          "metadata": {
            "tags": []
          },
          "execution_count": 173
        }
      ]
    },
    {
      "cell_type": "code",
      "metadata": {
        "id": "5mJhWDgRX_hP"
      },
      "source": [
        "def tangent_function(x):\n",
        "  return (1 - np.exp(-2*x)) / (1 +np.exp(-2*x))"
      ],
      "execution_count": 175,
      "outputs": []
    },
    {
      "cell_type": "code",
      "metadata": {
        "colab": {
          "base_uri": "https://localhost:8080/",
          "height": 282
        },
        "id": "mk3f3evkY6dv",
        "outputId": "ac96b2f3-26f6-4ad8-8ddc-f27b11d16536"
      },
      "source": [
        "x = np.arange(-6,6,0.1)\n",
        "from matplotlib import pyplot as plt\n",
        "plt.plot(x, tangent_function(x))"
      ],
      "execution_count": 176,
      "outputs": [
        {
          "output_type": "execute_result",
          "data": {
            "text/plain": [
              "[<matplotlib.lines.Line2D at 0x7f8061ea2390>]"
            ]
          },
          "metadata": {
            "tags": []
          },
          "execution_count": 176
        },
        {
          "output_type": "display_data",
          "data": {
            "image/png": "[encoded data removed]",
            "text/plain": [
              "<Figure size 432x288 with 1 Axes>"
            ]
          },
          "metadata": {
            "tags": [],
            "needs_background": "light"
          }
        }
      ]
    },
    {
      "cell_type": "code",
      "metadata": {
        "colab": {
          "base_uri": "https://localhost:8080/"
        },
        "id": "A2aw2R8xY9uf",
        "outputId": "2390d8fe-4b52-454a-87eb-9f1abf1339e6"
      },
      "source": [
        "x = np.array([-1,1,2])\n",
        "tangent_function(x)"
      ],
      "execution_count": 177,
      "outputs": [
        {
          "output_type": "execute_result",
          "data": {
            "text/plain": [
              "array([-0.76159416,  0.76159416,  0.96402758])"
            ]
          },
          "metadata": {
            "tags": []
          },
          "execution_count": 177
        }
      ]
    },
    {
      "cell_type": "code",
      "metadata": {
        "colab": {
          "base_uri": "https://localhost:8080/"
        },
        "id": "Ttdevv6oZCxg",
        "outputId": "97277633-6608-4ee1-db30-89ec060041a1"
      },
      "source": [
        "np.tanh(x)"
      ],
      "execution_count": 178,
      "outputs": [
        {
          "output_type": "execute_result",
          "data": {
            "text/plain": [
              "array([-0.76159416,  0.76159416,  0.96402758])"
            ]
          },
          "metadata": {
            "tags": []
          },
          "execution_count": 178
        }
      ]
    },
    {
      "cell_type": "code",
      "metadata": {
        "colab": {
          "base_uri": "https://localhost:8080/",
          "height": 282
        },
        "id": "P2oaTmlIZHM_",
        "outputId": "fe82b740-fb84-41a1-c3aa-076c5f6a1bb6"
      },
      "source": [
        "def relu_function(x):\n",
        "  return np.maximum(0,x)  \n",
        "x = np.arange(-6,6,0.1)\n",
        "from matplotlib import pyplot as plt\n",
        "plt.plot(x, relu_function(x))"
      ],
      "execution_count": 179,
      "outputs": [
        {
          "output_type": "execute_result",
          "data": {
            "text/plain": [
              "[<matplotlib.lines.Line2D at 0x7f8060fb8bd0>]"
            ]
          },
          "metadata": {
            "tags": []
          },
          "execution_count": 179
        },
        {
          "output_type": "display_data",
          "data": {
            "image/png": "[encoded data removed]",
            "text/plain": [
              "<Figure size 432x288 with 1 Axes>"
            ]
          },
          "metadata": {
            "tags": [],
            "needs_background": "light"
          }
        }
      ]
    },
    {
      "cell_type": "code",
      "metadata": {
        "colab": {
          "base_uri": "https://localhost:8080/"
        },
        "id": "im75TzBgZZzA",
        "outputId": "ff27a54d-965f-4cde-fb52-ecb5f41f3e16"
      },
      "source": [
        "x = np.array([-1,1,2])\n",
        "relu_function(x)"
      ],
      "execution_count": 180,
      "outputs": [
        {
          "output_type": "execute_result",
          "data": {
            "text/plain": [
              "array([0, 1, 2])"
            ]
          },
          "metadata": {
            "tags": []
          },
          "execution_count": 180
        }
      ]
    },
    {
      "cell_type": "code",
      "metadata": {
        "id": "pozLgZAnZdHP"
      },
      "source": [
        "import numpy as np\n",
        "\n",
        "X = np.array([1,2])\n",
        "W = np.array([[1,3,5],[2,4,6]])\n"
      ],
      "execution_count": 181,
      "outputs": []
    },
    {
      "cell_type": "code",
      "metadata": {
        "colab": {
          "base_uri": "https://localhost:8080/"
        },
        "id": "L7AQ2EN6ak3o",
        "outputId": "4a207fbf-4b91-4613-b906-1617d1796632"
      },
      "source": [
        "X.shape"
      ],
      "execution_count": 182,
      "outputs": [
        {
          "output_type": "execute_result",
          "data": {
            "text/plain": [
              "(2,)"
            ]
          },
          "metadata": {
            "tags": []
          },
          "execution_count": 182
        }
      ]
    },
    {
      "cell_type": "code",
      "metadata": {
        "colab": {
          "base_uri": "https://localhost:8080/"
        },
        "id": "KpAtInhvamfg",
        "outputId": "37178a09-7a4b-49a4-d5a8-5b6fe4668101"
      },
      "source": [
        "W.shape"
      ],
      "execution_count": 183,
      "outputs": [
        {
          "output_type": "execute_result",
          "data": {
            "text/plain": [
              "(2, 3)"
            ]
          },
          "metadata": {
            "tags": []
          },
          "execution_count": 183
        }
      ]
    },
    {
      "cell_type": "code",
      "metadata": {
        "colab": {
          "base_uri": "https://localhost:8080/"
        },
        "id": "NnXR1E_XapP_",
        "outputId": "fabbc060-c348-4319-f6ec-61a040afcfdc"
      },
      "source": [
        "Y = np.dot(X,W)\n",
        "Y"
      ],
      "execution_count": 185,
      "outputs": [
        {
          "output_type": "execute_result",
          "data": {
            "text/plain": [
              "array([ 5, 11, 17])"
            ]
          },
          "metadata": {
            "tags": []
          },
          "execution_count": 185
        }
      ]
    },
    {
      "cell_type": "code",
      "metadata": {
        "id": "i_6TmvEdasDv"
      },
      "source": [
        "X = np.array([1,2])\n",
        "W = np.array([[1,3,5],[2,4,6]])\n",
        "W1 = np.array([[1,2],[3,4],[5,6]])"
      ],
      "execution_count": 186,
      "outputs": []
    },
    {
      "cell_type": "code",
      "metadata": {
        "id": "yfpHn98TbEpB"
      },
      "source": [
        "y1 = np.dot(X,W)"
      ],
      "execution_count": 187,
      "outputs": []
    },
    {
      "cell_type": "code",
      "metadata": {
        "colab": {
          "base_uri": "https://localhost:8080/"
        },
        "id": "wxg4LMUgbG2w",
        "outputId": "fe6eb9d8-8407-42ca-adfe-7cfc0cc2af5c"
      },
      "source": [
        "y1"
      ],
      "execution_count": 188,
      "outputs": [
        {
          "output_type": "execute_result",
          "data": {
            "text/plain": [
              "array([ 5, 11, 17])"
            ]
          },
          "metadata": {
            "tags": []
          },
          "execution_count": 188
        }
      ]
    },
    {
      "cell_type": "code",
      "metadata": {
        "colab": {
          "base_uri": "https://localhost:8080/"
        },
        "id": "h9i-w9krbHYB",
        "outputId": "5a47a3cd-c7fc-4f31-d167-2528a1cf1f54"
      },
      "source": [
        "np.dot(y1, W1)"
      ],
      "execution_count": 189,
      "outputs": [
        {
          "output_type": "execute_result",
          "data": {
            "text/plain": [
              "array([123, 156])"
            ]
          },
          "metadata": {
            "tags": []
          },
          "execution_count": 189
        }
      ]
    },
    {
      "cell_type": "code",
      "metadata": {
        "id": "icjsNDprbKdw"
      },
      "source": [
        "network = {}\n",
        "# 2 X 3\n",
        "network['w1'] = np.array([[0.1,0.3,0.5],[0.2,0.4,0.6]])\n",
        "# 3\n",
        "network['b1'] = np.array([0.1,0.2,0.3])\n",
        "# 3 X 2\n",
        "network['w2'] = np.array([[0.1,0.4],[0.2,0.5],[0.3,0.6]])\n",
        "# 2\n",
        "network['b2'] = np.array([0.1,0.2])\n"
      ],
      "execution_count": 191,
      "outputs": []
    },
    {
      "cell_type": "code",
      "metadata": {
        "colab": {
          "base_uri": "https://localhost:8080/"
        },
        "id": "dGVi-zqZblGg",
        "outputId": "531a3b2d-4836-4901-d607-ce41de63cd25"
      },
      "source": [
        "x = np.array([1,0.5])\n",
        "o1 = np.dot(x, network['w1']) + network['b1']\n",
        "z = sigmoid_function(o1)\n",
        "z"
      ],
      "execution_count": 195,
      "outputs": [
        {
          "output_type": "execute_result",
          "data": {
            "text/plain": [
              "array([0.57444252, 0.66818777, 0.75026011])"
            ]
          },
          "metadata": {
            "tags": []
          },
          "execution_count": 195
        }
      ]
    },
    {
      "cell_type": "code",
      "metadata": {
        "colab": {
          "base_uri": "https://localhost:8080/"
        },
        "id": "fnrJtrNeb4zw",
        "outputId": "1d51137f-510a-48c7-d920-c05ef4e9e45e"
      },
      "source": [
        "o2 = np.dot(z,network['w2'] ) + network['b2']\n",
        "o2\n"
      ],
      "execution_count": 197,
      "outputs": [
        {
          "output_type": "execute_result",
          "data": {
            "text/plain": [
              "array([0.51615984, 1.21402696])"
            ]
          },
          "metadata": {
            "tags": []
          },
          "execution_count": 197
        }
      ]
    },
    {
      "cell_type": "code",
      "metadata": {
        "colab": {
          "base_uri": "https://localhost:8080/"
        },
        "id": "0u1sV8LYb-rQ",
        "outputId": "610b3615-6f5c-4692-bbd7-37178c4ec361"
      },
      "source": [
        "def softmax_function(x):\n",
        "  return np.exp(x) / np.sum(np.exp(x))\n",
        "\n",
        "a = np.array([-3,2,3])\n",
        "softmax_function(a)"
      ],
      "execution_count": 198,
      "outputs": [
        {
          "output_type": "execute_result",
          "data": {
            "text/plain": [
              "array([0.00180884, 0.26845495, 0.72973621])"
            ]
          },
          "metadata": {
            "tags": []
          },
          "execution_count": 198
        }
      ]
    },
    {
      "cell_type": "code",
      "metadata": {
        "colab": {
          "base_uri": "https://localhost:8080/"
        },
        "id": "eAUU2680dYOx",
        "outputId": "8db21839-46e7-4b39-f7a5-58c37d1394f0"
      },
      "source": [
        "softmax_function(o2)"
      ],
      "execution_count": 199,
      "outputs": [
        {
          "output_type": "execute_result",
          "data": {
            "text/plain": [
              "array([0.33228528, 0.66771472])"
            ]
          },
          "metadata": {
            "tags": []
          },
          "execution_count": 199
        }
      ]
    },
    {
      "cell_type": "code",
      "metadata": {
        "id": "t4mUOOqSdg1Q"
      },
      "source": [
        "from scipy.signal import find_peaks\n",
        "x = np.linspace(-np.pi, np.pi, 201)"
      ],
      "execution_count": 200,
      "outputs": []
    },
    {
      "cell_type": "code",
      "metadata": {
        "colab": {
          "base_uri": "https://localhost:8080/",
          "height": 282
        },
        "id": "-oinVO0ieqoo",
        "outputId": "fe887a55-107c-45df-9af7-f91fb7bae90b"
      },
      "source": [
        "plt.plot(x, np.sin(x))"
      ],
      "execution_count": 202,
      "outputs": [
        {
          "output_type": "execute_result",
          "data": {
            "text/plain": [
              "[<matplotlib.lines.Line2D at 0x7f805ea743d0>]"
            ]
          },
          "metadata": {
            "tags": []
          },
          "execution_count": 202
        },
        {
          "output_type": "display_data",
          "data": {
            "image/png": "[encoded data removed]",
            "text/plain": [
              "<Figure size 432x288 with 1 Axes>"
            ]
          },
          "metadata": {
            "tags": [],
            "needs_background": "light"
          }
        }
      ]
    },
    {
      "cell_type": "code",
      "metadata": {
        "id": "XRzGhoiSerng"
      },
      "source": [
        "peaks, _ = find_peaks(np.sin(x), height=0)"
      ],
      "execution_count": 204,
      "outputs": []
    },
    {
      "cell_type": "code",
      "metadata": {
        "colab": {
          "base_uri": "https://localhost:8080/"
        },
        "id": "AQnmtVaRe1oR",
        "outputId": "de9a4019-f039-4026-a12f-48b643e28788"
      },
      "source": [
        "peaks"
      ],
      "execution_count": 206,
      "outputs": [
        {
          "output_type": "execute_result",
          "data": {
            "text/plain": [
              "array([150])"
            ]
          },
          "metadata": {
            "tags": []
          },
          "execution_count": 206
        }
      ]
    },
    {
      "cell_type": "code",
      "metadata": {
        "colab": {
          "base_uri": "https://localhost:8080/"
        },
        "id": "GrkedDMFfAVQ",
        "outputId": "260d4944-2e9e-4368-9486-5a4844ac3274"
      },
      "source": [
        "np.sin(x)[150]"
      ],
      "execution_count": 208,
      "outputs": [
        {
          "output_type": "execute_result",
          "data": {
            "text/plain": [
              "1.0"
            ]
          },
          "metadata": {
            "tags": []
          },
          "execution_count": 208
        }
      ]
    },
    {
      "cell_type": "code",
      "metadata": {
        "colab": {
          "base_uri": "https://localhost:8080/"
        },
        "id": "-nrafQJRfGdS",
        "outputId": "c6f7aa90-e85b-431e-f9e0-5c2105280f45"
      },
      "source": [
        "import scipy\n",
        "scipy"
      ],
      "execution_count": 210,
      "outputs": [
        {
          "output_type": "execute_result",
          "data": {
            "text/plain": [
              "<module 'scipy' from '/usr/local/lib/python3.7/dist-packages/scipy/__init__.py'>"
            ]
          },
          "metadata": {
            "tags": []
          },
          "execution_count": 210
        }
      ]
    },
    {
      "cell_type": "code",
      "metadata": {
        "colab": {
          "base_uri": "https://localhost:8080/"
        },
        "id": "1LAz0cK5fcPQ",
        "outputId": "445eb721-e216-41fd-8b3e-675baa62021d"
      },
      "source": [
        "! ls /usr/local/lib/python3.7/dist-packages/scipy/"
      ],
      "execution_count": 211,
      "outputs": [
        {
          "output_type": "stream",
          "text": [
            "_build_utils\t      __init__.py\t    linalg.pxd\t  sparse\n",
            "cluster\t\t      INSTALL.rst.txt\t    misc\t  spatial\n",
            "__config__.py\t      integrate\t\t    ndimage\t  special\n",
            "conftest.py\t      interpolate\t    odr\t\t  special.pxd\n",
            "constants\t      io\t\t    optimize\t  stats\n",
            "_distributor_init.py  _lib\t\t    optimize.pxd  THANKS.txt\n",
            "fft\t\t      LICENSES_bundled.txt  __pycache__   version.py\n",
            "fftpack\t\t      LICENSE.txt\t    setup.py\n",
            "HACKING.rst.txt       linalg\t\t    signal\n"
          ],
          "name": "stdout"
        }
      ]
    },
    {
      "cell_type": "markdown",
      "metadata": {
        "id": "8tpy_EOrh9bT"
      },
      "source": [
        "## How Neural Network Learns"
      ]
    },
    {
      "cell_type": "code",
      "metadata": {
        "id": "RDD5UjxEfkEx"
      },
      "source": [
        "# 3 -> 4 -> 1\n",
        "x = np.array([20,10,100])\n",
        "w1 = np.random.randn(3,4)\n",
        "b1 = np.random.randn(4)\n",
        "o1 = np.dot(x,w1) + b1"
      ],
      "execution_count": 214,
      "outputs": []
    },
    {
      "cell_type": "code",
      "metadata": {
        "id": "F4AWdn8-iBzo"
      },
      "source": [
        "o2 = sigmoid_function(o1)"
      ],
      "execution_count": 217,
      "outputs": []
    },
    {
      "cell_type": "code",
      "metadata": {
        "colab": {
          "base_uri": "https://localhost:8080/"
        },
        "id": "yGleXJ_KiL5R",
        "outputId": "b8e56df2-05a0-450e-9f21-6ce5250d62cd"
      },
      "source": [
        "w2 = np.random.randn(4,1)\n",
        "b2 = np.random.randn(1)\n",
        "np.dot(o2, w2) + b2"
      ],
      "execution_count": 219,
      "outputs": [
        {
          "output_type": "execute_result",
          "data": {
            "text/plain": [
              "array([-3.23815727])"
            ]
          },
          "metadata": {
            "tags": []
          },
          "execution_count": 219
        }
      ]
    },
    {
      "cell_type": "code",
      "metadata": {
        "id": "9QtBurb8iTuQ"
      },
      "source": [
        "def mean_squared_err(y_hat, y):\n",
        "  return 0.5 * np.sum((y_hat - y) ** 2) "
      ],
      "execution_count": 220,
      "outputs": []
    },
    {
      "cell_type": "code",
      "metadata": {
        "id": "KRpXndccj6li"
      },
      "source": [
        "def cross_entropy_err(y_hat, y):\n",
        "  delta = 1e-8\n",
        "  return -np.sum(y*np.log(y_hat + delta))"
      ],
      "execution_count": 221,
      "outputs": []
    },
    {
      "cell_type": "code",
      "metadata": {
        "colab": {
          "base_uri": "https://localhost:8080/"
        },
        "id": "rk47fCa_kM2R",
        "outputId": "17f83f2d-3f48-4efa-c0b4-40e7a35f596f"
      },
      "source": [
        "np.log(np.array([0]))"
      ],
      "execution_count": 222,
      "outputs": [
        {
          "output_type": "stream",
          "text": [
            "/usr/local/lib/python3.7/dist-packages/ipykernel_launcher.py:1: RuntimeWarning: divide by zero encountered in log\n",
            "  \"\"\"Entry point for launching an IPython kernel.\n"
          ],
          "name": "stderr"
        },
        {
          "output_type": "execute_result",
          "data": {
            "text/plain": [
              "array([-inf])"
            ]
          },
          "metadata": {
            "tags": []
          },
          "execution_count": 222
        }
      ]
    },
    {
      "cell_type": "code",
      "metadata": {
        "colab": {
          "base_uri": "https://localhost:8080/"
        },
        "id": "74uBiH_3kOtB",
        "outputId": "fd15dfa7-564b-414e-d9f8-a4ff4cc347e7"
      },
      "source": [
        "np.log(np.array([0 + 1e-8]))"
      ],
      "execution_count": 223,
      "outputs": [
        {
          "output_type": "execute_result",
          "data": {
            "text/plain": [
              "array([-18.42068074])"
            ]
          },
          "metadata": {
            "tags": []
          },
          "execution_count": 223
        }
      ]
    },
    {
      "cell_type": "code",
      "metadata": {
        "colab": {
          "base_uri": "https://localhost:8080/",
          "height": 282
        },
        "id": "mMkuHAQkkUGh",
        "outputId": "618b685c-4b36-4980-d21d-885939c07801"
      },
      "source": [
        "def func(x):\n",
        "  return x ** 2\n",
        "\n",
        "x_ = np.arange(-3,3.1,0.1)\n",
        "y_ = func(x_)\n",
        "plt.plot(x_,y_)"
      ],
      "execution_count": 226,
      "outputs": [
        {
          "output_type": "execute_result",
          "data": {
            "text/plain": [
              "[<matplotlib.lines.Line2D at 0x7f805402be90>]"
            ]
          },
          "metadata": {
            "tags": []
          },
          "execution_count": 226
        },
        {
          "output_type": "display_data",
          "data": {
            "image/png": "[encoded data removed]",
            "text/plain": [
              "<Figure size 432x288 with 1 Axes>"
            ]
          },
          "metadata": {
            "tags": [],
            "needs_background": "light"
          }
        }
      ]
    },
    {
      "cell_type": "code",
      "metadata": {
        "id": "Kce269y9mC2z"
      },
      "source": [
        "def dfunc(f, x):\n",
        "  h = 1e-4\n",
        "  return (f(x+h) - f(x)) / h"
      ],
      "execution_count": 229,
      "outputs": []
    },
    {
      "cell_type": "code",
      "metadata": {
        "colab": {
          "base_uri": "https://localhost:8080/"
        },
        "id": "UHkqNLw8mcMy",
        "outputId": "07b92074-8990-4996-87bc-7f45347f4f41"
      },
      "source": [
        "dfunc(func, 3)"
      ],
      "execution_count": 230,
      "outputs": [
        {
          "output_type": "execute_result",
          "data": {
            "text/plain": [
              "6.000100000012054"
            ]
          },
          "metadata": {
            "tags": []
          },
          "execution_count": 230
        }
      ]
    },
    {
      "cell_type": "code",
      "metadata": {
        "id": "iNT_FIQimffB"
      },
      "source": [
        "# 切線函數\n",
        "def tfunc(f, x, t):\n",
        "  d = dfunc(f, x)\n",
        "  y = f(x) - d*x\n",
        "  return d*t + y"
      ],
      "execution_count": 231,
      "outputs": []
    },
    {
      "cell_type": "code",
      "metadata": {
        "colab": {
          "base_uri": "https://localhost:8080/",
          "height": 282
        },
        "id": "79midpwnmyEH",
        "outputId": "30565a04-36be-4bbe-b79c-26df9d5383d4"
      },
      "source": [
        "# 繪製x ^ 2\n",
        "x = np.arange(-6, 6, 0.01)\n",
        "y = func(x)\n",
        "plt.plot(x, y)\n",
        "\n",
        "# 繪製x = 3 時的切線\n",
        "x2 = np.arange(0, 5, 0.01)\n",
        "y2 = tfunc(func, 3, x2)\n",
        "plt.plot(x2, y2)"
      ],
      "execution_count": 232,
      "outputs": [
        {
          "output_type": "execute_result",
          "data": {
            "text/plain": [
              "[<matplotlib.lines.Line2D at 0x7f8053f9b510>]"
            ]
          },
          "metadata": {
            "tags": []
          },
          "execution_count": 232
        },
        {
          "output_type": "display_data",
          "data": {
            "image/png": "[encoded data removed]",
            "text/plain": [
              "<Figure size 432x288 with 1 Axes>"
            ]
          },
          "metadata": {
            "tags": [],
            "needs_background": "light"
          }
        }
      ]
    },
    {
      "cell_type": "code",
      "metadata": {
        "colab": {
          "base_uri": "https://localhost:8080/"
        },
        "id": "ZbCm2o51m0NS",
        "outputId": "3029d2bc-81db-410a-e102-f24d7d57e74f"
      },
      "source": [
        "x = 3\n",
        "y = dfunc(func, 3)\n",
        "x,y"
      ],
      "execution_count": 233,
      "outputs": [
        {
          "output_type": "execute_result",
          "data": {
            "text/plain": [
              "(3, 6.000100000012054)"
            ]
          },
          "metadata": {
            "tags": []
          },
          "execution_count": 233
        }
      ]
    },
    {
      "cell_type": "code",
      "metadata": {
        "colab": {
          "base_uri": "https://localhost:8080/"
        },
        "id": "u3tixQg-nINi",
        "outputId": "036e2d9b-2f0f-44a8-cbfe-3379adab7575"
      },
      "source": [
        "3 - dfunc(func, 3)"
      ],
      "execution_count": 234,
      "outputs": [
        {
          "output_type": "execute_result",
          "data": {
            "text/plain": [
              "-3.000100000012054"
            ]
          },
          "metadata": {
            "tags": []
          },
          "execution_count": 234
        }
      ]
    },
    {
      "cell_type": "code",
      "metadata": {
        "colab": {
          "base_uri": "https://localhost:8080/"
        },
        "id": "ltxwhCwenONy",
        "outputId": "5b407f70-c970-4dfc-8e90-2087451aab9a"
      },
      "source": [
        "dfunc(func, -3)"
      ],
      "execution_count": 235,
      "outputs": [
        {
          "output_type": "execute_result",
          "data": {
            "text/plain": [
              "-5.99990000001327"
            ]
          },
          "metadata": {
            "tags": []
          },
          "execution_count": 235
        }
      ]
    },
    {
      "cell_type": "code",
      "metadata": {
        "colab": {
          "base_uri": "https://localhost:8080/"
        },
        "id": "rafSxwpfnVrC",
        "outputId": "8bfc7315-1e45-44f2-9517-9e1dbae9c135"
      },
      "source": [
        "-3.0 - -6"
      ],
      "execution_count": 236,
      "outputs": [
        {
          "output_type": "execute_result",
          "data": {
            "text/plain": [
              "3.0"
            ]
          },
          "metadata": {
            "tags": []
          },
          "execution_count": 236
        }
      ]
    },
    {
      "cell_type": "code",
      "metadata": {
        "id": "HjlMAdMLnYmC"
      },
      "source": [
        "def gradient_descent(func, init_x, lr = 0.3, epochs = 100):\n",
        "  x = init_x\n",
        "  res = [x]\n",
        "  for i in range(epochs):\n",
        "    grad = dfunc(func,x)\n",
        "    x = x - grad * lr\n",
        "    res.append(x)\n",
        "  return np.array(res)"
      ],
      "execution_count": 237,
      "outputs": []
    },
    {
      "cell_type": "code",
      "metadata": {
        "id": "Jq6Z0svXoVYE"
      },
      "source": [
        "#gradient_descent(func, 3, lr = 0.3)"
      ],
      "execution_count": 240,
      "outputs": []
    },
    {
      "cell_type": "code",
      "metadata": {
        "colab": {
          "base_uri": "https://localhost:8080/",
          "height": 282
        },
        "id": "SI9lnBeCoZ2i",
        "outputId": "e04e561d-bfc1-4c18-85b9-2cdc545f9271"
      },
      "source": [
        "x = gradient_descent(func, 3, lr=0.8)\n",
        "t = np.arange(-6.0, 6.0, 0.01)\n",
        "plt.plot(t, func(t), c='b')\n",
        "plt.plot(x, func(x), c='r')\n",
        "plt.scatter(x, func(x), c='r')"
      ],
      "execution_count": 242,
      "outputs": [
        {
          "output_type": "execute_result",
          "data": {
            "text/plain": [
              "<matplotlib.collections.PathCollection at 0x7f805417d090>"
            ]
          },
          "metadata": {
            "tags": []
          },
          "execution_count": 242
        },
        {
          "output_type": "display_data",
          "data": {
            "image/png": "[encoded data removed]",
            "text/plain": [
              "<Figure size 432x288 with 1 Axes>"
            ]
          },
          "metadata": {
            "tags": [],
            "needs_background": "light"
          }
        }
      ]
    },
    {
      "cell_type": "code",
      "metadata": {
        "colab": {
          "base_uri": "https://localhost:8080/",
          "height": 282
        },
        "id": "YziTNaNuosoB",
        "outputId": "0a5684b0-09cf-4ec6-ec20-85161841f6ce"
      },
      "source": [
        "x = gradient_descent(func, 3, lr=1)\n",
        "t = np.arange(-6.0, 6.0, 0.01)\n",
        "plt.plot(t, func(t), c='b')\n",
        "plt.plot(x, func(x), c='r')\n",
        "plt.scatter(x, func(x), c='r')"
      ],
      "execution_count": 243,
      "outputs": [
        {
          "output_type": "execute_result",
          "data": {
            "text/plain": [
              "<matplotlib.collections.PathCollection at 0x7f8053ea4650>"
            ]
          },
          "metadata": {
            "tags": []
          },
          "execution_count": 243
        },
        {
          "output_type": "display_data",
          "data": {
            "image/png": "[encoded data removed]",
            "text/plain": [
              "<Figure size 432x288 with 1 Axes>"
            ]
          },
          "metadata": {
            "tags": [],
            "needs_background": "light"
          }
        }
      ]
    },
    {
      "cell_type": "code",
      "metadata": {
        "colab": {
          "base_uri": "https://localhost:8080/",
          "height": 282
        },
        "id": "MZqpQRIBo3Di",
        "outputId": "eac009be-860f-4f56-c5f3-a8406545e729"
      },
      "source": [
        "x = gradient_descent(func, 3, lr=0.01)\n",
        "t = np.arange(-6.0, 6.0, 0.01)\n",
        "plt.plot(t, func(t), c='b')\n",
        "plt.plot(x, func(x), c='r')\n",
        "plt.scatter(x, func(x), c='r')"
      ],
      "execution_count": 244,
      "outputs": [
        {
          "output_type": "execute_result",
          "data": {
            "text/plain": [
              "<matplotlib.collections.PathCollection at 0x7f8053e70310>"
            ]
          },
          "metadata": {
            "tags": []
          },
          "execution_count": 244
        },
        {
          "output_type": "display_data",
          "data": {
            "image/png": "[encoded data removed]",
            "text/plain": [
              "<Figure size 432x288 with 1 Axes>"
            ]
          },
          "metadata": {
            "tags": [],
            "needs_background": "light"
          }
        }
      ]
    },
    {
      "cell_type": "markdown",
      "metadata": {
        "id": "7pKLDNasp2HW"
      },
      "source": [
        "## Calculate Gradient"
      ]
    },
    {
      "cell_type": "code",
      "metadata": {
        "colab": {
          "base_uri": "https://localhost:8080/"
        },
        "id": "Bt9RNkCDqBK8",
        "outputId": "aa422cb3-d606-4d16-aeb4-1ec8f793b74e"
      },
      "source": [
        "np.random.seed(42)\n",
        "np.random.randint(1,46,6)"
      ],
      "execution_count": 251,
      "outputs": [
        {
          "output_type": "execute_result",
          "data": {
            "text/plain": [
              "array([39, 29, 15, 43,  8, 21])"
            ]
          },
          "metadata": {
            "tags": []
          },
          "execution_count": 251
        }
      ]
    },
    {
      "cell_type": "code",
      "metadata": {
        "id": "LR6JSwVYqwPw"
      },
      "source": [
        "def cross_entropy_err(y_hat, y):\n",
        "  delta = 1e-8\n",
        "  return -np.sum(y*np.log(y_hat + delta))"
      ],
      "execution_count": 256,
      "outputs": []
    },
    {
      "cell_type": "code",
      "metadata": {
        "id": "ATANvKbuo7Xi"
      },
      "source": [
        "x = np.array([0.6, 0.9])\n",
        "\n",
        "np.random.seed(42)\n",
        "weight = np.random.randn(2,3)\n",
        "\n",
        "z = np.dot(x, weight)"
      ],
      "execution_count": 272,
      "outputs": []
    },
    {
      "cell_type": "code",
      "metadata": {
        "colab": {
          "base_uri": "https://localhost:8080/"
        },
        "id": "fDPjMfZqqTf4",
        "outputId": "afa7936a-c98b-4158-f995-db51151a6b7f"
      },
      "source": [
        "y_hat = softmax_function(z)\n",
        "y_hat"
      ],
      "execution_count": 273,
      "outputs": [
        {
          "output_type": "execute_result",
          "data": {
            "text/plain": [
              "array([0.73222998, 0.10288817, 0.16488185])"
            ]
          },
          "metadata": {
            "tags": []
          },
          "execution_count": 273
        }
      ]
    },
    {
      "cell_type": "code",
      "metadata": {
        "id": "08L0FSzQqZ8q"
      },
      "source": [
        "y = np.array([0, 0, 1])"
      ],
      "execution_count": 274,
      "outputs": []
    },
    {
      "cell_type": "code",
      "metadata": {
        "colab": {
          "base_uri": "https://localhost:8080/"
        },
        "id": "YT8s3NfWqmRN",
        "outputId": "14203b55-0856-4801-950f-cc2bbe44ce56"
      },
      "source": [
        "cross_entropy_err(y_hat, y)"
      ],
      "execution_count": 275,
      "outputs": [
        {
          "output_type": "execute_result",
          "data": {
            "text/plain": [
              "1.8025260716416405"
            ]
          },
          "metadata": {
            "tags": []
          },
          "execution_count": 275
        }
      ]
    },
    {
      "cell_type": "code",
      "metadata": {
        "id": "mrV64RjiqyeM"
      },
      "source": [
        "def dfunc(f, x):\n",
        "  h = 1e-4\n",
        "  grad = np.zeros_like(x)\n",
        "  it = np.nditer(x, flags=['multi_index'])\n",
        "  while not it.finished:\n",
        "    idx = it.multi_index\n",
        "    tmp_val = x[idx]\n",
        "    \n",
        "    # gradient\n",
        "    x[idx] = float(tmp_val) + h\n",
        "    fxh1 = f(x) # f(x+h)\n",
        "    x[idx] = tmp_val - h\n",
        "    fxh2 = f(x) # f(x-h)\n",
        "    grad[idx] = (fxh1 - fxh2) / (2*h)\n",
        "\n",
        "    x[idx] = tmp_val\n",
        "    it.iternext()\n",
        "  return grad"
      ],
      "execution_count": 276,
      "outputs": []
    },
    {
      "cell_type": "code",
      "metadata": {
        "colab": {
          "base_uri": "https://localhost:8080/"
        },
        "id": "qhJ5ZUUvrOA4",
        "outputId": "4c23f0f9-81ae-4f15-e5c7-a4bab8ccd824"
      },
      "source": [
        "weight.shape"
      ],
      "execution_count": 258,
      "outputs": [
        {
          "output_type": "execute_result",
          "data": {
            "text/plain": [
              "(2, 3)"
            ]
          },
          "metadata": {
            "tags": []
          },
          "execution_count": 258
        }
      ]
    },
    {
      "cell_type": "code",
      "metadata": {
        "colab": {
          "base_uri": "https://localhost:8080/"
        },
        "id": "f0Oq9T2OrOkv",
        "outputId": "f8bb6dc6-f1fb-455b-9311-8c30aebdfab2"
      },
      "source": [
        "#np.zeros_like(weight)"
      ],
      "execution_count": 259,
      "outputs": [
        {
          "output_type": "execute_result",
          "data": {
            "text/plain": [
              "array([[0., 0., 0.],\n",
              "       [0., 0., 0.]])"
            ]
          },
          "metadata": {
            "tags": []
          },
          "execution_count": 259
        }
      ]
    },
    {
      "cell_type": "code",
      "metadata": {
        "colab": {
          "base_uri": "https://localhost:8080/"
        },
        "id": "AMERnoQPrSoi",
        "outputId": "a9c30938-a67a-4204-f821-8e78185782d7"
      },
      "source": [
        "#it = np.nditer(weight, flags=['multi_index'])\n",
        "#while not it.finished:\n",
        "#  idx = it.multi_index\n",
        "#  print(idx)\n",
        "#  it.iternext()\n"
      ],
      "execution_count": 263,
      "outputs": [
        {
          "output_type": "stream",
          "text": [
            "(0, 0)\n",
            "(0, 1)\n",
            "(0, 2)\n",
            "(1, 0)\n",
            "(1, 1)\n",
            "(1, 2)\n"
          ],
          "name": "stdout"
        }
      ]
    },
    {
      "cell_type": "code",
      "metadata": {
        "id": "FtFUdtFJrX6T"
      },
      "source": [
        "def predict(x):\n",
        "  return np.dot(x, weight)"
      ],
      "execution_count": 277,
      "outputs": []
    },
    {
      "cell_type": "code",
      "metadata": {
        "colab": {
          "base_uri": "https://localhost:8080/"
        },
        "id": "-UoTHXcRr2yW",
        "outputId": "2d7d8250-abce-4f33-9762-5c6fe8b9f3d2"
      },
      "source": [
        "predict(x)"
      ],
      "execution_count": 278,
      "outputs": [
        {
          "output_type": "execute_result",
          "data": {
            "text/plain": [
              "array([ 1.66875536, -0.29369662,  0.17788986])"
            ]
          },
          "metadata": {
            "tags": []
          },
          "execution_count": 278
        }
      ]
    },
    {
      "cell_type": "code",
      "metadata": {
        "id": "17Vt8Zw8r4r1"
      },
      "source": [
        "def loss(x, y):\n",
        "  z = predict(x)\n",
        "  y_hat = softmax_function(z)\n",
        "  loss = cross_entropy_err(y_hat, y)\n",
        "  return loss"
      ],
      "execution_count": 279,
      "outputs": []
    },
    {
      "cell_type": "code",
      "metadata": {
        "colab": {
          "base_uri": "https://localhost:8080/"
        },
        "id": "TiEzpaJAr9V3",
        "outputId": "bad418de-63cf-4005-86b2-d5a025cf55aa"
      },
      "source": [
        "loss(x, y)"
      ],
      "execution_count": 280,
      "outputs": [
        {
          "output_type": "execute_result",
          "data": {
            "text/plain": [
              "1.8025260716416405"
            ]
          },
          "metadata": {
            "tags": []
          },
          "execution_count": 280
        }
      ]
    },
    {
      "cell_type": "code",
      "metadata": {
        "id": "RimrC168r_u3"
      },
      "source": [
        "func = lambda w: loss(x, y)"
      ],
      "execution_count": 281,
      "outputs": []
    },
    {
      "cell_type": "code",
      "metadata": {
        "colab": {
          "base_uri": "https://localhost:8080/"
        },
        "id": "jJUBQymvsFMn",
        "outputId": "013b9b8c-8934-4c94-bf6f-9a078891e0dc"
      },
      "source": [
        "g = dfunc(func, weight)\n",
        "g"
      ],
      "execution_count": 283,
      "outputs": [
        {
          "output_type": "execute_result",
          "data": {
            "text/plain": [
              "array([[ 0.43933796,  0.0617329 , -0.50107086],\n",
              "       [ 0.65900694,  0.09259935, -0.75160629]])"
            ]
          },
          "metadata": {
            "tags": []
          },
          "execution_count": 283
        }
      ]
    },
    {
      "cell_type": "code",
      "metadata": {
        "id": "1i1GbflwsNT6"
      },
      "source": [
        "for i in range(100):\n",
        "  g = dfunc(func, weight)\n",
        "  weight = weight - g * 0.8"
      ],
      "execution_count": 284,
      "outputs": []
    },
    {
      "cell_type": "code",
      "metadata": {
        "colab": {
          "base_uri": "https://localhost:8080/"
        },
        "id": "5zS4vFkqs8ml",
        "outputId": "1e838c92-80d5-4337-c4a7-38c147fe3cc8"
      },
      "source": [
        "weight"
      ],
      "execution_count": 285,
      "outputs": [
        {
          "output_type": "execute_result",
          "data": {
            "text/plain": [
              "array([[-0.99008536, -0.75474593,  2.75096967],\n",
              "       [-0.70716941, -1.15887581,  2.92078475]])"
            ]
          },
          "metadata": {
            "tags": []
          },
          "execution_count": 285
        }
      ]
    },
    {
      "cell_type": "code",
      "metadata": {
        "colab": {
          "base_uri": "https://localhost:8080/"
        },
        "id": "h7LwFQzZs9jP",
        "outputId": "91d3364d-6aab-429a-bf40-c891c6865c71"
      },
      "source": [
        "predict(x)"
      ],
      "execution_count": 286,
      "outputs": [
        {
          "output_type": "execute_result",
          "data": {
            "text/plain": [
              "array([-1.23050368, -1.49583579,  4.27928807])"
            ]
          },
          "metadata": {
            "tags": []
          },
          "execution_count": 286
        }
      ]
    },
    {
      "cell_type": "code",
      "metadata": {
        "colab": {
          "base_uri": "https://localhost:8080/"
        },
        "id": "zxIC3IgItAqf",
        "outputId": "a57f3158-f33a-45a4-a5b2-f41d630040a6"
      },
      "source": [
        "softmax_function(predict(x))"
      ],
      "execution_count": 287,
      "outputs": [
        {
          "output_type": "execute_result",
          "data": {
            "text/plain": [
              "array([0.00401822, 0.00308178, 0.99290001])"
            ]
          },
          "metadata": {
            "tags": []
          },
          "execution_count": 287
        }
      ]
    },
    {
      "cell_type": "code",
      "metadata": {
        "id": "11eTCfVItHZh"
      },
      "source": [
        ""
      ],
      "execution_count": null,
      "outputs": []
    }
  ]
}