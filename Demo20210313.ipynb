{
  "nbformat": 4,
  "nbformat_minor": 0,
  "metadata": {
    "colab": {
      "name": "Demo20210313.ipynb",
      "provenance": [],
      "collapsed_sections": [],
      "machine_shape": "hm"
    },
    "kernelspec": {
      "name": "python3",
      "display_name": "Python 3"
    },
    "accelerator": "GPU"
  },
  "cells": [
    {
      "cell_type": "code",
      "metadata": {
        "colab": {
          "base_uri": "https://localhost:8080/"
        },
        "id": "5b_b7ojDXT4s",
        "outputId": "c713bbbc-e5cc-4dbe-e41c-8c0a983df9ba"
      },
      "source": [
        "! nvidia-smi"
      ],
      "execution_count": null,
      "outputs": [
        {
          "output_type": "stream",
          "text": [
            "Sat Mar 13 02:18:06 2021       \n",
            "+-----------------------------------------------------------------------------+\n",
            "| NVIDIA-SMI 460.56       Driver Version: 460.32.03    CUDA Version: 11.2     |\n",
            "|-------------------------------+----------------------+----------------------+\n",
            "| GPU  Name        Persistence-M| Bus-Id        Disp.A | Volatile Uncorr. ECC |\n",
            "| Fan  Temp  Perf  Pwr:Usage/Cap|         Memory-Usage | GPU-Util  Compute M. |\n",
            "|                               |                      |               MIG M. |\n",
            "|===============================+======================+======================|\n",
            "|   0  Tesla P100-PCIE...  Off  | 00000000:00:04.0 Off |                    0 |\n",
            "| N/A   40C    P0    27W / 250W |      0MiB / 16280MiB |      0%      Default |\n",
            "|                               |                      |                  N/A |\n",
            "+-------------------------------+----------------------+----------------------+\n",
            "                                                                               \n",
            "+-----------------------------------------------------------------------------+\n",
            "| Processes:                                                                  |\n",
            "|  GPU   GI   CI        PID   Type   Process name                  GPU Memory |\n",
            "|        ID   ID                                                   Usage      |\n",
            "|=============================================================================|\n",
            "|  No running processes found                                                 |\n",
            "+-----------------------------------------------------------------------------+\n"
          ],
          "name": "stdout"
        }
      ]
    },
    {
      "cell_type": "markdown",
      "metadata": {
        "id": "XkDlt77qcwHM"
      },
      "source": [
        "## Python Basic"
      ]
    },
    {
      "cell_type": "markdown",
      "metadata": {
        "id": "C8Vq0Zo1jFbN"
      },
      "source": [
        "### Numeric"
      ]
    },
    {
      "cell_type": "code",
      "metadata": {
        "colab": {
          "base_uri": "https://localhost:8080/"
        },
        "id": "1n2OJt1ncKXd",
        "outputId": "f63b2eac-9dda-417e-d569-d530d432f0e1"
      },
      "source": [
        "3 + 2"
      ],
      "execution_count": null,
      "outputs": [
        {
          "output_type": "execute_result",
          "data": {
            "text/plain": [
              "5"
            ]
          },
          "metadata": {
            "tags": []
          },
          "execution_count": 4
        }
      ]
    },
    {
      "cell_type": "code",
      "metadata": {
        "colab": {
          "base_uri": "https://localhost:8080/"
        },
        "id": "1xazGC4vcgp0",
        "outputId": "3eb4c089-2e84-4d0e-83ec-1b7643b217a5"
      },
      "source": [
        "3+2*8"
      ],
      "execution_count": null,
      "outputs": [
        {
          "output_type": "execute_result",
          "data": {
            "text/plain": [
              "19"
            ]
          },
          "metadata": {
            "tags": []
          },
          "execution_count": 6
        }
      ]
    },
    {
      "cell_type": "code",
      "metadata": {
        "colab": {
          "base_uri": "https://localhost:8080/"
        },
        "id": "PJUawv3seHak",
        "outputId": "21e97c71-86ed-4389-c751-3a578c9465a6"
      },
      "source": [
        "2+1"
      ],
      "execution_count": null,
      "outputs": [
        {
          "output_type": "execute_result",
          "data": {
            "text/plain": [
              "3"
            ]
          },
          "metadata": {
            "tags": []
          },
          "execution_count": 7
        }
      ]
    },
    {
      "cell_type": "code",
      "metadata": {
        "colab": {
          "base_uri": "https://localhost:8080/"
        },
        "id": "_iHHcT6ReLBT",
        "outputId": "27f098a2-7b34-4b36-813a-17b53264f6d0"
      },
      "source": [
        "2-1"
      ],
      "execution_count": null,
      "outputs": [
        {
          "output_type": "execute_result",
          "data": {
            "text/plain": [
              "1"
            ]
          },
          "metadata": {
            "tags": []
          },
          "execution_count": 8
        }
      ]
    },
    {
      "cell_type": "code",
      "metadata": {
        "colab": {
          "base_uri": "https://localhost:8080/"
        },
        "id": "Xaw_5TwGeLlk",
        "outputId": "f6fb2104-3857-4372-ae8f-b11c9a872415"
      },
      "source": [
        "2*3"
      ],
      "execution_count": null,
      "outputs": [
        {
          "output_type": "execute_result",
          "data": {
            "text/plain": [
              "6"
            ]
          },
          "metadata": {
            "tags": []
          },
          "execution_count": 9
        }
      ]
    },
    {
      "cell_type": "code",
      "metadata": {
        "colab": {
          "base_uri": "https://localhost:8080/"
        },
        "id": "SQxqbhGaeMYj",
        "outputId": "392b1c15-199f-4aa8-e3b6-6630e31f362b"
      },
      "source": [
        "3/2"
      ],
      "execution_count": null,
      "outputs": [
        {
          "output_type": "execute_result",
          "data": {
            "text/plain": [
              "1.5"
            ]
          },
          "metadata": {
            "tags": []
          },
          "execution_count": 10
        }
      ]
    },
    {
      "cell_type": "code",
      "metadata": {
        "colab": {
          "base_uri": "https://localhost:8080/"
        },
        "id": "qAjtXnfdeNa0",
        "outputId": "fb27203d-90db-488b-e497-c660f3390f8e"
      },
      "source": [
        "2**3"
      ],
      "execution_count": null,
      "outputs": [
        {
          "output_type": "execute_result",
          "data": {
            "text/plain": [
              "8"
            ]
          },
          "metadata": {
            "tags": []
          },
          "execution_count": 11
        }
      ]
    },
    {
      "cell_type": "code",
      "metadata": {
        "colab": {
          "base_uri": "https://localhost:8080/"
        },
        "id": "pAsdAKaHea2j",
        "outputId": "75ea37b0-e010-44d9-f93f-a1f09c91f659"
      },
      "source": [
        "4**.5"
      ],
      "execution_count": null,
      "outputs": [
        {
          "output_type": "execute_result",
          "data": {
            "text/plain": [
              "2.0"
            ]
          },
          "metadata": {
            "tags": []
          },
          "execution_count": 12
        }
      ]
    },
    {
      "cell_type": "code",
      "metadata": {
        "colab": {
          "base_uri": "https://localhost:8080/"
        },
        "id": "N6CDOd7XegID",
        "outputId": "5e746a91-ed89-4b38-8957-cfcc7cff661d"
      },
      "source": [
        "2+10*10+3"
      ],
      "execution_count": null,
      "outputs": [
        {
          "output_type": "execute_result",
          "data": {
            "text/plain": [
              "105"
            ]
          },
          "metadata": {
            "tags": []
          },
          "execution_count": 13
        }
      ]
    },
    {
      "cell_type": "code",
      "metadata": {
        "colab": {
          "base_uri": "https://localhost:8080/"
        },
        "id": "GcdZ9NFueiaj",
        "outputId": "82661e56-52fa-47da-9b61-95bfbef0aa09"
      },
      "source": [
        "(2+10)*(10+3)"
      ],
      "execution_count": null,
      "outputs": [
        {
          "output_type": "execute_result",
          "data": {
            "text/plain": [
              "156"
            ]
          },
          "metadata": {
            "tags": []
          },
          "execution_count": 14
        }
      ]
    },
    {
      "cell_type": "code",
      "metadata": {
        "id": "8rGz_l_vendD"
      },
      "source": [
        "a = 5"
      ],
      "execution_count": null,
      "outputs": []
    },
    {
      "cell_type": "code",
      "metadata": {
        "colab": {
          "base_uri": "https://localhost:8080/"
        },
        "id": "iCbzKR4be0VD",
        "outputId": "177fd416-f4cc-4c93-cb7e-21db600149d4"
      },
      "source": [
        "a + 3"
      ],
      "execution_count": null,
      "outputs": [
        {
          "output_type": "execute_result",
          "data": {
            "text/plain": [
              "8"
            ]
          },
          "metadata": {
            "tags": []
          },
          "execution_count": 16
        }
      ]
    },
    {
      "cell_type": "code",
      "metadata": {
        "id": "grBfI3W1e2Gj"
      },
      "source": [
        "a = a + a"
      ],
      "execution_count": null,
      "outputs": []
    },
    {
      "cell_type": "code",
      "metadata": {
        "colab": {
          "base_uri": "https://localhost:8080/"
        },
        "id": "otITcVYQe8WD",
        "outputId": "5c76968a-8e8c-4fbb-9129-42a9a522201a"
      },
      "source": [
        "a"
      ],
      "execution_count": null,
      "outputs": [
        {
          "output_type": "execute_result",
          "data": {
            "text/plain": [
              "10"
            ]
          },
          "metadata": {
            "tags": []
          },
          "execution_count": 18
        }
      ]
    },
    {
      "cell_type": "code",
      "metadata": {
        "id": "N-f1s96We84j"
      },
      "source": [
        "price = 49.99\r\n",
        "exchange_rate = 28.8"
      ],
      "execution_count": null,
      "outputs": []
    },
    {
      "cell_type": "code",
      "metadata": {
        "id": "8Gj0JMLKfKZj"
      },
      "source": [
        "ntd_price = price * exchange_rate"
      ],
      "execution_count": null,
      "outputs": []
    },
    {
      "cell_type": "code",
      "metadata": {
        "colab": {
          "base_uri": "https://localhost:8080/"
        },
        "id": "B_pmGHwwfcsT",
        "outputId": "29f45415-9b05-4cb3-ea85-cdd9a0e3d67e"
      },
      "source": [
        "ntd_price"
      ],
      "execution_count": null,
      "outputs": [
        {
          "output_type": "execute_result",
          "data": {
            "text/plain": [
              "1439.712"
            ]
          },
          "metadata": {
            "tags": []
          },
          "execution_count": 22
        }
      ]
    },
    {
      "cell_type": "markdown",
      "metadata": {
        "id": "wQ52xbYgjPit"
      },
      "source": [
        "### String"
      ]
    },
    {
      "cell_type": "code",
      "metadata": {
        "id": "sFUW-r9ofefj",
        "colab": {
          "base_uri": "https://localhost:8080/",
          "height": 35
        },
        "outputId": "89b1919a-f3fe-4515-b9b7-41a22ca621d0"
      },
      "source": [
        "'this is a string'"
      ],
      "execution_count": 23,
      "outputs": [
        {
          "output_type": "execute_result",
          "data": {
            "application/vnd.google.colaboratory.intrinsic+json": {
              "type": "string"
            },
            "text/plain": [
              "'this is a string'"
            ]
          },
          "metadata": {
            "tags": []
          },
          "execution_count": 23
        }
      ]
    },
    {
      "cell_type": "code",
      "metadata": {
        "colab": {
          "base_uri": "https://localhost:8080/",
          "height": 35
        },
        "id": "-3EV2UF0jWi8",
        "outputId": "71588c74-7b6b-471a-c708-c137e300b07a"
      },
      "source": [
        "\"this is a string\""
      ],
      "execution_count": 24,
      "outputs": [
        {
          "output_type": "execute_result",
          "data": {
            "application/vnd.google.colaboratory.intrinsic+json": {
              "type": "string"
            },
            "text/plain": [
              "'this is a string'"
            ]
          },
          "metadata": {
            "tags": []
          },
          "execution_count": 24
        }
      ]
    },
    {
      "cell_type": "code",
      "metadata": {
        "colab": {
          "base_uri": "https://localhost:8080/",
          "height": 35
        },
        "id": "wd9HQf10jZFj",
        "outputId": "77814f50-4688-4725-a55c-da95299b09f5"
      },
      "source": [
        "\"hello\"\r\n",
        "\"world\""
      ],
      "execution_count": 25,
      "outputs": [
        {
          "output_type": "execute_result",
          "data": {
            "application/vnd.google.colaboratory.intrinsic+json": {
              "type": "string"
            },
            "text/plain": [
              "'world'"
            ]
          },
          "metadata": {
            "tags": []
          },
          "execution_count": 25
        }
      ]
    },
    {
      "cell_type": "code",
      "metadata": {
        "colab": {
          "base_uri": "https://localhost:8080/"
        },
        "id": "VoZNOA7Ujjrj",
        "outputId": "f930eede-43d2-4452-e625-a9626fa659aa"
      },
      "source": [
        "print(\"hello\")\r\n",
        "print('world')"
      ],
      "execution_count": 26,
      "outputs": [
        {
          "output_type": "stream",
          "text": [
            "hello\n",
            "world\n"
          ],
          "name": "stdout"
        }
      ]
    },
    {
      "cell_type": "code",
      "metadata": {
        "colab": {
          "base_uri": "https://localhost:8080/"
        },
        "id": "ho8avw77jrkE",
        "outputId": "8d10eeff-7d95-47de-858a-e53d2f17f339"
      },
      "source": [
        "print(\"我要吃鳳梨\")"
      ],
      "execution_count": 27,
      "outputs": [
        {
          "output_type": "stream",
          "text": [
            "我要吃鳳梨\n"
          ],
          "name": "stdout"
        }
      ]
    },
    {
      "cell_type": "code",
      "metadata": {
        "colab": {
          "base_uri": "https://localhost:8080/"
        },
        "id": "wCATYBVIkO4z",
        "outputId": "510bab23-53fb-4b43-aed5-04fbcca87a65"
      },
      "source": [
        "print(\"this is the first line \\nthis is the second line\")"
      ],
      "execution_count": 28,
      "outputs": [
        {
          "output_type": "stream",
          "text": [
            "this is the first line \n",
            "this is the second line\n"
          ],
          "name": "stdout"
        }
      ]
    },
    {
      "cell_type": "code",
      "metadata": {
        "colab": {
          "base_uri": "https://localhost:8080/"
        },
        "id": "8D9XoIHLkaQE",
        "outputId": "74438b92-e5c5-4e65-b651-6d469db4bd1e"
      },
      "source": [
        "print(\"1 2 3\\n100 200 300\")"
      ],
      "execution_count": 29,
      "outputs": [
        {
          "output_type": "stream",
          "text": [
            "1 2 3\n",
            "100 200 300\n"
          ],
          "name": "stdout"
        }
      ]
    },
    {
      "cell_type": "code",
      "metadata": {
        "colab": {
          "base_uri": "https://localhost:8080/"
        },
        "id": "1zsQXsBKklyD",
        "outputId": "804d72fd-d63e-464c-8cca-8ab3458a1ce4"
      },
      "source": [
        "print(\"1\\t2\\t3\\n100\\t200\\t300\")"
      ],
      "execution_count": 30,
      "outputs": [
        {
          "output_type": "stream",
          "text": [
            "1\t2\t3\n",
            "100\t200\t300\n"
          ],
          "name": "stdout"
        }
      ]
    },
    {
      "cell_type": "code",
      "metadata": {
        "colab": {
          "base_uri": "https://localhost:8080/",
          "height": 35
        },
        "id": "HfTM4o89ks7D",
        "outputId": "c311116e-b5c3-4503-c216-42dd3ebc1c38"
      },
      "source": [
        "a = \"this is a loooooooooooooooooooooooooooooooooooooooooooooooooooooooooooong line\"\r\n",
        "a"
      ],
      "execution_count": 31,
      "outputs": [
        {
          "output_type": "execute_result",
          "data": {
            "application/vnd.google.colaboratory.intrinsic+json": {
              "type": "string"
            },
            "text/plain": [
              "'this is a loooooooooooooooooooooooooooooooooooooooooooooooooooooooooooong line'"
            ]
          },
          "metadata": {
            "tags": []
          },
          "execution_count": 31
        }
      ]
    },
    {
      "cell_type": "code",
      "metadata": {
        "colab": {
          "base_uri": "https://localhost:8080/",
          "height": 35
        },
        "id": "yxFlbifLlIkT",
        "outputId": "159a2f0c-1b45-4612-e423-d0f6ee0f38de"
      },
      "source": [
        "a = \"this is a looooooooooooooooooooooo\\\r\n",
        "ooooooooooooooooooooooooooooooooooooong line\"\r\n",
        "a"
      ],
      "execution_count": 32,
      "outputs": [
        {
          "output_type": "execute_result",
          "data": {
            "application/vnd.google.colaboratory.intrinsic+json": {
              "type": "string"
            },
            "text/plain": [
              "'this is a loooooooooooooooooooooooooooooooooooooooooooooooooooooooooooong line'"
            ]
          },
          "metadata": {
            "tags": []
          },
          "execution_count": 32
        }
      ]
    },
    {
      "cell_type": "code",
      "metadata": {
        "id": "R0B6XNSxlMcj"
      },
      "source": [
        "a = \"\"\"\r\n",
        "this is the first line\r\n",
        "thie is the second line\r\n",
        "\r\n",
        "\"\"\""
      ],
      "execution_count": 33,
      "outputs": []
    },
    {
      "cell_type": "code",
      "metadata": {
        "colab": {
          "base_uri": "https://localhost:8080/",
          "height": 35
        },
        "id": "gNBLYYhllaTD",
        "outputId": "e2d601b4-accb-4926-e4d3-87f188900c16"
      },
      "source": [
        "a"
      ],
      "execution_count": 34,
      "outputs": [
        {
          "output_type": "execute_result",
          "data": {
            "application/vnd.google.colaboratory.intrinsic+json": {
              "type": "string"
            },
            "text/plain": [
              "'\\nthis is the first line\\nthie is the second line\\n\\n'"
            ]
          },
          "metadata": {
            "tags": []
          },
          "execution_count": 34
        }
      ]
    },
    {
      "cell_type": "code",
      "metadata": {
        "colab": {
          "base_uri": "https://localhost:8080/"
        },
        "id": "Cjb9g1r3lbkj",
        "outputId": "141c7973-e1af-4c3d-c4ce-8262d7098aa9"
      },
      "source": [
        "print(a)"
      ],
      "execution_count": 35,
      "outputs": [
        {
          "output_type": "stream",
          "text": [
            "\n",
            "this is the first line\n",
            "thie is the second line\n",
            "\n",
            "\n"
          ],
          "name": "stdout"
        }
      ]
    },
    {
      "cell_type": "code",
      "metadata": {
        "colab": {
          "base_uri": "https://localhost:8080/",
          "height": 35
        },
        "id": "I62uVRu8lkSz",
        "outputId": "b9a29072-5e2c-4394-f9c1-d15cb16dd0dd"
      },
      "source": [
        "a = 'hello'\r\n",
        "a[len(a) - 1]"
      ],
      "execution_count": 37,
      "outputs": [
        {
          "output_type": "execute_result",
          "data": {
            "application/vnd.google.colaboratory.intrinsic+json": {
              "type": "string"
            },
            "text/plain": [
              "'o'"
            ]
          },
          "metadata": {
            "tags": []
          },
          "execution_count": 37
        }
      ]
    },
    {
      "cell_type": "code",
      "metadata": {
        "colab": {
          "base_uri": "https://localhost:8080/",
          "height": 35
        },
        "id": "69fSqjrRl0KE",
        "outputId": "a18a8990-5257-41a4-97d2-9d69f1fdd3e4"
      },
      "source": [
        "a[-1]"
      ],
      "execution_count": 38,
      "outputs": [
        {
          "output_type": "execute_result",
          "data": {
            "application/vnd.google.colaboratory.intrinsic+json": {
              "type": "string"
            },
            "text/plain": [
              "'o'"
            ]
          },
          "metadata": {
            "tags": []
          },
          "execution_count": 38
        }
      ]
    },
    {
      "cell_type": "code",
      "metadata": {
        "colab": {
          "base_uri": "https://localhost:8080/",
          "height": 35
        },
        "id": "JS-98g7ul-Zj",
        "outputId": "59367763-f308-42ee-ecf6-7c758279116f"
      },
      "source": [
        "s = 'Hello'\r\n",
        "s[0]"
      ],
      "execution_count": 39,
      "outputs": [
        {
          "output_type": "execute_result",
          "data": {
            "application/vnd.google.colaboratory.intrinsic+json": {
              "type": "string"
            },
            "text/plain": [
              "'H'"
            ]
          },
          "metadata": {
            "tags": []
          },
          "execution_count": 39
        }
      ]
    },
    {
      "cell_type": "code",
      "metadata": {
        "colab": {
          "base_uri": "https://localhost:8080/",
          "height": 35
        },
        "id": "DufeY8ILmPPk",
        "outputId": "77ed81d4-1f7f-4738-b984-0d5f6d3cd696"
      },
      "source": [
        "s[1]"
      ],
      "execution_count": 40,
      "outputs": [
        {
          "output_type": "execute_result",
          "data": {
            "application/vnd.google.colaboratory.intrinsic+json": {
              "type": "string"
            },
            "text/plain": [
              "'e'"
            ]
          },
          "metadata": {
            "tags": []
          },
          "execution_count": 40
        }
      ]
    },
    {
      "cell_type": "code",
      "metadata": {
        "colab": {
          "base_uri": "https://localhost:8080/",
          "height": 35
        },
        "id": "DIcL3emhmQY0",
        "outputId": "86b204ee-e7a1-4c6a-b7ed-52416ce9bebd"
      },
      "source": [
        "s[4]"
      ],
      "execution_count": 41,
      "outputs": [
        {
          "output_type": "execute_result",
          "data": {
            "application/vnd.google.colaboratory.intrinsic+json": {
              "type": "string"
            },
            "text/plain": [
              "'o'"
            ]
          },
          "metadata": {
            "tags": []
          },
          "execution_count": 41
        }
      ]
    },
    {
      "cell_type": "code",
      "metadata": {
        "colab": {
          "base_uri": "https://localhost:8080/",
          "height": 35
        },
        "id": "_lNKkRudmS7U",
        "outputId": "a939c21b-4e29-4b1d-f0d5-b6f71e7af7d1"
      },
      "source": [
        "s[-1]"
      ],
      "execution_count": 42,
      "outputs": [
        {
          "output_type": "execute_result",
          "data": {
            "application/vnd.google.colaboratory.intrinsic+json": {
              "type": "string"
            },
            "text/plain": [
              "'o'"
            ]
          },
          "metadata": {
            "tags": []
          },
          "execution_count": 42
        }
      ]
    },
    {
      "cell_type": "code",
      "metadata": {
        "colab": {
          "base_uri": "https://localhost:8080/",
          "height": 35
        },
        "id": "B9HoMRBRmU6E",
        "outputId": "b30d1a3e-7efb-47cb-d88c-f4e09f0fff82"
      },
      "source": [
        "s[-2]"
      ],
      "execution_count": 43,
      "outputs": [
        {
          "output_type": "execute_result",
          "data": {
            "application/vnd.google.colaboratory.intrinsic+json": {
              "type": "string"
            },
            "text/plain": [
              "'l'"
            ]
          },
          "metadata": {
            "tags": []
          },
          "execution_count": 43
        }
      ]
    },
    {
      "cell_type": "code",
      "metadata": {
        "colab": {
          "base_uri": "https://localhost:8080/",
          "height": 35
        },
        "id": "gcGmpU3umXgz",
        "outputId": "7eeb24f2-d719-49c9-ed61-fc580c12138e"
      },
      "source": [
        "s"
      ],
      "execution_count": 44,
      "outputs": [
        {
          "output_type": "execute_result",
          "data": {
            "application/vnd.google.colaboratory.intrinsic+json": {
              "type": "string"
            },
            "text/plain": [
              "'Hello'"
            ]
          },
          "metadata": {
            "tags": []
          },
          "execution_count": 44
        }
      ]
    },
    {
      "cell_type": "code",
      "metadata": {
        "colab": {
          "base_uri": "https://localhost:8080/",
          "height": 35
        },
        "id": "xqnMtYEKmgLT",
        "outputId": "d7b62fc7-cbb8-4119-9aae-be217c54b958"
      },
      "source": [
        "# 從頭取到尾\r\n",
        "s[:]"
      ],
      "execution_count": 45,
      "outputs": [
        {
          "output_type": "execute_result",
          "data": {
            "application/vnd.google.colaboratory.intrinsic+json": {
              "type": "string"
            },
            "text/plain": [
              "'Hello'"
            ]
          },
          "metadata": {
            "tags": []
          },
          "execution_count": 45
        }
      ]
    },
    {
      "cell_type": "code",
      "metadata": {
        "colab": {
          "base_uri": "https://localhost:8080/",
          "height": 35
        },
        "id": "YyxYPlF3mlGT",
        "outputId": "b3c905f0-6a33-4096-bd47-42a0be1300a1"
      },
      "source": [
        "s[0:5]"
      ],
      "execution_count": 47,
      "outputs": [
        {
          "output_type": "execute_result",
          "data": {
            "application/vnd.google.colaboratory.intrinsic+json": {
              "type": "string"
            },
            "text/plain": [
              "'Hello'"
            ]
          },
          "metadata": {
            "tags": []
          },
          "execution_count": 47
        }
      ]
    },
    {
      "cell_type": "code",
      "metadata": {
        "colab": {
          "base_uri": "https://localhost:8080/",
          "height": 35
        },
        "id": "GHYsiWuQmomE",
        "outputId": "2f97501d-839d-43ef-a4e9-cc3a20c9a9e1"
      },
      "source": [
        "s[1:]"
      ],
      "execution_count": 48,
      "outputs": [
        {
          "output_type": "execute_result",
          "data": {
            "application/vnd.google.colaboratory.intrinsic+json": {
              "type": "string"
            },
            "text/plain": [
              "'ello'"
            ]
          },
          "metadata": {
            "tags": []
          },
          "execution_count": 48
        }
      ]
    },
    {
      "cell_type": "code",
      "metadata": {
        "colab": {
          "base_uri": "https://localhost:8080/",
          "height": 35
        },
        "id": "q8WopRsqm1A0",
        "outputId": "71b5734d-1d5b-45ef-a225-c74b1a6dcc79"
      },
      "source": [
        "s[:3]"
      ],
      "execution_count": 49,
      "outputs": [
        {
          "output_type": "execute_result",
          "data": {
            "application/vnd.google.colaboratory.intrinsic+json": {
              "type": "string"
            },
            "text/plain": [
              "'Hel'"
            ]
          },
          "metadata": {
            "tags": []
          },
          "execution_count": 49
        }
      ]
    },
    {
      "cell_type": "code",
      "metadata": {
        "colab": {
          "base_uri": "https://localhost:8080/",
          "height": 35
        },
        "id": "NHcFqaV4m5PU",
        "outputId": "2f573187-380d-4d38-c53f-adb69bdb473d"
      },
      "source": [
        "s"
      ],
      "execution_count": 50,
      "outputs": [
        {
          "output_type": "execute_result",
          "data": {
            "application/vnd.google.colaboratory.intrinsic+json": {
              "type": "string"
            },
            "text/plain": [
              "'Hello'"
            ]
          },
          "metadata": {
            "tags": []
          },
          "execution_count": 50
        }
      ]
    },
    {
      "cell_type": "code",
      "metadata": {
        "colab": {
          "base_uri": "https://localhost:8080/",
          "height": 35
        },
        "id": "xDoBbVcwnCgz",
        "outputId": "411fc1f7-e9e7-4819-a30f-0a67e68d8f20"
      },
      "source": [
        "s[:]"
      ],
      "execution_count": 51,
      "outputs": [
        {
          "output_type": "execute_result",
          "data": {
            "application/vnd.google.colaboratory.intrinsic+json": {
              "type": "string"
            },
            "text/plain": [
              "'Hello'"
            ]
          },
          "metadata": {
            "tags": []
          },
          "execution_count": 51
        }
      ]
    },
    {
      "cell_type": "code",
      "metadata": {
        "colab": {
          "base_uri": "https://localhost:8080/",
          "height": 35
        },
        "id": "a0ok60r6nDeU",
        "outputId": "03e84a54-c1c8-4f2d-f3e1-ed7ad6a90358"
      },
      "source": [
        "# 起始位置:終點位置:間隔\r\n",
        "s[::]"
      ],
      "execution_count": 53,
      "outputs": [
        {
          "output_type": "execute_result",
          "data": {
            "application/vnd.google.colaboratory.intrinsic+json": {
              "type": "string"
            },
            "text/plain": [
              "'Hello'"
            ]
          },
          "metadata": {
            "tags": []
          },
          "execution_count": 53
        }
      ]
    },
    {
      "cell_type": "code",
      "metadata": {
        "colab": {
          "base_uri": "https://localhost:8080/",
          "height": 35
        },
        "id": "aZVynshBnFLk",
        "outputId": "c841a928-904e-47bc-dc25-53b176359459"
      },
      "source": [
        "s[::2]"
      ],
      "execution_count": 54,
      "outputs": [
        {
          "output_type": "execute_result",
          "data": {
            "application/vnd.google.colaboratory.intrinsic+json": {
              "type": "string"
            },
            "text/plain": [
              "'Hlo'"
            ]
          },
          "metadata": {
            "tags": []
          },
          "execution_count": 54
        }
      ]
    },
    {
      "cell_type": "code",
      "metadata": {
        "colab": {
          "base_uri": "https://localhost:8080/",
          "height": 35
        },
        "id": "ly7DXfE5nS1k",
        "outputId": "57c2728c-cd48-4e39-888a-28c151426cff"
      },
      "source": [
        "s[0:5:2]"
      ],
      "execution_count": 55,
      "outputs": [
        {
          "output_type": "execute_result",
          "data": {
            "application/vnd.google.colaboratory.intrinsic+json": {
              "type": "string"
            },
            "text/plain": [
              "'Hlo'"
            ]
          },
          "metadata": {
            "tags": []
          },
          "execution_count": 55
        }
      ]
    },
    {
      "cell_type": "code",
      "metadata": {
        "colab": {
          "base_uri": "https://localhost:8080/",
          "height": 35
        },
        "id": "a7m6maCYnVd1",
        "outputId": "2073e8eb-d8d1-429b-f75e-fee1017e71d0"
      },
      "source": [
        "s[::-1]"
      ],
      "execution_count": 56,
      "outputs": [
        {
          "output_type": "execute_result",
          "data": {
            "application/vnd.google.colaboratory.intrinsic+json": {
              "type": "string"
            },
            "text/plain": [
              "'olleH'"
            ]
          },
          "metadata": {
            "tags": []
          },
          "execution_count": 56
        }
      ]
    },
    {
      "cell_type": "code",
      "metadata": {
        "colab": {
          "base_uri": "https://localhost:8080/",
          "height": 35
        },
        "id": "WDqSs80nnaWE",
        "outputId": "50835e7e-da1d-40a6-84f6-2178d78ef6e2"
      },
      "source": [
        "s = '上海自來水來自海上'\r\n",
        "s[::-1]"
      ],
      "execution_count": 57,
      "outputs": [
        {
          "output_type": "execute_result",
          "data": {
            "application/vnd.google.colaboratory.intrinsic+json": {
              "type": "string"
            },
            "text/plain": [
              "'上海自來水來自海上'"
            ]
          },
          "metadata": {
            "tags": []
          },
          "execution_count": 57
        }
      ]
    },
    {
      "cell_type": "code",
      "metadata": {
        "colab": {
          "base_uri": "https://localhost:8080/"
        },
        "id": "uRu-SGuRnqwU",
        "outputId": "9c880db0-2762-498b-a08a-8217f9fcac43"
      },
      "source": [
        "s == s[::-1]"
      ],
      "execution_count": 58,
      "outputs": [
        {
          "output_type": "execute_result",
          "data": {
            "text/plain": [
              "True"
            ]
          },
          "metadata": {
            "tags": []
          },
          "execution_count": 58
        }
      ]
    },
    {
      "cell_type": "code",
      "metadata": {
        "id": "SNiQanZ1nso0"
      },
      "source": [
        "s = 'Hello'"
      ],
      "execution_count": 59,
      "outputs": []
    },
    {
      "cell_type": "code",
      "metadata": {
        "colab": {
          "base_uri": "https://localhost:8080/",
          "height": 35
        },
        "id": "rPKsw7n_n5zk",
        "outputId": "83e66aaf-832c-4fef-e9a4-2033ab8e4551"
      },
      "source": [
        "s + 'World'"
      ],
      "execution_count": 60,
      "outputs": [
        {
          "output_type": "execute_result",
          "data": {
            "application/vnd.google.colaboratory.intrinsic+json": {
              "type": "string"
            },
            "text/plain": [
              "'HelloWorld'"
            ]
          },
          "metadata": {
            "tags": []
          },
          "execution_count": 60
        }
      ]
    },
    {
      "cell_type": "code",
      "metadata": {
        "colab": {
          "base_uri": "https://localhost:8080/",
          "height": 137
        },
        "id": "PUasIdJIn7nk",
        "outputId": "59c09eb4-4512-4601-a98a-96e01735c993"
      },
      "source": [
        "s = '對不起'\r\n",
        "s * 100"
      ],
      "execution_count": 61,
      "outputs": [
        {
          "output_type": "execute_result",
          "data": {
            "application/vnd.google.colaboratory.intrinsic+json": {
              "type": "string"
            },
            "text/plain": [
              "'對不起對不起對不起對不起對不起對不起對不起對不起對不起對不起對不起對不起對不起對不起對不起對不起對不起對不起對不起對不起對不起對不起對不起對不起對不起對不起對不起對不起對不起對不起對不起對不起對不起對不起對不起對不起對不起對不起對不起對不起對不起對不起對不起對不起對不起對不起對不起對不起對不起對不起對不起對不起對不起對不起對不起對不起對不起對不起對不起對不起對不起對不起對不起對不起對不起對不起對不起對不起對不起對不起對不起對不起對不起對不起對不起對不起對不起對不起對不起對不起對不起對不起對不起對不起對不起對不起對不起對不起對不起對不起對不起對不起對不起對不起對不起對不起對不起對不起對不起對不起'"
            ]
          },
          "metadata": {
            "tags": []
          },
          "execution_count": 61
        }
      ]
    },
    {
      "cell_type": "code",
      "metadata": {
        "id": "wgLVBM8BoDTU"
      },
      "source": [
        "s = 'Hello'\r\n"
      ],
      "execution_count": 62,
      "outputs": []
    },
    {
      "cell_type": "code",
      "metadata": {
        "colab": {
          "base_uri": "https://localhost:8080/"
        },
        "id": "7poLwDF5oXQ0",
        "outputId": "b4ab1e1c-4ea1-4716-9242-93cd43507de9"
      },
      "source": [
        "type(s)"
      ],
      "execution_count": 63,
      "outputs": [
        {
          "output_type": "execute_result",
          "data": {
            "text/plain": [
              "str"
            ]
          },
          "metadata": {
            "tags": []
          },
          "execution_count": 63
        }
      ]
    },
    {
      "cell_type": "code",
      "metadata": {
        "colab": {
          "base_uri": "https://localhost:8080/"
        },
        "id": "L2YI00GMoY11",
        "outputId": "776818a0-a047-4fcb-c547-0ee6d7d4d17c"
      },
      "source": [
        "print(dir(s))"
      ],
      "execution_count": 64,
      "outputs": [
        {
          "output_type": "stream",
          "text": [
            "['__add__', '__class__', '__contains__', '__delattr__', '__dir__', '__doc__', '__eq__', '__format__', '__ge__', '__getattribute__', '__getitem__', '__getnewargs__', '__gt__', '__hash__', '__init__', '__init_subclass__', '__iter__', '__le__', '__len__', '__lt__', '__mod__', '__mul__', '__ne__', '__new__', '__reduce__', '__reduce_ex__', '__repr__', '__rmod__', '__rmul__', '__setattr__', '__sizeof__', '__str__', '__subclasshook__', 'capitalize', 'casefold', 'center', 'count', 'encode', 'endswith', 'expandtabs', 'find', 'format', 'format_map', 'index', 'isalnum', 'isalpha', 'isascii', 'isdecimal', 'isdigit', 'isidentifier', 'islower', 'isnumeric', 'isprintable', 'isspace', 'istitle', 'isupper', 'join', 'ljust', 'lower', 'lstrip', 'maketrans', 'partition', 'replace', 'rfind', 'rindex', 'rjust', 'rpartition', 'rsplit', 'rstrip', 'split', 'splitlines', 'startswith', 'strip', 'swapcase', 'title', 'translate', 'upper', 'zfill']\n"
          ],
          "name": "stdout"
        }
      ]
    },
    {
      "cell_type": "code",
      "metadata": {
        "id": "QlNL7a-Tocxk"
      },
      "source": [
        "?s.lower"
      ],
      "execution_count": 65,
      "outputs": []
    },
    {
      "cell_type": "code",
      "metadata": {
        "colab": {
          "base_uri": "https://localhost:8080/",
          "height": 35
        },
        "id": "B51NXHnLosUU",
        "outputId": "a2f0c278-17ea-4f78-84fc-94b8406ff7f5"
      },
      "source": [
        "s.lower()"
      ],
      "execution_count": 66,
      "outputs": [
        {
          "output_type": "execute_result",
          "data": {
            "application/vnd.google.colaboratory.intrinsic+json": {
              "type": "string"
            },
            "text/plain": [
              "'hello'"
            ]
          },
          "metadata": {
            "tags": []
          },
          "execution_count": 66
        }
      ]
    },
    {
      "cell_type": "code",
      "metadata": {
        "colab": {
          "base_uri": "https://localhost:8080/",
          "height": 35
        },
        "id": "AS-2DkQfo7Wk",
        "outputId": "6fdba1d0-2ca0-47f7-8f54-a1e4badb7b8a"
      },
      "source": [
        "s.upper()"
      ],
      "execution_count": 67,
      "outputs": [
        {
          "output_type": "execute_result",
          "data": {
            "application/vnd.google.colaboratory.intrinsic+json": {
              "type": "string"
            },
            "text/plain": [
              "'HELLO'"
            ]
          },
          "metadata": {
            "tags": []
          },
          "execution_count": 67
        }
      ]
    },
    {
      "cell_type": "code",
      "metadata": {
        "colab": {
          "base_uri": "https://localhost:8080/",
          "height": 69
        },
        "id": "7SFXdh-eo-R0",
        "outputId": "6954d1da-472b-4a78-fcdc-416263fb7567"
      },
      "source": [
        "s = '''民進黨立委王定宇與民進黨發言人顏若芳周二遭爆「同居」情，迄今４天，兩人不約而同沒有公開露面，對外盡量保持低調。知情人士透露，府黨高層在媒體出版前獲知後，隨即展開討論進行危機處理，管控戰火範圍'''\r\n",
        "s"
      ],
      "execution_count": 69,
      "outputs": [
        {
          "output_type": "execute_result",
          "data": {
            "application/vnd.google.colaboratory.intrinsic+json": {
              "type": "string"
            },
            "text/plain": [
              "'民進黨立委王定宇與民進黨發言人顏若芳周二遭爆「同居」情，迄今４天，兩人不約而同沒有公開露面，對外盡量保持低調。知情人士透露，府黨高層在媒體出版前獲知後，隨即展開討論進行危機處理，管控戰火範圍'"
            ]
          },
          "metadata": {
            "tags": []
          },
          "execution_count": 69
        }
      ]
    },
    {
      "cell_type": "code",
      "metadata": {
        "colab": {
          "base_uri": "https://localhost:8080/"
        },
        "id": "pWfm3MO_pMtk",
        "outputId": "d800b756-ad8c-4929-fac1-a9ee9b15d45a"
      },
      "source": [
        "s.split('。')"
      ],
      "execution_count": 70,
      "outputs": [
        {
          "output_type": "execute_result",
          "data": {
            "text/plain": [
              "['民進黨立委王定宇與民進黨發言人顏若芳周二遭爆「同居」情，迄今４天，兩人不約而同沒有公開露面，對外盡量保持低調',\n",
              " '知情人士透露，府黨高層在媒體出版前獲知後，隨即展開討論進行危機處理，管控戰火範圍']"
            ]
          },
          "metadata": {
            "tags": []
          },
          "execution_count": 70
        }
      ]
    },
    {
      "cell_type": "code",
      "metadata": {
        "colab": {
          "base_uri": "https://localhost:8080/"
        },
        "id": "bj0eu0U7pQW0",
        "outputId": "d4cafd4d-9462-4a18-d375-e9a05c3f5b45"
      },
      "source": [
        "s.split('，')"
      ],
      "execution_count": 72,
      "outputs": [
        {
          "output_type": "execute_result",
          "data": {
            "text/plain": [
              "['民進黨立委王定宇與民進黨發言人顏若芳周二遭爆「同居」情',\n",
              " '迄今４天',\n",
              " '兩人不約而同沒有公開露面',\n",
              " '對外盡量保持低調。知情人士透露',\n",
              " '府黨高層在媒體出版前獲知後',\n",
              " '隨即展開討論進行危機處理',\n",
              " '管控戰火範圍']"
            ]
          },
          "metadata": {
            "tags": []
          },
          "execution_count": 72
        }
      ]
    },
    {
      "cell_type": "code",
      "metadata": {
        "colab": {
          "base_uri": "https://localhost:8080/"
        },
        "id": "JZ_OEowUpTW0",
        "outputId": "05911c51-9be3-455e-f9b7-8779b498b30e"
      },
      "source": [
        "len(s)"
      ],
      "execution_count": 73,
      "outputs": [
        {
          "output_type": "execute_result",
          "data": {
            "text/plain": [
              "95"
            ]
          },
          "metadata": {
            "tags": []
          },
          "execution_count": 73
        }
      ]
    },
    {
      "cell_type": "markdown",
      "metadata": {
        "id": "2eUB2YTGpotw"
      },
      "source": [
        "### 練習題\r\n",
        "\r\n",
        "請將以下文字除內幕兩個字以外的標題分隔出來\r\n",
        "\r\n",
        "【內幕】王定宇＋顏若芳同居風暴震撼綠營　黨政高層48小時拆彈揭密"
      ]
    },
    {
      "cell_type": "code",
      "metadata": {
        "id": "w8asdRX3pYGE"
      },
      "source": [
        "s = '【內幕】王定宇＋顏若芳同居風暴震撼綠營　黨政高層48小時拆彈揭密'"
      ],
      "execution_count": 74,
      "outputs": []
    },
    {
      "cell_type": "code",
      "metadata": {
        "colab": {
          "base_uri": "https://localhost:8080/",
          "height": 35
        },
        "id": "lxIuuHNdtrsI",
        "outputId": "084582d3-8884-4e3a-80db-bb5b1c896d64"
      },
      "source": [
        "s[4:]"
      ],
      "execution_count": 77,
      "outputs": [
        {
          "output_type": "execute_result",
          "data": {
            "application/vnd.google.colaboratory.intrinsic+json": {
              "type": "string"
            },
            "text/plain": [
              "'王定宇＋顏若芳同居風暴震撼綠營\\u3000黨政高層48小時拆彈揭密'"
            ]
          },
          "metadata": {
            "tags": []
          },
          "execution_count": 77
        }
      ]
    },
    {
      "cell_type": "code",
      "metadata": {
        "colab": {
          "base_uri": "https://localhost:8080/",
          "height": 35
        },
        "id": "qAZSom6MtsT2",
        "outputId": "30816bdc-7c19-4b8f-8806-6e63fc1ef96f"
      },
      "source": [
        "s[4:1000]"
      ],
      "execution_count": 78,
      "outputs": [
        {
          "output_type": "execute_result",
          "data": {
            "application/vnd.google.colaboratory.intrinsic+json": {
              "type": "string"
            },
            "text/plain": [
              "'王定宇＋顏若芳同居風暴震撼綠營\\u3000黨政高層48小時拆彈揭密'"
            ]
          },
          "metadata": {
            "tags": []
          },
          "execution_count": 78
        }
      ]
    },
    {
      "cell_type": "markdown",
      "metadata": {
        "id": "VFRjx0AWuyjo"
      },
      "source": [
        "### List"
      ]
    },
    {
      "cell_type": "code",
      "metadata": {
        "id": "IgkNGPP1uUeI"
      },
      "source": [
        "name1 = 'david'\r\n",
        "name2 = 'mary'"
      ],
      "execution_count": 79,
      "outputs": []
    },
    {
      "cell_type": "code",
      "metadata": {
        "colab": {
          "base_uri": "https://localhost:8080/"
        },
        "id": "jQEGSITwu_bY",
        "outputId": "ad4bec9b-3e7e-4818-bd1d-d8dc959c0abf"
      },
      "source": [
        "mylist = []\r\n",
        "type(mylist)"
      ],
      "execution_count": 80,
      "outputs": [
        {
          "output_type": "execute_result",
          "data": {
            "text/plain": [
              "list"
            ]
          },
          "metadata": {
            "tags": []
          },
          "execution_count": 80
        }
      ]
    },
    {
      "cell_type": "code",
      "metadata": {
        "id": "NzdGzHTmvZN5"
      },
      "source": [
        "mylist= [1,2,3]"
      ],
      "execution_count": 81,
      "outputs": []
    },
    {
      "cell_type": "code",
      "metadata": {
        "id": "oOzyABlxvepI"
      },
      "source": [
        "mylist = [1,\"qoo\", [2,3,4]]"
      ],
      "execution_count": 82,
      "outputs": []
    },
    {
      "cell_type": "code",
      "metadata": {
        "colab": {
          "base_uri": "https://localhost:8080/"
        },
        "id": "BXd2pK4bvqAo",
        "outputId": "ef6a65ad-4646-4f97-f38e-61d72b491176"
      },
      "source": [
        "len(mylist)"
      ],
      "execution_count": 83,
      "outputs": [
        {
          "output_type": "execute_result",
          "data": {
            "text/plain": [
              "3"
            ]
          },
          "metadata": {
            "tags": []
          },
          "execution_count": 83
        }
      ]
    },
    {
      "cell_type": "code",
      "metadata": {
        "colab": {
          "base_uri": "https://localhost:8080/"
        },
        "id": "cvaXjsZEvv2Z",
        "outputId": "d402f9eb-d449-4969-d9db-429d264f5f8e"
      },
      "source": [
        "a = [5,6,7,'s']\r\n",
        "a[0]"
      ],
      "execution_count": 84,
      "outputs": [
        {
          "output_type": "execute_result",
          "data": {
            "text/plain": [
              "5"
            ]
          },
          "metadata": {
            "tags": []
          },
          "execution_count": 84
        }
      ]
    },
    {
      "cell_type": "code",
      "metadata": {
        "colab": {
          "base_uri": "https://localhost:8080/",
          "height": 35
        },
        "id": "_xkDPXs5wD4J",
        "outputId": "4e0e9ec9-c98d-455e-92ad-2b44ed714f0e"
      },
      "source": [
        "a[-1]"
      ],
      "execution_count": 85,
      "outputs": [
        {
          "output_type": "execute_result",
          "data": {
            "application/vnd.google.colaboratory.intrinsic+json": {
              "type": "string"
            },
            "text/plain": [
              "'s'"
            ]
          },
          "metadata": {
            "tags": []
          },
          "execution_count": 85
        }
      ]
    },
    {
      "cell_type": "code",
      "metadata": {
        "colab": {
          "base_uri": "https://localhost:8080/"
        },
        "id": "qU3li4RHwFlJ",
        "outputId": "067b60a3-8293-4a2a-82c7-7c8b70a3ef80"
      },
      "source": [
        "a[2:]"
      ],
      "execution_count": 86,
      "outputs": [
        {
          "output_type": "execute_result",
          "data": {
            "text/plain": [
              "[7, 's']"
            ]
          },
          "metadata": {
            "tags": []
          },
          "execution_count": 86
        }
      ]
    },
    {
      "cell_type": "code",
      "metadata": {
        "colab": {
          "base_uri": "https://localhost:8080/"
        },
        "id": "nRl6yfIvwKfJ",
        "outputId": "2a079d5b-2ded-4253-a320-f7b1bfd4647e"
      },
      "source": [
        "a[::2]"
      ],
      "execution_count": 87,
      "outputs": [
        {
          "output_type": "execute_result",
          "data": {
            "text/plain": [
              "[5, 7]"
            ]
          },
          "metadata": {
            "tags": []
          },
          "execution_count": 87
        }
      ]
    },
    {
      "cell_type": "code",
      "metadata": {
        "colab": {
          "base_uri": "https://localhost:8080/"
        },
        "id": "3F-HppfbwPya",
        "outputId": "671a1822-0d46-4193-a0a9-95e557d35ad5"
      },
      "source": [
        "a[::-1]"
      ],
      "execution_count": 88,
      "outputs": [
        {
          "output_type": "execute_result",
          "data": {
            "text/plain": [
              "['s', 7, 6, 5]"
            ]
          },
          "metadata": {
            "tags": []
          },
          "execution_count": 88
        }
      ]
    },
    {
      "cell_type": "code",
      "metadata": {
        "colab": {
          "base_uri": "https://localhost:8080/"
        },
        "id": "IteBVKexwW7J",
        "outputId": "1d3ef4d5-f476-4d66-d338-e711dbe35be9"
      },
      "source": [
        "a = [5,6,7,8]\r\n",
        "a"
      ],
      "execution_count": 89,
      "outputs": [
        {
          "output_type": "execute_result",
          "data": {
            "text/plain": [
              "[5, 6, 7, 8]"
            ]
          },
          "metadata": {
            "tags": []
          },
          "execution_count": 89
        }
      ]
    },
    {
      "cell_type": "code",
      "metadata": {
        "colab": {
          "base_uri": "https://localhost:8080/"
        },
        "id": "7-OC-MjBwpL5",
        "outputId": "178a9021-263e-43c9-83da-25c8e98bf120"
      },
      "source": [
        "print(dir(a))"
      ],
      "execution_count": 90,
      "outputs": [
        {
          "output_type": "stream",
          "text": [
            "['__add__', '__class__', '__contains__', '__delattr__', '__delitem__', '__dir__', '__doc__', '__eq__', '__format__', '__ge__', '__getattribute__', '__getitem__', '__gt__', '__hash__', '__iadd__', '__imul__', '__init__', '__init_subclass__', '__iter__', '__le__', '__len__', '__lt__', '__mul__', '__ne__', '__new__', '__reduce__', '__reduce_ex__', '__repr__', '__reversed__', '__rmul__', '__setattr__', '__setitem__', '__sizeof__', '__str__', '__subclasshook__', 'append', 'clear', 'copy', 'count', 'extend', 'index', 'insert', 'pop', 'remove', 'reverse', 'sort']\n"
          ],
          "name": "stdout"
        }
      ]
    },
    {
      "cell_type": "code",
      "metadata": {
        "id": "-V2s_kDFwv_q"
      },
      "source": [
        "?a.pop"
      ],
      "execution_count": 91,
      "outputs": []
    },
    {
      "cell_type": "code",
      "metadata": {
        "colab": {
          "base_uri": "https://localhost:8080/"
        },
        "id": "ARHTiM2yw9vc",
        "outputId": "2e9447ed-7f08-44c9-fc04-80e6cc6156a4"
      },
      "source": [
        "a.pop()"
      ],
      "execution_count": 92,
      "outputs": [
        {
          "output_type": "execute_result",
          "data": {
            "text/plain": [
              "8"
            ]
          },
          "metadata": {
            "tags": []
          },
          "execution_count": 92
        }
      ]
    },
    {
      "cell_type": "code",
      "metadata": {
        "colab": {
          "base_uri": "https://localhost:8080/"
        },
        "id": "7ro4t2iSxVMa",
        "outputId": "8efdb3b1-8548-42ea-f260-dbc5b8b72260"
      },
      "source": [
        "a"
      ],
      "execution_count": 93,
      "outputs": [
        {
          "output_type": "execute_result",
          "data": {
            "text/plain": [
              "[5, 6, 7]"
            ]
          },
          "metadata": {
            "tags": []
          },
          "execution_count": 93
        }
      ]
    },
    {
      "cell_type": "code",
      "metadata": {
        "id": "EVlmj6TkxWca"
      },
      "source": [
        "a.append(2)"
      ],
      "execution_count": 94,
      "outputs": []
    },
    {
      "cell_type": "code",
      "metadata": {
        "colab": {
          "base_uri": "https://localhost:8080/"
        },
        "id": "xd5TwAVhxcZf",
        "outputId": "fc058413-ad6e-4226-ec4c-e4c1ed3f07d3"
      },
      "source": [
        "a"
      ],
      "execution_count": 95,
      "outputs": [
        {
          "output_type": "execute_result",
          "data": {
            "text/plain": [
              "[5, 6, 7, 2]"
            ]
          },
          "metadata": {
            "tags": []
          },
          "execution_count": 95
        }
      ]
    },
    {
      "cell_type": "code",
      "metadata": {
        "id": "-9fu4vSexdg6"
      },
      "source": [
        "a.sort()"
      ],
      "execution_count": 96,
      "outputs": []
    },
    {
      "cell_type": "code",
      "metadata": {
        "colab": {
          "base_uri": "https://localhost:8080/"
        },
        "id": "D3N34X_Zxhdq",
        "outputId": "a67df930-f9e7-424e-9d3c-59010aee4cf5"
      },
      "source": [
        "a"
      ],
      "execution_count": 97,
      "outputs": [
        {
          "output_type": "execute_result",
          "data": {
            "text/plain": [
              "[2, 5, 6, 7]"
            ]
          },
          "metadata": {
            "tags": []
          },
          "execution_count": 97
        }
      ]
    },
    {
      "cell_type": "code",
      "metadata": {
        "id": "LrDfuBA1xiRK"
      },
      "source": [
        "a.reverse()"
      ],
      "execution_count": 98,
      "outputs": []
    },
    {
      "cell_type": "code",
      "metadata": {
        "colab": {
          "base_uri": "https://localhost:8080/"
        },
        "id": "0iqjWAFsxmyq",
        "outputId": "74e31001-827d-4bbf-e109-f879570b4782"
      },
      "source": [
        "a"
      ],
      "execution_count": 99,
      "outputs": [
        {
          "output_type": "execute_result",
          "data": {
            "text/plain": [
              "[7, 6, 5, 2]"
            ]
          },
          "metadata": {
            "tags": []
          },
          "execution_count": 99
        }
      ]
    },
    {
      "cell_type": "code",
      "metadata": {
        "colab": {
          "base_uri": "https://localhost:8080/"
        },
        "id": "CieF1O1FxnRL",
        "outputId": "8df5cb86-e028-4aee-ae6b-b044596ecb75"
      },
      "source": [
        "list('a')"
      ],
      "execution_count": 100,
      "outputs": [
        {
          "output_type": "execute_result",
          "data": {
            "text/plain": [
              "['a']"
            ]
          },
          "metadata": {
            "tags": []
          },
          "execution_count": 100
        }
      ]
    },
    {
      "cell_type": "code",
      "metadata": {
        "colab": {
          "base_uri": "https://localhost:8080/"
        },
        "id": "HifcH7RqyqpL",
        "outputId": "d8f80a62-0263-43d3-df83-eb8f9e860a1f"
      },
      "source": [
        "li = list('hello')\r\n",
        "li"
      ],
      "execution_count": 102,
      "outputs": [
        {
          "output_type": "execute_result",
          "data": {
            "text/plain": [
              "['h', 'e', 'l', 'l', 'o']"
            ]
          },
          "metadata": {
            "tags": []
          },
          "execution_count": 102
        }
      ]
    },
    {
      "cell_type": "code",
      "metadata": {
        "colab": {
          "base_uri": "https://localhost:8080/",
          "height": 35
        },
        "id": "xRy5R9Avyv1L",
        "outputId": "431ff782-5b79-4764-baf8-b99bc4fdfef6"
      },
      "source": [
        "''.join(li)"
      ],
      "execution_count": 103,
      "outputs": [
        {
          "output_type": "execute_result",
          "data": {
            "application/vnd.google.colaboratory.intrinsic+json": {
              "type": "string"
            },
            "text/plain": [
              "'hello'"
            ]
          },
          "metadata": {
            "tags": []
          },
          "execution_count": 103
        }
      ]
    },
    {
      "cell_type": "code",
      "metadata": {
        "colab": {
          "base_uri": "https://localhost:8080/",
          "height": 35
        },
        "id": "qEKSmhYQy6wa",
        "outputId": "2ed259de-fe21-4748-81af-140a2db0e86e"
      },
      "source": [
        "'@'.join(li)"
      ],
      "execution_count": 104,
      "outputs": [
        {
          "output_type": "execute_result",
          "data": {
            "application/vnd.google.colaboratory.intrinsic+json": {
              "type": "string"
            },
            "text/plain": [
              "'h@e@l@l@o'"
            ]
          },
          "metadata": {
            "tags": []
          },
          "execution_count": 104
        }
      ]
    },
    {
      "cell_type": "code",
      "metadata": {
        "id": "SaZvYMLpzArL"
      },
      "source": [
        "a = 'hello'"
      ],
      "execution_count": 106,
      "outputs": []
    },
    {
      "cell_type": "code",
      "metadata": {
        "colab": {
          "base_uri": "https://localhost:8080/"
        },
        "id": "_x3eUq1jzGDq",
        "outputId": "da0c7f3c-82b6-49ae-9f53-2811ab41e08c"
      },
      "source": [
        "'e' in a"
      ],
      "execution_count": 107,
      "outputs": [
        {
          "output_type": "execute_result",
          "data": {
            "text/plain": [
              "True"
            ]
          },
          "metadata": {
            "tags": []
          },
          "execution_count": 107
        }
      ]
    },
    {
      "cell_type": "code",
      "metadata": {
        "colab": {
          "base_uri": "https://localhost:8080/"
        },
        "id": "Oc5BvrZqzNhq",
        "outputId": "9c99d30d-dfdf-4513-cfa3-bc1513a0f569"
      },
      "source": [
        "li = list(a)\r\n",
        "li"
      ],
      "execution_count": 108,
      "outputs": [
        {
          "output_type": "execute_result",
          "data": {
            "text/plain": [
              "['h', 'e', 'l', 'l', 'o']"
            ]
          },
          "metadata": {
            "tags": []
          },
          "execution_count": 108
        }
      ]
    },
    {
      "cell_type": "code",
      "metadata": {
        "colab": {
          "base_uri": "https://localhost:8080/"
        },
        "id": "tdUQMx1bzSx6",
        "outputId": "f5de1017-8140-48df-9793-ea5e985e2429"
      },
      "source": [
        "'e' in li"
      ],
      "execution_count": 109,
      "outputs": [
        {
          "output_type": "execute_result",
          "data": {
            "text/plain": [
              "True"
            ]
          },
          "metadata": {
            "tags": []
          },
          "execution_count": 109
        }
      ]
    },
    {
      "cell_type": "code",
      "metadata": {
        "colab": {
          "base_uri": "https://localhost:8080/"
        },
        "id": "5ETbTYDGzVMb",
        "outputId": "eccb1840-dcaf-48d2-e823-34b9c49212fd"
      },
      "source": [
        "a = 3\r\n",
        "b = a\r\n",
        "b"
      ],
      "execution_count": 110,
      "outputs": [
        {
          "output_type": "execute_result",
          "data": {
            "text/plain": [
              "3"
            ]
          },
          "metadata": {
            "tags": []
          },
          "execution_count": 110
        }
      ]
    },
    {
      "cell_type": "code",
      "metadata": {
        "colab": {
          "base_uri": "https://localhost:8080/"
        },
        "id": "FNItooQGzhWb",
        "outputId": "0b6044fd-1466-480d-ff1c-156b4b6b7000"
      },
      "source": [
        "a = [1,2,3]\r\n",
        "b = a\r\n",
        "b"
      ],
      "execution_count": 111,
      "outputs": [
        {
          "output_type": "execute_result",
          "data": {
            "text/plain": [
              "[1, 2, 3]"
            ]
          },
          "metadata": {
            "tags": []
          },
          "execution_count": 111
        }
      ]
    },
    {
      "cell_type": "code",
      "metadata": {
        "colab": {
          "base_uri": "https://localhost:8080/"
        },
        "id": "gY8mxyqLznw6",
        "outputId": "9fb19672-3669-4bc0-f96f-8751e50cb4bf"
      },
      "source": [
        "a[1]"
      ],
      "execution_count": 112,
      "outputs": [
        {
          "output_type": "execute_result",
          "data": {
            "text/plain": [
              "2"
            ]
          },
          "metadata": {
            "tags": []
          },
          "execution_count": 112
        }
      ]
    },
    {
      "cell_type": "code",
      "metadata": {
        "id": "BApxSH3Azuf7"
      },
      "source": [
        "a[1] = 2000"
      ],
      "execution_count": 113,
      "outputs": []
    },
    {
      "cell_type": "code",
      "metadata": {
        "colab": {
          "base_uri": "https://localhost:8080/"
        },
        "id": "TMk2QNiuzyPL",
        "outputId": "1fb0cc12-ff77-44bd-e9ae-9027e9d82a0a"
      },
      "source": [
        "a[1]"
      ],
      "execution_count": 114,
      "outputs": [
        {
          "output_type": "execute_result",
          "data": {
            "text/plain": [
              "2000"
            ]
          },
          "metadata": {
            "tags": []
          },
          "execution_count": 114
        }
      ]
    },
    {
      "cell_type": "code",
      "metadata": {
        "colab": {
          "base_uri": "https://localhost:8080/"
        },
        "id": "Hlft5QpNzzb7",
        "outputId": "7c7d8700-36a2-4421-9960-e00df11a2fbc"
      },
      "source": [
        "a"
      ],
      "execution_count": 115,
      "outputs": [
        {
          "output_type": "execute_result",
          "data": {
            "text/plain": [
              "[1, 2000, 3]"
            ]
          },
          "metadata": {
            "tags": []
          },
          "execution_count": 115
        }
      ]
    },
    {
      "cell_type": "code",
      "metadata": {
        "colab": {
          "base_uri": "https://localhost:8080/"
        },
        "id": "t_echxVpz0h9",
        "outputId": "0a8156bf-411d-4e69-b239-71b0dc374d3f"
      },
      "source": [
        "b"
      ],
      "execution_count": 116,
      "outputs": [
        {
          "output_type": "execute_result",
          "data": {
            "text/plain": [
              "[1, 2000, 3]"
            ]
          },
          "metadata": {
            "tags": []
          },
          "execution_count": 116
        }
      ]
    },
    {
      "cell_type": "code",
      "metadata": {
        "colab": {
          "base_uri": "https://localhost:8080/"
        },
        "id": "KKNKU7V0z-9c",
        "outputId": "acfbfaea-5010-460d-ca92-453ff2bcfede"
      },
      "source": [
        "a = [1,2,3]\r\n",
        "b = a.copy()\r\n",
        "b"
      ],
      "execution_count": 117,
      "outputs": [
        {
          "output_type": "execute_result",
          "data": {
            "text/plain": [
              "[1, 2, 3]"
            ]
          },
          "metadata": {
            "tags": []
          },
          "execution_count": 117
        }
      ]
    },
    {
      "cell_type": "code",
      "metadata": {
        "id": "S0mpGtNE0cR9"
      },
      "source": [
        "a[1]= 2000"
      ],
      "execution_count": 118,
      "outputs": []
    },
    {
      "cell_type": "code",
      "metadata": {
        "colab": {
          "base_uri": "https://localhost:8080/"
        },
        "id": "WNeqIDuH0gbs",
        "outputId": "d0752458-5218-4df7-da96-2d91a272e20a"
      },
      "source": [
        "a"
      ],
      "execution_count": 119,
      "outputs": [
        {
          "output_type": "execute_result",
          "data": {
            "text/plain": [
              "[1, 2000, 3]"
            ]
          },
          "metadata": {
            "tags": []
          },
          "execution_count": 119
        }
      ]
    },
    {
      "cell_type": "code",
      "metadata": {
        "colab": {
          "base_uri": "https://localhost:8080/"
        },
        "id": "nJ6CoiKn0h1r",
        "outputId": "5f24e283-882e-49f9-c459-69a6370a95cb"
      },
      "source": [
        "b"
      ],
      "execution_count": 120,
      "outputs": [
        {
          "output_type": "execute_result",
          "data": {
            "text/plain": [
              "[1, 2, 3]"
            ]
          },
          "metadata": {
            "tags": []
          },
          "execution_count": 120
        }
      ]
    },
    {
      "cell_type": "code",
      "metadata": {
        "colab": {
          "base_uri": "https://localhost:8080/"
        },
        "id": "_JAyCb3F1WQt",
        "outputId": "6c7af858-32fa-45d0-a138-63556f60be8c"
      },
      "source": [
        "import random\r\n",
        "print([random.randint(80,200) for e in range(13)])"
      ],
      "execution_count": 129,
      "outputs": [
        {
          "output_type": "stream",
          "text": [
            "[167, 93, 119, 85, 173, 180, 172, 122, 147, 118, 188, 111, 165]\n"
          ],
          "name": "stdout"
        }
      ]
    },
    {
      "cell_type": "markdown",
      "metadata": {
        "id": "CZDUGuAa1RBc"
      },
      "source": [
        "### 練習題\r\n",
        "\r\n",
        "現在有該公司的薪資分別放在以下的List 中\r\n",
        "\r\n",
        "salary = [167, 93, 119, 85, 173, 180, 172, 122, 147, 118, 188, 111, 165]\r\n",
        "\r\n",
        "請幫我計算出該公司薪資的中位數?\r\n",
        "\r\n",
        "中位數: 將List 由小排到大, 取最中間的數值"
      ]
    },
    {
      "cell_type": "code",
      "metadata": {
        "id": "IWGIJgUA0jO9"
      },
      "source": [
        "salary = [167, 93, 119, 85, 173, 180, 172, 122, 147, 118, 188, 111, 165]"
      ],
      "execution_count": 130,
      "outputs": []
    },
    {
      "cell_type": "code",
      "metadata": {
        "id": "AwsHSovC1P18"
      },
      "source": [
        "salary.sort()"
      ],
      "execution_count": 131,
      "outputs": []
    },
    {
      "cell_type": "code",
      "metadata": {
        "colab": {
          "base_uri": "https://localhost:8080/"
        },
        "id": "Wx4XucAgEyE6",
        "outputId": "7b2b1ff8-24eb-4ddf-c0d4-3c1d6413969b"
      },
      "source": [
        "len(salary)"
      ],
      "execution_count": 133,
      "outputs": [
        {
          "output_type": "execute_result",
          "data": {
            "text/plain": [
              "13"
            ]
          },
          "metadata": {
            "tags": []
          },
          "execution_count": 133
        }
      ]
    },
    {
      "cell_type": "code",
      "metadata": {
        "colab": {
          "base_uri": "https://localhost:8080/"
        },
        "id": "yhPRxpueEy-Z",
        "outputId": "7dd309a2-ecd5-4b6e-c3f2-1361d92c72f7"
      },
      "source": [
        "len(salary) / 2"
      ],
      "execution_count": 134,
      "outputs": [
        {
          "output_type": "execute_result",
          "data": {
            "text/plain": [
              "6.5"
            ]
          },
          "metadata": {
            "tags": []
          },
          "execution_count": 134
        }
      ]
    },
    {
      "cell_type": "code",
      "metadata": {
        "colab": {
          "base_uri": "https://localhost:8080/"
        },
        "id": "b7s9_ipRE9WZ",
        "outputId": "6fe03e25-2591-41a9-84ac-c6447e2296ac"
      },
      "source": [
        "import math\r\n",
        "pos = math.ceil(len(salary) / 2) - 1\r\n",
        "pos"
      ],
      "execution_count": 136,
      "outputs": [
        {
          "output_type": "execute_result",
          "data": {
            "text/plain": [
              "6"
            ]
          },
          "metadata": {
            "tags": []
          },
          "execution_count": 136
        }
      ]
    },
    {
      "cell_type": "code",
      "metadata": {
        "colab": {
          "base_uri": "https://localhost:8080/"
        },
        "id": "Cdfhlt69FD2J",
        "outputId": "ff88fbc9-b294-4707-cb67-1e51f89ed5e0"
      },
      "source": [
        "salary[pos]"
      ],
      "execution_count": 137,
      "outputs": [
        {
          "output_type": "execute_result",
          "data": {
            "text/plain": [
              "147"
            ]
          },
          "metadata": {
            "tags": []
          },
          "execution_count": 137
        }
      ]
    },
    {
      "cell_type": "code",
      "metadata": {
        "colab": {
          "base_uri": "https://localhost:8080/"
        },
        "id": "9krb4eKyFJ2J",
        "outputId": "2e4d2ad2-3c5f-41aa-d7bd-2022b8aaa41c"
      },
      "source": [
        "salary"
      ],
      "execution_count": 138,
      "outputs": [
        {
          "output_type": "execute_result",
          "data": {
            "text/plain": [
              "[85, 93, 111, 118, 119, 122, 147, 165, 167, 172, 173, 180, 188]"
            ]
          },
          "metadata": {
            "tags": []
          },
          "execution_count": 138
        }
      ]
    },
    {
      "cell_type": "markdown",
      "metadata": {
        "id": "KqqYNkYSFrEa"
      },
      "source": [
        "### Dictionary"
      ]
    },
    {
      "cell_type": "code",
      "metadata": {
        "id": "QnohdvuJFNO6"
      },
      "source": [
        "dic = {'a':100, 'b': 'yes', 'c':0.98}\r\n",
        "dic2 = {'d':100, 1:'str'}"
      ],
      "execution_count": 139,
      "outputs": []
    },
    {
      "cell_type": "code",
      "metadata": {
        "colab": {
          "base_uri": "https://localhost:8080/"
        },
        "id": "XpsFX5S1G9F0",
        "outputId": "8c955c37-ba5d-4374-a092-355734356d1d"
      },
      "source": [
        "dic"
      ],
      "execution_count": 140,
      "outputs": [
        {
          "output_type": "execute_result",
          "data": {
            "text/plain": [
              "{'a': 100, 'b': 'yes', 'c': 0.98}"
            ]
          },
          "metadata": {
            "tags": []
          },
          "execution_count": 140
        }
      ]
    },
    {
      "cell_type": "code",
      "metadata": {
        "colab": {
          "base_uri": "https://localhost:8080/"
        },
        "id": "7VfRjXwzHBDb",
        "outputId": "04a0d34d-d27e-4b31-ad80-cad312a9fbcf"
      },
      "source": [
        "dic['a']"
      ],
      "execution_count": 141,
      "outputs": [
        {
          "output_type": "execute_result",
          "data": {
            "text/plain": [
              "100"
            ]
          },
          "metadata": {
            "tags": []
          },
          "execution_count": 141
        }
      ]
    },
    {
      "cell_type": "code",
      "metadata": {
        "colab": {
          "base_uri": "https://localhost:8080/"
        },
        "id": "3f2Fw8sZHFLL",
        "outputId": "c5ac29d3-96c9-464c-d4bb-d23e31066006"
      },
      "source": [
        "print(dir(dic))"
      ],
      "execution_count": 142,
      "outputs": [
        {
          "output_type": "stream",
          "text": [
            "['__class__', '__contains__', '__delattr__', '__delitem__', '__dir__', '__doc__', '__eq__', '__format__', '__ge__', '__getattribute__', '__getitem__', '__gt__', '__hash__', '__init__', '__init_subclass__', '__iter__', '__le__', '__len__', '__lt__', '__ne__', '__new__', '__reduce__', '__reduce_ex__', '__repr__', '__setattr__', '__setitem__', '__sizeof__', '__str__', '__subclasshook__', 'clear', 'copy', 'fromkeys', 'get', 'items', 'keys', 'pop', 'popitem', 'setdefault', 'update', 'values']\n"
          ],
          "name": "stdout"
        }
      ]
    },
    {
      "cell_type": "code",
      "metadata": {
        "colab": {
          "base_uri": "https://localhost:8080/"
        },
        "id": "pGjg3DIbHM2K",
        "outputId": "305f9fe6-8cf1-49ad-a78e-0495dec33afd"
      },
      "source": [
        "dic.keys()"
      ],
      "execution_count": 143,
      "outputs": [
        {
          "output_type": "execute_result",
          "data": {
            "text/plain": [
              "dict_keys(['a', 'b', 'c'])"
            ]
          },
          "metadata": {
            "tags": []
          },
          "execution_count": 143
        }
      ]
    },
    {
      "cell_type": "code",
      "metadata": {
        "colab": {
          "base_uri": "https://localhost:8080/"
        },
        "id": "-4AHvMJpHWCb",
        "outputId": "4fc10c63-4907-4665-db13-cc77a01da10d"
      },
      "source": [
        "dic.values()"
      ],
      "execution_count": 144,
      "outputs": [
        {
          "output_type": "execute_result",
          "data": {
            "text/plain": [
              "dict_values([100, 'yes', 0.98])"
            ]
          },
          "metadata": {
            "tags": []
          },
          "execution_count": 144
        }
      ]
    },
    {
      "cell_type": "code",
      "metadata": {
        "colab": {
          "base_uri": "https://localhost:8080/",
          "height": 35
        },
        "id": "DD9H3XrDHYcb",
        "outputId": "5a48cca3-d3f6-44f8-f8c5-76ac52d2fb8e"
      },
      "source": [
        "dic['b']"
      ],
      "execution_count": 145,
      "outputs": [
        {
          "output_type": "execute_result",
          "data": {
            "application/vnd.google.colaboratory.intrinsic+json": {
              "type": "string"
            },
            "text/plain": [
              "'yes'"
            ]
          },
          "metadata": {
            "tags": []
          },
          "execution_count": 145
        }
      ]
    },
    {
      "cell_type": "code",
      "metadata": {
        "colab": {
          "base_uri": "https://localhost:8080/",
          "height": 165
        },
        "id": "aA063d8nHdKL",
        "outputId": "c9a7f7f0-d4d2-4a79-ceb2-7cb0bd1fe575"
      },
      "source": [
        "dic['k']"
      ],
      "execution_count": 146,
      "outputs": [
        {
          "output_type": "error",
          "ename": "KeyError",
          "evalue": "ignored",
          "traceback": [
            "\u001b[0;31m---------------------------------------------------------------------------\u001b[0m",
            "\u001b[0;31mKeyError\u001b[0m                                  Traceback (most recent call last)",
            "\u001b[0;32m<ipython-input-146-5a6a156bab9c>\u001b[0m in \u001b[0;36m<module>\u001b[0;34m()\u001b[0m\n\u001b[0;32m----> 1\u001b[0;31m \u001b[0mdic\u001b[0m\u001b[0;34m[\u001b[0m\u001b[0;34m'k'\u001b[0m\u001b[0;34m]\u001b[0m\u001b[0;34m\u001b[0m\u001b[0;34m\u001b[0m\u001b[0m\n\u001b[0m",
            "\u001b[0;31mKeyError\u001b[0m: 'k'"
          ]
        }
      ]
    },
    {
      "cell_type": "code",
      "metadata": {
        "id": "Q2iPHgWQHgGK"
      },
      "source": [
        "dic['k'] = 'new'"
      ],
      "execution_count": 147,
      "outputs": []
    },
    {
      "cell_type": "code",
      "metadata": {
        "colab": {
          "base_uri": "https://localhost:8080/"
        },
        "id": "q_ThfSgWH8Bd",
        "outputId": "9f00b6c7-8e03-42af-c587-fe957866908a"
      },
      "source": [
        "dic"
      ],
      "execution_count": 148,
      "outputs": [
        {
          "output_type": "execute_result",
          "data": {
            "text/plain": [
              "{'a': 100, 'b': 'yes', 'c': 0.98, 'k': 'new'}"
            ]
          },
          "metadata": {
            "tags": []
          },
          "execution_count": 148
        }
      ]
    },
    {
      "cell_type": "code",
      "metadata": {
        "colab": {
          "base_uri": "https://localhost:8080/",
          "height": 35
        },
        "id": "TgbnP-tcH8iL",
        "outputId": "9836d058-4512-4546-c240-a67cda1aef04"
      },
      "source": [
        "dic['k']"
      ],
      "execution_count": 149,
      "outputs": [
        {
          "output_type": "execute_result",
          "data": {
            "application/vnd.google.colaboratory.intrinsic+json": {
              "type": "string"
            },
            "text/plain": [
              "'new'"
            ]
          },
          "metadata": {
            "tags": []
          },
          "execution_count": 149
        }
      ]
    },
    {
      "cell_type": "code",
      "metadata": {
        "colab": {
          "base_uri": "https://localhost:8080/"
        },
        "id": "627HmWroH_gs",
        "outputId": "f6d512aa-166a-4d4f-ffdf-b535ad62d455"
      },
      "source": [
        "dic"
      ],
      "execution_count": 150,
      "outputs": [
        {
          "output_type": "execute_result",
          "data": {
            "text/plain": [
              "{'a': 100, 'b': 'yes', 'c': 0.98, 'k': 'new'}"
            ]
          },
          "metadata": {
            "tags": []
          },
          "execution_count": 150
        }
      ]
    },
    {
      "cell_type": "code",
      "metadata": {
        "colab": {
          "base_uri": "https://localhost:8080/",
          "height": 165
        },
        "id": "Z1jJFLHNIJaM",
        "outputId": "934aaa2e-cc10-441b-c80c-7b56cc221bed"
      },
      "source": [
        "dic['e']"
      ],
      "execution_count": 151,
      "outputs": [
        {
          "output_type": "error",
          "ename": "KeyError",
          "evalue": "ignored",
          "traceback": [
            "\u001b[0;31m---------------------------------------------------------------------------\u001b[0m",
            "\u001b[0;31mKeyError\u001b[0m                                  Traceback (most recent call last)",
            "\u001b[0;32m<ipython-input-151-87d22c709971>\u001b[0m in \u001b[0;36m<module>\u001b[0;34m()\u001b[0m\n\u001b[0;32m----> 1\u001b[0;31m \u001b[0mdic\u001b[0m\u001b[0;34m[\u001b[0m\u001b[0;34m'e'\u001b[0m\u001b[0;34m]\u001b[0m\u001b[0;34m\u001b[0m\u001b[0;34m\u001b[0m\u001b[0m\n\u001b[0m",
            "\u001b[0;31mKeyError\u001b[0m: 'e'"
          ]
        }
      ]
    },
    {
      "cell_type": "code",
      "metadata": {
        "colab": {
          "base_uri": "https://localhost:8080/"
        },
        "id": "AxQsy-4qIMEc",
        "outputId": "4c00e00a-91bf-4d9b-b99b-689ea696fd8a"
      },
      "source": [
        "dic.get('a')"
      ],
      "execution_count": 152,
      "outputs": [
        {
          "output_type": "execute_result",
          "data": {
            "text/plain": [
              "100"
            ]
          },
          "metadata": {
            "tags": []
          },
          "execution_count": 152
        }
      ]
    },
    {
      "cell_type": "code",
      "metadata": {
        "id": "JSYtmS6qIQIb"
      },
      "source": [
        "dic.get('e')"
      ],
      "execution_count": 153,
      "outputs": []
    },
    {
      "cell_type": "code",
      "metadata": {
        "colab": {
          "base_uri": "https://localhost:8080/"
        },
        "id": "J0gAOH0mISd7",
        "outputId": "4d1bd542-5159-4e13-e7f3-bfa528086b7c"
      },
      "source": [
        "print(dic.get('e'))"
      ],
      "execution_count": 154,
      "outputs": [
        {
          "output_type": "stream",
          "text": [
            "None\n"
          ],
          "name": "stdout"
        }
      ]
    },
    {
      "cell_type": "code",
      "metadata": {
        "id": "PjnDuEHjIVks"
      },
      "source": [
        "?dic.get"
      ],
      "execution_count": 155,
      "outputs": []
    },
    {
      "cell_type": "code",
      "metadata": {
        "colab": {
          "base_uri": "https://localhost:8080/",
          "height": 35
        },
        "id": "IIaSbvlJIhBs",
        "outputId": "b567b5b6-5e8d-4dca-b0fb-8417dcb76fe2"
      },
      "source": [
        "dic.get('e', 'default')"
      ],
      "execution_count": 156,
      "outputs": [
        {
          "output_type": "execute_result",
          "data": {
            "application/vnd.google.colaboratory.intrinsic+json": {
              "type": "string"
            },
            "text/plain": [
              "'default'"
            ]
          },
          "metadata": {
            "tags": []
          },
          "execution_count": 156
        }
      ]
    },
    {
      "cell_type": "code",
      "metadata": {
        "colab": {
          "base_uri": "https://localhost:8080/"
        },
        "id": "IS5N9xk-IoUL",
        "outputId": "37235a9f-df4c-4c05-d66c-5b260be778ff"
      },
      "source": [
        "dic.get('a', 'default')"
      ],
      "execution_count": 157,
      "outputs": [
        {
          "output_type": "execute_result",
          "data": {
            "text/plain": [
              "100"
            ]
          },
          "metadata": {
            "tags": []
          },
          "execution_count": 157
        }
      ]
    },
    {
      "cell_type": "code",
      "metadata": {
        "colab": {
          "base_uri": "https://localhost:8080/"
        },
        "id": "CbZPHjalIris",
        "outputId": "a0415006-75d9-44ee-cb3f-906fcf9ea7c1"
      },
      "source": [
        "dic"
      ],
      "execution_count": 158,
      "outputs": [
        {
          "output_type": "execute_result",
          "data": {
            "text/plain": [
              "{'a': 100, 'b': 'yes', 'c': 0.98, 'k': 'new'}"
            ]
          },
          "metadata": {
            "tags": []
          },
          "execution_count": 158
        }
      ]
    },
    {
      "cell_type": "code",
      "metadata": {
        "id": "c2YIg2EoI1Rc"
      },
      "source": [
        "dic2 = {'a': 1000, 'e':'newnew'}"
      ],
      "execution_count": 159,
      "outputs": []
    },
    {
      "cell_type": "code",
      "metadata": {
        "id": "RRQ7KlUsI5u9"
      },
      "source": [
        "dic.update(dic2)"
      ],
      "execution_count": 160,
      "outputs": []
    },
    {
      "cell_type": "code",
      "metadata": {
        "colab": {
          "base_uri": "https://localhost:8080/"
        },
        "id": "CMPEjCPNI8z8",
        "outputId": "047fdf7b-68a6-4fb6-c436-611191a695f0"
      },
      "source": [
        "dic"
      ],
      "execution_count": 161,
      "outputs": [
        {
          "output_type": "execute_result",
          "data": {
            "text/plain": [
              "{'a': 1000, 'b': 'yes', 'c': 0.98, 'e': 'newnew', 'k': 'new'}"
            ]
          },
          "metadata": {
            "tags": []
          },
          "execution_count": 161
        }
      ]
    },
    {
      "cell_type": "markdown",
      "metadata": {
        "id": "cuALf41oJVmz"
      },
      "source": [
        "### 練習題\r\n",
        "\r\n",
        "我們希望建立一個對話機器人, 機器人裡面內建一個資料問答資料庫, 資料庫的問題跟答案如下所示:\r\n",
        "\r\n",
        "- 問題:我要保保險 答案: 以下是我們推薦的險總類\r\n",
        "- 問題:我要貸款 答案: 以下是我們推薦的貸款總類\r\n",
        "- 問題:我要查餘額 答案: 以下是您的銀行存款餘額\r\n",
        "\r\n",
        "希望你能用這個問答資料庫建立成一個Python 字典, 當使用者輸入問題時, 可以根據問答資料庫回答答案, 但是如果問題不在資料庫之中，請答：我現在還不聰明，等我變聰明以後再回答你\r\n",
        "\r\n",
        "提示: 要使用 get 的語法"
      ]
    },
    {
      "cell_type": "code",
      "metadata": {
        "colab": {
          "base_uri": "https://localhost:8080/"
        },
        "id": "j0u0u5hpI9wP",
        "outputId": "54c8d029-ffe7-4ffc-e00e-ae5734a1e30e"
      },
      "source": [
        "question = input('請輸入您的問題?')"
      ],
      "execution_count": 170,
      "outputs": [
        {
          "output_type": "stream",
          "text": [
            "請輸入您的問題?吃鳳梨了沒\n"
          ],
          "name": "stdout"
        }
      ]
    },
    {
      "cell_type": "code",
      "metadata": {
        "colab": {
          "base_uri": "https://localhost:8080/",
          "height": 35
        },
        "id": "AI_O-SacJxwj",
        "outputId": "ee776583-7e6a-4de1-e72a-90e543f27fde"
      },
      "source": [
        "question"
      ],
      "execution_count": 168,
      "outputs": [
        {
          "output_type": "execute_result",
          "data": {
            "application/vnd.google.colaboratory.intrinsic+json": {
              "type": "string"
            },
            "text/plain": [
              "'我要保保險'"
            ]
          },
          "metadata": {
            "tags": []
          },
          "execution_count": 168
        }
      ]
    },
    {
      "cell_type": "code",
      "metadata": {
        "id": "5_OMOYq9N70A"
      },
      "source": [
        "dic = {\r\n",
        "    '我要保保險':'以下是我們推薦的險總類',\r\n",
        "    '我要貸款':'以下是我們推薦的貸款總類',\r\n",
        "    '我要查餘額':'以下是您的銀行存款餘額'\r\n",
        "}"
      ],
      "execution_count": 164,
      "outputs": []
    },
    {
      "cell_type": "code",
      "metadata": {
        "id": "0Y-_6LxCOXAK"
      },
      "source": [
        "?dic.get"
      ],
      "execution_count": 165,
      "outputs": []
    },
    {
      "cell_type": "code",
      "metadata": {
        "colab": {
          "base_uri": "https://localhost:8080/",
          "height": 35
        },
        "id": "4-pBjJcaOhYW",
        "outputId": "0608b1be-ed9e-4935-a9f1-f73c45809804"
      },
      "source": [
        "dic.get(question, \"我現在還不聰明，等我變聰明以後再回答你\")"
      ],
      "execution_count": 171,
      "outputs": [
        {
          "output_type": "execute_result",
          "data": {
            "application/vnd.google.colaboratory.intrinsic+json": {
              "type": "string"
            },
            "text/plain": [
              "'我現在還不聰明，等我變聰明以後再回答你'"
            ]
          },
          "metadata": {
            "tags": []
          },
          "execution_count": 171
        }
      ]
    },
    {
      "cell_type": "code",
      "metadata": {
        "id": "c6cJ4Vg1J0ld"
      },
      "source": [
        "print(answer)"
      ],
      "execution_count": null,
      "outputs": []
    },
    {
      "cell_type": "markdown",
      "metadata": {
        "id": "DxQrtqgFPv4c"
      },
      "source": [
        "### Tuple"
      ]
    },
    {
      "cell_type": "code",
      "metadata": {
        "id": "qqTIuEsbPxWY"
      },
      "source": [
        "li = [1,2,3]\r\n",
        "t1 = (1,2,3)"
      ],
      "execution_count": 172,
      "outputs": []
    },
    {
      "cell_type": "code",
      "metadata": {
        "colab": {
          "base_uri": "https://localhost:8080/"
        },
        "id": "YvLVK5itP0ki",
        "outputId": "b533447e-0d48-4cf7-b5d7-600b7f60259a"
      },
      "source": [
        "type(li)"
      ],
      "execution_count": 173,
      "outputs": [
        {
          "output_type": "execute_result",
          "data": {
            "text/plain": [
              "list"
            ]
          },
          "metadata": {
            "tags": []
          },
          "execution_count": 173
        }
      ]
    },
    {
      "cell_type": "code",
      "metadata": {
        "colab": {
          "base_uri": "https://localhost:8080/"
        },
        "id": "wO4xpW0VP1_S",
        "outputId": "9e5ff08e-e77f-44bc-d72c-f13f1944f215"
      },
      "source": [
        "type(t1)"
      ],
      "execution_count": 174,
      "outputs": [
        {
          "output_type": "execute_result",
          "data": {
            "text/plain": [
              "tuple"
            ]
          },
          "metadata": {
            "tags": []
          },
          "execution_count": 174
        }
      ]
    },
    {
      "cell_type": "code",
      "metadata": {
        "colab": {
          "base_uri": "https://localhost:8080/"
        },
        "id": "k8KkrkSOP3pi",
        "outputId": "3a4b807e-3cae-4586-d67b-fafa382aba8a"
      },
      "source": [
        "li[1]"
      ],
      "execution_count": 175,
      "outputs": [
        {
          "output_type": "execute_result",
          "data": {
            "text/plain": [
              "2"
            ]
          },
          "metadata": {
            "tags": []
          },
          "execution_count": 175
        }
      ]
    },
    {
      "cell_type": "code",
      "metadata": {
        "colab": {
          "base_uri": "https://localhost:8080/"
        },
        "id": "6PqtbTOAP6eS",
        "outputId": "9805d135-4949-4b48-c9d0-8c109b130657"
      },
      "source": [
        "t1[1]"
      ],
      "execution_count": 176,
      "outputs": [
        {
          "output_type": "execute_result",
          "data": {
            "text/plain": [
              "2"
            ]
          },
          "metadata": {
            "tags": []
          },
          "execution_count": 176
        }
      ]
    },
    {
      "cell_type": "code",
      "metadata": {
        "id": "tXBI8442P7YC"
      },
      "source": [
        "li[1] = 200"
      ],
      "execution_count": 177,
      "outputs": []
    },
    {
      "cell_type": "code",
      "metadata": {
        "colab": {
          "base_uri": "https://localhost:8080/",
          "height": 166
        },
        "id": "804tgPraP-BC",
        "outputId": "635c17da-342a-4a1b-c881-d33f382954d2"
      },
      "source": [
        "t1[1] = 200"
      ],
      "execution_count": 178,
      "outputs": [
        {
          "output_type": "error",
          "ename": "TypeError",
          "evalue": "ignored",
          "traceback": [
            "\u001b[0;31m---------------------------------------------------------------------------\u001b[0m",
            "\u001b[0;31mTypeError\u001b[0m                                 Traceback (most recent call last)",
            "\u001b[0;32m<ipython-input-178-34df775a8af7>\u001b[0m in \u001b[0;36m<module>\u001b[0;34m()\u001b[0m\n\u001b[0;32m----> 1\u001b[0;31m \u001b[0mt1\u001b[0m\u001b[0;34m[\u001b[0m\u001b[0;36m1\u001b[0m\u001b[0;34m]\u001b[0m \u001b[0;34m=\u001b[0m \u001b[0;36m200\u001b[0m\u001b[0;34m\u001b[0m\u001b[0;34m\u001b[0m\u001b[0m\n\u001b[0m",
            "\u001b[0;31mTypeError\u001b[0m: 'tuple' object does not support item assignment"
          ]
        }
      ]
    },
    {
      "cell_type": "code",
      "metadata": {
        "colab": {
          "base_uri": "https://localhost:8080/"
        },
        "id": "pvc73zLoP_qS",
        "outputId": "9454e522-bd77-47d4-bfa2-a3df5f91dc18"
      },
      "source": [
        "print(dir(li))"
      ],
      "execution_count": 181,
      "outputs": [
        {
          "output_type": "stream",
          "text": [
            "['__add__', '__class__', '__contains__', '__delattr__', '__delitem__', '__dir__', '__doc__', '__eq__', '__format__', '__ge__', '__getattribute__', '__getitem__', '__gt__', '__hash__', '__iadd__', '__imul__', '__init__', '__init_subclass__', '__iter__', '__le__', '__len__', '__lt__', '__mul__', '__ne__', '__new__', '__reduce__', '__reduce_ex__', '__repr__', '__reversed__', '__rmul__', '__setattr__', '__setitem__', '__sizeof__', '__str__', '__subclasshook__', 'append', 'clear', 'copy', 'count', 'extend', 'index', 'insert', 'pop', 'remove', 'reverse', 'sort']\n"
          ],
          "name": "stdout"
        }
      ]
    },
    {
      "cell_type": "code",
      "metadata": {
        "colab": {
          "base_uri": "https://localhost:8080/"
        },
        "id": "h5BEJnOMQEJT",
        "outputId": "f9fc8414-8530-4179-e29a-b5695494e5bb"
      },
      "source": [
        "print(dir(t1))"
      ],
      "execution_count": 182,
      "outputs": [
        {
          "output_type": "stream",
          "text": [
            "['__add__', '__class__', '__contains__', '__delattr__', '__dir__', '__doc__', '__eq__', '__format__', '__ge__', '__getattribute__', '__getitem__', '__getnewargs__', '__gt__', '__hash__', '__init__', '__init_subclass__', '__iter__', '__le__', '__len__', '__lt__', '__mul__', '__ne__', '__new__', '__reduce__', '__reduce_ex__', '__repr__', '__rmul__', '__setattr__', '__sizeof__', '__str__', '__subclasshook__', 'count', 'index']\n"
          ],
          "name": "stdout"
        }
      ]
    },
    {
      "cell_type": "code",
      "metadata": {
        "colab": {
          "base_uri": "https://localhost:8080/"
        },
        "id": "SIVj1-LyQK9C",
        "outputId": "ef9046e8-863b-43ec-ad55-8a2d9d3c2d3d"
      },
      "source": [
        "t1"
      ],
      "execution_count": 183,
      "outputs": [
        {
          "output_type": "execute_result",
          "data": {
            "text/plain": [
              "(1, 2, 3)"
            ]
          },
          "metadata": {
            "tags": []
          },
          "execution_count": 183
        }
      ]
    },
    {
      "cell_type": "code",
      "metadata": {
        "colab": {
          "base_uri": "https://localhost:8080/"
        },
        "id": "rRek2rGrQYRT",
        "outputId": "432805ba-3519-41c7-e112-d5500066d124"
      },
      "source": [
        "t1.index(3)"
      ],
      "execution_count": 184,
      "outputs": [
        {
          "output_type": "execute_result",
          "data": {
            "text/plain": [
              "2"
            ]
          },
          "metadata": {
            "tags": []
          },
          "execution_count": 184
        }
      ]
    },
    {
      "cell_type": "code",
      "metadata": {
        "colab": {
          "base_uri": "https://localhost:8080/"
        },
        "id": "YfXQQsEJQaYC",
        "outputId": "9e170196-d320-426a-bc6f-65028ee5e7c0"
      },
      "source": [
        "t1 = (1,1,2,2,3,3,3,2,1,3,4,5)\r\n",
        "t1.count(3)"
      ],
      "execution_count": 185,
      "outputs": [
        {
          "output_type": "execute_result",
          "data": {
            "text/plain": [
              "4"
            ]
          },
          "metadata": {
            "tags": []
          },
          "execution_count": 185
        }
      ]
    },
    {
      "cell_type": "code",
      "metadata": {
        "id": "_I77A9t-QhAD"
      },
      "source": [
        "a = 3\r\n",
        "b = 2"
      ],
      "execution_count": 186,
      "outputs": []
    },
    {
      "cell_type": "code",
      "metadata": {
        "id": "Su_pujHDQvRS"
      },
      "source": [
        "a,b = 3,2"
      ],
      "execution_count": 187,
      "outputs": []
    },
    {
      "cell_type": "code",
      "metadata": {
        "colab": {
          "base_uri": "https://localhost:8080/"
        },
        "id": "xCEqXnnqQyX1",
        "outputId": "1ec1dbaa-d01f-4b00-a67c-033b7a8317f2"
      },
      "source": [
        "t1 = (3,2)\r\n",
        "t1"
      ],
      "execution_count": 189,
      "outputs": [
        {
          "output_type": "execute_result",
          "data": {
            "text/plain": [
              "(3, 2)"
            ]
          },
          "metadata": {
            "tags": []
          },
          "execution_count": 189
        }
      ]
    },
    {
      "cell_type": "code",
      "metadata": {
        "colab": {
          "base_uri": "https://localhost:8080/"
        },
        "id": "r-opLhyyQ2ty",
        "outputId": "ba647b1b-ab74-4f5a-8000-a1d90b7adf65"
      },
      "source": [
        "t2 = 3,2\r\n",
        "t2"
      ],
      "execution_count": 191,
      "outputs": [
        {
          "output_type": "execute_result",
          "data": {
            "text/plain": [
              "(3, 2)"
            ]
          },
          "metadata": {
            "tags": []
          },
          "execution_count": 191
        }
      ]
    },
    {
      "cell_type": "markdown",
      "metadata": {
        "id": "-Jpb0wAkU5Jj"
      },
      "source": [
        "## Loop and Control Flow"
      ]
    },
    {
      "cell_type": "code",
      "metadata": {
        "colab": {
          "base_uri": "https://localhost:8080/"
        },
        "id": "1v_EaXeYQ5Ni",
        "outputId": "a0f2cd53-35a5-4621-84ae-63045104204d"
      },
      "source": [
        "#if (a > 3){\r\n",
        "#    # do st\r\n",
        "#}\r\n",
        "\r\n",
        "a = 5\r\n",
        "if a > 3:\r\n",
        "                                             print('do st')\r\n"
      ],
      "execution_count": 197,
      "outputs": [
        {
          "output_type": "stream",
          "text": [
            "do st\n"
          ],
          "name": "stdout"
        }
      ]
    },
    {
      "cell_type": "code",
      "metadata": {
        "colab": {
          "base_uri": "https://localhost:8080/"
        },
        "id": "H7UTp_jfVrJF",
        "outputId": "d8667d1e-e145-4500-d51c-3dd3034690f4"
      },
      "source": [
        "import this"
      ],
      "execution_count": 198,
      "outputs": [
        {
          "output_type": "stream",
          "text": [
            "The Zen of Python, by Tim Peters\n",
            "\n",
            "Beautiful is better than ugly.\n",
            "Explicit is better than implicit.\n",
            "Simple is better than complex.\n",
            "Complex is better than complicated.\n",
            "Flat is better than nested.\n",
            "Sparse is better than dense.\n",
            "Readability counts.\n",
            "Special cases aren't special enough to break the rules.\n",
            "Although practicality beats purity.\n",
            "Errors should never pass silently.\n",
            "Unless explicitly silenced.\n",
            "In the face of ambiguity, refuse the temptation to guess.\n",
            "There should be one-- and preferably only one --obvious way to do it.\n",
            "Although that way may not be obvious at first unless you're Dutch.\n",
            "Now is better than never.\n",
            "Although never is often better than *right* now.\n",
            "If the implementation is hard to explain, it's a bad idea.\n",
            "If the implementation is easy to explain, it may be a good idea.\n",
            "Namespaces are one honking great idea -- let's do more of those!\n"
          ],
          "name": "stdout"
        }
      ]
    },
    {
      "cell_type": "code",
      "metadata": {
        "colab": {
          "base_uri": "https://localhost:8080/"
        },
        "id": "-OiVk2QrVD8M",
        "outputId": "88688608-7a73-4bff-ff3e-a24c329bd207"
      },
      "source": [
        "if True:\r\n",
        "  print('this is true')"
      ],
      "execution_count": 199,
      "outputs": [
        {
          "output_type": "stream",
          "text": [
            "this is true\n"
          ],
          "name": "stdout"
        }
      ]
    },
    {
      "cell_type": "code",
      "metadata": {
        "colab": {
          "base_uri": "https://localhost:8080/"
        },
        "id": "7r0Lpz-mWVXa",
        "outputId": "a488d397-ca01-4868-90e3-83e6ed64f022"
      },
      "source": [
        "x = True\r\n",
        "if x:\r\n",
        "  print('x was true')\r\n",
        "print('print this for any reason')"
      ],
      "execution_count": 202,
      "outputs": [
        {
          "output_type": "stream",
          "text": [
            "x was true\n",
            "print this for any reason\n"
          ],
          "name": "stdout"
        }
      ]
    },
    {
      "cell_type": "code",
      "metadata": {
        "colab": {
          "base_uri": "https://localhost:8080/"
        },
        "id": "TyP0t7mAWaSD",
        "outputId": "cea74cca-b257-4e64-df50-954be3b5db36"
      },
      "source": [
        "x = False\r\n",
        "if x:\r\n",
        "  print('x was true')\r\n",
        "else:\r\n",
        "  print('x was not true')"
      ],
      "execution_count": 205,
      "outputs": [
        {
          "output_type": "stream",
          "text": [
            "x was not true\n"
          ],
          "name": "stdout"
        }
      ]
    },
    {
      "cell_type": "code",
      "metadata": {
        "colab": {
          "base_uri": "https://localhost:8080/"
        },
        "id": "G3HyHmicW0oj",
        "outputId": "8773b281-ba3c-4c64-90c2-c013333973e1"
      },
      "source": [
        "deposit= 5000\r\n",
        "if deposit> 30000:\r\n",
        "  print('Buy iPhone')\r\n",
        "elif deposit> 20000:\r\n",
        "  print('Buy Oppo')\r\n",
        "else:\r\n",
        "  print('Save More Money')"
      ],
      "execution_count": 208,
      "outputs": [
        {
          "output_type": "stream",
          "text": [
            "Save More Money\n"
          ],
          "name": "stdout"
        }
      ]
    },
    {
      "cell_type": "code",
      "metadata": {
        "colab": {
          "base_uri": "https://localhost:8080/"
        },
        "id": "Bf1n3wISXUdD",
        "outputId": "d45cc76a-f867-4add-ced5-a2183eabf0bc"
      },
      "source": [
        "l = [1,2,3,4,5,6,7,8,9,10]\r\n",
        "\r\n",
        "for num in l:\r\n",
        "  print(num)"
      ],
      "execution_count": 210,
      "outputs": [
        {
          "output_type": "stream",
          "text": [
            "1\n",
            "2\n",
            "3\n",
            "4\n",
            "5\n",
            "6\n",
            "7\n",
            "8\n",
            "9\n",
            "10\n"
          ],
          "name": "stdout"
        }
      ]
    },
    {
      "cell_type": "code",
      "metadata": {
        "colab": {
          "base_uri": "https://localhost:8080/"
        },
        "id": "CFIa1KfwYAez",
        "outputId": "53b9cde6-97a3-42a7-f803-c0b734afe106"
      },
      "source": [
        "for l in range(1,11):\r\n",
        "  print(l)"
      ],
      "execution_count": 211,
      "outputs": [
        {
          "output_type": "stream",
          "text": [
            "1\n",
            "2\n",
            "3\n",
            "4\n",
            "5\n",
            "6\n",
            "7\n",
            "8\n",
            "9\n",
            "10\n"
          ],
          "name": "stdout"
        }
      ]
    },
    {
      "cell_type": "code",
      "metadata": {
        "id": "TSPp6AHDYSPT"
      },
      "source": [
        "s = 0\r\n",
        "for l in range(1,11):\r\n",
        "  s = s + l"
      ],
      "execution_count": 212,
      "outputs": []
    },
    {
      "cell_type": "code",
      "metadata": {
        "colab": {
          "base_uri": "https://localhost:8080/"
        },
        "id": "jtgHC6JNYiPk",
        "outputId": "2545e48d-7f8a-48c6-ac0c-777beede2715"
      },
      "source": [
        "s"
      ],
      "execution_count": 213,
      "outputs": [
        {
          "output_type": "execute_result",
          "data": {
            "text/plain": [
              "55"
            ]
          },
          "metadata": {
            "tags": []
          },
          "execution_count": 213
        }
      ]
    },
    {
      "cell_type": "code",
      "metadata": {
        "colab": {
          "base_uri": "https://localhost:8080/"
        },
        "id": "lCjs9F89YioU",
        "outputId": "08c091e1-2561-470e-a4a2-ca23fde4f380"
      },
      "source": [
        "s = 0\r\n",
        "for l in range(1,101):\r\n",
        "  #s = s + l\r\n",
        "  s += l\r\n",
        "s"
      ],
      "execution_count": 215,
      "outputs": [
        {
          "output_type": "execute_result",
          "data": {
            "text/plain": [
              "5050"
            ]
          },
          "metadata": {
            "tags": []
          },
          "execution_count": 215
        }
      ]
    },
    {
      "cell_type": "code",
      "metadata": {
        "colab": {
          "base_uri": "https://localhost:8080/"
        },
        "id": "5-ACY08eYlzE",
        "outputId": "2851f447-b58d-4f94-e724-933628b53007"
      },
      "source": [
        "sum(range(1,101))"
      ],
      "execution_count": 216,
      "outputs": [
        {
          "output_type": "execute_result",
          "data": {
            "text/plain": [
              "5050"
            ]
          },
          "metadata": {
            "tags": []
          },
          "execution_count": 216
        }
      ]
    },
    {
      "cell_type": "code",
      "metadata": {
        "colab": {
          "base_uri": "https://localhost:8080/"
        },
        "id": "GV_NEofUY8XX",
        "outputId": "0c089c51-5d04-4310-cd11-7bc1063a944a"
      },
      "source": [
        "for s in 'hello':\r\n",
        "  print(s)"
      ],
      "execution_count": 217,
      "outputs": [
        {
          "output_type": "stream",
          "text": [
            "h\n",
            "e\n",
            "l\n",
            "l\n",
            "o\n"
          ],
          "name": "stdout"
        }
      ]
    },
    {
      "cell_type": "code",
      "metadata": {
        "colab": {
          "base_uri": "https://localhost:8080/"
        },
        "id": "gJ0CdEalY-wD",
        "outputId": "b0bb560e-89a7-4a84-eab8-9f105d1cedf1"
      },
      "source": [
        "for t in (1,2,3,4,5):\r\n",
        "  print(t)"
      ],
      "execution_count": 218,
      "outputs": [
        {
          "output_type": "stream",
          "text": [
            "1\n",
            "2\n",
            "3\n",
            "4\n",
            "5\n"
          ],
          "name": "stdout"
        }
      ]
    },
    {
      "cell_type": "code",
      "metadata": {
        "colab": {
          "base_uri": "https://localhost:8080/"
        },
        "id": "7r-VDbEmZGfk",
        "outputId": "9ed89290-9a78-4c47-fee0-33f3415c7a95"
      },
      "source": [
        "l = [(2,4), (6,8), (10,12)]\r\n",
        "for tup in l:\r\n",
        "  print(tup)"
      ],
      "execution_count": 219,
      "outputs": [
        {
          "output_type": "stream",
          "text": [
            "(2, 4)\n",
            "(6, 8)\n",
            "(10, 12)\n"
          ],
          "name": "stdout"
        }
      ]
    },
    {
      "cell_type": "code",
      "metadata": {
        "colab": {
          "base_uri": "https://localhost:8080/"
        },
        "id": "WYNIeJsPZVkE",
        "outputId": "08f2449d-f46a-4c28-cc92-2e89d0cb5c28"
      },
      "source": [
        "a,b = (2,4)\r\n",
        "a"
      ],
      "execution_count": 220,
      "outputs": [
        {
          "output_type": "execute_result",
          "data": {
            "text/plain": [
              "2"
            ]
          },
          "metadata": {
            "tags": []
          },
          "execution_count": 220
        }
      ]
    },
    {
      "cell_type": "code",
      "metadata": {
        "colab": {
          "base_uri": "https://localhost:8080/"
        },
        "id": "YVqT8LrbZfbD",
        "outputId": "8aa829f6-46a8-4bd9-a3f0-beacda4acf9f"
      },
      "source": [
        "b"
      ],
      "execution_count": 221,
      "outputs": [
        {
          "output_type": "execute_result",
          "data": {
            "text/plain": [
              "4"
            ]
          },
          "metadata": {
            "tags": []
          },
          "execution_count": 221
        }
      ]
    },
    {
      "cell_type": "code",
      "metadata": {
        "colab": {
          "base_uri": "https://localhost:8080/"
        },
        "id": "V2dq43ouZf7U",
        "outputId": "21cf5e9b-969d-4526-cd29-02679875fbad"
      },
      "source": [
        "for a,b in l:\r\n",
        "  print(a,b)"
      ],
      "execution_count": 222,
      "outputs": [
        {
          "output_type": "stream",
          "text": [
            "2 4\n",
            "6 8\n",
            "10 12\n"
          ],
          "name": "stdout"
        }
      ]
    },
    {
      "cell_type": "code",
      "metadata": {
        "id": "_0eSXhjQZkmz"
      },
      "source": [
        "dic = {\r\n",
        "    '我要保保險':'以下是我們推薦的險總類',\r\n",
        "    '我要貸款':'以下是我們推薦的貸款總類',\r\n",
        "    '我要查餘額':'以下是您的銀行存款餘額'\r\n",
        "}"
      ],
      "execution_count": 223,
      "outputs": []
    },
    {
      "cell_type": "code",
      "metadata": {
        "colab": {
          "base_uri": "https://localhost:8080/"
        },
        "id": "lny22Q12ZzOz",
        "outputId": "e48b172c-46a4-4f79-d432-1fef02550232"
      },
      "source": [
        "for k in dic:\r\n",
        "  print(k)"
      ],
      "execution_count": 224,
      "outputs": [
        {
          "output_type": "stream",
          "text": [
            "我要保保險\n",
            "我要貸款\n",
            "我要查餘額\n"
          ],
          "name": "stdout"
        }
      ]
    },
    {
      "cell_type": "code",
      "metadata": {
        "colab": {
          "base_uri": "https://localhost:8080/"
        },
        "id": "bVZP48QFZ1nU",
        "outputId": "ba7c98ee-cb77-4239-dc30-5d488071cb4a"
      },
      "source": [
        "for k in dic:\r\n",
        "  print(k, dic.get(k))"
      ],
      "execution_count": 225,
      "outputs": [
        {
          "output_type": "stream",
          "text": [
            "我要保保險 以下是我們推薦的險總類\n",
            "我要貸款 以下是我們推薦的貸款總類\n",
            "我要查餘額 以下是您的銀行存款餘額\n"
          ],
          "name": "stdout"
        }
      ]
    },
    {
      "cell_type": "code",
      "metadata": {
        "colab": {
          "base_uri": "https://localhost:8080/"
        },
        "id": "fO87s-t-Z8dj",
        "outputId": "5496bb38-6253-4877-e135-1644340bc346"
      },
      "source": [
        "dic.items()"
      ],
      "execution_count": 227,
      "outputs": [
        {
          "output_type": "execute_result",
          "data": {
            "text/plain": [
              "dict_items([('我要保保險', '以下是我們推薦的險總類'), ('我要貸款', '以下是我們推薦的貸款總類'), ('我要查餘額', '以下是您的銀行存款餘額')])"
            ]
          },
          "metadata": {
            "tags": []
          },
          "execution_count": 227
        }
      ]
    },
    {
      "cell_type": "code",
      "metadata": {
        "colab": {
          "base_uri": "https://localhost:8080/"
        },
        "id": "ZOK2msj4aEHD",
        "outputId": "299dcad2-6c53-4622-b98e-53336c3d4050"
      },
      "source": [
        "for q,a in dic.items():\r\n",
        "  print(q,a)"
      ],
      "execution_count": 228,
      "outputs": [
        {
          "output_type": "stream",
          "text": [
            "我要保保險 以下是我們推薦的險總類\n",
            "我要貸款 以下是我們推薦的貸款總類\n",
            "我要查餘額 以下是您的銀行存款餘額\n"
          ],
          "name": "stdout"
        }
      ]
    },
    {
      "cell_type": "code",
      "metadata": {
        "colab": {
          "base_uri": "https://localhost:8080/"
        },
        "id": "o-P4Ys1zaMFj",
        "outputId": "a6e8b0f9-95a5-4216-f0c0-6b9912c48d64"
      },
      "source": [
        "x = 0\r\n",
        "while x <10 :\r\n",
        "  print('x is less than 10')\r\n",
        "  x = x + 1"
      ],
      "execution_count": 229,
      "outputs": [
        {
          "output_type": "stream",
          "text": [
            "x is less than 10\n",
            "x is less than 10\n",
            "x is less than 10\n",
            "x is less than 10\n",
            "x is less than 10\n",
            "x is less than 10\n",
            "x is less than 10\n",
            "x is less than 10\n",
            "x is less than 10\n",
            "x is less than 10\n"
          ],
          "name": "stdout"
        }
      ]
    },
    {
      "cell_type": "code",
      "metadata": {
        "colab": {
          "base_uri": "https://localhost:8080/"
        },
        "id": "nSWBnoCsajnD",
        "outputId": "44ade1e7-0ecd-4ce9-96fa-368ad3f24c51"
      },
      "source": [
        "x = 0\r\n",
        "while x <10 :\r\n",
        "  print('x is less than 10')\r\n",
        "  x = x + 1\r\n",
        "else:\r\n",
        "  print('All Done')"
      ],
      "execution_count": 230,
      "outputs": [
        {
          "output_type": "stream",
          "text": [
            "x is less than 10\n",
            "x is less than 10\n",
            "x is less than 10\n",
            "x is less than 10\n",
            "x is less than 10\n",
            "x is less than 10\n",
            "x is less than 10\n",
            "x is less than 10\n",
            "x is less than 10\n",
            "x is less than 10\n",
            "All Done\n"
          ],
          "name": "stdout"
        }
      ]
    },
    {
      "cell_type": "code",
      "metadata": {
        "colab": {
          "base_uri": "https://localhost:8080/"
        },
        "id": "J_lHqFQHaz50",
        "outputId": "dc3cfc02-56cd-4837-9be4-5e2da907f8ca"
      },
      "source": [
        "x = 0\r\n",
        "while x <10 :\r\n",
        "  print('x is less than 10')\r\n",
        "  x = x + 1\r\n",
        "  if x == 3:\r\n",
        "    print('yes, i find 3')\r\n",
        "else:\r\n",
        "  print('All Done')"
      ],
      "execution_count": 231,
      "outputs": [
        {
          "output_type": "stream",
          "text": [
            "x is less than 10\n",
            "x is less than 10\n",
            "x is less than 10\n",
            "yes, i find 3\n",
            "x is less than 10\n",
            "x is less than 10\n",
            "x is less than 10\n",
            "x is less than 10\n",
            "x is less than 10\n",
            "x is less than 10\n",
            "x is less than 10\n",
            "All Done\n"
          ],
          "name": "stdout"
        }
      ]
    },
    {
      "cell_type": "code",
      "metadata": {
        "colab": {
          "base_uri": "https://localhost:8080/"
        },
        "id": "_V7uLiYPbN1k",
        "outputId": "6b0b1722-2018-45a0-ffa8-f1b9a954c1e9"
      },
      "source": [
        "x = 0\r\n",
        "while x <10 :\r\n",
        "  print('x is less than 10')\r\n",
        "  x = x + 1\r\n",
        "  if x == 3:\r\n",
        "    print('yes, i find 3')\r\n",
        "    break\r\n",
        "else:\r\n",
        "  print('All Done')"
      ],
      "execution_count": 232,
      "outputs": [
        {
          "output_type": "stream",
          "text": [
            "x is less than 10\n",
            "x is less than 10\n",
            "x is less than 10\n",
            "yes, i find 3\n"
          ],
          "name": "stdout"
        }
      ]
    },
    {
      "cell_type": "code",
      "metadata": {
        "colab": {
          "base_uri": "https://localhost:8080/"
        },
        "id": "XMFKc3O4batz",
        "outputId": "80b96aa5-4829-49c6-b62c-796f6a8e3dc2"
      },
      "source": [
        "x = 0\r\n",
        "while x <10 :\r\n",
        "  print('x is less than 10')\r\n",
        "  x = x + 1\r\n",
        "  if x == 3:\r\n",
        "    #continue\r\n",
        "    pass\r\n",
        "    print('yes, i find 3')\r\n",
        "    \r\n",
        "else:\r\n",
        "  print('All Done')"
      ],
      "execution_count": 234,
      "outputs": [
        {
          "output_type": "stream",
          "text": [
            "x is less than 10\n",
            "x is less than 10\n",
            "x is less than 10\n",
            "yes, i find 3\n",
            "x is less than 10\n",
            "x is less than 10\n",
            "x is less than 10\n",
            "x is less than 10\n",
            "x is less than 10\n",
            "x is less than 10\n",
            "x is less than 10\n",
            "All Done\n"
          ],
          "name": "stdout"
        }
      ]
    },
    {
      "cell_type": "code",
      "metadata": {
        "colab": {
          "base_uri": "https://localhost:8080/",
          "height": 183
        },
        "id": "0AZw26p-brTU",
        "outputId": "7b153301-ab63-46ef-bd9c-8ea564484604"
      },
      "source": [
        "while True:\r\n",
        "  pass"
      ],
      "execution_count": 235,
      "outputs": [
        {
          "output_type": "error",
          "ename": "KeyboardInterrupt",
          "evalue": "ignored",
          "traceback": [
            "\u001b[0;31m---------------------------------------------------------------------------\u001b[0m",
            "\u001b[0;31mKeyboardInterrupt\u001b[0m                         Traceback (most recent call last)",
            "\u001b[0;32m<ipython-input-235-648a2bab0435>\u001b[0m in \u001b[0;36m<module>\u001b[0;34m()\u001b[0m\n\u001b[1;32m      1\u001b[0m \u001b[0;32mwhile\u001b[0m \u001b[0;32mTrue\u001b[0m\u001b[0;34m:\u001b[0m\u001b[0;34m\u001b[0m\u001b[0;34m\u001b[0m\u001b[0m\n\u001b[0;32m----> 2\u001b[0;31m   \u001b[0;32mpass\u001b[0m\u001b[0;34m\u001b[0m\u001b[0;34m\u001b[0m\u001b[0m\n\u001b[0m",
            "\u001b[0;31mKeyboardInterrupt\u001b[0m: "
          ]
        }
      ]
    },
    {
      "cell_type": "markdown",
      "metadata": {
        "id": "BPX4DH0Qcm7P"
      },
      "source": [
        "### 練習題\r\n",
        "\r\n",
        "我們希望建立一個對話機器人, 機器人裡面內建一個資料問答資料庫, 資料庫的問題跟答案如下所示:\r\n",
        "\r\n",
        "- 問題:保險 答案: 以下是我們推薦的險總類\r\n",
        "- 問題:貸款 答案: 以下是我們推薦的貸款總類\r\n",
        "- 問題:存款 答案: 以下是您的銀行存款餘額\r\n",
        "\r\n",
        "希望你能用這個問答資料庫建立成一個Python 字典, 當使用者輸入問題時, 只要問題中有部分關鍵字對到問答資料庫的問題,電腦就予以回答"
      ]
    },
    {
      "cell_type": "code",
      "metadata": {
        "colab": {
          "base_uri": "https://localhost:8080/"
        },
        "id": "fIeNTIEicRMj",
        "outputId": "5764d126-7fa3-4fd5-f442-57d7539771fc"
      },
      "source": [
        "question = input('請輸入您的問題?')\r\n",
        "qa = {}\r\n",
        "\r\n",
        "for q in qa:\r\n",
        "  pass\r\n",
        "  \r\n",
        "if '保險' in question:\r\n",
        "  print('以下是我們推薦的險總類')\r\n",
        "\r\n",
        "#answer"
      ],
      "execution_count": 238,
      "outputs": [
        {
          "output_type": "stream",
          "text": [
            "請輸入您的問題?早安\n"
          ],
          "name": "stdout"
        }
      ]
    },
    {
      "cell_type": "code",
      "metadata": {
        "colab": {
          "base_uri": "https://localhost:8080/"
        },
        "id": "B4NshqiRdC10",
        "outputId": "7b816794-1df7-4618-c1eb-a5d349859e28"
      },
      "source": [
        "qa = {'保險':'以下是我們推薦的險總類',\r\n",
        "    '貸款':'以下是我們推薦的貸款總類',\r\n",
        "    '存款':'以下是您的銀行存款餘額'}\r\n",
        "\r\n",
        "question = input('請輸入您的問題?')\r\n",
        "for q in qa:\r\n",
        "  #print(q)\r\n",
        "  if q in question:\r\n",
        "    print(qa.get(q))"
      ],
      "execution_count": 241,
      "outputs": [
        {
          "output_type": "stream",
          "text": [
            "請輸入您的問題?我要保保險\n",
            "以下是我們推薦的險總類\n"
          ],
          "name": "stdout"
        }
      ]
    },
    {
      "cell_type": "code",
      "metadata": {
        "colab": {
          "base_uri": "https://localhost:8080/"
        },
        "id": "i9ogbk0vjen1",
        "outputId": "b0d0c2e6-ad85-4a3b-eca2-bf37829baef3"
      },
      "source": [
        "qa = {'保險':'以下是我們推薦的險總類',\r\n",
        "    '貸款':'以下是我們推薦的貸款總類',\r\n",
        "    '存款':'以下是您的銀行存款餘額'}\r\n",
        "\r\n",
        "question = input('請輸入您的問題?')\r\n",
        "for q in qa:\r\n",
        "  if q in question:\r\n",
        "    print(qa.get(q))\r\n",
        "    break"
      ],
      "execution_count": 244,
      "outputs": [
        {
          "output_type": "stream",
          "text": [
            "請輸入您的問題?我要保險跟貸款\n",
            "以下是我們推薦的險總類\n"
          ],
          "name": "stdout"
        }
      ]
    },
    {
      "cell_type": "code",
      "metadata": {
        "colab": {
          "base_uri": "https://localhost:8080/"
        },
        "id": "ItChp504j4xk",
        "outputId": "c8420879-9694-418f-8fed-565db60e26f6"
      },
      "source": [
        "qa = {'保險':'以下是我們推薦的險總類',\r\n",
        "    '貸款':'以下是我們推薦的貸款總類',\r\n",
        "    '存款':'以下是您的銀行存款餘額'}\r\n",
        "\r\n",
        "question = input('請輸入您的問題?')\r\n",
        "for q in qa:\r\n",
        "  if q in question:\r\n",
        "    print(qa.get(q))\r\n",
        "    break\r\n",
        "else:\r\n",
        "  print('我現在還不聰明, 等我變聰明以後再回答您')"
      ],
      "execution_count": 246,
      "outputs": [
        {
          "output_type": "stream",
          "text": [
            "請輸入您的問題?我要保保險\n",
            "以下是我們推薦的險總類\n"
          ],
          "name": "stdout"
        }
      ]
    },
    {
      "cell_type": "markdown",
      "metadata": {
        "id": "hsVvW6yVlmCW"
      },
      "source": [
        "### Function"
      ]
    },
    {
      "cell_type": "code",
      "metadata": {
        "id": "utIRLzVRkYgk"
      },
      "source": [
        "def say_hello():\r\n",
        "  print('hello')"
      ],
      "execution_count": 249,
      "outputs": []
    },
    {
      "cell_type": "code",
      "metadata": {
        "colab": {
          "base_uri": "https://localhost:8080/"
        },
        "id": "-9txG8MAlrgj",
        "outputId": "e39d70cf-904b-48c1-fa76-20127a0605e9"
      },
      "source": [
        "say_hello()"
      ],
      "execution_count": 250,
      "outputs": [
        {
          "output_type": "stream",
          "text": [
            "hello\n"
          ],
          "name": "stdout"
        }
      ]
    },
    {
      "cell_type": "code",
      "metadata": {
        "id": "c9ad9ggBlwSD"
      },
      "source": [
        "def addNum(a,b):\r\n",
        "  return a + b\r\n",
        "  "
      ],
      "execution_count": 251,
      "outputs": []
    },
    {
      "cell_type": "code",
      "metadata": {
        "colab": {
          "base_uri": "https://localhost:8080/"
        },
        "id": "tmrwg9-XmBaT",
        "outputId": "6b83f08c-505f-42e4-ce40-47a7cc786437"
      },
      "source": [
        "addNum(1,4)"
      ],
      "execution_count": 253,
      "outputs": [
        {
          "output_type": "execute_result",
          "data": {
            "text/plain": [
              "5"
            ]
          },
          "metadata": {
            "tags": []
          },
          "execution_count": 253
        }
      ]
    },
    {
      "cell_type": "code",
      "metadata": {
        "colab": {
          "base_uri": "https://localhost:8080/"
        },
        "id": "nFxgOFHqmE1T",
        "outputId": "cbbc506d-dcdf-438a-a8e2-9da0aaa44d50"
      },
      "source": [
        "addNum(3,8)"
      ],
      "execution_count": 254,
      "outputs": [
        {
          "output_type": "execute_result",
          "data": {
            "text/plain": [
              "11"
            ]
          },
          "metadata": {
            "tags": []
          },
          "execution_count": 254
        }
      ]
    },
    {
      "cell_type": "code",
      "metadata": {
        "colab": {
          "base_uri": "https://localhost:8080/",
          "height": 35
        },
        "id": "5LZXrm0Ymi2g",
        "outputId": "46cbab81-acfa-42a1-d7bb-cb48629030da"
      },
      "source": [
        "addNum('Hello', 'World')"
      ],
      "execution_count": 258,
      "outputs": [
        {
          "output_type": "execute_result",
          "data": {
            "application/vnd.google.colaboratory.intrinsic+json": {
              "type": "string"
            },
            "text/plain": [
              "'HelloWorld'"
            ]
          },
          "metadata": {
            "tags": []
          },
          "execution_count": 258
        }
      ]
    },
    {
      "cell_type": "code",
      "metadata": {
        "colab": {
          "base_uri": "https://localhost:8080/"
        },
        "id": "EgjNWwDomsYy",
        "outputId": "44c4544d-4b62-4049-d956-500fe04b4bf0"
      },
      "source": [
        "addNum([1,2,3], [4,5,6])"
      ],
      "execution_count": 259,
      "outputs": [
        {
          "output_type": "execute_result",
          "data": {
            "text/plain": [
              "[1, 2, 3, 4, 5, 6]"
            ]
          },
          "metadata": {
            "tags": []
          },
          "execution_count": 259
        }
      ]
    },
    {
      "cell_type": "code",
      "metadata": {
        "id": "tkBVlSzdmIiT"
      },
      "source": [
        "def addNum2(a,b):\r\n",
        "  return a * 3 + b\r\n",
        "  "
      ],
      "execution_count": 255,
      "outputs": []
    },
    {
      "cell_type": "code",
      "metadata": {
        "colab": {
          "base_uri": "https://localhost:8080/"
        },
        "id": "s3rZisCnmSAT",
        "outputId": "17d08763-d35b-474c-c730-9bcf62fbd8e0"
      },
      "source": [
        "addNum2(3,5)"
      ],
      "execution_count": 256,
      "outputs": [
        {
          "output_type": "execute_result",
          "data": {
            "text/plain": [
              "14"
            ]
          },
          "metadata": {
            "tags": []
          },
          "execution_count": 256
        }
      ]
    },
    {
      "cell_type": "code",
      "metadata": {
        "colab": {
          "base_uri": "https://localhost:8080/"
        },
        "id": "Jok3SEZmmT3T",
        "outputId": "fed3def5-e809-4d71-919a-473da65f79bc"
      },
      "source": [
        "addNum2(b = 3,a = 5)"
      ],
      "execution_count": 257,
      "outputs": [
        {
          "output_type": "execute_result",
          "data": {
            "text/plain": [
              "18"
            ]
          },
          "metadata": {
            "tags": []
          },
          "execution_count": 257
        }
      ]
    },
    {
      "cell_type": "markdown",
      "metadata": {
        "id": "S8JE5RfancQY"
      },
      "source": [
        "## Object"
      ]
    },
    {
      "cell_type": "code",
      "metadata": {
        "id": "TZQ3SA4SmaRD"
      },
      "source": [
        "class Sample():\r\n",
        "  pass"
      ],
      "execution_count": 260,
      "outputs": []
    },
    {
      "cell_type": "code",
      "metadata": {
        "id": "Quztark6ne8j"
      },
      "source": [
        "x = Sample()"
      ],
      "execution_count": 261,
      "outputs": []
    },
    {
      "cell_type": "code",
      "metadata": {
        "colab": {
          "base_uri": "https://localhost:8080/"
        },
        "id": "J3a1ECpVnhtU",
        "outputId": "75de1420-4739-41af-d189-db0e74fbca19"
      },
      "source": [
        "type(x)"
      ],
      "execution_count": 262,
      "outputs": [
        {
          "output_type": "execute_result",
          "data": {
            "text/plain": [
              "__main__.Sample"
            ]
          },
          "metadata": {
            "tags": []
          },
          "execution_count": 262
        }
      ]
    },
    {
      "cell_type": "code",
      "metadata": {
        "id": "yewZYhLYninj"
      },
      "source": [
        "class Dog(object):\r\n",
        "  def __init__(self, breed):\r\n",
        "    self.breed = breed\r\n",
        "\r\n",
        "sam = Dog(breed= 'Lab')\r\n",
        "frank = Dog(breed= 'Huskie')"
      ],
      "execution_count": 263,
      "outputs": []
    },
    {
      "cell_type": "code",
      "metadata": {
        "colab": {
          "base_uri": "https://localhost:8080/"
        },
        "id": "iAbYTJHFoMbD",
        "outputId": "0220e94b-b568-4065-8d11-310702f69a3a"
      },
      "source": [
        "type(sam)"
      ],
      "execution_count": 264,
      "outputs": [
        {
          "output_type": "execute_result",
          "data": {
            "text/plain": [
              "__main__.Dog"
            ]
          },
          "metadata": {
            "tags": []
          },
          "execution_count": 264
        }
      ]
    },
    {
      "cell_type": "code",
      "metadata": {
        "colab": {
          "base_uri": "https://localhost:8080/"
        },
        "id": "RXABfNb_oO9T",
        "outputId": "a3119f6f-ac16-476c-b32c-95a56ed77a05"
      },
      "source": [
        "sam"
      ],
      "execution_count": 265,
      "outputs": [
        {
          "output_type": "execute_result",
          "data": {
            "text/plain": [
              "<__main__.Dog at 0x7f00c396e8d0>"
            ]
          },
          "metadata": {
            "tags": []
          },
          "execution_count": 265
        }
      ]
    },
    {
      "cell_type": "code",
      "metadata": {
        "colab": {
          "base_uri": "https://localhost:8080/"
        },
        "id": "1Buwx9-AoP8T",
        "outputId": "f00c1ae1-86a6-4bd1-a8d1-be09e743f75c"
      },
      "source": [
        "dir(sam)"
      ],
      "execution_count": 266,
      "outputs": [
        {
          "output_type": "execute_result",
          "data": {
            "text/plain": [
              "['__class__',\n",
              " '__delattr__',\n",
              " '__dict__',\n",
              " '__dir__',\n",
              " '__doc__',\n",
              " '__eq__',\n",
              " '__format__',\n",
              " '__ge__',\n",
              " '__getattribute__',\n",
              " '__gt__',\n",
              " '__hash__',\n",
              " '__init__',\n",
              " '__init_subclass__',\n",
              " '__le__',\n",
              " '__lt__',\n",
              " '__module__',\n",
              " '__ne__',\n",
              " '__new__',\n",
              " '__reduce__',\n",
              " '__reduce_ex__',\n",
              " '__repr__',\n",
              " '__setattr__',\n",
              " '__sizeof__',\n",
              " '__str__',\n",
              " '__subclasshook__',\n",
              " '__weakref__',\n",
              " 'breed']"
            ]
          },
          "metadata": {
            "tags": []
          },
          "execution_count": 266
        }
      ]
    },
    {
      "cell_type": "code",
      "metadata": {
        "colab": {
          "base_uri": "https://localhost:8080/",
          "height": 35
        },
        "id": "bN-K6RSPoSrD",
        "outputId": "fb933f96-fa49-4541-db61-4a6acba92108"
      },
      "source": [
        "sam.breed"
      ],
      "execution_count": 267,
      "outputs": [
        {
          "output_type": "execute_result",
          "data": {
            "application/vnd.google.colaboratory.intrinsic+json": {
              "type": "string"
            },
            "text/plain": [
              "'Lab'"
            ]
          },
          "metadata": {
            "tags": []
          },
          "execution_count": 267
        }
      ]
    },
    {
      "cell_type": "code",
      "metadata": {
        "colab": {
          "base_uri": "https://localhost:8080/",
          "height": 35
        },
        "id": "qagZ9Mi8oYZU",
        "outputId": "40298940-c2cc-4e09-97e8-3fe74d0e1172"
      },
      "source": [
        "frank.breed"
      ],
      "execution_count": 268,
      "outputs": [
        {
          "output_type": "execute_result",
          "data": {
            "application/vnd.google.colaboratory.intrinsic+json": {
              "type": "string"
            },
            "text/plain": [
              "'Huskie'"
            ]
          },
          "metadata": {
            "tags": []
          },
          "execution_count": 268
        }
      ]
    },
    {
      "cell_type": "code",
      "metadata": {
        "id": "1joqB_U8oZ8T"
      },
      "source": [
        "class Dog(object):\r\n",
        "  species = 'mammal' # 類別屬性\r\n",
        "\r\n",
        "  def __init__(self,breed,name):\r\n",
        "    self.breed = breed\r\n",
        "    self.name = name\r\n",
        "\r\n",
        "sam = Dog('Lab','Sam')"
      ],
      "execution_count": 269,
      "outputs": []
    },
    {
      "cell_type": "code",
      "metadata": {
        "colab": {
          "base_uri": "https://localhost:8080/"
        },
        "id": "OSXo9N99ov1z",
        "outputId": "4936498c-46c1-47ed-d273-430bb2fdb860"
      },
      "source": [
        "dir(sam)"
      ],
      "execution_count": 270,
      "outputs": [
        {
          "output_type": "execute_result",
          "data": {
            "text/plain": [
              "['__class__',\n",
              " '__delattr__',\n",
              " '__dict__',\n",
              " '__dir__',\n",
              " '__doc__',\n",
              " '__eq__',\n",
              " '__format__',\n",
              " '__ge__',\n",
              " '__getattribute__',\n",
              " '__gt__',\n",
              " '__hash__',\n",
              " '__init__',\n",
              " '__init_subclass__',\n",
              " '__le__',\n",
              " '__lt__',\n",
              " '__module__',\n",
              " '__ne__',\n",
              " '__new__',\n",
              " '__reduce__',\n",
              " '__reduce_ex__',\n",
              " '__repr__',\n",
              " '__setattr__',\n",
              " '__sizeof__',\n",
              " '__str__',\n",
              " '__subclasshook__',\n",
              " '__weakref__',\n",
              " 'breed',\n",
              " 'name',\n",
              " 'species']"
            ]
          },
          "metadata": {
            "tags": []
          },
          "execution_count": 270
        }
      ]
    },
    {
      "cell_type": "code",
      "metadata": {
        "colab": {
          "base_uri": "https://localhost:8080/",
          "height": 35
        },
        "id": "bQRoXOGrowkF",
        "outputId": "1353db28-069a-45c7-8b44-2cd89aad9b76"
      },
      "source": [
        "sam.species"
      ],
      "execution_count": 271,
      "outputs": [
        {
          "output_type": "execute_result",
          "data": {
            "application/vnd.google.colaboratory.intrinsic+json": {
              "type": "string"
            },
            "text/plain": [
              "'mammal'"
            ]
          },
          "metadata": {
            "tags": []
          },
          "execution_count": 271
        }
      ]
    },
    {
      "cell_type": "code",
      "metadata": {
        "colab": {
          "base_uri": "https://localhost:8080/",
          "height": 35
        },
        "id": "DG7ds3XWo1fD",
        "outputId": "44c33b62-ed21-4291-fe43-10385c6381ab"
      },
      "source": [
        "sam.name"
      ],
      "execution_count": 272,
      "outputs": [
        {
          "output_type": "execute_result",
          "data": {
            "application/vnd.google.colaboratory.intrinsic+json": {
              "type": "string"
            },
            "text/plain": [
              "'Sam'"
            ]
          },
          "metadata": {
            "tags": []
          },
          "execution_count": 272
        }
      ]
    },
    {
      "cell_type": "code",
      "metadata": {
        "colab": {
          "base_uri": "https://localhost:8080/",
          "height": 35
        },
        "id": "vgVFNEkro2DT",
        "outputId": "ecfabb37-8820-4c83-fedc-75fdcf78c075"
      },
      "source": [
        "sam.breed"
      ],
      "execution_count": 273,
      "outputs": [
        {
          "output_type": "execute_result",
          "data": {
            "application/vnd.google.colaboratory.intrinsic+json": {
              "type": "string"
            },
            "text/plain": [
              "'Lab'"
            ]
          },
          "metadata": {
            "tags": []
          },
          "execution_count": 273
        }
      ]
    },
    {
      "cell_type": "code",
      "metadata": {
        "id": "XFjJDBXio20D"
      },
      "source": [
        "class Circle(object):\r\n",
        "  pi = 3.14\r\n",
        "  def __init__(self, radius=1):\r\n",
        "    self.radius = radius\r\n",
        "\r\n",
        "  def area(self):\r\n",
        "    return self.radius * self.radius * Circle.pi\r\n",
        "\r\n",
        "  def setRadius(self, radius):\r\n",
        "    self.radius = radius\r\n",
        "    \r\n",
        "  def getRadius(self):\r\n",
        "    return self.radius\r\n"
      ],
      "execution_count": 274,
      "outputs": []
    },
    {
      "cell_type": "code",
      "metadata": {
        "colab": {
          "base_uri": "https://localhost:8080/"
        },
        "id": "rdARtYixpdKz",
        "outputId": "470fd03c-a36a-4af1-977a-83fba3796dc1"
      },
      "source": [
        "c = Circle()\r\n",
        "#print(dir(c))\r\n",
        "c.radius"
      ],
      "execution_count": 277,
      "outputs": [
        {
          "output_type": "execute_result",
          "data": {
            "text/plain": [
              "1"
            ]
          },
          "metadata": {
            "tags": []
          },
          "execution_count": 277
        }
      ]
    },
    {
      "cell_type": "code",
      "metadata": {
        "colab": {
          "base_uri": "https://localhost:8080/"
        },
        "id": "Ew99BcPIpnhj",
        "outputId": "fba309c9-bd6a-466e-b420-102e0c6e53b4"
      },
      "source": [
        "c.area()"
      ],
      "execution_count": 278,
      "outputs": [
        {
          "output_type": "execute_result",
          "data": {
            "text/plain": [
              "3.14"
            ]
          },
          "metadata": {
            "tags": []
          },
          "execution_count": 278
        }
      ]
    },
    {
      "cell_type": "code",
      "metadata": {
        "id": "rvPd9efLpvaT"
      },
      "source": [
        "c.setRadius(3)"
      ],
      "execution_count": 279,
      "outputs": []
    },
    {
      "cell_type": "code",
      "metadata": {
        "colab": {
          "base_uri": "https://localhost:8080/"
        },
        "id": "uFQs0jWkp5Az",
        "outputId": "33954b70-9ae2-4ad7-83cf-44f53e687f5f"
      },
      "source": [
        "c.radius"
      ],
      "execution_count": 280,
      "outputs": [
        {
          "output_type": "execute_result",
          "data": {
            "text/plain": [
              "3"
            ]
          },
          "metadata": {
            "tags": []
          },
          "execution_count": 280
        }
      ]
    },
    {
      "cell_type": "code",
      "metadata": {
        "colab": {
          "base_uri": "https://localhost:8080/"
        },
        "id": "Vf0hyr37p6Lj",
        "outputId": "517a6b79-7baf-468a-e44f-4b02724a89bb"
      },
      "source": [
        "c.getRadius()"
      ],
      "execution_count": 281,
      "outputs": [
        {
          "output_type": "execute_result",
          "data": {
            "text/plain": [
              "3"
            ]
          },
          "metadata": {
            "tags": []
          },
          "execution_count": 281
        }
      ]
    },
    {
      "cell_type": "code",
      "metadata": {
        "colab": {
          "base_uri": "https://localhost:8080/"
        },
        "id": "k8ahEXa_p7xT",
        "outputId": "b09e723e-3489-44b9-abe6-92da22ebc9b4"
      },
      "source": [
        "c.area()"
      ],
      "execution_count": 283,
      "outputs": [
        {
          "output_type": "execute_result",
          "data": {
            "text/plain": [
              "28.26"
            ]
          },
          "metadata": {
            "tags": []
          },
          "execution_count": 283
        }
      ]
    },
    {
      "cell_type": "markdown",
      "metadata": {
        "id": "BAAcO6PCqxYT"
      },
      "source": [
        "### 練習題\r\n",
        "\r\n",
        "我們現在是一家銀行, 今天為了方便計算, 我們要把帶有千位符號的字串轉變為整數, 請幫我寫一個函數完成該目的\r\n",
        "\r\n",
        "- 提示:replace, int"
      ]
    },
    {
      "cell_type": "code",
      "metadata": {
        "id": "XRkWe6qDp-wE"
      },
      "source": [
        "i = '1,000,000'\r\n",
        "\r\n",
        "def dollar_convert():\r\n",
        "  pass\r\n",
        "\r\n",
        "o = 10000000"
      ],
      "execution_count": 284,
      "outputs": []
    },
    {
      "cell_type": "code",
      "metadata": {
        "id": "uavcwncFrMkD"
      },
      "source": [
        "?i.replace"
      ],
      "execution_count": 285,
      "outputs": []
    },
    {
      "cell_type": "code",
      "metadata": {
        "colab": {
          "base_uri": "https://localhost:8080/",
          "height": 35
        },
        "id": "D0I9-I7Gvjwq",
        "outputId": "c76a88b2-a5c2-4a53-b445-61c972760074"
      },
      "source": [
        "i.replace(',','')"
      ],
      "execution_count": 286,
      "outputs": [
        {
          "output_type": "execute_result",
          "data": {
            "application/vnd.google.colaboratory.intrinsic+json": {
              "type": "string"
            },
            "text/plain": [
              "'1000000'"
            ]
          },
          "metadata": {
            "tags": []
          },
          "execution_count": 286
        }
      ]
    },
    {
      "cell_type": "code",
      "metadata": {
        "colab": {
          "base_uri": "https://localhost:8080/"
        },
        "id": "XHU8I9fuvo7D",
        "outputId": "1c1607bc-d18c-4284-c783-1eb918d3af9c"
      },
      "source": [
        "int(i.replace(',',''))"
      ],
      "execution_count": 287,
      "outputs": [
        {
          "output_type": "execute_result",
          "data": {
            "text/plain": [
              "1000000"
            ]
          },
          "metadata": {
            "tags": []
          },
          "execution_count": 287
        }
      ]
    },
    {
      "cell_type": "code",
      "metadata": {
        "id": "Du_nkcs1vsMj"
      },
      "source": [
        "def dollar_convert(i):\r\n",
        "  return int(i.replace(',',''))"
      ],
      "execution_count": 288,
      "outputs": []
    },
    {
      "cell_type": "code",
      "metadata": {
        "colab": {
          "base_uri": "https://localhost:8080/"
        },
        "id": "x9IhyflFvzkT",
        "outputId": "d570932e-16e6-4ff4-a85b-a191490528c1"
      },
      "source": [
        "dollar_convert('234,111')"
      ],
      "execution_count": 289,
      "outputs": [
        {
          "output_type": "execute_result",
          "data": {
            "text/plain": [
              "234111"
            ]
          },
          "metadata": {
            "tags": []
          },
          "execution_count": 289
        }
      ]
    },
    {
      "cell_type": "markdown",
      "metadata": {
        "id": "Q6TSbwDDwlGD"
      },
      "source": [
        "### Third Party Tool"
      ]
    },
    {
      "cell_type": "code",
      "metadata": {
        "colab": {
          "base_uri": "https://localhost:8080/"
        },
        "id": "Im6xroEpv2mT",
        "outputId": "2c4abe8c-0fc2-4424-e488-ba45fb368a3c"
      },
      "source": [
        "! pip install SpeechRecognition"
      ],
      "execution_count": 290,
      "outputs": [
        {
          "output_type": "stream",
          "text": [
            "Collecting SpeechRecognition\n",
            "\u001b[?25l  Downloading https://files.pythonhosted.org/packages/26/e1/7f5678cd94ec1234269d23756dbdaa4c8cfaed973412f88ae8adf7893a50/SpeechRecognition-3.8.1-py2.py3-none-any.whl (32.8MB)\n",
            "\u001b[K     |████████████████████████████████| 32.8MB 164kB/s \n",
            "\u001b[?25hInstalling collected packages: SpeechRecognition\n",
            "Successfully installed SpeechRecognition-3.8.1\n"
          ],
          "name": "stdout"
        }
      ]
    },
    {
      "cell_type": "code",
      "metadata": {
        "id": "SF6jK2aEwpCD"
      },
      "source": [
        "#! conda install pyaudio -y"
      ],
      "execution_count": 291,
      "outputs": []
    },
    {
      "cell_type": "code",
      "metadata": {
        "id": "N4Y62vwNxl9E"
      },
      "source": [
        "import speech_recognition as sr\r\n",
        "\r\n",
        "def listenTo():\r\n",
        "    r = sr.Recognizer()\r\n",
        "    with sr.Microphone() as source:\r\n",
        "        audio = r.listen(source)\r\n",
        "\r\n",
        "    ret = r.recognize_google(audio,language = 'zh-TW')\r\n",
        "    return ret\r\n",
        "\r\n",
        "ret = listenTo()\r\n",
        "print(ret)"
      ],
      "execution_count": null,
      "outputs": []
    },
    {
      "cell_type": "code",
      "metadata": {
        "id": "9BQgIQLuxpOD"
      },
      "source": [
        "qa = {'保險':'以下是我們推薦的險總類',\r\n",
        "    '貸款':'以下是我們推薦的貸款總類',\r\n",
        "    '存款':'以下是您的銀行存款餘額'}\r\n",
        "\r\n",
        "question = listenTo()\r\n",
        "for q in qa:\r\n",
        "  if q in question:\r\n",
        "    print(qa.get(q))\r\n",
        "    break\r\n",
        "else:\r\n",
        "  print('我現在還不聰明, 等我變聰明以後再回答您')"
      ],
      "execution_count": null,
      "outputs": []
    },
    {
      "cell_type": "code",
      "metadata": {
        "id": "bDqAetbAzkTu"
      },
      "source": [
        "! pip install pyttsx3"
      ],
      "execution_count": null,
      "outputs": []
    },
    {
      "cell_type": "code",
      "metadata": {
        "id": "wgB-1KowzmCY"
      },
      "source": [
        "import pyttsx3\r\n",
        "engine = pyttsx3.init()\r\n",
        "engine.say('語音合成開始')\r\n",
        "engine.say('我會說中文了，開森，開森')\r\n",
        "engine.runAndWait()"
      ],
      "execution_count": null,
      "outputs": []
    },
    {
      "cell_type": "code",
      "metadata": {
        "id": "7yNVvGLrzncT"
      },
      "source": [
        "import pyttsx3\r\n",
        "def speak(s):\r\n",
        "    engine = pyttsx3.init()\r\n",
        "    engine.say(s)\r\n",
        "    engine.runAndWait()"
      ],
      "execution_count": null,
      "outputs": []
    },
    {
      "cell_type": "code",
      "metadata": {
        "id": "sgvNBqSKzo1f"
      },
      "source": [
        "qa = {'保險':'以下是我們推薦的險總類',\r\n",
        "    '貸款':'以下是我們推薦的貸款總類',\r\n",
        "    '存款':'以下是您的銀行存款餘額'}\r\n",
        "\r\n",
        "question = listenTo()\r\n",
        "for q in qa:\r\n",
        "  if q in question:\r\n",
        "    speak(qa.get(q))\r\n",
        "    break\r\n",
        "else:\r\n",
        "  speak('我現在還不聰明, 等我變聰明以後再回答您')"
      ],
      "execution_count": null,
      "outputs": []
    },
    {
      "cell_type": "markdown",
      "metadata": {
        "id": "06WjKAu_0CMU"
      },
      "source": [
        "## File"
      ]
    },
    {
      "cell_type": "code",
      "metadata": {
        "id": "lVN3nGtdzqTR"
      },
      "source": [
        "# w: write, r: read, a:append\r\n",
        "fid = open('test.txt', 'w')\r\n",
        "fid.write('Hello\\nWorld')\r\n",
        "fid.close()"
      ],
      "execution_count": 292,
      "outputs": []
    },
    {
      "cell_type": "code",
      "metadata": {
        "id": "5ASdeNhm0Otz"
      },
      "source": [
        "with open('test.txt', 'w') as fid:\r\n",
        "  fid.write('Hello\\nWorld')"
      ],
      "execution_count": 294,
      "outputs": []
    },
    {
      "cell_type": "code",
      "metadata": {
        "colab": {
          "base_uri": "https://localhost:8080/"
        },
        "id": "dMNdywnM0jrk",
        "outputId": "bbcecaeb-0780-4c05-a3c1-09a78e0828c3"
      },
      "source": [
        "with open('test.txt', 'r') as fid:\r\n",
        "  for line in fid.readlines():\r\n",
        "    print(line)"
      ],
      "execution_count": 295,
      "outputs": [
        {
          "output_type": "stream",
          "text": [
            "Hello\n",
            "\n",
            "World\n"
          ],
          "name": "stdout"
        }
      ]
    },
    {
      "cell_type": "code",
      "metadata": {
        "colab": {
          "base_uri": "https://localhost:8080/"
        },
        "id": "Bfj0anBQ0x0D",
        "outputId": "313241d8-a7ad-42d9-e001-d1686acec84a"
      },
      "source": [
        "with open('test.txt', 'r') as fid:\r\n",
        "  for line in fid.readlines():\r\n",
        "    print(line.strip())"
      ],
      "execution_count": 296,
      "outputs": [
        {
          "output_type": "stream",
          "text": [
            "Hello\n",
            "World\n"
          ],
          "name": "stdout"
        }
      ]
    },
    {
      "cell_type": "code",
      "metadata": {
        "id": "5V67tQ2d08xD"
      },
      "source": [
        "with open('test.txt', 'r') as fid:\r\n",
        "  data = fid.read()"
      ],
      "execution_count": 297,
      "outputs": []
    },
    {
      "cell_type": "code",
      "metadata": {
        "colab": {
          "base_uri": "https://localhost:8080/",
          "height": 35
        },
        "id": "_w6Ql5f41GCz",
        "outputId": "b27ea16a-3ade-4933-ba1c-a835af4954b9"
      },
      "source": [
        "data"
      ],
      "execution_count": 298,
      "outputs": [
        {
          "output_type": "execute_result",
          "data": {
            "application/vnd.google.colaboratory.intrinsic+json": {
              "type": "string"
            },
            "text/plain": [
              "'Hello\\nWorld'"
            ]
          },
          "metadata": {
            "tags": []
          },
          "execution_count": 298
        }
      ]
    },
    {
      "cell_type": "code",
      "metadata": {
        "colab": {
          "base_uri": "https://localhost:8080/"
        },
        "id": "g51osDVz1Gej",
        "outputId": "9e0353b2-9703-4a1e-e530-a68f5cecd0c4"
      },
      "source": [
        "cnt = 0\r\n",
        "with open('test.txt', 'r') as fid:\r\n",
        "  for line in fid.readlines():\r\n",
        "    cnt += 1\r\n",
        "cnt"
      ],
      "execution_count": 299,
      "outputs": [
        {
          "output_type": "execute_result",
          "data": {
            "text/plain": [
              "2"
            ]
          },
          "metadata": {
            "tags": []
          },
          "execution_count": 299
        }
      ]
    },
    {
      "cell_type": "code",
      "metadata": {
        "id": "7dim4ra_1Q7D"
      },
      "source": [
        "ary = []\r\n",
        "with open('test.txt', 'r') as fid:\r\n",
        "  for line in fid:\r\n",
        "    ary.append(line)"
      ],
      "execution_count": 300,
      "outputs": []
    },
    {
      "cell_type": "code",
      "metadata": {
        "colab": {
          "base_uri": "https://localhost:8080/"
        },
        "id": "GoVCAtxE1aUT",
        "outputId": "909c5ad0-a77b-4e50-9419-7e11024d4362"
      },
      "source": [
        "ary"
      ],
      "execution_count": 301,
      "outputs": [
        {
          "output_type": "execute_result",
          "data": {
            "text/plain": [
              "['Hello\\n', 'World']"
            ]
          },
          "metadata": {
            "tags": []
          },
          "execution_count": 301
        }
      ]
    },
    {
      "cell_type": "code",
      "metadata": {
        "colab": {
          "base_uri": "https://localhost:8080/"
        },
        "id": "3Yu7PMzP1ayC",
        "outputId": "7fdf58fa-f99f-4e53-b615-1629612c06c1"
      },
      "source": [
        "len(ary)"
      ],
      "execution_count": 302,
      "outputs": [
        {
          "output_type": "execute_result",
          "data": {
            "text/plain": [
              "2"
            ]
          },
          "metadata": {
            "tags": []
          },
          "execution_count": 302
        }
      ]
    },
    {
      "cell_type": "code",
      "metadata": {
        "colab": {
          "base_uri": "https://localhost:8080/"
        },
        "id": "RTFgy4NS1fDC",
        "outputId": "1c11a1cf-ee08-4391-ef69-8042a8712723"
      },
      "source": [
        "ary = []\r\n",
        "with open('test.txt', 'r') as fid:\r\n",
        "  for line in fid:\r\n",
        "    ary.append(line)\r\n",
        "ary\r\n"
      ],
      "execution_count": 303,
      "outputs": [
        {
          "output_type": "execute_result",
          "data": {
            "text/plain": [
              "['Hello\\n', 'World']"
            ]
          },
          "metadata": {
            "tags": []
          },
          "execution_count": 303
        }
      ]
    },
    {
      "cell_type": "code",
      "metadata": {
        "colab": {
          "base_uri": "https://localhost:8080/"
        },
        "id": "A2SyJPi-1pyy",
        "outputId": "6ed7925a-9c54-47f1-c907-c84930a21d29"
      },
      "source": [
        "[line for line in open('test.txt', 'r')]"
      ],
      "execution_count": 304,
      "outputs": [
        {
          "output_type": "execute_result",
          "data": {
            "text/plain": [
              "['Hello\\n', 'World']"
            ]
          },
          "metadata": {
            "tags": []
          },
          "execution_count": 304
        }
      ]
    },
    {
      "cell_type": "markdown",
      "metadata": {
        "id": "TQdzW4gF2Nsu"
      },
      "source": [
        "## Word Count Practice"
      ]
    },
    {
      "cell_type": "code",
      "metadata": {
        "colab": {
          "base_uri": "https://localhost:8080/"
        },
        "id": "2w0Q4I5P1vrC",
        "outputId": "dc57bb0f-990b-4145-8783-be5ce7bb59ad"
      },
      "source": [
        "! wget https://raw.githubusercontent.com/ywchiu/tibamepy/master/data/trump.txt"
      ],
      "execution_count": 305,
      "outputs": [
        {
          "output_type": "stream",
          "text": [
            "--2021-03-13 09:09:34--  https://raw.githubusercontent.com/ywchiu/tibamepy/master/data/trump.txt\n",
            "Resolving raw.githubusercontent.com (raw.githubusercontent.com)... 185.199.110.133, 185.199.109.133, 185.199.111.133, ...\n",
            "Connecting to raw.githubusercontent.com (raw.githubusercontent.com)|185.199.110.133|:443... connected.\n",
            "HTTP request sent, awaiting response... 200 OK\n",
            "Length: 8736 (8.5K) [text/plain]\n",
            "Saving to: ‘trump.txt’\n",
            "\n",
            "\rtrump.txt             0%[                    ]       0  --.-KB/s               \rtrump.txt           100%[===================>]   8.53K  --.-KB/s    in 0s      \n",
            "\n",
            "2021-03-13 09:09:34 (136 MB/s) - ‘trump.txt’ saved [8736/8736]\n",
            "\n"
          ],
          "name": "stdout"
        }
      ]
    },
    {
      "cell_type": "code",
      "metadata": {
        "id": "QoTyuin-2Rgy"
      },
      "source": [
        "with open('trump.txt', 'r', encoding = 'latin1') as f:\r\n",
        "  speech = f.read()"
      ],
      "execution_count": 307,
      "outputs": []
    },
    {
      "cell_type": "code",
      "metadata": {
        "colab": {
          "base_uri": "https://localhost:8080/",
          "height": 241
        },
        "id": "-VQ6h8Ga2gLE",
        "outputId": "578851e1-0b7a-4709-a150-fcebaa2bbb68"
      },
      "source": [
        "speech"
      ],
      "execution_count": 308,
      "outputs": [
        {
          "output_type": "execute_result",
          "data": {
            "application/vnd.google.colaboratory.intrinsic+json": {
              "type": "string"
            },
            "text/plain": [
              "\"The Inaugural Address\\n\\n\\nREMARKS OF PRESIDENT DONALD J.  TRUMP ¡V AS PREPARED FOR DELIVERY\\nINAUGURAL ADDRESS\\nFRIDAY, JANUARY 20, 2017\\nWASHINGTON, D.C.\\nAs Prepared for Delivery ¡V\\n\\nChief Justice Roberts, President Carter, President Clinton, President Bush, President Obama, fellow Americans, and people of the world: thank you.\\n\\nWe, the citizens of America, are now joined in a great national effort to rebuild our country and to restore its promise for all of our people.\\n\\nTogether, we will determine the course of America and the world for years to come.\\n\\nWe will face challenges. We will confront hardships. But we will get the job done.\\n\\nEvery four years, we gather on these steps to carry out the orderly and peaceful transfer of power, and we are grateful to President Obama and First Lady Michelle Obama for their gracious aid throughout this transition. They have been magnificent.\\n\\nToday¡¦s ceremony, however, has very special meaning. Because today we are not merely transferring power from one Administration to another, or from one party to another ¡V but we are transferring power from Washington, D.C. and giving it back to you, the American People.\\n\\nFor too long, a small group in our nation¡¦s Capital has reaped the rewards of government while the people have borne the cost.\\n\\nWashington flourished ¡V but the people did not share in its wealth.\\n\\nPoliticians prospered ¡V but the jobs left, and the factories closed.\\n\\nThe establishment protected itself, but not the citizens of our country.\\n\\nTheir victories have not been your victories; their triumphs have not been your triumphs; and while they celebrated in our nation¡¦s Capital, there was little to celebrate for struggling families all across our land.\\n\\nThat all changes ¡V starting right here, and right now, because this moment is your moment: it belongs to you.\\n\\nIt belongs to everyone gathered here today and everyone watching all across America. \\n\\nThis is your day. This is your celebration.\\n\\nAnd this, the United States of America, is your country.\\n\\nWhat truly matters is not which party controls our government, but whether our government is controlled by the people.\\n\\nJanuary 20th 2017, will be remembered as the day the people became the rulers of this nation again. \\n\\nThe forgotten men and women of our country will be forgotten no longer.\\n\\nEveryone is listening to you now.\\n\\nYou came by the tens of millions to become part of a historic movement the likes of which the world has never seen before.\\n\\nAt the center of this movement is a crucial conviction: that a nation exists to serve its citizens.\\n\\nAmericans want great schools for their children, safe neighborhoods for their families, and good jobs for themselves.\\n\\nThese are the just and reasonable demands of a righteous public.\\n\\nBut for too many of our citizens, a different reality exists: Mothers and children trapped in poverty in our inner cities; rusted-out factories scattered like tombstones across the landscape of our nation; an education system, flush with cash, but which leaves our young and beautiful students deprived of knowledge; and the crime and gangs and drugs that have stolen too many lives and robbed our country of so much unrealized potential.\\n\\nThis American carnage stops right here and stops right now.\\n\\nWe are one nation ¡V and their pain is our pain.  Their dreams are our dreams; and their success will be our success.  We share one heart, one home, and one glorious destiny.\\n\\nThe oath of office I take today is an oath of allegiance to all Americans.\\n\\nFor many decades, we¡¦ve enriched foreign industry at the expense of American industry;\\n\\nSubsidized the armies of other countries while allowing for the very sad depletion of our military;\\n\\nWe've defended other nation¡¦s borders while refusing to defend our own;\\n\\nAnd spent trillions of dollars overseas while America's infrastructure has fallen into disrepair and decay.\\n\\nWe¡¦ve made other countries rich while the wealth, strength, and confidence of our country has disappeared over the horizon.\\n\\nOne by one, the factories shuttered and left our shores, with not even a thought about the millions upon millions of American workers left behind.\\n\\nThe wealth of our middle class has been ripped from their homes and then redistributed across the entire world.\\n\\nBut that is the past. And now we are looking only to the future.\\n\\nWe assembled here today are issuing a new decree to be heard in every city, in every foreign capital, and in every hall of power.\\n\\nFrom this day forward, a new vision will govern our land.\\n\\nFrom this moment on, it¡¦s going to be America First.\\n\\nEvery decision on trade, on taxes, on immigration, on foreign affairs, will be made to benefit American workers and American families.\\n\\nWe must protect our borders from the ravages of other countries making our products, stealing our companies, and destroying our jobs.  Protection will lead to great prosperity and strength.\\n\\nI will fight for you with every breath in my body ¡V and I will never, ever let you down.\\n\\nAmerica will start winning again, winning like never before.\\n\\nWe will bring back our jobs. We will bring back our borders.  We will bring back our wealth.  And we will bring back our dreams.\\n\\nWe will build new roads, and highways, and bridges, and airports, and tunnels, and railways all across our wonderful nation.\\n\\nWe will get our people off of welfare and back to work ¡V rebuilding our country with American hands and American labor.\\n\\nWe will follow two simple rules: Buy American and Hire American.\\n\\nWe will seek friendship and goodwill with the nations of the world ¡V but we do so with the understanding that it is the right of all nations to put their own interests first.\\n\\nWe do not seek to impose our way of life on anyone, but rather to let it shine as an example for everyone to follow.\\n\\nWe will reinforce old alliances and form new ones ¡V and unite the civilized world against Radical Islamic Terrorism, which we will eradicate completely from the face of the Earth.\\n\\nAt the bedrock of our politics will be a total allegiance to the United States of America, and through our loyalty to our country, we will rediscover our loyalty to each other.\\n\\nWhen you open your heart to patriotism, there is no room for prejudice.\\n\\nThe Bible tells us, ¡§how good and pleasant it is when God¡¦s people live together in unity.¡¨\\n\\nWe must speak our minds openly, debate our disagreements honestly, but always pursue solidarity.\\n\\nWhen America is united, America is totally unstoppable.\\n\\nThere should be no fear ¡V we are protected, and we will always be protected.\\n\\nWe will be protected by the great men and women of our military and law enforcement and, most importantly, we are protected by God.\\n\\nFinally, we must think big and dream even bigger.\\n\\nIn America, we understand that a nation is only living as long as it is striving.\\n\\nWe will no longer accept politicians who are all talk and no action ¡V constantly complaining but never doing anything about it.\\n\\nThe time for empty talk is over.\\n\\nNow arrives the hour of action.\\n\\nDo not let anyone tell you it cannot be done.  No challenge can match the heart and fight and spirit of America.\\n\\nWe will not fail. Our country will thrive and prosper again.\\n\\nWe stand at the birth of a new millennium, ready to unlock the mysteries of space, to free the Earth from the miseries of disease, and to harness the energies, industries and technologies of tomorrow.\\n\\nA new national pride will stir our souls, lift our sights, and heal our divisions.\\n\\nIt is time to remember that old wisdom our soldiers will never forget: that whether we are black or brown or white, we all bleed the same red blood of patriots, we all enjoy the same glorious freedoms, and we all salute the same great American Flag.\\n\\nAnd whether a child is born in the urban sprawl of Detroit or the windswept plains of Nebraska, they look up at the same night sky, they fill their heart with the same dreams, and they are infused with the breath of life by the same almighty Creator.\\n\\nSo to all Americans, in every city near and far, small and large, from mountain to mountain, and from ocean to ocean, hear these words:\\n\\nYou will never be ignored again.\\n\\nYour voice, your hopes, and your dreams, will define our American destiny. And your courage and goodness and love will forever guide us along the way.\\n\\nTogether, We Will Make America Strong Again.\\n\\nWe Will Make America Wealthy Again.\\n\\nWe Will Make America Proud Again.\\n\\nWe Will Make America Safe Again.\\n\\nAnd, Yes, Together, We Will Make America Great Again. Thank you, God Bless You, And God Bless America.\""
            ]
          },
          "metadata": {
            "tags": []
          },
          "execution_count": 308
        }
      ]
    },
    {
      "cell_type": "code",
      "metadata": {
        "id": "iTYdROny2ldy"
      },
      "source": [
        "words = speech.split()"
      ],
      "execution_count": 310,
      "outputs": []
    },
    {
      "cell_type": "code",
      "metadata": {
        "colab": {
          "base_uri": "https://localhost:8080/"
        },
        "id": "QuB-_LJa2vKC",
        "outputId": "93b46817-7198-48a5-af6c-9ed5db09c3b5"
      },
      "source": [
        "type(words)"
      ],
      "execution_count": 311,
      "outputs": [
        {
          "output_type": "execute_result",
          "data": {
            "text/plain": [
              "list"
            ]
          },
          "metadata": {
            "tags": []
          },
          "execution_count": 311
        }
      ]
    },
    {
      "cell_type": "code",
      "metadata": {
        "colab": {
          "base_uri": "https://localhost:8080/"
        },
        "id": "qgvZanMB3K-Z",
        "outputId": "791efd8d-dc68-4887-9899-b4230be6b01e"
      },
      "source": [
        "a = [1,2,2,1,2,3]\r\n",
        "dic = {}\r\n",
        "for ele in a:\r\n",
        "  if ele not in dic:\r\n",
        "    dic[ele] = 1\r\n",
        "  else:\r\n",
        "    dic[ele] = dic[ele] + 1\r\n",
        "dic"
      ],
      "execution_count": 316,
      "outputs": [
        {
          "output_type": "execute_result",
          "data": {
            "text/plain": [
              "{1: 2, 2: 3, 3: 1}"
            ]
          },
          "metadata": {
            "tags": []
          },
          "execution_count": 316
        }
      ]
    },
    {
      "cell_type": "code",
      "metadata": {
        "colab": {
          "base_uri": "https://localhost:8080/"
        },
        "id": "HqXXZDPv3-wA",
        "outputId": "a1dff6d1-6c81-4fe9-87a4-1166a89d205f"
      },
      "source": [
        "dic.items()"
      ],
      "execution_count": 317,
      "outputs": [
        {
          "output_type": "execute_result",
          "data": {
            "text/plain": [
              "dict_items([(1, 2), (2, 3), (3, 1)])"
            ]
          },
          "metadata": {
            "tags": []
          },
          "execution_count": 317
        }
      ]
    },
    {
      "cell_type": "code",
      "metadata": {
        "colab": {
          "base_uri": "https://localhost:8080/"
        },
        "id": "2IAH8CaY4FL_",
        "outputId": "85fb027a-249c-48e2-d201-f91673790fb4"
      },
      "source": [
        "sorted(dic.items(), key = lambda e: e[1], reverse=True)"
      ],
      "execution_count": 319,
      "outputs": [
        {
          "output_type": "execute_result",
          "data": {
            "text/plain": [
              "[(2, 3), (1, 2), (3, 1)]"
            ]
          },
          "metadata": {
            "tags": []
          },
          "execution_count": 319
        }
      ]
    },
    {
      "cell_type": "code",
      "metadata": {
        "id": "1ExDk9Rq21tT"
      },
      "source": [
        "dic = {}\r\n",
        "for word in words:\r\n",
        "  if word not in dic:\r\n",
        "    dic[word] = 1\r\n",
        "  else:\r\n",
        "    dic[word] = dic[word] + 1\r\n"
      ],
      "execution_count": 320,
      "outputs": []
    },
    {
      "cell_type": "code",
      "metadata": {
        "id": "cLIu2gxX3mHq"
      },
      "source": [
        "#dic\r\n",
        "swd = sorted(dic.items(), key = lambda e: e[1], reverse=True)"
      ],
      "execution_count": 321,
      "outputs": []
    },
    {
      "cell_type": "code",
      "metadata": {
        "colab": {
          "base_uri": "https://localhost:8080/"
        },
        "id": "zrVxzuvn3mdy",
        "outputId": "25a7387a-8ca3-4155-fa0c-62603b0ab5f0"
      },
      "source": [
        "for k,v in swd[0:10]:\r\n",
        "  print(k,v)"
      ],
      "execution_count": 324,
      "outputs": [
        {
          "output_type": "stream",
          "text": [
            "and 65\n",
            "the 64\n",
            "of 48\n",
            "our 47\n",
            "to 37\n",
            "will 35\n",
            "We 25\n",
            "is 21\n",
            "we 20\n",
            "for 14\n"
          ],
          "name": "stdout"
        }
      ]
    },
    {
      "cell_type": "code",
      "metadata": {
        "id": "nz0tqtfq5LPU"
      },
      "source": [
        "words = speech.lower().split()"
      ],
      "execution_count": 330,
      "outputs": []
    },
    {
      "cell_type": "code",
      "metadata": {
        "id": "bjXnU0L34ckj"
      },
      "source": [
        "stopwords = [\"a\", \"about\", \"above\", \"above\", \"across\", \"after\", \"afterwards\", \"again\", \"against\", \"all\", \"almost\", \"alone\", \"along\", \"already\", \"also\",\"although\",\"always\",\"am\",\"among\", \"amongst\", \"amoungst\", \"amount\",  \"an\", \"and\", \"another\", \"any\",\"anyhow\",\"anyone\",\"anything\",\"anyway\", \"anywhere\", \"are\", \"around\", \"as\",  \"at\", \"back\",\"be\",\"became\", \"because\",\"become\",\"becomes\", \"becoming\", \"been\", \"before\", \"beforehand\", \"behind\", \"being\", \"below\", \"beside\", \"besides\", \"between\", \"beyond\", \"bill\", \"both\", \"bottom\",\"but\", \"by\", \"call\", \"can\", \"cannot\", \"cant\", \"co\", \"con\", \"could\", \"couldnt\", \"cry\", \"de\", \"describe\", \"detail\", \"do\", \"done\", \"down\", \"due\", \"during\", \"each\", \"eg\", \"eight\", \"either\", \"eleven\",\"else\", \"elsewhere\", \"empty\", \"enough\", \"etc\", \"even\", \"ever\", \"every\", \"everyone\", \"everything\", \"everywhere\", \"except\", \"few\", \"fifteen\", \"fify\", \"fill\", \"find\", \"fire\", \"first\", \"five\", \"for\", \"former\", \"formerly\", \"forty\", \"found\", \"four\", \"from\", \"front\", \"full\", \"further\", \"get\", \"give\", \"go\", \"had\", \"has\", \"hasnt\", \"have\", \"he\", \"hence\", \"her\", \"here\", \"hereafter\", \"hereby\", \"herein\", \"hereupon\", \"hers\", \"herself\", \"him\", \"himself\", \"his\", \"how\", \"however\", \"hundred\", \"ie\", \"if\", \"in\", \"inc\", \"indeed\", \"interest\", \"into\", \"is\", \"it\", \"its\", \"itself\", \"keep\", \"last\", \"latter\", \"latterly\", \"least\", \"less\", \"ltd\", \"made\", \"many\", \"may\", \"me\", \"meanwhile\", \"might\", \"mill\", \"mine\", \"more\", \"moreover\", \"most\", \"mostly\", \"move\", \"much\", \"must\", \"my\", \"myself\", \"name\", \"namely\", \"neither\", \"never\", \"nevertheless\", \"next\", \"nine\", \"no\", \"nobody\", \"none\", \"noone\", \"nor\", \"not\", \"nothing\", \"now\", \"nowhere\", \"of\", \"off\", \"often\", \"on\", \"once\", \"one\", \"only\", \"onto\", \"or\", \"other\", \"others\", \"otherwise\", \"our\", \"ours\", \"ourselves\", \"out\", \"over\", \"own\",\"part\", \"per\", \"perhaps\", \"please\", \"put\", \"rather\", \"re\", \"same\", \"see\", \"seem\", \"seemed\", \"seeming\", \"seems\", \"serious\", \"several\", \"she\", \"should\", \"show\", \"side\", \"since\", \"sincere\", \"six\", \"sixty\", \"so\", \"some\", \"somehow\", \"someone\", \"something\", \"sometime\", \"sometimes\", \"somewhere\", \"still\", \"such\", \"system\", \"take\", \"ten\", \"than\", \"that\", \"the\", \"their\", \"them\", \"themselves\", \"then\", \"thence\", \"there\", \"thereafter\", \"thereby\", \"therefore\", \"therein\", \"thereupon\", \"these\", \"they\", \"thick\", \"thin\", \"third\", \"this\", \"those\", \"though\", \"three\", \"through\", \"throughout\", \"thru\", \"thus\", \"to\", \"together\", \"too\", \"top\", \"toward\", \"towards\", \"twelve\", \"twenty\", \"two\", \"un\", \"under\", \"until\", \"up\", \"upon\", \"us\", \"very\", \"via\", \"was\", \"we\", \"well\", \"were\", \"what\", \"whatever\", \"when\", \"whence\", \"whenever\", \"where\", \"whereafter\", \"whereas\", \"whereby\", \"wherein\", \"whereupon\", \"wherever\", \"whether\", \"which\", \"while\", \"whither\", \"who\", \"whoever\", \"whole\", \"whom\", \"whose\", \"why\", \"will\", \"with\", \"within\", \"without\", \"would\", \"yet\", \"you\", \"your\", \"yours\", \"yourself\", \"yourselves\", \"the\"]"
      ],
      "execution_count": 331,
      "outputs": []
    },
    {
      "cell_type": "code",
      "metadata": {
        "id": "R-OsgVNN443M"
      },
      "source": [
        "dic = {}\r\n",
        "for word in words:\r\n",
        "  if word not in stopwords and len(word) > 2:\r\n",
        "    if word not in dic:\r\n",
        "      dic[word] = 1\r\n",
        "    else:\r\n",
        "      dic[word] = dic[word] + 1\r\n"
      ],
      "execution_count": 335,
      "outputs": []
    },
    {
      "cell_type": "code",
      "metadata": {
        "id": "Q6-fX3yP4-sD"
      },
      "source": [
        "swd = sorted(dic.items(), key = lambda e: e[1], reverse=True)"
      ],
      "execution_count": 336,
      "outputs": []
    },
    {
      "cell_type": "code",
      "metadata": {
        "colab": {
          "base_uri": "https://localhost:8080/"
        },
        "id": "n8f4JCbM5B3y",
        "outputId": "6ff1916f-5635-4b16-e4c1-e7603859e29f"
      },
      "source": [
        "for k,v in swd[0:10]:\r\n",
        "  print(k,v)"
      ],
      "execution_count": 337,
      "outputs": [
        {
          "output_type": "stream",
          "text": [
            "american 11\n",
            "america 10\n",
            "again. 8\n",
            "president 6\n",
            "people 6\n",
            "great 6\n",
            "country 6\n",
            "new 6\n",
            "right 5\n",
            "make 5\n"
          ],
          "name": "stdout"
        }
      ]
    },
    {
      "cell_type": "code",
      "metadata": {
        "id": "QsPq9H0V5DrT"
      },
      "source": [
        ""
      ],
      "execution_count": null,
      "outputs": []
    },
    {
      "cell_type": "markdown",
      "metadata": {
        "id": "nnijAoBB58op"
      },
      "source": [
        "### 作業 (Python 基礎)\r\n",
        "\r\n",
        "- 1 請使用 pip 將 jieba 安裝在自己的電腦上\r\n",
        "- 2 閱讀jieba 相關的文件，了解jieba 的用法\r\n",
        "- 3 請將蔡英文演說文 (https://raw.githubusercontent.com/ywchiu/tibamedl/master/Data/speech_tsai.txt) 下載存入到自己電腦\r\n",
        "- 4 請使用python 的檔案操作方法讀取新聞\r\n",
        "- 5 請使用 jieba 將演說文切詞\r\n",
        "- 6 請統計該演說文最常出現的十大字詞"
      ]
    },
    {
      "cell_type": "code",
      "metadata": {
        "colab": {
          "base_uri": "https://localhost:8080/"
        },
        "id": "HGsjdYxL6BJb",
        "outputId": "8639ad36-e8e7-44db-c2bf-4dfe51e85b6f"
      },
      "source": [
        "! wget https://raw.githubusercontent.com/ywchiu/tibamedl/master/Data/speech_tsai.txt"
      ],
      "execution_count": 338,
      "outputs": [
        {
          "output_type": "stream",
          "text": [
            "--2021-03-13 09:26:29--  https://raw.githubusercontent.com/ywchiu/tibamedl/master/Data/speech_tsai.txt\n",
            "Resolving raw.githubusercontent.com (raw.githubusercontent.com)... 185.199.108.133, 185.199.109.133, 185.199.110.133, ...\n",
            "Connecting to raw.githubusercontent.com (raw.githubusercontent.com)|185.199.108.133|:443... connected.\n",
            "HTTP request sent, awaiting response... 200 OK\n",
            "Length: 6579 (6.4K) [text/plain]\n",
            "Saving to: ‘speech_tsai.txt’\n",
            "\n",
            "\rspeech_tsai.txt       0%[                    ]       0  --.-KB/s               \rspeech_tsai.txt     100%[===================>]   6.42K  --.-KB/s    in 0s      \n",
            "\n",
            "2021-03-13 09:26:30 (108 MB/s) - ‘speech_tsai.txt’ saved [6579/6579]\n",
            "\n"
          ],
          "name": "stdout"
        }
      ]
    },
    {
      "cell_type": "code",
      "metadata": {
        "id": "ef6NqWbY6Jey"
      },
      "source": [
        "with open('speech_tsai.txt', 'r') as f:\r\n",
        "  speech = f.read()"
      ],
      "execution_count": 339,
      "outputs": []
    },
    {
      "cell_type": "code",
      "metadata": {
        "colab": {
          "base_uri": "https://localhost:8080/",
          "height": 412
        },
        "id": "xMeYdQLE6Oiy",
        "outputId": "ee11aa79-c67d-464c-8b47-f2324283bfa0"
      },
      "source": [
        "speech"
      ],
      "execution_count": 340,
      "outputs": [
        {
          "output_type": "execute_result",
          "data": {
            "application/vnd.google.colaboratory.intrinsic+json": {
              "type": "string"
            },
            "text/plain": [
              "'大會主席蘇嘉全院長、現場各位貴賓、電視機前和網路上的全體國人同胞，大家早安，大家好。\\n\\n今天，是中華民國一百零八年的國慶日，謝謝來自世界各地的好朋友，跟我們共度這個值得紀念的日子。\\n\\n去年，也是在國慶日，我和大家說，台灣正處在變局當中。世界貿易局勢的變動、國際政治情勢的變化，都讓未來充滿挑戰。我們必須「求穩、應變、進步」，厚植實力、壯大台灣。\\n\\n轉眼又過了一年，世界依然快速變化，甚至更加劇烈。美中貿易戰的持續進行；距離我們不遠的香港，因為「一國兩制」的失敗，正處於失序邊緣。\\n\\n儘管如此，中國依然以「一國兩制台灣方案」，不斷威脅我們，並採取各種文攻武嚇，強烈挑戰了區域的穩定及和平。\\n\\n各位國人同胞，當自由民主受到挑戰，當中華民國的生存發展受到脅迫，我們就必須站出來捍衛。拒絕「一國兩制」，是兩千三百萬台灣人民不分黨派、不分立場，彼此間最大的共識。\\n\\n中華民國已經在台灣屹立超過七十年，一旦接受「一國兩制」，中華民國就沒有生存的空間。身為總統，站出來守護國家主權，不是挑釁，而是我最基本的責任。\\n\\n七十年來，我們共同經歷過種種嚴峻的挑戰。每一次挑戰，不但沒有擊倒我們，反而讓我們更強壯、更堅定。\\n\\n我們一起走過八二三砲戰，一起度過九六年台海危機。一次又一次文攻武嚇，從來就沒有讓台灣人民屈服。我們共同捍衛住腳下這塊土地，也捍衛住國家的主權。\\n\\n我們經歷過退出聯合國的恐慌，也承受過一次又一次的斷交壓力。但台灣人民想要走向世界的決心，不曾有任何改變。\\n\\n一九七零年代的石油危機，一九九七年的亞洲金融風暴，千禧年的網路泡沫，還有十年前的金融海嘯。經濟總是充滿挑戰，但一卡皮箱走遍天下的台商，加上勤奮又有創意的台灣人民，讓我們一次又一次，把危機化做轉機，讓台灣的經濟持續往前走。\\n\\n我們也經歷過八七水災、九二一地震、SARS風暴、八八風災。天災病變的磨難，沒有擊敗過台灣人民奮鬥生存的意志。家園毀壞了，我們重建；土地受傷了，我們復原。擦乾眼淚，重新站起，明天又是充滿希望的一天。\\n\\n這些共同的記憶，彰顯了台灣人民的韌性。因為有這樣的韌性，我們成為亞洲四小龍的一員。因為這樣的韌性，我們走過了民主化的艱鉅歷程，成為世界上重要的民主典範。\\n\\n我們共同走過這一段路，無論是哪個黨派，只要是生活在這塊土地上的人民，都不能分割彼此。中華民國不是誰的專利，台灣也不是誰能夠獨佔。「中華民國台灣」六個字，既不是藍色、也不是綠色，這就是整個社會最大的共識。\\n\\n展望未來，前方的挑戰還有很多，等著我們一一克服。\\n\\n我們看見中國崛起跟擴張，以威權體制，結合民族主義和經濟力量，挑戰自由民主的價值和世界秩序。也因此，處於印太地區戰略前緣的台灣，成為了守護民主價值的第一道防線。\\n\\n中國利用「銳實力」步步進逼，但我們很清楚，作為區域的重要成員，台灣要善盡國際責任。我們不挑釁、不冒進，結合理念相近的國家，確保台海和平穩定的現狀，不會被片面改變。\\n\\n要做到這些，我們必須要團結。儘管台灣社會曾經因為族群、世代、信仰、黨派的差異，而出現爭執，但透過對話，我們一定可以找到彼此可以接受的最大公約數。經驗證明，衝突、對話、團結進步，會引導國家往正確的方向前進。\\n\\n我們也必須堅守自由民主的價值。台灣人民曾經一起走過民主化的艱辛道路，民主偶有紛擾，但只有民主制度，能夠保障得來不易的自由，也才能讓下一代保有決定未來的權利。\\n\\n我們也必須持續壯大台灣。三年多來，我們努力調整經濟結構，引導產業升級轉型、推動國際多元布局。我們迎來投資大爆發，在全球經濟的變動中，站穩了腳步，方向是對的，我們就要繼續走。\\n\\n三年多來，我們努力維護社會公平，加薪減稅、全面照顧，讓全民分享經濟成長的果實。未來，推動長照2.0升級，推動幼托補助擴大，減輕民眾負擔，使人人可以享有優質的照顧，是政府要繼續努力的方向。\\n\\n三年多來，我們推動國防自主、採購先進武器，提升國軍士氣，強化充足戰力。國造高教機的原型機剛剛出廠，國造艦艇也將陸續加入建軍行列。捍衛國土、堅守自由民主，國軍責無旁貸。\\n\\n三年多來，我們積極參與國際，負責任、肯貢獻，成為維護區域和平穩定，不可或缺的良善力量。我們會持續和理念相近的國家攜手，爭取更多實質合作的機會。\\n\\n未來的路線很清楚，目標也很明確。\\n\\n第一，讓國人繼續團結在自由民主的旗幟下，捍衛國家主權。\\n\\n第二，持續壯大台灣，強化經濟實力，讓民富而國強。\\n\\n第三，積極走向世界，克服挑戰，讓中華民國台灣在國際舞台上抬頭挺胸，勇敢自信。\\n\\n上一季，我們的經濟成長率，已經重返亞洲四小龍之首。世界經濟論壇評比我們是四大「超級創新國」之一。我們的高科技和創新產業，也走在世界的最前端。\\n\\n我們的體育選手、我們的技能國手，無數充滿創意的設計師、藝術家，在國際舞台發光發熱，帶給台灣榮耀和驕傲。\\n\\n我們自製的福衛五號，以及福衛七號接連升空，展現太空科技實力。就連人類歷史上第一次觀測到的黑洞影像，也有台灣科學團隊的參與。\\n\\n當我們可以上太空，可以看見五千五百萬光年外的黑洞，那麼，眼前還有什麼挑戰，是我們沒有勇氣面對的？\\n\\n歷史的磨難，會因為我們的韌性，而被轉化為成長力量。天災的挑戰，會因為我們的努力，而成為再生的契機。這塊土地上每一個人的努力，都讓我們的國家，一天一天變得更好、更進步。\\n\\n在國慶日這一天，這塊土地上的所有人民，都團結在自由民主的旗幟下，樂觀面對未來、堅定克服挑戰。天佑台灣，台灣加油，中華民國加油。謝謝大家。\\n'"
            ]
          },
          "metadata": {
            "tags": []
          },
          "execution_count": 340
        }
      ]
    },
    {
      "cell_type": "code",
      "metadata": {
        "id": "zG-DY-TF6Pcy"
      },
      "source": [
        ""
      ],
      "execution_count": null,
      "outputs": []
    }
  ]
}