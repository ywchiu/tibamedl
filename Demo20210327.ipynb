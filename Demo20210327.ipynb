{
  "nbformat": 4,
  "nbformat_minor": 0,
  "metadata": {
    "colab": {
      "name": "Demo20210327.ipynb",
      "provenance": [],
      "collapsed_sections": []
    },
    "kernelspec": {
      "name": "python3",
      "display_name": "Python 3"
    },
    "language_info": {
      "name": "python"
    }
  },
  "cells": [
    {
      "cell_type": "code",
      "metadata": {
        "id": "zo1xawkQUG93"
      },
      "source": [
        "import numpy as np"
      ],
      "execution_count": 1,
      "outputs": []
    },
    {
      "cell_type": "code",
      "metadata": {
        "id": "84d_pm84VQoB"
      },
      "source": [
        "def softmax_function(x):\n",
        "    return np.exp(x) / np.sum(np.exp(x))\n",
        "\n",
        "def sigmoid_function(x):\n",
        "    return 1/ (1 + np.exp(-x))\n",
        "\n",
        "def dfunc(f, x):\n",
        "    h = 1e-4 \n",
        "    grad = np.zeros_like(x)\n",
        "    it = np.nditer(x, flags=['multi_index'])\n",
        "    while not it.finished:     \n",
        "        idx = it.multi_index\n",
        "        tmp_val = x[idx]\n",
        "        x[idx] = float(tmp_val) + h\n",
        "        fxh1 = f(x) # f(x+h)\n",
        "        x[idx] = tmp_val - h \n",
        "        fxh2 = f(x) # f(x-h)\n",
        "        grad[idx] = (fxh1 - fxh2) / (2*h)\n",
        "        x[idx] = tmp_val\n",
        "        it.iternext()   \n",
        "    return grad\n",
        "\n",
        "def cross_entropy_err(y_hat, y):\n",
        "    delta = 1e-8\n",
        "    return -np.sum(y*np.log(y_hat + delta))"
      ],
      "execution_count": 2,
      "outputs": []
    },
    {
      "cell_type": "code",
      "metadata": {
        "id": "y_44qBbuVo8G"
      },
      "source": [
        "class ANN:\n",
        "    def __init__(self, input_size, hidden_size, output_size, weight_init_std=0.01):\n",
        "        self.params = {}\n",
        "        self.params['W1'] = weight_init_std * np.random.randn(input_size, hidden_size)\n",
        "        self.params['b1'] = np.zeros(hidden_size)\n",
        "        self.params['W2'] = weight_init_std * np.random.randn(hidden_size, output_size)\n",
        "        self.params['b2'] = np.zeros(output_size)\n",
        " \n",
        "    def predict(self, x):\n",
        "        W1, W2 = self.params['W1'], self.params['W2']\n",
        "        b1, b2 = self.params['b1'], self.params['b2']\n",
        "        a1 = np.dot(x, W1) + b1\n",
        "        z1 = sigmoid_function(a1)\n",
        "        a2 = np.dot(z1, W2) + b2\n",
        "        y = softmax_function(a2)\n",
        "        return y\n",
        "        \n",
        "    def loss(self, x, y):\n",
        "        y_hat = self.predict(x)\n",
        "        return cross_entropy_err(y_hat, y)\n",
        "        \n",
        "    def numerical_gradient(self, x, y):\n",
        "        loss_W = lambda W: self.loss(x, y)\n",
        "        grads = {}\n",
        "        grads['W1'] = dfunc(loss_W, self.params['W1'])\n",
        "        grads['b1'] = dfunc(loss_W, self.params['b1'])\n",
        "        grads['W2'] = dfunc(loss_W, self.params['W2'])\n",
        "        grads['b2'] = dfunc(loss_W, self.params['b2'])\n",
        "        return grads"
      ],
      "execution_count": 3,
      "outputs": []
    },
    {
      "cell_type": "code",
      "metadata": {
        "id": "H6A72DW8WKUx"
      },
      "source": [
        "net = ANN(input_size=4, hidden_size=5, output_size=3)"
      ],
      "execution_count": 4,
      "outputs": []
    },
    {
      "cell_type": "code",
      "metadata": {
        "colab": {
          "base_uri": "https://localhost:8080/"
        },
        "id": "yO0Bx_PuWNVM",
        "outputId": "14a1b632-4977-4759-a9e2-b833a5af4a24"
      },
      "source": [
        "net.params['W1']"
      ],
      "execution_count": 5,
      "outputs": [
        {
          "output_type": "execute_result",
          "data": {
            "text/plain": [
              "array([[-0.00999212,  0.00023952,  0.01225109, -0.00578119, -0.00530105],\n",
              "       [ 0.01837809, -0.0034991 ,  0.00137951, -0.01298947,  0.00884884],\n",
              "       [-0.01104285,  0.01123044,  0.00848096,  0.00127694,  0.00101045],\n",
              "       [ 0.00277641,  0.0043066 ,  0.00626061, -0.01373687, -0.00482733]])"
            ]
          },
          "metadata": {
            "tags": []
          },
          "execution_count": 5
        }
      ]
    },
    {
      "cell_type": "code",
      "metadata": {
        "id": "9gPoXN9WWSMF"
      },
      "source": [
        "from sklearn.datasets import load_iris\n",
        "iris = load_iris()\n",
        "x= iris.data"
      ],
      "execution_count": 6,
      "outputs": []
    },
    {
      "cell_type": "code",
      "metadata": {
        "colab": {
          "base_uri": "https://localhost:8080/"
        },
        "id": "uxJIGIvoWb9K",
        "outputId": "482d0fb7-c08a-4a4e-8c1d-3cabebf18b0e"
      },
      "source": [
        "input_x = np.array([[5.1, 3.5, 1.4, 0.2]])\n",
        "net.predict(input_x)"
      ],
      "execution_count": 7,
      "outputs": [
        {
          "output_type": "execute_result",
          "data": {
            "text/plain": [
              "array([[0.33370794, 0.33434379, 0.33194826]])"
            ]
          },
          "metadata": {
            "tags": []
          },
          "execution_count": 7
        }
      ]
    },
    {
      "cell_type": "code",
      "metadata": {
        "id": "S5klgMpdWfss"
      },
      "source": [
        "y = np.zeros((len(iris.target), 3))\n",
        "for idx, val in enumerate(iris.target):\n",
        "  y[idx, val] = 1"
      ],
      "execution_count": 8,
      "outputs": []
    },
    {
      "cell_type": "code",
      "metadata": {
        "id": "XYjO_8sGWooq"
      },
      "source": [
        "output_y = np.array([1., 0., 0.])"
      ],
      "execution_count": 9,
      "outputs": []
    },
    {
      "cell_type": "code",
      "metadata": {
        "colab": {
          "base_uri": "https://localhost:8080/"
        },
        "id": "C_AxX4nEWtPV",
        "outputId": "811b471c-1cb6-40a5-e10f-043072e58c88"
      },
      "source": [
        "net.loss(input_x,output_y)"
      ],
      "execution_count": 10,
      "outputs": [
        {
          "output_type": "execute_result",
          "data": {
            "text/plain": [
              "1.0974890652248435"
            ]
          },
          "metadata": {
            "tags": []
          },
          "execution_count": 10
        }
      ]
    },
    {
      "cell_type": "code",
      "metadata": {
        "colab": {
          "base_uri": "https://localhost:8080/"
        },
        "id": "e926fdxAWwmk",
        "outputId": "702645bf-f410-4b76-b9ae-1545efdcf013"
      },
      "source": [
        "import time\n",
        "epochs = 3000\n",
        "lr   = 0.01\n",
        "a = time.clock()\n",
        "train_loss = []\n",
        "for i in range(epochs): \n",
        "  grad = net.numerical_gradient(x,y)\n",
        "  for key in ('W1', 'b1', 'W2', 'b2'):\n",
        "    net.params[key] = net.params[key] - lr * grad[key]\n",
        "  loss = net.loss(x, y)\n",
        "  train_loss.append(loss)\n",
        "print(time.clock() -a )"
      ],
      "execution_count": 11,
      "outputs": [
        {
          "output_type": "stream",
          "text": [
            "/usr/local/lib/python3.7/dist-packages/ipykernel_launcher.py:4: DeprecationWarning: time.clock has been deprecated in Python 3.3 and will be removed from Python 3.8: use time.perf_counter or time.process_time instead\n",
            "  after removing the cwd from sys.path.\n"
          ],
          "name": "stderr"
        },
        {
          "output_type": "stream",
          "text": [
            "21.684755000000003\n"
          ],
          "name": "stdout"
        },
        {
          "output_type": "stream",
          "text": [
            "/usr/local/lib/python3.7/dist-packages/ipykernel_launcher.py:12: DeprecationWarning: time.clock has been deprecated in Python 3.3 and will be removed from Python 3.8: use time.perf_counter or time.process_time instead\n",
            "  if sys.path[0] == '':\n"
          ],
          "name": "stderr"
        }
      ]
    },
    {
      "cell_type": "markdown",
      "metadata": {
        "id": "AhoU8kVPbybo"
      },
      "source": [
        "## Back Propagation"
      ]
    },
    {
      "cell_type": "code",
      "metadata": {
        "id": "pYOstynPXTY_"
      },
      "source": [
        "class Relu:\n",
        "  def __init__(self):\n",
        "    self.cache = None\n",
        "    \n",
        "  def forward(self, x):\n",
        "    self.cache = (x <=0)\n",
        "    out = np.maximum(0,x)\n",
        "    return out\n",
        "\n",
        "  def backward(self, dout):\n",
        "    dout[self.cache] = 0\n",
        "    dx = dout\n",
        "    return dx"
      ],
      "execution_count": 12,
      "outputs": []
    },
    {
      "cell_type": "code",
      "metadata": {
        "id": "pKBRIW0Cc6iz"
      },
      "source": [
        "f = Relu()"
      ],
      "execution_count": 13,
      "outputs": []
    },
    {
      "cell_type": "code",
      "metadata": {
        "colab": {
          "base_uri": "https://localhost:8080/"
        },
        "id": "093jd0xbc-kR",
        "outputId": "8bdee537-1f21-49f6-b298-3cdf94771e1c"
      },
      "source": [
        "x = np.array([-1,1,2])\n",
        "f.forward(x)"
      ],
      "execution_count": 14,
      "outputs": [
        {
          "output_type": "execute_result",
          "data": {
            "text/plain": [
              "array([0, 1, 2])"
            ]
          },
          "metadata": {
            "tags": []
          },
          "execution_count": 14
        }
      ]
    },
    {
      "cell_type": "code",
      "metadata": {
        "colab": {
          "base_uri": "https://localhost:8080/"
        },
        "id": "KW0cWbXvdB6W",
        "outputId": "801e3079-fc5e-4dd9-d064-a2960d296f3c"
      },
      "source": [
        "f.cache"
      ],
      "execution_count": 15,
      "outputs": [
        {
          "output_type": "execute_result",
          "data": {
            "text/plain": [
              "array([ True, False, False])"
            ]
          },
          "metadata": {
            "tags": []
          },
          "execution_count": 15
        }
      ]
    },
    {
      "cell_type": "code",
      "metadata": {
        "id": "eAp_5Cl6dFl4"
      },
      "source": [
        "out = np.array([2,2,2])"
      ],
      "execution_count": 16,
      "outputs": []
    },
    {
      "cell_type": "code",
      "metadata": {
        "colab": {
          "base_uri": "https://localhost:8080/"
        },
        "id": "kTeWkGxOdKsZ",
        "outputId": "9b601d7c-13a7-438c-9099-a5703c5af8a5"
      },
      "source": [
        "f.backward(out)"
      ],
      "execution_count": 17,
      "outputs": [
        {
          "output_type": "execute_result",
          "data": {
            "text/plain": [
              "array([0, 2, 2])"
            ]
          },
          "metadata": {
            "tags": []
          },
          "execution_count": 17
        }
      ]
    },
    {
      "cell_type": "markdown",
      "metadata": {
        "id": "bXb56oUidjvZ"
      },
      "source": [
        "- https://www.wolframalpha.com/input/?i=derivative+1%2Fx"
      ]
    },
    {
      "cell_type": "code",
      "metadata": {
        "id": "6_LyBQg0dNSh"
      },
      "source": [
        "class Sigmoid:\n",
        "    def __init__(self):\n",
        "        self.out = None\n",
        "\n",
        "    def forward(self, x):\n",
        "        out = 1/ (1 + np.exp(-x))\n",
        "        self.out = out\n",
        "        return out\n",
        "\n",
        "    def backward(self, dout):\n",
        "        y  = self.out\n",
        "        dx = dout * y * (1-y)\n",
        "        return dx"
      ],
      "execution_count": 18,
      "outputs": []
    },
    {
      "cell_type": "code",
      "metadata": {
        "id": "11NpAlxZeJy4"
      },
      "source": [
        "s = Sigmoid()"
      ],
      "execution_count": 19,
      "outputs": []
    },
    {
      "cell_type": "code",
      "metadata": {
        "colab": {
          "base_uri": "https://localhost:8080/"
        },
        "id": "pnCVYuGJeKOi",
        "outputId": "26d3d44f-5516-4440-b0a5-959d8cf3b5fb"
      },
      "source": [
        "ary = np.array([-1,1,2])\n",
        "s.forward(ary)"
      ],
      "execution_count": 20,
      "outputs": [
        {
          "output_type": "execute_result",
          "data": {
            "text/plain": [
              "array([0.26894142, 0.73105858, 0.88079708])"
            ]
          },
          "metadata": {
            "tags": []
          },
          "execution_count": 20
        }
      ]
    },
    {
      "cell_type": "code",
      "metadata": {
        "colab": {
          "base_uri": "https://localhost:8080/"
        },
        "id": "oWzfuWmceMA8",
        "outputId": "0084acff-a40c-41cc-c50e-f6d3e8b9a0c1"
      },
      "source": [
        "out = np.array([2,2,2])\n",
        "s.backward(out)"
      ],
      "execution_count": 21,
      "outputs": [
        {
          "output_type": "execute_result",
          "data": {
            "text/plain": [
              "array([0.39322387, 0.39322387, 0.20998717])"
            ]
          },
          "metadata": {
            "tags": []
          },
          "execution_count": 21
        }
      ]
    },
    {
      "cell_type": "code",
      "metadata": {
        "colab": {
          "base_uri": "https://localhost:8080/"
        },
        "id": "7nGKNvvIeOxA",
        "outputId": "157ffa25-2ac1-48f3-8258-4026c7c045f0"
      },
      "source": [
        "2 * 0.26894142 * (1- 0.26894142)"
      ],
      "execution_count": 22,
      "outputs": [
        {
          "output_type": "execute_result",
          "data": {
            "text/plain": [
              "0.39322386521676717"
            ]
          },
          "metadata": {
            "tags": []
          },
          "execution_count": 22
        }
      ]
    },
    {
      "cell_type": "code",
      "metadata": {
        "id": "AVnyc3NReTJu"
      },
      "source": [
        "class Affine:\n",
        "    def __init__(self, W, b):\n",
        "        self.W = W\n",
        "        self.b = b\n",
        "        self.x = None\n",
        "        self.dW = None\n",
        "        self.db = None\n",
        "\n",
        "    def forward(self, x):\n",
        "        self.x = x\n",
        "        out = np.dot(self.x, self.W) + self.b\n",
        "        return out\n",
        "\n",
        "    def backward(self, dout):\n",
        "        dx = np.dot(dout, self.W.T)\n",
        "        self.dW = np.dot(self.x.T, dout)\n",
        "        self.db = np.sum(dout)\n",
        "        return dx"
      ],
      "execution_count": 23,
      "outputs": []
    },
    {
      "cell_type": "code",
      "metadata": {
        "id": "pmKb4APLeqNy"
      },
      "source": [
        "class SoftmaxWithLoss:\n",
        "    def __init__(self):\n",
        "        self.loss = None\n",
        "        self.y_hat = None \n",
        "        self.y = None \n",
        "\n",
        "    def forward(self, x, y):\n",
        "        self.y = y\n",
        "        self.y_hat = softmax_function(x)\n",
        "        self.loss = cross_entropy_err(self.y_hat, self.y)\n",
        "        return self.loss\n",
        "\n",
        "    def backward(self, dout=1):\n",
        "        batch_size = self.y.shape[0]\n",
        "        dx = (self.y_hat - self.y) / batch_size\n",
        "        return dx"
      ],
      "execution_count": 24,
      "outputs": []
    },
    {
      "cell_type": "code",
      "metadata": {
        "id": "85eJWC56e_iZ"
      },
      "source": [
        "import numpy as np\n",
        "from collections import OrderedDict\n",
        "\n",
        "class ANN:\n",
        "\n",
        "    def __init__(self, input_size, hidden_size, output_size, weight_init_std = 0.01):\n",
        "        self.params = {}\n",
        "        self.params['W1'] = weight_init_std * np.random.randn(input_size, hidden_size)\n",
        "        self.params['b1'] = np.zeros(hidden_size)\n",
        "        self.params['W2'] = weight_init_std * np.random.randn(hidden_size, output_size) \n",
        "        self.params['b2'] = np.zeros(output_size)\n",
        "\n",
        "        self.layers = OrderedDict()\n",
        "        self.layers['Affine1'] = Affine(self.params['W1'], self.params['b1'])\n",
        "        self.layers['Sigmoid1'] = Sigmoid()\n",
        "        self.layers['Affine2'] = Affine(self.params['W2'], self.params['b2'])\n",
        "\n",
        "        self.lastLayer = SoftmaxWithLoss()\n",
        "        \n",
        "    def predict(self, x):\n",
        "        for layer in self.layers.values():\n",
        "            x = layer.forward(x)\n",
        "        return x\n",
        "        \n",
        "    def loss(self, x, y):\n",
        "        y_hat = self.predict(x)\n",
        "        return self.lastLayer.forward(y_hat, y)\n",
        "  \n",
        "    def gradient(self, x, y):\n",
        "        # forward\n",
        "        self.loss(x, y)\n",
        "\n",
        "        # backward\n",
        "        dout = 1\n",
        "        dout = self.lastLayer.backward(dout)\n",
        "        \n",
        "        layers = list(self.layers.values())\n",
        "        layers.reverse()\n",
        "        for layer in layers:\n",
        "            dout = layer.backward(dout)\n",
        "\n",
        "        grads = {}\n",
        "        grads['W1'], grads['b1'] = self.layers['Affine1'].dW, self.layers['Affine1'].db\n",
        "        grads['W2'], grads['b2'] = self.layers['Affine2'].dW, self.layers['Affine2'].db\n",
        "\n",
        "        return grads"
      ],
      "execution_count": 25,
      "outputs": []
    },
    {
      "cell_type": "code",
      "metadata": {
        "colab": {
          "base_uri": "https://localhost:8080/"
        },
        "id": "d0ZfTfSwfXnV",
        "outputId": "90f01f33-351e-4685-cff2-a86b1435afb9"
      },
      "source": [
        "import random\n",
        "import time\n",
        "\n",
        "epochs     = 3000\n",
        "lr         = 0.01\n",
        "batch_size = 30\n",
        "\n",
        "net = ANN(input_size=4, hidden_size=5, output_size=3)\n",
        "\n",
        "t0 = time.clock()\n",
        "train_loss = []\n",
        "for i in range(epochs): \n",
        "    idx = np.random.choice(iris.data.shape[0], batch_size)\n",
        "    x_batch   = iris.data[idx]\n",
        "    y_batch   = y[idx]\n",
        "    grad = net.gradient(x_batch,y_batch)\n",
        "    for key in ('W1', 'b1', 'W2', 'b2'):\n",
        "        net.params[key] -= lr * grad[key]\n",
        "    loss = net.loss(x_batch, y_batch)\n",
        "    train_loss.append(loss)\n",
        "    \n",
        "time.clock() - t0"
      ],
      "execution_count": 26,
      "outputs": [
        {
          "output_type": "stream",
          "text": [
            "/usr/local/lib/python3.7/dist-packages/ipykernel_launcher.py:10: DeprecationWarning: time.clock has been deprecated in Python 3.3 and will be removed from Python 3.8: use time.perf_counter or time.process_time instead\n",
            "  # Remove the CWD from sys.path while we load stuff.\n",
            "/usr/local/lib/python3.7/dist-packages/ipykernel_launcher.py:22: DeprecationWarning: time.clock has been deprecated in Python 3.3 and will be removed from Python 3.8: use time.perf_counter or time.process_time instead\n"
          ],
          "name": "stderr"
        },
        {
          "output_type": "execute_result",
          "data": {
            "text/plain": [
              "0.5818330000000032"
            ]
          },
          "metadata": {
            "tags": []
          },
          "execution_count": 26
        }
      ]
    },
    {
      "cell_type": "markdown",
      "metadata": {
        "id": "2Hdrjj5ej5g1"
      },
      "source": [
        "### Scikit Learn"
      ]
    },
    {
      "cell_type": "code",
      "metadata": {
        "id": "npWGeiscfmbU"
      },
      "source": [
        "from sklearn.datasets import load_iris\n",
        "iris = load_iris()\n",
        "X = iris.data\n",
        "y = iris.target"
      ],
      "execution_count": 27,
      "outputs": []
    },
    {
      "cell_type": "code",
      "metadata": {
        "colab": {
          "base_uri": "https://localhost:8080/"
        },
        "id": "hmE8K4onkZrn",
        "outputId": "5ab1c31a-19e3-47da-8558-b642abc6240f"
      },
      "source": [
        "import numpy as np\n",
        "s = np.array([0,10,20,30,50,100,200])\n",
        "s\n",
        "\n",
        "def sigmoid_function(x):\n",
        "    return 1/ (1 + np.exp(-x))\n",
        "\n",
        "s2 = sigmoid_function(s)\n",
        "s2"
      ],
      "execution_count": 31,
      "outputs": [
        {
          "output_type": "execute_result",
          "data": {
            "text/plain": [
              "array([0.5      , 0.9999546, 1.       , 1.       , 1.       , 1.       ,\n",
              "       1.       ])"
            ]
          },
          "metadata": {
            "tags": []
          },
          "execution_count": 31
        }
      ]
    },
    {
      "cell_type": "code",
      "metadata": {
        "colab": {
          "base_uri": "https://localhost:8080/"
        },
        "id": "rYDN1aIplC6y",
        "outputId": "9a312728-aedb-498c-fe98-0f33a227522f"
      },
      "source": [
        "# (x - mu) / std\n",
        "s_ = (s - s.mean()) / s.std()\n",
        "s2_ = sigmoid_function(s_)\n",
        "s2_"
      ],
      "execution_count": 34,
      "outputs": [
        {
          "output_type": "execute_result",
          "data": {
            "text/plain": [
              "array([0.28979036, 0.32227026, 0.35656286, 0.39239179, 0.46725174,\n",
              "       0.65340512, 0.8970145 ])"
            ]
          },
          "metadata": {
            "tags": []
          },
          "execution_count": 34
        }
      ]
    },
    {
      "cell_type": "code",
      "metadata": {
        "colab": {
          "base_uri": "https://localhost:8080/"
        },
        "id": "5KFHRbxVl36n",
        "outputId": "5d106207-5298-46bb-8de3-a5c6c363037e"
      },
      "source": [
        "s_"
      ],
      "execution_count": 41,
      "outputs": [
        {
          "output_type": "execute_result",
          "data": {
            "text/plain": [
              "array([-0.89640241, -0.7433581 , -0.59031378, -0.43726947, -0.13118084,\n",
              "        0.63404073,  2.16448387])"
            ]
          },
          "metadata": {
            "tags": []
          },
          "execution_count": 41
        }
      ]
    },
    {
      "cell_type": "code",
      "metadata": {
        "colab": {
          "base_uri": "https://localhost:8080/"
        },
        "id": "_DlqZxVzlTcJ",
        "outputId": "dfa7991d-8d22-409f-dea0-72eb34bd717a"
      },
      "source": [
        "from sklearn.preprocessing import StandardScaler\n",
        "sc = StandardScaler()\n",
        "s.reshape(-1, 1)\n"
      ],
      "execution_count": 39,
      "outputs": [
        {
          "output_type": "execute_result",
          "data": {
            "text/plain": [
              "array([[  0],\n",
              "       [ 10],\n",
              "       [ 20],\n",
              "       [ 30],\n",
              "       [ 50],\n",
              "       [100],\n",
              "       [200]])"
            ]
          },
          "metadata": {
            "tags": []
          },
          "execution_count": 39
        }
      ]
    },
    {
      "cell_type": "code",
      "metadata": {
        "colab": {
          "base_uri": "https://localhost:8080/"
        },
        "id": "BhsbnAS7lsBF",
        "outputId": "256c228c-99bb-4a01-9be2-b2200cb3e590"
      },
      "source": [
        "sc.fit_transform(s.reshape(-1, 1))"
      ],
      "execution_count": 40,
      "outputs": [
        {
          "output_type": "execute_result",
          "data": {
            "text/plain": [
              "array([[-0.89640241],\n",
              "       [-0.7433581 ],\n",
              "       [-0.59031378],\n",
              "       [-0.43726947],\n",
              "       [-0.13118084],\n",
              "       [ 0.63404073],\n",
              "       [ 2.16448387]])"
            ]
          },
          "metadata": {
            "tags": []
          },
          "execution_count": 40
        }
      ]
    },
    {
      "cell_type": "code",
      "metadata": {
        "id": "r9qwj4iXmHZp"
      },
      "source": [
        "# fit : generate mean, std\n",
        "# transform: transform data\n",
        "# fit_transform: generate mean, std, then transform data"
      ],
      "execution_count": 42,
      "outputs": []
    },
    {
      "cell_type": "code",
      "metadata": {
        "colab": {
          "base_uri": "https://localhost:8080/"
        },
        "id": "5dSMH_GMmSTx",
        "outputId": "3f9aa261-9b06-4c7a-89f6-b7ab79aad256"
      },
      "source": [
        "sc.mean_, sc.var_"
      ],
      "execution_count": 44,
      "outputs": [
        {
          "output_type": "execute_result",
          "data": {
            "text/plain": [
              "(array([58.57142857]), array([4269.3877551]))"
            ]
          },
          "metadata": {
            "tags": []
          },
          "execution_count": 44
        }
      ]
    },
    {
      "cell_type": "code",
      "metadata": {
        "id": "UFTeztKumvq-"
      },
      "source": [
        "sc = StandardScaler()\n",
        "X = sc.fit_transform(iris.data)\n",
        "y = iris.target"
      ],
      "execution_count": 45,
      "outputs": []
    },
    {
      "cell_type": "code",
      "metadata": {
        "colab": {
          "base_uri": "https://localhost:8080/"
        },
        "id": "FiC6LqYYm2cN",
        "outputId": "8d5f1955-de03-46f6-82ac-aaa165521382"
      },
      "source": [
        "y"
      ],
      "execution_count": 47,
      "outputs": [
        {
          "output_type": "execute_result",
          "data": {
            "text/plain": [
              "array([0, 0, 0, 0, 0, 0, 0, 0, 0, 0, 0, 0, 0, 0, 0, 0, 0, 0, 0, 0, 0, 0,\n",
              "       0, 0, 0, 0, 0, 0, 0, 0, 0, 0, 0, 0, 0, 0, 0, 0, 0, 0, 0, 0, 0, 0,\n",
              "       0, 0, 0, 0, 0, 0, 1, 1, 1, 1, 1, 1, 1, 1, 1, 1, 1, 1, 1, 1, 1, 1,\n",
              "       1, 1, 1, 1, 1, 1, 1, 1, 1, 1, 1, 1, 1, 1, 1, 1, 1, 1, 1, 1, 1, 1,\n",
              "       1, 1, 1, 1, 1, 1, 1, 1, 1, 1, 1, 1, 2, 2, 2, 2, 2, 2, 2, 2, 2, 2,\n",
              "       2, 2, 2, 2, 2, 2, 2, 2, 2, 2, 2, 2, 2, 2, 2, 2, 2, 2, 2, 2, 2, 2,\n",
              "       2, 2, 2, 2, 2, 2, 2, 2, 2, 2, 2, 2, 2, 2, 2, 2, 2, 2])"
            ]
          },
          "metadata": {
            "tags": []
          },
          "execution_count": 47
        }
      ]
    },
    {
      "cell_type": "code",
      "metadata": {
        "colab": {
          "base_uri": "https://localhost:8080/"
        },
        "id": "IAV7RgengrDt",
        "outputId": "89a4cc87-8e9b-4077-b3ed-f8cedf8acc32"
      },
      "source": [
        "f# 4 -> 5 -> 3\n",
        "from sklearn.neural_network import MLPClassifier\n",
        "#?MLPClassifier\n",
        "clf = MLPClassifier( hidden_layer_sizes =(5,) , activation = 'logistic', solver  = 'sgd', max_iter = 3000)\n",
        "clf.fit(X,y)"
      ],
      "execution_count": 55,
      "outputs": [
        {
          "output_type": "execute_result",
          "data": {
            "text/plain": [
              "MLPClassifier(activation='logistic', alpha=0.0001, batch_size='auto',\n",
              "              beta_1=0.9, beta_2=0.999, early_stopping=False, epsilon=1e-08,\n",
              "              hidden_layer_sizes=(5,), learning_rate='constant',\n",
              "              learning_rate_init=0.001, max_fun=15000, max_iter=3000,\n",
              "              momentum=0.9, n_iter_no_change=10, nesterovs_momentum=True,\n",
              "              power_t=0.5, random_state=None, shuffle=True, solver='sgd',\n",
              "              tol=0.0001, validation_fraction=0.1, verbose=False,\n",
              "              warm_start=False)"
            ]
          },
          "metadata": {
            "tags": []
          },
          "execution_count": 55
        }
      ]
    },
    {
      "cell_type": "code",
      "metadata": {
        "id": "wSU2xuMrncD6"
      },
      "source": [
        "pred_y = clf.predict(X)"
      ],
      "execution_count": 56,
      "outputs": []
    },
    {
      "cell_type": "code",
      "metadata": {
        "colab": {
          "base_uri": "https://localhost:8080/"
        },
        "id": "4GZ10HsinzAT",
        "outputId": "1d23ef95-b3a6-499b-dae6-0af4793d7244"
      },
      "source": [
        "(y == pred_y).sum() / len(pred_y)"
      ],
      "execution_count": 59,
      "outputs": [
        {
          "output_type": "execute_result",
          "data": {
            "text/plain": [
              "0.8866666666666667"
            ]
          },
          "metadata": {
            "tags": []
          },
          "execution_count": 59
        }
      ]
    },
    {
      "cell_type": "code",
      "metadata": {
        "colab": {
          "base_uri": "https://localhost:8080/"
        },
        "id": "gQYy8D-8ntsx",
        "outputId": "19eee915-f38c-4bb1-e6a1-3da8d10a0536"
      },
      "source": [
        "from sklearn.metrics import accuracy_score, confusion_matrix\n",
        "accuracy_score(y, pred_y)"
      ],
      "execution_count": 60,
      "outputs": [
        {
          "output_type": "execute_result",
          "data": {
            "text/plain": [
              "0.8866666666666667"
            ]
          },
          "metadata": {
            "tags": []
          },
          "execution_count": 60
        }
      ]
    },
    {
      "cell_type": "code",
      "metadata": {
        "colab": {
          "base_uri": "https://localhost:8080/"
        },
        "id": "SE4cN3gMn_66",
        "outputId": "c867cff0-2248-465f-c7aa-98045508ea23"
      },
      "source": [
        "confusion_matrix(y, pred_y)"
      ],
      "execution_count": 61,
      "outputs": [
        {
          "output_type": "execute_result",
          "data": {
            "text/plain": [
              "array([[50,  0,  0],\n",
              "       [ 0, 34, 16],\n",
              "       [ 0,  1, 49]])"
            ]
          },
          "metadata": {
            "tags": []
          },
          "execution_count": 61
        }
      ]
    },
    {
      "cell_type": "code",
      "metadata": {
        "colab": {
          "base_uri": "https://localhost:8080/"
        },
        "id": "2yS5zas7oS3G",
        "outputId": "0a131769-166f-4f32-af4c-c03949b6e444"
      },
      "source": [
        "from sklearn.neural_network import MLPClassifier\n",
        "#?MLPClassifier\n",
        "clf = MLPClassifier( hidden_layer_sizes =(5,) , solver  = 'sgd', max_iter = 10000)\n",
        "clf.fit(X,y)"
      ],
      "execution_count": 65,
      "outputs": [
        {
          "output_type": "execute_result",
          "data": {
            "text/plain": [
              "MLPClassifier(activation='relu', alpha=0.0001, batch_size='auto', beta_1=0.9,\n",
              "              beta_2=0.999, early_stopping=False, epsilon=1e-08,\n",
              "              hidden_layer_sizes=(5,), learning_rate='constant',\n",
              "              learning_rate_init=0.001, max_fun=15000, max_iter=10000,\n",
              "              momentum=0.9, n_iter_no_change=10, nesterovs_momentum=True,\n",
              "              power_t=0.5, random_state=None, shuffle=True, solver='sgd',\n",
              "              tol=0.0001, validation_fraction=0.1, verbose=False,\n",
              "              warm_start=False)"
            ]
          },
          "metadata": {
            "tags": []
          },
          "execution_count": 65
        }
      ]
    },
    {
      "cell_type": "code",
      "metadata": {
        "colab": {
          "base_uri": "https://localhost:8080/"
        },
        "id": "p6PCmVYpojSs",
        "outputId": "f20d55b5-60ab-4b92-b8ea-d339600a7d12"
      },
      "source": [
        "from sklearn.metrics import accuracy_score, confusion_matrix\n",
        "pred_y = clf.predict(X)\n",
        "accuracy_score(y, pred_y)"
      ],
      "execution_count": 66,
      "outputs": [
        {
          "output_type": "execute_result",
          "data": {
            "text/plain": [
              "0.9533333333333334"
            ]
          },
          "metadata": {
            "tags": []
          },
          "execution_count": 66
        }
      ]
    },
    {
      "cell_type": "markdown",
      "metadata": {
        "id": "dkdKNvPipcEa"
      },
      "source": [
        "## MNIST Problem"
      ]
    },
    {
      "cell_type": "code",
      "metadata": {
        "id": "vTrjokmwolsu"
      },
      "source": [
        "from sklearn.datasets import load_digits\n",
        "digits = load_digits()"
      ],
      "execution_count": 67,
      "outputs": []
    },
    {
      "cell_type": "code",
      "metadata": {
        "colab": {
          "base_uri": "https://localhost:8080/"
        },
        "id": "9-fvQJzlpulp",
        "outputId": "22d703f3-a38a-4897-98d9-9fd6f080ff26"
      },
      "source": [
        "print(digits.DESCR)"
      ],
      "execution_count": 68,
      "outputs": [
        {
          "output_type": "stream",
          "text": [
            ".. _digits_dataset:\n",
            "\n",
            "Optical recognition of handwritten digits dataset\n",
            "--------------------------------------------------\n",
            "\n",
            "**Data Set Characteristics:**\n",
            "\n",
            "    :Number of Instances: 5620\n",
            "    :Number of Attributes: 64\n",
            "    :Attribute Information: 8x8 image of integer pixels in the range 0..16.\n",
            "    :Missing Attribute Values: None\n",
            "    :Creator: E. Alpaydin (alpaydin '@' boun.edu.tr)\n",
            "    :Date: July; 1998\n",
            "\n",
            "This is a copy of the test set of the UCI ML hand-written digits datasets\n",
            "https://archive.ics.uci.edu/ml/datasets/Optical+Recognition+of+Handwritten+Digits\n",
            "\n",
            "The data set contains images of hand-written digits: 10 classes where\n",
            "each class refers to a digit.\n",
            "\n",
            "Preprocessing programs made available by NIST were used to extract\n",
            "normalized bitmaps of handwritten digits from a preprinted form. From a\n",
            "total of 43 people, 30 contributed to the training set and different 13\n",
            "to the test set. 32x32 bitmaps are divided into nonoverlapping blocks of\n",
            "4x4 and the number of on pixels are counted in each block. This generates\n",
            "an input matrix of 8x8 where each element is an integer in the range\n",
            "0..16. This reduces dimensionality and gives invariance to small\n",
            "distortions.\n",
            "\n",
            "For info on NIST preprocessing routines, see M. D. Garris, J. L. Blue, G.\n",
            "T. Candela, D. L. Dimmick, J. Geist, P. J. Grother, S. A. Janet, and C.\n",
            "L. Wilson, NIST Form-Based Handprint Recognition System, NISTIR 5469,\n",
            "1994.\n",
            "\n",
            ".. topic:: References\n",
            "\n",
            "  - C. Kaynak (1995) Methods of Combining Multiple Classifiers and Their\n",
            "    Applications to Handwritten Digit Recognition, MSc Thesis, Institute of\n",
            "    Graduate Studies in Science and Engineering, Bogazici University.\n",
            "  - E. Alpaydin, C. Kaynak (1998) Cascading Classifiers, Kybernetika.\n",
            "  - Ken Tang and Ponnuthurai N. Suganthan and Xi Yao and A. Kai Qin.\n",
            "    Linear dimensionalityreduction using relevance weighted LDA. School of\n",
            "    Electrical and Electronic Engineering Nanyang Technological University.\n",
            "    2005.\n",
            "  - Claudio Gentile. A New Approximate Maximal Margin Classification\n",
            "    Algorithm. NIPS. 2000.\n"
          ],
          "name": "stdout"
        }
      ]
    },
    {
      "cell_type": "code",
      "metadata": {
        "colab": {
          "base_uri": "https://localhost:8080/"
        },
        "id": "7usJyxnXpwHN",
        "outputId": "65f8dda1-83f3-4763-f01d-f607235a9f5e"
      },
      "source": [
        "digits.data"
      ],
      "execution_count": 69,
      "outputs": [
        {
          "output_type": "execute_result",
          "data": {
            "text/plain": [
              "array([[ 0.,  0.,  5., ...,  0.,  0.,  0.],\n",
              "       [ 0.,  0.,  0., ..., 10.,  0.,  0.],\n",
              "       [ 0.,  0.,  0., ..., 16.,  9.,  0.],\n",
              "       ...,\n",
              "       [ 0.,  0.,  1., ...,  6.,  0.,  0.],\n",
              "       [ 0.,  0.,  2., ..., 12.,  0.,  0.],\n",
              "       [ 0.,  0., 10., ..., 12.,  1.,  0.]])"
            ]
          },
          "metadata": {
            "tags": []
          },
          "execution_count": 69
        }
      ]
    },
    {
      "cell_type": "code",
      "metadata": {
        "colab": {
          "base_uri": "https://localhost:8080/"
        },
        "id": "U_Q6ATUtp4I-",
        "outputId": "64229f76-16a8-4ecb-99cb-12f81d2428b0"
      },
      "source": [
        "digits.data.shape"
      ],
      "execution_count": 70,
      "outputs": [
        {
          "output_type": "execute_result",
          "data": {
            "text/plain": [
              "(1797, 64)"
            ]
          },
          "metadata": {
            "tags": []
          },
          "execution_count": 70
        }
      ]
    },
    {
      "cell_type": "code",
      "metadata": {
        "colab": {
          "base_uri": "https://localhost:8080/"
        },
        "id": "DmHgwO1Qp6yI",
        "outputId": "0c970d5f-eb64-498d-a6ad-2883bd6e33b7"
      },
      "source": [
        "digits.images.shape"
      ],
      "execution_count": 72,
      "outputs": [
        {
          "output_type": "execute_result",
          "data": {
            "text/plain": [
              "(1797, 8, 8)"
            ]
          },
          "metadata": {
            "tags": []
          },
          "execution_count": 72
        }
      ]
    },
    {
      "cell_type": "code",
      "metadata": {
        "colab": {
          "base_uri": "https://localhost:8080/"
        },
        "id": "jTNKE7oyp_If",
        "outputId": "2dde3617-8e18-4250-f2de-a403de3e10ff"
      },
      "source": [
        "digits.images[0]"
      ],
      "execution_count": 73,
      "outputs": [
        {
          "output_type": "execute_result",
          "data": {
            "text/plain": [
              "array([[ 0.,  0.,  5., 13.,  9.,  1.,  0.,  0.],\n",
              "       [ 0.,  0., 13., 15., 10., 15.,  5.,  0.],\n",
              "       [ 0.,  3., 15.,  2.,  0., 11.,  8.,  0.],\n",
              "       [ 0.,  4., 12.,  0.,  0.,  8.,  8.,  0.],\n",
              "       [ 0.,  5.,  8.,  0.,  0.,  9.,  8.,  0.],\n",
              "       [ 0.,  4., 11.,  0.,  1., 12.,  7.,  0.],\n",
              "       [ 0.,  2., 14.,  5., 10., 12.,  0.,  0.],\n",
              "       [ 0.,  0.,  6., 13., 10.,  0.,  0.,  0.]])"
            ]
          },
          "metadata": {
            "tags": []
          },
          "execution_count": 73
        }
      ]
    },
    {
      "cell_type": "code",
      "metadata": {
        "colab": {
          "base_uri": "https://localhost:8080/",
          "height": 283
        },
        "id": "pt9IcDTPqEYp",
        "outputId": "f10c38f4-39b7-4778-e3df-09b0985e292b"
      },
      "source": [
        "from matplotlib import pyplot as plt\n",
        "plt.imshow(digits.images[0])"
      ],
      "execution_count": 74,
      "outputs": [
        {
          "output_type": "execute_result",
          "data": {
            "text/plain": [
              "<matplotlib.image.AxesImage at 0x7f21444a8150>"
            ]
          },
          "metadata": {
            "tags": []
          },
          "execution_count": 74
        },
        {
          "output_type": "display_data",
          "data": {
            "image/png": "[encoded data removed]",
            "text/plain": [
              "<Figure size 432x288 with 1 Axes>"
            ]
          },
          "metadata": {
            "tags": [],
            "needs_background": "light"
          }
        }
      ]
    },
    {
      "cell_type": "code",
      "metadata": {
        "colab": {
          "base_uri": "https://localhost:8080/"
        },
        "id": "iN_XG8WwqMI2",
        "outputId": "3c7d2813-3479-403e-dba4-7b0e450413f4"
      },
      "source": [
        "digits.target[0]"
      ],
      "execution_count": 75,
      "outputs": [
        {
          "output_type": "execute_result",
          "data": {
            "text/plain": [
              "0"
            ]
          },
          "metadata": {
            "tags": []
          },
          "execution_count": 75
        }
      ]
    },
    {
      "cell_type": "code",
      "metadata": {
        "colab": {
          "base_uri": "https://localhost:8080/",
          "height": 610
        },
        "id": "sRfmXRWzq7Dc",
        "outputId": "11b8f88a-d6b2-4274-8924-bcb60cc84886"
      },
      "source": [
        "fig = plt.figure(figsize = (8,8))\n",
        "\n",
        "# 圖與圖的間距\n",
        "fig.subplots_adjust(left=0, right=1, bottom=0, top=1, hspace=0.05, wspace=0.05)\n",
        "\n",
        "# 取樣36 張圖\n",
        "for i in range(36):\n",
        "    # 每張 6 * 6 的大小\n",
        "    ax = fig.add_subplot(6, 6, i+1, xticks=[], yticks=[])\n",
        "    # 繪製灰階圖\n",
        "    ax.imshow(digits.images[i],cmap=plt.cm.binary,interpolation='nearest')\n",
        "    # 於左下標示紅色大小為20數字\n",
        "    ax.text(0, 7, digits.target[i], color=\"r\", fontsize = 20)"
      ],
      "execution_count": 76,
      "outputs": [
        {
          "output_type": "display_data",
          "data": {
            "image/png": "[encoded data removed]",
            "text/plain": [
              "<Figure size 576x576 with 36 Axes>"
            ]
          },
          "metadata": {
            "tags": []
          }
        }
      ]
    },
    {
      "cell_type": "code",
      "metadata": {
        "colab": {
          "base_uri": "https://localhost:8080/"
        },
        "id": "VdoANxj3rHSe",
        "outputId": "ad72ee60-c71d-4f21-c484-f33d9639a552"
      },
      "source": [
        "digits.data.shape"
      ],
      "execution_count": 78,
      "outputs": [
        {
          "output_type": "execute_result",
          "data": {
            "text/plain": [
              "(1797, 64)"
            ]
          },
          "metadata": {
            "tags": []
          },
          "execution_count": 78
        }
      ]
    },
    {
      "cell_type": "code",
      "metadata": {
        "id": "SmVYqPcmrPpS"
      },
      "source": [
        "from sklearn.preprocessing import StandardScaler\n",
        "sc = StandardScaler()\n",
        "X_scaled = sc.fit_transform(digits.data)"
      ],
      "execution_count": 79,
      "outputs": []
    },
    {
      "cell_type": "code",
      "metadata": {
        "colab": {
          "base_uri": "https://localhost:8080/"
        },
        "id": "lgywaXearkdn",
        "outputId": "f9d899fa-e792-45cc-90f5-68ce3b5c83bf"
      },
      "source": [
        "X_scaled"
      ],
      "execution_count": 80,
      "outputs": [
        {
          "output_type": "execute_result",
          "data": {
            "text/plain": [
              "array([[ 0.        , -0.33501649, -0.04308102, ..., -1.14664746,\n",
              "        -0.5056698 , -0.19600752],\n",
              "       [ 0.        , -0.33501649, -1.09493684, ...,  0.54856067,\n",
              "        -0.5056698 , -0.19600752],\n",
              "       [ 0.        , -0.33501649, -1.09493684, ...,  1.56568555,\n",
              "         1.6951369 , -0.19600752],\n",
              "       ...,\n",
              "       [ 0.        , -0.33501649, -0.88456568, ..., -0.12952258,\n",
              "        -0.5056698 , -0.19600752],\n",
              "       [ 0.        , -0.33501649, -0.67419451, ...,  0.8876023 ,\n",
              "        -0.5056698 , -0.19600752],\n",
              "       [ 0.        , -0.33501649,  1.00877481, ...,  0.8876023 ,\n",
              "        -0.26113572, -0.19600752]])"
            ]
          },
          "metadata": {
            "tags": []
          },
          "execution_count": 80
        }
      ]
    },
    {
      "cell_type": "code",
      "metadata": {
        "colab": {
          "base_uri": "https://localhost:8080/"
        },
        "id": "npB76Oj7rlL8",
        "outputId": "c6d7dda4-bb19-4e77-a491-1a1c6e10afcb"
      },
      "source": [
        "# 64 -> 30 -> 10\n",
        "from sklearn.neural_network import MLPClassifier\n",
        "clf = MLPClassifier( hidden_layer_sizes =(30,30,30,) , solver  = 'sgd', max_iter = 1000)\n",
        "clf.fit(X_scaled,digits.target)"
      ],
      "execution_count": 81,
      "outputs": [
        {
          "output_type": "execute_result",
          "data": {
            "text/plain": [
              "MLPClassifier(activation='relu', alpha=0.0001, batch_size='auto', beta_1=0.9,\n",
              "              beta_2=0.999, early_stopping=False, epsilon=1e-08,\n",
              "              hidden_layer_sizes=(30, 30, 30), learning_rate='constant',\n",
              "              learning_rate_init=0.001, max_fun=15000, max_iter=1000,\n",
              "              momentum=0.9, n_iter_no_change=10, nesterovs_momentum=True,\n",
              "              power_t=0.5, random_state=None, shuffle=True, solver='sgd',\n",
              "              tol=0.0001, validation_fraction=0.1, verbose=False,\n",
              "              warm_start=False)"
            ]
          },
          "metadata": {
            "tags": []
          },
          "execution_count": 81
        }
      ]
    },
    {
      "cell_type": "code",
      "metadata": {
        "id": "2VKGmsZPsjth"
      },
      "source": [
        "predicted = clf.predict(X_scaled)"
      ],
      "execution_count": 83,
      "outputs": []
    },
    {
      "cell_type": "code",
      "metadata": {
        "colab": {
          "base_uri": "https://localhost:8080/"
        },
        "id": "jiRhIv02ssSd",
        "outputId": "bcf56498-582e-4fc1-f958-dcf0c96665ea"
      },
      "source": [
        "from sklearn.metrics import accuracy_score, confusion_matrix\n",
        "accuracy_score(digits.target, predicted)"
      ],
      "execution_count": 84,
      "outputs": [
        {
          "output_type": "execute_result",
          "data": {
            "text/plain": [
              "0.9977740678909294"
            ]
          },
          "metadata": {
            "tags": []
          },
          "execution_count": 84
        }
      ]
    },
    {
      "cell_type": "code",
      "metadata": {
        "colab": {
          "base_uri": "https://localhost:8080/"
        },
        "id": "5oMjW-KJsw-z",
        "outputId": "120300bf-fa62-4066-929b-fc63b226dcc6"
      },
      "source": [
        "confusion_matrix(digits.target, predicted)"
      ],
      "execution_count": 85,
      "outputs": [
        {
          "output_type": "execute_result",
          "data": {
            "text/plain": [
              "array([[178,   0,   0,   0,   0,   0,   0,   0,   0,   0],\n",
              "       [  0, 182,   0,   0,   0,   0,   0,   0,   0,   0],\n",
              "       [  0,   0, 177,   0,   0,   0,   0,   0,   0,   0],\n",
              "       [  0,   0,   0, 182,   0,   1,   0,   0,   0,   0],\n",
              "       [  0,   0,   0,   0, 181,   0,   0,   0,   0,   0],\n",
              "       [  0,   0,   0,   0,   0, 181,   0,   0,   0,   1],\n",
              "       [  0,   0,   0,   0,   0,   0, 181,   0,   0,   0],\n",
              "       [  0,   0,   0,   0,   0,   0,   0, 179,   0,   0],\n",
              "       [  0,   0,   0,   0,   0,   1,   0,   0, 173,   0],\n",
              "       [  0,   0,   0,   0,   0,   0,   0,   0,   1, 179]])"
            ]
          },
          "metadata": {
            "tags": []
          },
          "execution_count": 85
        }
      ]
    },
    {
      "cell_type": "code",
      "metadata": {
        "colab": {
          "base_uri": "https://localhost:8080/",
          "height": 610
        },
        "id": "Uy01MAretNE-",
        "outputId": "c1e28894-ae2a-4dfb-e492-8799123bf9cb"
      },
      "source": [
        "fig = plt.figure(figsize = (8,8))\n",
        "fig.subplots_adjust(left=0, right=1, bottom=0, top=1, hspace=0.05, wspace=0.05)\n",
        "for i in range(36):\n",
        "  ax = fig.add_subplot(6, 6, i+1, xticks=[], yticks=[])\n",
        "  ax.imshow(digits.images[i],cmap=plt.cm.binary,interpolation='nearest')\n",
        "  ax.text(0, 7, '{}-{}'.format(digits.target[i],predicted[i]), color=\"red\", fontsize = 20)\n"
      ],
      "execution_count": 86,
      "outputs": [
        {
          "output_type": "display_data",
          "data": {
            "image/png": "[encoded data removed]",
            "text/plain": [
              "<Figure size 576x576 with 36 Axes>"
            ]
          },
          "metadata": {
            "tags": []
          }
        }
      ]
    },
    {
      "cell_type": "code",
      "metadata": {
        "colab": {
          "base_uri": "https://localhost:8080/"
        },
        "id": "c1sUYxZttWXO",
        "outputId": "4edccae1-ee5a-4693-9277-e08d4a41bb5c"
      },
      "source": [
        "clf.coefs_[0]"
      ],
      "execution_count": 88,
      "outputs": [
        {
          "output_type": "execute_result",
          "data": {
            "text/plain": [
              "array([[-0.05432784,  0.0030218 ,  0.04502747, ..., -0.15130056,\n",
              "         0.14419791,  0.19474398],\n",
              "       [ 0.02953598,  0.0697499 , -0.1958164 , ..., -0.12245734,\n",
              "        -0.0390427 , -0.12123463],\n",
              "       [-0.2564587 , -0.08997708, -0.2450324 , ...,  0.21821492,\n",
              "         0.00317387, -0.0852212 ],\n",
              "       ...,\n",
              "       [ 0.20451573,  0.21510141, -0.13630205, ..., -0.06248469,\n",
              "        -0.23862207, -0.50718221],\n",
              "       [ 0.01988876,  0.18999365, -0.25286742, ..., -0.29982016,\n",
              "        -0.22370142, -0.17642451],\n",
              "       [-0.13111792, -0.03962111,  0.06630459, ..., -0.04402813,\n",
              "         0.05438185,  0.0707858 ]])"
            ]
          },
          "metadata": {
            "tags": []
          },
          "execution_count": 88
        }
      ]
    },
    {
      "cell_type": "code",
      "metadata": {
        "colab": {
          "base_uri": "https://localhost:8080/"
        },
        "id": "yAHzP9BTt5Ow",
        "outputId": "8555a562-ff12-4cbd-a234-ae689d59c439"
      },
      "source": [
        "clf.coefs_[0].shape"
      ],
      "execution_count": 89,
      "outputs": [
        {
          "output_type": "execute_result",
          "data": {
            "text/plain": [
              "(64, 30)"
            ]
          },
          "metadata": {
            "tags": []
          },
          "execution_count": 89
        }
      ]
    },
    {
      "cell_type": "code",
      "metadata": {
        "colab": {
          "base_uri": "https://localhost:8080/"
        },
        "id": "yNoa6U2IuJnJ",
        "outputId": "96ae4567-3554-48ef-abc0-b573340371bd"
      },
      "source": [
        "! wget https://raw.githubusercontent.com/ywchiu/tibamedl/master/Data/unknown_digits.bmp"
      ],
      "execution_count": 90,
      "outputs": [
        {
          "output_type": "stream",
          "text": [
            "--2021-03-27 03:29:28--  https://raw.githubusercontent.com/ywchiu/tibamedl/master/Data/unknown_digits.bmp\n",
            "Resolving raw.githubusercontent.com (raw.githubusercontent.com)... 185.199.108.133, 185.199.109.133, 185.199.110.133, ...\n",
            "Connecting to raw.githubusercontent.com (raw.githubusercontent.com)|185.199.108.133|:443... connected.\n",
            "HTTP request sent, awaiting response... 200 OK\n",
            "Length: 150 [image/bmp]\n",
            "Saving to: ‘unknown_digits.bmp’\n",
            "\n",
            "unknown_digits.bmp  100%[===================>]     150  --.-KB/s    in 0s      \n",
            "\n",
            "2021-03-27 03:29:29 (4.04 MB/s) - ‘unknown_digits.bmp’ saved [150/150]\n",
            "\n"
          ],
          "name": "stdout"
        }
      ]
    },
    {
      "cell_type": "code",
      "metadata": {
        "colab": {
          "base_uri": "https://localhost:8080/",
          "height": 34
        },
        "id": "n4Vyk7GjuRCK",
        "outputId": "551d3caa-cc68-4f8f-958a-a45306fa22b5"
      },
      "source": [
        "from PIL import Image\n",
        "Image.open('unknown_digits.bmp')"
      ],
      "execution_count": 93,
      "outputs": [
        {
          "output_type": "execute_result",
          "data": {
            "image/png": "[encoded data removed]",
            "text/plain": [
              "<PIL.BmpImagePlugin.BmpImageFile image mode=P size=8x8 at 0x7F21438CBE90>"
            ]
          },
          "metadata": {
            "tags": []
          },
          "execution_count": 93
        }
      ]
    },
    {
      "cell_type": "code",
      "metadata": {
        "id": "kiJZuBqguTCM"
      },
      "source": [
        "im = np.array(Image.open('unknown_digits.bmp'))"
      ],
      "execution_count": 94,
      "outputs": []
    },
    {
      "cell_type": "code",
      "metadata": {
        "colab": {
          "base_uri": "https://localhost:8080/"
        },
        "id": "XEONQPiHuxAs",
        "outputId": "d60e326c-2e78-4902-c1cc-340cc75d008a"
      },
      "source": [
        "im"
      ],
      "execution_count": 95,
      "outputs": [
        {
          "output_type": "execute_result",
          "data": {
            "text/plain": [
              "array([[15, 15, 15, 15, 15, 15, 15, 15],\n",
              "       [15, 15,  0, 15,  0, 15, 15, 15],\n",
              "       [15, 15,  0, 15,  0, 15, 15, 15],\n",
              "       [15,  0,  0, 15,  0, 15, 15, 15],\n",
              "       [15,  0, 15, 15,  0, 15, 15, 15],\n",
              "       [ 0,  0,  0,  0,  0,  0,  0, 15],\n",
              "       [15, 15, 15, 15,  0, 15, 15, 15],\n",
              "       [15, 15, 15, 15,  0, 15, 15, 15]], dtype=uint8)"
            ]
          },
          "metadata": {
            "tags": []
          },
          "execution_count": 95
        }
      ]
    },
    {
      "cell_type": "code",
      "metadata": {
        "colab": {
          "base_uri": "https://localhost:8080/"
        },
        "id": "E8t1vCpHux2c",
        "outputId": "72536c11-1aa1-4782-a6c1-db92bdbc1999"
      },
      "source": [
        "15 - im"
      ],
      "execution_count": 96,
      "outputs": [
        {
          "output_type": "execute_result",
          "data": {
            "text/plain": [
              "array([[ 0,  0,  0,  0,  0,  0,  0,  0],\n",
              "       [ 0,  0, 15,  0, 15,  0,  0,  0],\n",
              "       [ 0,  0, 15,  0, 15,  0,  0,  0],\n",
              "       [ 0, 15, 15,  0, 15,  0,  0,  0],\n",
              "       [ 0, 15,  0,  0, 15,  0,  0,  0],\n",
              "       [15, 15, 15, 15, 15, 15, 15,  0],\n",
              "       [ 0,  0,  0,  0, 15,  0,  0,  0],\n",
              "       [ 0,  0,  0,  0, 15,  0,  0,  0]], dtype=uint8)"
            ]
          },
          "metadata": {
            "tags": []
          },
          "execution_count": 96
        }
      ]
    },
    {
      "cell_type": "code",
      "metadata": {
        "id": "VZVumIQgu2V1"
      },
      "source": [
        "im2 = (15 - im).reshape(64,)"
      ],
      "execution_count": 97,
      "outputs": []
    },
    {
      "cell_type": "code",
      "metadata": {
        "colab": {
          "base_uri": "https://localhost:8080/"
        },
        "id": "2-D76eaUu5jV",
        "outputId": "d5ebeacc-6b83-49aa-e8cb-151de85bbced"
      },
      "source": [
        "im2"
      ],
      "execution_count": 98,
      "outputs": [
        {
          "output_type": "execute_result",
          "data": {
            "text/plain": [
              "array([ 0,  0,  0,  0,  0,  0,  0,  0,  0,  0, 15,  0, 15,  0,  0,  0,  0,\n",
              "        0, 15,  0, 15,  0,  0,  0,  0, 15, 15,  0, 15,  0,  0,  0,  0, 15,\n",
              "        0,  0, 15,  0,  0,  0, 15, 15, 15, 15, 15, 15, 15,  0,  0,  0,  0,\n",
              "        0, 15,  0,  0,  0,  0,  0,  0,  0, 15,  0,  0,  0], dtype=uint8)"
            ]
          },
          "metadata": {
            "tags": []
          },
          "execution_count": 98
        }
      ]
    },
    {
      "cell_type": "code",
      "metadata": {
        "id": "0V_m0en6u6NG"
      },
      "source": [
        "src = sc.transform([im2])"
      ],
      "execution_count": 99,
      "outputs": []
    },
    {
      "cell_type": "code",
      "metadata": {
        "colab": {
          "base_uri": "https://localhost:8080/"
        },
        "id": "NPSxxXnKvGZg",
        "outputId": "89122c33-ec7e-4564-ecca-b72da87dbddf"
      },
      "source": [
        "src"
      ],
      "execution_count": 100,
      "outputs": [
        {
          "output_type": "execute_result",
          "data": {
            "text/plain": [
              "array([[ 0.00000000e+00, -3.35016487e-01, -1.09493684e+00,\n",
              "        -2.78643746e+00, -2.76424203e+00, -1.02065685e+00,\n",
              "        -4.09723921e-01, -1.25022923e-01, -5.90775571e-02,\n",
              "        -6.24009262e-01,  8.51981802e-01, -3.01259995e+00,\n",
              "         9.87303977e-01, -1.35109507e+00, -5.14991458e-01,\n",
              "        -1.30433381e-01, -4.46250733e-02, -7.27646281e-01,\n",
              "         8.95880438e-01, -1.20543167e+00,  1.27989088e+00,\n",
              "        -1.25998248e+00, -5.48805463e-01, -1.14221844e-01,\n",
              "        -3.33797263e-02,  3.98337420e+00,  9.54513151e-01,\n",
              "        -1.49990136e+00,  8.24810596e-01, -1.28625035e+00,\n",
              "        -6.28895882e-01, -4.72323823e-02,  0.00000000e+00,\n",
              "         3.63871114e+00, -1.21260656e+00, -1.44763006e+00,\n",
              "         7.92062324e-01, -1.48986148e+00, -8.22694515e-01,\n",
              "         0.00000000e+00,  1.03283569e+02,  4.50060728e+00,\n",
              "         1.24209958e+00,  1.20688552e+00,  1.17098727e+00,\n",
              "         1.18784054e+00,  2.66613420e+00, -8.87416172e-02,\n",
              "        -3.54332626e-02, -4.03574986e-01, -1.33033057e+00,\n",
              "        -1.82551805e+00,  1.05342397e+00, -1.45261152e+00,\n",
              "        -7.57435810e-01, -2.09785127e-01, -2.35964589e-02,\n",
              "        -2.99081347e-01, -1.08938309e+00, -2.76417101e+00,\n",
              "         6.46898245e-01, -1.14664746e+00, -5.05669803e-01,\n",
              "        -1.96007519e-01]])"
            ]
          },
          "metadata": {
            "tags": []
          },
          "execution_count": 100
        }
      ]
    },
    {
      "cell_type": "code",
      "metadata": {
        "colab": {
          "base_uri": "https://localhost:8080/"
        },
        "id": "3I_o4ialvHq6",
        "outputId": "77b0d050-466f-48b0-d13a-dfbaaaa2864c"
      },
      "source": [
        "clf.predict(src)"
      ],
      "execution_count": 101,
      "outputs": [
        {
          "output_type": "execute_result",
          "data": {
            "text/plain": [
              "array([4])"
            ]
          },
          "metadata": {
            "tags": []
          },
          "execution_count": 101
        }
      ]
    },
    {
      "cell_type": "code",
      "metadata": {
        "id": "gRk0w5YSvMLq"
      },
      "source": [
        ""
      ],
      "execution_count": null,
      "outputs": []
    }
  ]
}